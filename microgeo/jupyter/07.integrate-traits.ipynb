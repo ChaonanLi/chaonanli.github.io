{
 "cells": [
  {
   "cell_type": "markdown",
   "id": "52f940d4-231d-46e5-96f3-9a4c42602e39",
   "metadata": {},
   "source": [
    "# Integrate biogeographic traits with a geographic map"
   ]
  },
  {
   "cell_type": "markdown",
   "id": "a22ae2de-4c7d-4777-8a69-ca36d69d8859",
   "metadata": {},
   "source": [
    " "
   ]
  },
  {
   "cell_type": "markdown",
   "id": "8da12352-5fab-440f-8358-d13f173995c9",
   "metadata": {},
   "source": [
    "To enable microbiome data analysis in conjunction with the metadata extracted from a geographic map, we also implemented several functions to merge microbial traits with a `SpatialPolygonsDataFrame` or extract a new metadata from a `SpatialPolygonsDataFrame`. By using these functions, we can perform the statistical comparing based on administrative areas or grids. "
   ]
  },
  {
   "cell_type": "markdown",
   "id": "eece6052-bc88-4bed-b303-dd25e52bd853",
   "metadata": {},
   "source": [
    "Here we need three R packages for this section of [microgeo](https://github.com/ChaonanLi/microgeo) R package tutorial. Just run the following codes to import them into R environment."
   ]
  },
  {
   "cell_type": "code",
   "execution_count": 1,
   "id": "572be6ca-205f-4ebe-b8c4-c1b49d20e43f",
   "metadata": {
    "execution": {
     "iopub.execute_input": "2024-01-12T13:55:59.362719Z",
     "iopub.status.busy": "2024-01-12T13:55:59.361203Z",
     "iopub.status.idle": "2024-01-12T13:55:59.548945Z",
     "shell.execute_reply": "2024-01-12T13:55:59.547843Z"
    }
   },
   "outputs": [],
   "source": [
    "suppressMessages(require(\"magrittr\")) \n",
    "require(\"ggplot2\")  %>% suppressMessages()\n",
    "require(\"microgeo\") %>% suppressMessages()"
   ]
  },
  {
   "cell_type": "markdown",
   "id": "a8fc53d2-d04c-4dc4-81ba-ed0b2fab83f6",
   "metadata": {},
   "source": [
    "If the Chinese characters cannot be displayed correctly, please run the following codes to set locale to `UTF-8`:"
   ]
  },
  {
   "cell_type": "code",
   "execution_count": 2,
   "id": "daa6fbf9-28c8-4255-a391-1fe6404e7d2a",
   "metadata": {
    "execution": {
     "iopub.execute_input": "2024-01-12T13:55:59.566134Z",
     "iopub.status.busy": "2024-01-12T13:55:59.550410Z",
     "iopub.status.idle": "2024-01-12T13:55:59.572180Z",
     "shell.execute_reply": "2024-01-12T13:55:59.571319Z"
    }
   },
   "outputs": [],
   "source": [
    "prev_locale <- Sys.setlocale(\"LC_CTYPE\", \"C.UTF-8\") "
   ]
  },
  {
   "cell_type": "markdown",
   "id": "0aca7e4b-c612-45ac-8a48-2b56b9074519",
   "metadata": {},
   "source": [
    "We need a standard microgeo dataset for the presentations in the section of tutorial."
   ]
  },
  {
   "cell_type": "code",
   "execution_count": 3,
   "id": "b5683f96-8ddf-4484-bb79-89bbd690111d",
   "metadata": {
    "execution": {
     "iopub.execute_input": "2024-01-12T13:55:59.574232Z",
     "iopub.status.busy": "2024-01-12T13:55:59.573525Z",
     "iopub.status.idle": "2024-01-12T13:57:02.140792Z",
     "shell.execute_reply": "2024-01-12T13:57:02.139890Z"
    }
   },
   "outputs": [
    {
     "name": "stderr",
     "output_type": "stream",
     "text": [
      "\u001b[36mℹ\u001b[39m [2024-01-12 21:56:07] \u001b[34m\u001b[3m\u001b[34mINFO\u001b[34m\u001b[23m\u001b[39m ==> all samples fall within the map area!\n",
      "\n",
      "\u001b[36mℹ\u001b[39m [2024-01-12 21:56:07] \u001b[34m\u001b[3m\u001b[34mINFO\u001b[34m\u001b[23m\u001b[39m ==> dataset has been created successfully!\n",
      "\n",
      "\u001b[36mℹ\u001b[39m [2024-01-12 21:56:07] \u001b[34m\u001b[3m\u001b[34mINFO\u001b[34m\u001b[23m\u001b[39m ==> use `object %>% show_dataset()` to check the summary of dataset.\n",
      "\n",
      "\u001b[36mℹ\u001b[39m [2024-01-12 21:56:11] \u001b[34m\u001b[3m\u001b[34mINFO\u001b[34m\u001b[23m\u001b[39m ==> the ASV/gene abundance table has been rarefied with a sub-sample depth of 5310\n",
      "\n",
      "\u001b[32m✔\u001b[39m [2024-01-12 21:56:16] \u001b[32m\u001b[3m\u001b[32mSAVE\u001b[32m\u001b[23m\u001b[39m ==> results have been saved to: object$div$alpha\n",
      "\n",
      "\u001b[32m✔\u001b[39m [2024-01-12 21:57:01] \u001b[32m\u001b[3m\u001b[32mSAVE\u001b[32m\u001b[23m\u001b[39m ==> results have been saved to: object$div$beta\n",
      "\n"
     ]
    },
    {
     "name": "stdout",
     "output_type": "stream",
     "text": [
      "\u001b[34m──\u001b[39m \u001b[34mThe Summary of Microgeo Dataset\u001b[39m \u001b[34m─────────────────────────────────────────────\u001b[39m\n"
     ]
    },
    {
     "name": "stderr",
     "output_type": "stream",
     "text": [
      "\u001b[36mℹ\u001b[39m object$mat: 6808 ASVs/genes and 1244 samples \u001b[32m\u001b[3m\u001b[32m[subsample depth: 5310]\u001b[32m\u001b[23m\u001b[39m\n",
      "\n",
      "\u001b[36mℹ\u001b[39m object$ant: 6808 ASVs/genes and 7 annotation levels (Kingdom, Phylum, Class, Order, Family, Genus, Species)\n",
      "\n",
      "\u001b[36mℹ\u001b[39m object$met: 1244 samples and 2 variables (longitude, latitude)\n",
      "\n",
      "\u001b[36mℹ\u001b[39m object$map: a SpatialPolygonsDataFrame with the CRS of '+proj=longlat +datum=WGS84 +no_defs'\n",
      "\n",
      "\u001b[36mℹ\u001b[39m object$phy: a phylogenetic tree with 6808 tip labels\n",
      "\n",
      "\u001b[36mℹ\u001b[39m object$env: 1244 samples and 10 variables\n",
      "\n"
     ]
    },
    {
     "name": "stdout",
     "output_type": "stream",
     "text": [
      "\n",
      "\u001b[30m──\u001b[39m \u001b[30mThe Summary of Biogeographic Traits\u001b[39m \u001b[30m─────────────────────────────────────────\u001b[39m\n"
     ]
    },
    {
     "name": "stderr",
     "output_type": "stream",
     "text": [
      "\u001b[32m✔\u001b[39m object$div$alpha: 2 alpha diversity index/indices (observed, shannon)\n",
      "\n",
      "\u001b[32m✔\u001b[39m object$div$beta: 2 beta diversity distance matrix/matrices (bray, jaccard)\n",
      "\n"
     ]
    },
    {
     "name": "stdout",
     "output_type": "stream",
     "text": [
      "\n",
      "\u001b[44m• To check the summary of dataset, Replace `object` with the variable name of your dataset\u001b[49m\n",
      "\u001b[44m• For example, if the variable name is `dataset.dts`you can run `head(dataset.dts$met)` to check the content of `met`\u001b[49m\n"
     ]
    }
   ],
   "source": [
    "# Use the map downloaded from DataV.GeoAtlas\n",
    "data(qtp)\n",
    "map <- read_aliyun_map(adcode = c(540000, 630000, 510000)) %>% suppressMessages() \n",
    "dataset.dts.aliyun <- create_dataset(mat = qtp$asv, ant = qtp$tax, met = qtp$met, map = map,\n",
    "                                     phy = qtp$tre, env = qtp$env, lon = \"longitude\", lat = \"latitude\")\n",
    "dataset.dts.aliyun %<>% rarefy_count_table()\n",
    "dataset.dts.aliyun %<>% tidy_dataset()\n",
    "dataset.dts.aliyun %<>% calc_alpha_div(measures = c(\"observed\", \"shannon\")) \n",
    "dataset.dts.aliyun %<>% calc_beta_div(measures = c(\"bray\", \"jaccard\")) \n",
    "dataset.dts.aliyun %>% show_dataset()"
   ]
  },
  {
   "cell_type": "markdown",
   "id": "164cfc68-dd70-43c8-b79f-2e0d406e6249",
   "metadata": {},
   "source": [
    "Now, let's go through each of these functions and see how they are used."
   ]
  },
  {
   "cell_type": "markdown",
   "id": "dc9c64e3-ed14-4aed-8818-e13a2f97fb3b",
   "metadata": {},
   "source": [
    "## 1. Merge a `data.frame` with a map"
   ]
  },
  {
   "cell_type": "markdown",
   "id": "962f1ce8-c386-4ce4-8075-488f46d44887",
   "metadata": {},
   "source": [
    "Firstly, we check the `data.frame` of alpha diversity indices, and the `SpatialPolygonsDataFrame`."
   ]
  },
  {
   "cell_type": "code",
   "execution_count": 4,
   "id": "e2a083e0-acd0-4e4e-b211-7b31a24482ed",
   "metadata": {
    "execution": {
     "iopub.execute_input": "2024-01-12T13:57:02.143231Z",
     "iopub.status.busy": "2024-01-12T13:57:02.142314Z",
     "iopub.status.idle": "2024-01-12T13:57:02.157751Z",
     "shell.execute_reply": "2024-01-12T13:57:02.156890Z"
    }
   },
   "outputs": [
    {
     "data": {
      "text/html": [
       "<table class=\"dataframe\">\n",
       "<caption>A data.frame: 6 × 2</caption>\n",
       "<thead>\n",
       "\t<tr><th></th><th scope=col>observed</th><th scope=col>shannon</th></tr>\n",
       "\t<tr><th></th><th scope=col>&lt;dbl&gt;</th><th scope=col>&lt;dbl&gt;</th></tr>\n",
       "</thead>\n",
       "<tbody>\n",
       "\t<tr><th scope=row>s1</th><td>1002</td><td>6.330193</td></tr>\n",
       "\t<tr><th scope=row>s2</th><td> 928</td><td>6.248348</td></tr>\n",
       "\t<tr><th scope=row>s3</th><td> 851</td><td>6.133129</td></tr>\n",
       "\t<tr><th scope=row>s4</th><td>1033</td><td>6.264501</td></tr>\n",
       "\t<tr><th scope=row>s5</th><td> 893</td><td>6.184729</td></tr>\n",
       "\t<tr><th scope=row>s6</th><td> 977</td><td>6.192993</td></tr>\n",
       "</tbody>\n",
       "</table>\n"
      ],
      "text/latex": [
       "A data.frame: 6 × 2\n",
       "\\begin{tabular}{r|ll}\n",
       "  & observed & shannon\\\\\n",
       "  & <dbl> & <dbl>\\\\\n",
       "\\hline\n",
       "\ts1 & 1002 & 6.330193\\\\\n",
       "\ts2 &  928 & 6.248348\\\\\n",
       "\ts3 &  851 & 6.133129\\\\\n",
       "\ts4 & 1033 & 6.264501\\\\\n",
       "\ts5 &  893 & 6.184729\\\\\n",
       "\ts6 &  977 & 6.192993\\\\\n",
       "\\end{tabular}\n"
      ],
      "text/markdown": [
       "\n",
       "A data.frame: 6 × 2\n",
       "\n",
       "| <!--/--> | observed &lt;dbl&gt; | shannon &lt;dbl&gt; |\n",
       "|---|---|---|\n",
       "| s1 | 1002 | 6.330193 |\n",
       "| s2 |  928 | 6.248348 |\n",
       "| s3 |  851 | 6.133129 |\n",
       "| s4 | 1033 | 6.264501 |\n",
       "| s5 |  893 | 6.184729 |\n",
       "| s6 |  977 | 6.192993 |\n",
       "\n"
      ],
      "text/plain": [
       "   observed shannon \n",
       "s1 1002     6.330193\n",
       "s2  928     6.248348\n",
       "s3  851     6.133129\n",
       "s4 1033     6.264501\n",
       "s5  893     6.184729\n",
       "s6  977     6.192993"
      ]
     },
     "metadata": {},
     "output_type": "display_data"
    }
   ],
   "source": [
    "# Check the data.frame of alpha diversity indices \n",
    "head(dataset.dts.aliyun$div$alpha)"
   ]
  },
  {
   "cell_type": "code",
   "execution_count": 5,
   "id": "954da448-3825-4fb3-acd5-cdbb8fbf3102",
   "metadata": {
    "execution": {
     "iopub.execute_input": "2024-01-12T13:57:02.159856Z",
     "iopub.status.busy": "2024-01-12T13:57:02.159149Z",
     "iopub.status.idle": "2024-01-12T13:57:02.170836Z",
     "shell.execute_reply": "2024-01-12T13:57:02.169993Z"
    }
   },
   "outputs": [
    {
     "data": {
      "text/html": [
       "<table class=\"dataframe\">\n",
       "<caption>A data.frame: 3 × 5</caption>\n",
       "<thead>\n",
       "\t<tr><th></th><th scope=col>TYPE</th><th scope=col>FMTS</th><th scope=col>NAME</th><th scope=col>X.CENTER</th><th scope=col>Y.CENTER</th></tr>\n",
       "\t<tr><th></th><th scope=col>&lt;chr&gt;</th><th scope=col>&lt;chr&gt;</th><th scope=col>&lt;chr&gt;</th><th scope=col>&lt;dbl&gt;</th><th scope=col>&lt;dbl&gt;</th></tr>\n",
       "</thead>\n",
       "<tbody>\n",
       "\t<tr><th scope=row>1</th><td>DataV.GeoAtlas</td><td>microgeo</td><td>西藏自治区</td><td> 88.38828</td><td>31.56375</td></tr>\n",
       "\t<tr><th scope=row>2</th><td>DataV.GeoAtlas</td><td>microgeo</td><td>青海省    </td><td> 96.04353</td><td>35.72640</td></tr>\n",
       "\t<tr><th scope=row>3</th><td>DataV.GeoAtlas</td><td>microgeo</td><td>四川省    </td><td>102.69345</td><td>30.67454</td></tr>\n",
       "</tbody>\n",
       "</table>\n"
      ],
      "text/latex": [
       "A data.frame: 3 × 5\n",
       "\\begin{tabular}{r|lllll}\n",
       "  & TYPE & FMTS & NAME & X.CENTER & Y.CENTER\\\\\n",
       "  & <chr> & <chr> & <chr> & <dbl> & <dbl>\\\\\n",
       "\\hline\n",
       "\t1 & DataV.GeoAtlas & microgeo & 西藏自治区 &  88.38828 & 31.56375\\\\\n",
       "\t2 & DataV.GeoAtlas & microgeo & 青海省     &  96.04353 & 35.72640\\\\\n",
       "\t3 & DataV.GeoAtlas & microgeo & 四川省     & 102.69345 & 30.67454\\\\\n",
       "\\end{tabular}\n"
      ],
      "text/markdown": [
       "\n",
       "A data.frame: 3 × 5\n",
       "\n",
       "| <!--/--> | TYPE &lt;chr&gt; | FMTS &lt;chr&gt; | NAME &lt;chr&gt; | X.CENTER &lt;dbl&gt; | Y.CENTER &lt;dbl&gt; |\n",
       "|---|---|---|---|---|---|\n",
       "| 1 | DataV.GeoAtlas | microgeo | 西藏自治区 |  88.38828 | 31.56375 |\n",
       "| 2 | DataV.GeoAtlas | microgeo | 青海省     |  96.04353 | 35.72640 |\n",
       "| 3 | DataV.GeoAtlas | microgeo | 四川省     | 102.69345 | 30.67454 |\n",
       "\n"
      ],
      "text/plain": [
       "  TYPE           FMTS     NAME       X.CENTER  Y.CENTER\n",
       "1 DataV.GeoAtlas microgeo 西藏自治区  88.38828 31.56375\n",
       "2 DataV.GeoAtlas microgeo 青海省      96.04353 35.72640\n",
       "3 DataV.GeoAtlas microgeo 四川省     102.69345 30.67454"
      ]
     },
     "metadata": {},
     "output_type": "display_data"
    }
   ],
   "source": [
    "# Check the `SpatialPolygonsDataFrame`\n",
    "head(dataset.dts.aliyun$map@data)"
   ]
  },
  {
   "cell_type": "code",
   "execution_count": 6,
   "id": "4df65217-5a83-4768-97d3-8ccd36e4c3d9",
   "metadata": {
    "execution": {
     "iopub.execute_input": "2024-01-12T13:57:02.172902Z",
     "iopub.status.busy": "2024-01-12T13:57:02.172202Z",
     "iopub.status.idle": "2024-01-12T13:57:02.184742Z",
     "shell.execute_reply": "2024-01-12T13:57:02.183852Z"
    }
   },
   "outputs": [
    {
     "data": {
      "text/html": [
       "<table class=\"dataframe\">\n",
       "<caption>A data.frame: 3 × 5</caption>\n",
       "<thead>\n",
       "\t<tr><th></th><th scope=col>TYPE</th><th scope=col>FMTS</th><th scope=col>NAME</th><th scope=col>X.CENTER</th><th scope=col>Y.CENTER</th></tr>\n",
       "\t<tr><th></th><th scope=col>&lt;chr&gt;</th><th scope=col>&lt;chr&gt;</th><th scope=col>&lt;chr&gt;</th><th scope=col>&lt;dbl&gt;</th><th scope=col>&lt;dbl&gt;</th></tr>\n",
       "</thead>\n",
       "<tbody>\n",
       "\t<tr><th scope=row>1</th><td>DataV.GeoAtlas</td><td>microgeo</td><td>Tibet  </td><td> 88.38828</td><td>31.56375</td></tr>\n",
       "\t<tr><th scope=row>2</th><td>DataV.GeoAtlas</td><td>microgeo</td><td>Qinghai</td><td> 96.04353</td><td>35.72640</td></tr>\n",
       "\t<tr><th scope=row>3</th><td>DataV.GeoAtlas</td><td>microgeo</td><td>Sichuan</td><td>102.69345</td><td>30.67454</td></tr>\n",
       "</tbody>\n",
       "</table>\n"
      ],
      "text/latex": [
       "A data.frame: 3 × 5\n",
       "\\begin{tabular}{r|lllll}\n",
       "  & TYPE & FMTS & NAME & X.CENTER & Y.CENTER\\\\\n",
       "  & <chr> & <chr> & <chr> & <dbl> & <dbl>\\\\\n",
       "\\hline\n",
       "\t1 & DataV.GeoAtlas & microgeo & Tibet   &  88.38828 & 31.56375\\\\\n",
       "\t2 & DataV.GeoAtlas & microgeo & Qinghai &  96.04353 & 35.72640\\\\\n",
       "\t3 & DataV.GeoAtlas & microgeo & Sichuan & 102.69345 & 30.67454\\\\\n",
       "\\end{tabular}\n"
      ],
      "text/markdown": [
       "\n",
       "A data.frame: 3 × 5\n",
       "\n",
       "| <!--/--> | TYPE &lt;chr&gt; | FMTS &lt;chr&gt; | NAME &lt;chr&gt; | X.CENTER &lt;dbl&gt; | Y.CENTER &lt;dbl&gt; |\n",
       "|---|---|---|---|---|---|\n",
       "| 1 | DataV.GeoAtlas | microgeo | Tibet   |  88.38828 | 31.56375 |\n",
       "| 2 | DataV.GeoAtlas | microgeo | Qinghai |  96.04353 | 35.72640 |\n",
       "| 3 | DataV.GeoAtlas | microgeo | Sichuan | 102.69345 | 30.67454 |\n",
       "\n"
      ],
      "text/plain": [
       "  TYPE           FMTS     NAME    X.CENTER  Y.CENTER\n",
       "1 DataV.GeoAtlas microgeo Tibet    88.38828 31.56375\n",
       "2 DataV.GeoAtlas microgeo Qinghai  96.04353 35.72640\n",
       "3 DataV.GeoAtlas microgeo Sichuan 102.69345 30.67454"
      ]
     },
     "metadata": {},
     "output_type": "display_data"
    }
   ],
   "source": [
    "# Change the names of Polygons\n",
    "dataset.dts.aliyun$map@data$NAME <- c(\"Tibet\", \"Qinghai\", \"Sichuan\") \n",
    "head(dataset.dts.aliyun$map@data)"
   ]
  },
  {
   "cell_type": "markdown",
   "id": "76609ad8-7336-46e6-8866-ca93876caeb4",
   "metadata": {},
   "source": [
    "Then, we merge the `data.frame` of alpha diversity indices with a `SpatialPolygonsDataFrame`."
   ]
  },
  {
   "cell_type": "code",
   "execution_count": 7,
   "id": "2cde46e7-531f-47ad-b08e-1eb596aee962",
   "metadata": {
    "execution": {
     "iopub.execute_input": "2024-01-12T13:57:02.186956Z",
     "iopub.status.busy": "2024-01-12T13:57:02.186193Z",
     "iopub.status.idle": "2024-01-12T13:57:05.129925Z",
     "shell.execute_reply": "2024-01-12T13:57:05.128949Z"
    }
   },
   "outputs": [
    {
     "data": {
      "text/html": [
       "<table class=\"dataframe\">\n",
       "<caption>A data.frame: 3 × 12</caption>\n",
       "<thead>\n",
       "\t<tr><th></th><th scope=col>TYPE</th><th scope=col>FMTS</th><th scope=col>NAME</th><th scope=col>X.CENTER</th><th scope=col>Y.CENTER</th><th scope=col>observed_mean</th><th scope=col>shannon_mean</th><th scope=col>observed_sd</th><th scope=col>shannon_sd</th><th scope=col>observed_se</th><th scope=col>shannon_se</th><th scope=col>sample.num</th></tr>\n",
       "\t<tr><th></th><th scope=col>&lt;chr&gt;</th><th scope=col>&lt;chr&gt;</th><th scope=col>&lt;chr&gt;</th><th scope=col>&lt;dbl&gt;</th><th scope=col>&lt;dbl&gt;</th><th scope=col>&lt;dbl&gt;</th><th scope=col>&lt;dbl&gt;</th><th scope=col>&lt;dbl&gt;</th><th scope=col>&lt;dbl&gt;</th><th scope=col>&lt;dbl&gt;</th><th scope=col>&lt;dbl&gt;</th><th scope=col>&lt;int&gt;</th></tr>\n",
       "</thead>\n",
       "<tbody>\n",
       "\t<tr><th scope=row>1</th><td>DataV.GeoAtlas</td><td>microgeo</td><td>Tibet  </td><td> 88.38828</td><td>31.56375</td><td>663.8435</td><td>5.847498</td><td>239.1056</td><td>0.4768206</td><td>10.44538</td><td>0.02083001</td><td>524</td></tr>\n",
       "\t<tr><th scope=row>2</th><td>DataV.GeoAtlas</td><td>microgeo</td><td>Qinghai</td><td> 96.04353</td><td>35.72640</td><td>648.0747</td><td>5.838778</td><td>246.3986</td><td>0.5393605</td><td>11.71999</td><td>0.02565476</td><td>442</td></tr>\n",
       "\t<tr><th scope=row>3</th><td>DataV.GeoAtlas</td><td>microgeo</td><td>Sichuan</td><td>102.69345</td><td>30.67454</td><td>706.1151</td><td>5.974249</td><td>197.8680</td><td>0.3664406</td><td>11.86733</td><td>0.02197765</td><td>278</td></tr>\n",
       "</tbody>\n",
       "</table>\n"
      ],
      "text/latex": [
       "A data.frame: 3 × 12\n",
       "\\begin{tabular}{r|llllllllllll}\n",
       "  & TYPE & FMTS & NAME & X.CENTER & Y.CENTER & observed\\_mean & shannon\\_mean & observed\\_sd & shannon\\_sd & observed\\_se & shannon\\_se & sample.num\\\\\n",
       "  & <chr> & <chr> & <chr> & <dbl> & <dbl> & <dbl> & <dbl> & <dbl> & <dbl> & <dbl> & <dbl> & <int>\\\\\n",
       "\\hline\n",
       "\t1 & DataV.GeoAtlas & microgeo & Tibet   &  88.38828 & 31.56375 & 663.8435 & 5.847498 & 239.1056 & 0.4768206 & 10.44538 & 0.02083001 & 524\\\\\n",
       "\t2 & DataV.GeoAtlas & microgeo & Qinghai &  96.04353 & 35.72640 & 648.0747 & 5.838778 & 246.3986 & 0.5393605 & 11.71999 & 0.02565476 & 442\\\\\n",
       "\t3 & DataV.GeoAtlas & microgeo & Sichuan & 102.69345 & 30.67454 & 706.1151 & 5.974249 & 197.8680 & 0.3664406 & 11.86733 & 0.02197765 & 278\\\\\n",
       "\\end{tabular}\n"
      ],
      "text/markdown": [
       "\n",
       "A data.frame: 3 × 12\n",
       "\n",
       "| <!--/--> | TYPE &lt;chr&gt; | FMTS &lt;chr&gt; | NAME &lt;chr&gt; | X.CENTER &lt;dbl&gt; | Y.CENTER &lt;dbl&gt; | observed_mean &lt;dbl&gt; | shannon_mean &lt;dbl&gt; | observed_sd &lt;dbl&gt; | shannon_sd &lt;dbl&gt; | observed_se &lt;dbl&gt; | shannon_se &lt;dbl&gt; | sample.num &lt;int&gt; |\n",
       "|---|---|---|---|---|---|---|---|---|---|---|---|---|\n",
       "| 1 | DataV.GeoAtlas | microgeo | Tibet   |  88.38828 | 31.56375 | 663.8435 | 5.847498 | 239.1056 | 0.4768206 | 10.44538 | 0.02083001 | 524 |\n",
       "| 2 | DataV.GeoAtlas | microgeo | Qinghai |  96.04353 | 35.72640 | 648.0747 | 5.838778 | 246.3986 | 0.5393605 | 11.71999 | 0.02565476 | 442 |\n",
       "| 3 | DataV.GeoAtlas | microgeo | Sichuan | 102.69345 | 30.67454 | 706.1151 | 5.974249 | 197.8680 | 0.3664406 | 11.86733 | 0.02197765 | 278 |\n",
       "\n"
      ],
      "text/plain": [
       "  TYPE           FMTS     NAME    X.CENTER  Y.CENTER observed_mean shannon_mean\n",
       "1 DataV.GeoAtlas microgeo Tibet    88.38828 31.56375 663.8435      5.847498    \n",
       "2 DataV.GeoAtlas microgeo Qinghai  96.04353 35.72640 648.0747      5.838778    \n",
       "3 DataV.GeoAtlas microgeo Sichuan 102.69345 30.67454 706.1151      5.974249    \n",
       "  observed_sd shannon_sd observed_se shannon_se sample.num\n",
       "1 239.1056    0.4768206  10.44538    0.02083001 524       \n",
       "2 246.3986    0.5393605  11.71999    0.02565476 442       \n",
       "3 197.8680    0.3664406  11.86733    0.02197765 278       "
      ]
     },
     "metadata": {},
     "output_type": "display_data"
    }
   ],
   "source": [
    "# Merge data to a `SpatialPolygonsDataFrame`\n",
    "common.map.mean4df <- merge_dfs_to_map(map = dataset.dts.aliyun$map, dat = dataset.dts.aliyun$div$alpha, \n",
    "                                       met = dataset.dts.aliyun$met, med = 'mean')\n",
    "head(common.map.mean4df@data[,1:12])\n",
    "# Now, you can visualize the microbial traits (alpha diversity indices) onto a map"
   ]
  },
  {
   "cell_type": "markdown",
   "id": "e83316f7-b020-46c2-93ab-8c19fa59f7ab",
   "metadata": {},
   "source": [
    "We also can merge the `data.frame` of alpha diversity indices with a gridded `SpatialPolygonsDataFrame`. "
   ]
  },
  {
   "cell_type": "code",
   "execution_count": 8,
   "id": "90f00a05-224e-469f-9ea3-81dd8c30d6b5",
   "metadata": {
    "execution": {
     "iopub.execute_input": "2024-01-12T13:57:05.132172Z",
     "iopub.status.busy": "2024-01-12T13:57:05.131432Z",
     "iopub.status.idle": "2024-01-12T13:57:05.399828Z",
     "shell.execute_reply": "2024-01-12T13:57:05.398836Z"
    }
   },
   "outputs": [
    {
     "data": {
      "text/html": [
       "<table class=\"dataframe\">\n",
       "<caption>A data.frame: 6 × 5</caption>\n",
       "<thead>\n",
       "\t<tr><th></th><th scope=col>TYPE</th><th scope=col>FMTS</th><th scope=col>NAME</th><th scope=col>X.CENTER</th><th scope=col>Y.CENTER</th></tr>\n",
       "\t<tr><th></th><th scope=col>&lt;chr&gt;</th><th scope=col>&lt;chr&gt;</th><th scope=col>&lt;chr&gt;</th><th scope=col>&lt;dbl&gt;</th><th scope=col>&lt;dbl&gt;</th></tr>\n",
       "</thead>\n",
       "<tbody>\n",
       "\t<tr><th scope=row>1</th><td>Gridded.Map</td><td>microgeo</td><td>1</td><td>83.74702</td><td>29.73742</td></tr>\n",
       "\t<tr><th scope=row>2</th><td>Gridded.Map</td><td>microgeo</td><td>2</td><td>85.46302</td><td>28.50944</td></tr>\n",
       "\t<tr><th scope=row>3</th><td>Gridded.Map</td><td>microgeo</td><td>3</td><td>86.67299</td><td>28.33105</td></tr>\n",
       "\t<tr><th scope=row>4</th><td>Gridded.Map</td><td>microgeo</td><td>4</td><td>89.49169</td><td>28.25211</td></tr>\n",
       "\t<tr><th scope=row>5</th><td>Gridded.Map</td><td>microgeo</td><td>5</td><td>88.12468</td><td>28.29693</td></tr>\n",
       "\t<tr><th scope=row>6</th><td>Gridded.Map</td><td>microgeo</td><td>6</td><td>85.14919</td><td>29.46224</td></tr>\n",
       "</tbody>\n",
       "</table>\n"
      ],
      "text/latex": [
       "A data.frame: 6 × 5\n",
       "\\begin{tabular}{r|lllll}\n",
       "  & TYPE & FMTS & NAME & X.CENTER & Y.CENTER\\\\\n",
       "  & <chr> & <chr> & <chr> & <dbl> & <dbl>\\\\\n",
       "\\hline\n",
       "\t1 & Gridded.Map & microgeo & 1 & 83.74702 & 29.73742\\\\\n",
       "\t2 & Gridded.Map & microgeo & 2 & 85.46302 & 28.50944\\\\\n",
       "\t3 & Gridded.Map & microgeo & 3 & 86.67299 & 28.33105\\\\\n",
       "\t4 & Gridded.Map & microgeo & 4 & 89.49169 & 28.25211\\\\\n",
       "\t5 & Gridded.Map & microgeo & 5 & 88.12468 & 28.29693\\\\\n",
       "\t6 & Gridded.Map & microgeo & 6 & 85.14919 & 29.46224\\\\\n",
       "\\end{tabular}\n"
      ],
      "text/markdown": [
       "\n",
       "A data.frame: 6 × 5\n",
       "\n",
       "| <!--/--> | TYPE &lt;chr&gt; | FMTS &lt;chr&gt; | NAME &lt;chr&gt; | X.CENTER &lt;dbl&gt; | Y.CENTER &lt;dbl&gt; |\n",
       "|---|---|---|---|---|---|\n",
       "| 1 | Gridded.Map | microgeo | 1 | 83.74702 | 29.73742 |\n",
       "| 2 | Gridded.Map | microgeo | 2 | 85.46302 | 28.50944 |\n",
       "| 3 | Gridded.Map | microgeo | 3 | 86.67299 | 28.33105 |\n",
       "| 4 | Gridded.Map | microgeo | 4 | 89.49169 | 28.25211 |\n",
       "| 5 | Gridded.Map | microgeo | 5 | 88.12468 | 28.29693 |\n",
       "| 6 | Gridded.Map | microgeo | 6 | 85.14919 | 29.46224 |\n",
       "\n"
      ],
      "text/plain": [
       "  TYPE        FMTS     NAME X.CENTER Y.CENTER\n",
       "1 Gridded.Map microgeo 1    83.74702 29.73742\n",
       "2 Gridded.Map microgeo 2    85.46302 28.50944\n",
       "3 Gridded.Map microgeo 3    86.67299 28.33105\n",
       "4 Gridded.Map microgeo 4    89.49169 28.25211\n",
       "5 Gridded.Map microgeo 5    88.12468 28.29693\n",
       "6 Gridded.Map microgeo 6    85.14919 29.46224"
      ]
     },
     "metadata": {},
     "output_type": "display_data"
    }
   ],
   "source": [
    "# Grid the map [`SpatialPolygonsDataFrame`]\n",
    "gridded.map <- grid_map(map = dataset.dts.aliyun$map, res = 1.5) %>% suppressMessages\n",
    "head(gridded.map@data)"
   ]
  },
  {
   "cell_type": "code",
   "execution_count": 9,
   "id": "843502f5-42bb-4d4c-b990-b69e95a96201",
   "metadata": {
    "execution": {
     "iopub.execute_input": "2024-01-12T13:57:05.402087Z",
     "iopub.status.busy": "2024-01-12T13:57:05.401334Z",
     "iopub.status.idle": "2024-01-12T13:58:00.664297Z",
     "shell.execute_reply": "2024-01-12T13:58:00.663045Z"
    }
   },
   "outputs": [
    {
     "data": {
      "text/html": [
       "<table class=\"dataframe\">\n",
       "<caption>A data.frame: 6 × 12</caption>\n",
       "<thead>\n",
       "\t<tr><th></th><th scope=col>TYPE</th><th scope=col>FMTS</th><th scope=col>NAME</th><th scope=col>X.CENTER</th><th scope=col>Y.CENTER</th><th scope=col>observed_mean</th><th scope=col>shannon_mean</th><th scope=col>observed_sd</th><th scope=col>shannon_sd</th><th scope=col>observed_se</th><th scope=col>shannon_se</th><th scope=col>sample.num</th></tr>\n",
       "\t<tr><th></th><th scope=col>&lt;chr&gt;</th><th scope=col>&lt;chr&gt;</th><th scope=col>&lt;chr&gt;</th><th scope=col>&lt;dbl&gt;</th><th scope=col>&lt;dbl&gt;</th><th scope=col>&lt;dbl&gt;</th><th scope=col>&lt;dbl&gt;</th><th scope=col>&lt;dbl&gt;</th><th scope=col>&lt;dbl&gt;</th><th scope=col>&lt;dbl&gt;</th><th scope=col>&lt;dbl&gt;</th><th scope=col>&lt;int&gt;</th></tr>\n",
       "</thead>\n",
       "<tbody>\n",
       "\t<tr><th scope=row>1</th><td>Gridded.Map</td><td>microgeo</td><td>1</td><td>83.74702</td><td>29.73742</td><td>592.3077</td><td>5.810641</td><td>146.6625</td><td>0.2239471</td><td> 40.67687</td><td>0.06211176</td><td>13</td></tr>\n",
       "\t<tr><th scope=row>2</th><td>Gridded.Map</td><td>microgeo</td><td>2</td><td>85.46302</td><td>28.50944</td><td>690.6667</td><td>5.949724</td><td>195.8988</td><td>0.2909757</td><td>113.10222</td><td>0.16799491</td><td> 3</td></tr>\n",
       "\t<tr><th scope=row>3</th><td>Gridded.Map</td><td>microgeo</td><td>3</td><td>86.67299</td><td>28.33105</td><td>552.5385</td><td>5.773249</td><td>147.3197</td><td>0.2781269</td><td> 40.85914</td><td>0.07713852</td><td>13</td></tr>\n",
       "\t<tr><th scope=row>4</th><td>Gridded.Map</td><td>microgeo</td><td>4</td><td>89.49169</td><td>28.25211</td><td>664.7500</td><td>5.776899</td><td>311.4979</td><td>0.5693539</td><td>155.74893</td><td>0.28467697</td><td> 4</td></tr>\n",
       "\t<tr><th scope=row>5</th><td>Gridded.Map</td><td>microgeo</td><td>5</td><td>88.12468</td><td>28.29693</td><td>473.2667</td><td>5.426322</td><td>152.8858</td><td>0.4156586</td><td> 39.47494</td><td>0.10732258</td><td>15</td></tr>\n",
       "\t<tr><th scope=row>6</th><td>Gridded.Map</td><td>microgeo</td><td>6</td><td>85.14919</td><td>29.46224</td><td>555.7917</td><td>5.754356</td><td>148.5275</td><td>0.2327175</td><td> 30.31806</td><td>0.04750326</td><td>24</td></tr>\n",
       "</tbody>\n",
       "</table>\n"
      ],
      "text/latex": [
       "A data.frame: 6 × 12\n",
       "\\begin{tabular}{r|llllllllllll}\n",
       "  & TYPE & FMTS & NAME & X.CENTER & Y.CENTER & observed\\_mean & shannon\\_mean & observed\\_sd & shannon\\_sd & observed\\_se & shannon\\_se & sample.num\\\\\n",
       "  & <chr> & <chr> & <chr> & <dbl> & <dbl> & <dbl> & <dbl> & <dbl> & <dbl> & <dbl> & <dbl> & <int>\\\\\n",
       "\\hline\n",
       "\t1 & Gridded.Map & microgeo & 1 & 83.74702 & 29.73742 & 592.3077 & 5.810641 & 146.6625 & 0.2239471 &  40.67687 & 0.06211176 & 13\\\\\n",
       "\t2 & Gridded.Map & microgeo & 2 & 85.46302 & 28.50944 & 690.6667 & 5.949724 & 195.8988 & 0.2909757 & 113.10222 & 0.16799491 &  3\\\\\n",
       "\t3 & Gridded.Map & microgeo & 3 & 86.67299 & 28.33105 & 552.5385 & 5.773249 & 147.3197 & 0.2781269 &  40.85914 & 0.07713852 & 13\\\\\n",
       "\t4 & Gridded.Map & microgeo & 4 & 89.49169 & 28.25211 & 664.7500 & 5.776899 & 311.4979 & 0.5693539 & 155.74893 & 0.28467697 &  4\\\\\n",
       "\t5 & Gridded.Map & microgeo & 5 & 88.12468 & 28.29693 & 473.2667 & 5.426322 & 152.8858 & 0.4156586 &  39.47494 & 0.10732258 & 15\\\\\n",
       "\t6 & Gridded.Map & microgeo & 6 & 85.14919 & 29.46224 & 555.7917 & 5.754356 & 148.5275 & 0.2327175 &  30.31806 & 0.04750326 & 24\\\\\n",
       "\\end{tabular}\n"
      ],
      "text/markdown": [
       "\n",
       "A data.frame: 6 × 12\n",
       "\n",
       "| <!--/--> | TYPE &lt;chr&gt; | FMTS &lt;chr&gt; | NAME &lt;chr&gt; | X.CENTER &lt;dbl&gt; | Y.CENTER &lt;dbl&gt; | observed_mean &lt;dbl&gt; | shannon_mean &lt;dbl&gt; | observed_sd &lt;dbl&gt; | shannon_sd &lt;dbl&gt; | observed_se &lt;dbl&gt; | shannon_se &lt;dbl&gt; | sample.num &lt;int&gt; |\n",
       "|---|---|---|---|---|---|---|---|---|---|---|---|---|\n",
       "| 1 | Gridded.Map | microgeo | 1 | 83.74702 | 29.73742 | 592.3077 | 5.810641 | 146.6625 | 0.2239471 |  40.67687 | 0.06211176 | 13 |\n",
       "| 2 | Gridded.Map | microgeo | 2 | 85.46302 | 28.50944 | 690.6667 | 5.949724 | 195.8988 | 0.2909757 | 113.10222 | 0.16799491 |  3 |\n",
       "| 3 | Gridded.Map | microgeo | 3 | 86.67299 | 28.33105 | 552.5385 | 5.773249 | 147.3197 | 0.2781269 |  40.85914 | 0.07713852 | 13 |\n",
       "| 4 | Gridded.Map | microgeo | 4 | 89.49169 | 28.25211 | 664.7500 | 5.776899 | 311.4979 | 0.5693539 | 155.74893 | 0.28467697 |  4 |\n",
       "| 5 | Gridded.Map | microgeo | 5 | 88.12468 | 28.29693 | 473.2667 | 5.426322 | 152.8858 | 0.4156586 |  39.47494 | 0.10732258 | 15 |\n",
       "| 6 | Gridded.Map | microgeo | 6 | 85.14919 | 29.46224 | 555.7917 | 5.754356 | 148.5275 | 0.2327175 |  30.31806 | 0.04750326 | 24 |\n",
       "\n"
      ],
      "text/plain": [
       "  TYPE        FMTS     NAME X.CENTER Y.CENTER observed_mean shannon_mean\n",
       "1 Gridded.Map microgeo 1    83.74702 29.73742 592.3077      5.810641    \n",
       "2 Gridded.Map microgeo 2    85.46302 28.50944 690.6667      5.949724    \n",
       "3 Gridded.Map microgeo 3    86.67299 28.33105 552.5385      5.773249    \n",
       "4 Gridded.Map microgeo 4    89.49169 28.25211 664.7500      5.776899    \n",
       "5 Gridded.Map microgeo 5    88.12468 28.29693 473.2667      5.426322    \n",
       "6 Gridded.Map microgeo 6    85.14919 29.46224 555.7917      5.754356    \n",
       "  observed_sd shannon_sd observed_se shannon_se sample.num\n",
       "1 146.6625    0.2239471   40.67687   0.06211176 13        \n",
       "2 195.8988    0.2909757  113.10222   0.16799491  3        \n",
       "3 147.3197    0.2781269   40.85914   0.07713852 13        \n",
       "4 311.4979    0.5693539  155.74893   0.28467697  4        \n",
       "5 152.8858    0.4156586   39.47494   0.10732258 15        \n",
       "6 148.5275    0.2327175   30.31806   0.04750326 24        "
      ]
     },
     "metadata": {},
     "output_type": "display_data"
    }
   ],
   "source": [
    "# Merge data to a gridded map\n",
    "gridded.map.mean4df <- merge_dfs_to_map(map = gridded.map, dat = dataset.dts.aliyun$div$alpha, \n",
    "                                        met = dataset.dts.aliyun$met, med = 'mean')\n",
    "head(gridded.map.mean4df@data[,1:12])\n",
    "# Now, you can visualize the microbial traits (alpha diversity indices) onto a map"
   ]
  },
  {
   "cell_type": "markdown",
   "id": "b7603d5e-bbfc-40e5-b7b9-a50a63a2d7f3",
   "metadata": {},
   "source": [
    "## 2. Merge a `distance matrix` with a map"
   ]
  },
  {
   "cell_type": "markdown",
   "id": "1a7cc382-e939-49a3-aed2-6060651b1721",
   "metadata": {},
   "source": [
    "Firstly, we check the distance `matrix`, and the `SpatialPolygonsDataFrame`."
   ]
  },
  {
   "cell_type": "code",
   "execution_count": 10,
   "id": "3bd97af6-f8ad-4454-85dd-a89bc15e6bb7",
   "metadata": {
    "execution": {
     "iopub.execute_input": "2024-01-12T13:58:00.667147Z",
     "iopub.status.busy": "2024-01-12T13:58:00.666228Z",
     "iopub.status.idle": "2024-01-12T13:58:00.681616Z",
     "shell.execute_reply": "2024-01-12T13:58:00.680584Z"
    }
   },
   "outputs": [
    {
     "data": {
      "text/html": [
       "<table class=\"dataframe\">\n",
       "<caption>A matrix: 5 × 5 of type dbl</caption>\n",
       "<thead>\n",
       "\t<tr><th></th><th scope=col>s1</th><th scope=col>s2</th><th scope=col>s3</th><th scope=col>s4</th><th scope=col>s5</th></tr>\n",
       "</thead>\n",
       "<tbody>\n",
       "\t<tr><th scope=row>s1</th><td>0.0000000</td><td>0.4868173</td><td>0.5881356</td><td>0.4919021</td><td>0.4020716</td></tr>\n",
       "\t<tr><th scope=row>s2</th><td>0.4868173</td><td>0.0000000</td><td>0.4783427</td><td>0.4199623</td><td>0.3971751</td></tr>\n",
       "\t<tr><th scope=row>s3</th><td>0.5881356</td><td>0.4783427</td><td>0.0000000</td><td>0.3973635</td><td>0.4883239</td></tr>\n",
       "\t<tr><th scope=row>s4</th><td>0.4919021</td><td>0.4199623</td><td>0.3973635</td><td>0.0000000</td><td>0.4197740</td></tr>\n",
       "\t<tr><th scope=row>s5</th><td>0.4020716</td><td>0.3971751</td><td>0.4883239</td><td>0.4197740</td><td>0.0000000</td></tr>\n",
       "</tbody>\n",
       "</table>\n"
      ],
      "text/latex": [
       "A matrix: 5 × 5 of type dbl\n",
       "\\begin{tabular}{r|lllll}\n",
       "  & s1 & s2 & s3 & s4 & s5\\\\\n",
       "\\hline\n",
       "\ts1 & 0.0000000 & 0.4868173 & 0.5881356 & 0.4919021 & 0.4020716\\\\\n",
       "\ts2 & 0.4868173 & 0.0000000 & 0.4783427 & 0.4199623 & 0.3971751\\\\\n",
       "\ts3 & 0.5881356 & 0.4783427 & 0.0000000 & 0.3973635 & 0.4883239\\\\\n",
       "\ts4 & 0.4919021 & 0.4199623 & 0.3973635 & 0.0000000 & 0.4197740\\\\\n",
       "\ts5 & 0.4020716 & 0.3971751 & 0.4883239 & 0.4197740 & 0.0000000\\\\\n",
       "\\end{tabular}\n"
      ],
      "text/markdown": [
       "\n",
       "A matrix: 5 × 5 of type dbl\n",
       "\n",
       "| <!--/--> | s1 | s2 | s3 | s4 | s5 |\n",
       "|---|---|---|---|---|---|\n",
       "| s1 | 0.0000000 | 0.4868173 | 0.5881356 | 0.4919021 | 0.4020716 |\n",
       "| s2 | 0.4868173 | 0.0000000 | 0.4783427 | 0.4199623 | 0.3971751 |\n",
       "| s3 | 0.5881356 | 0.4783427 | 0.0000000 | 0.3973635 | 0.4883239 |\n",
       "| s4 | 0.4919021 | 0.4199623 | 0.3973635 | 0.0000000 | 0.4197740 |\n",
       "| s5 | 0.4020716 | 0.3971751 | 0.4883239 | 0.4197740 | 0.0000000 |\n",
       "\n"
      ],
      "text/plain": [
       "   s1        s2        s3        s4        s5       \n",
       "s1 0.0000000 0.4868173 0.5881356 0.4919021 0.4020716\n",
       "s2 0.4868173 0.0000000 0.4783427 0.4199623 0.3971751\n",
       "s3 0.5881356 0.4783427 0.0000000 0.3973635 0.4883239\n",
       "s4 0.4919021 0.4199623 0.3973635 0.0000000 0.4197740\n",
       "s5 0.4020716 0.3971751 0.4883239 0.4197740 0.0000000"
      ]
     },
     "metadata": {},
     "output_type": "display_data"
    }
   ],
   "source": [
    "# Check the distance matrix \n",
    "dataset.dts.aliyun$div$beta$bray[1:5, 1:5]"
   ]
  },
  {
   "cell_type": "code",
   "execution_count": 11,
   "id": "92a5e3b0-5496-483e-9c79-1ddb65500ce3",
   "metadata": {
    "execution": {
     "iopub.execute_input": "2024-01-12T13:58:00.684158Z",
     "iopub.status.busy": "2024-01-12T13:58:00.683322Z",
     "iopub.status.idle": "2024-01-12T13:58:00.698827Z",
     "shell.execute_reply": "2024-01-12T13:58:00.697655Z"
    }
   },
   "outputs": [
    {
     "data": {
      "text/html": [
       "<table class=\"dataframe\">\n",
       "<caption>A data.frame: 3 × 5</caption>\n",
       "<thead>\n",
       "\t<tr><th></th><th scope=col>TYPE</th><th scope=col>FMTS</th><th scope=col>NAME</th><th scope=col>X.CENTER</th><th scope=col>Y.CENTER</th></tr>\n",
       "\t<tr><th></th><th scope=col>&lt;chr&gt;</th><th scope=col>&lt;chr&gt;</th><th scope=col>&lt;chr&gt;</th><th scope=col>&lt;dbl&gt;</th><th scope=col>&lt;dbl&gt;</th></tr>\n",
       "</thead>\n",
       "<tbody>\n",
       "\t<tr><th scope=row>1</th><td>DataV.GeoAtlas</td><td>microgeo</td><td>Tibet  </td><td> 88.38828</td><td>31.56375</td></tr>\n",
       "\t<tr><th scope=row>2</th><td>DataV.GeoAtlas</td><td>microgeo</td><td>Qinghai</td><td> 96.04353</td><td>35.72640</td></tr>\n",
       "\t<tr><th scope=row>3</th><td>DataV.GeoAtlas</td><td>microgeo</td><td>Sichuan</td><td>102.69345</td><td>30.67454</td></tr>\n",
       "</tbody>\n",
       "</table>\n"
      ],
      "text/latex": [
       "A data.frame: 3 × 5\n",
       "\\begin{tabular}{r|lllll}\n",
       "  & TYPE & FMTS & NAME & X.CENTER & Y.CENTER\\\\\n",
       "  & <chr> & <chr> & <chr> & <dbl> & <dbl>\\\\\n",
       "\\hline\n",
       "\t1 & DataV.GeoAtlas & microgeo & Tibet   &  88.38828 & 31.56375\\\\\n",
       "\t2 & DataV.GeoAtlas & microgeo & Qinghai &  96.04353 & 35.72640\\\\\n",
       "\t3 & DataV.GeoAtlas & microgeo & Sichuan & 102.69345 & 30.67454\\\\\n",
       "\\end{tabular}\n"
      ],
      "text/markdown": [
       "\n",
       "A data.frame: 3 × 5\n",
       "\n",
       "| <!--/--> | TYPE &lt;chr&gt; | FMTS &lt;chr&gt; | NAME &lt;chr&gt; | X.CENTER &lt;dbl&gt; | Y.CENTER &lt;dbl&gt; |\n",
       "|---|---|---|---|---|---|\n",
       "| 1 | DataV.GeoAtlas | microgeo | Tibet   |  88.38828 | 31.56375 |\n",
       "| 2 | DataV.GeoAtlas | microgeo | Qinghai |  96.04353 | 35.72640 |\n",
       "| 3 | DataV.GeoAtlas | microgeo | Sichuan | 102.69345 | 30.67454 |\n",
       "\n"
      ],
      "text/plain": [
       "  TYPE           FMTS     NAME    X.CENTER  Y.CENTER\n",
       "1 DataV.GeoAtlas microgeo Tibet    88.38828 31.56375\n",
       "2 DataV.GeoAtlas microgeo Qinghai  96.04353 35.72640\n",
       "3 DataV.GeoAtlas microgeo Sichuan 102.69345 30.67454"
      ]
     },
     "metadata": {},
     "output_type": "display_data"
    }
   ],
   "source": [
    "# Check the `SpatialPolygonsDataFrame`\n",
    "head(dataset.dts.aliyun$map@data)"
   ]
  },
  {
   "cell_type": "markdown",
   "id": "20d90b2c-97da-4e16-9c3b-2f18727fbc1e",
   "metadata": {},
   "source": [
    "Then, we merge the distance `matrix` with a `SpatialPolygonsDataFrame`. "
   ]
  },
  {
   "cell_type": "code",
   "execution_count": 12,
   "id": "1655c78f-b8a4-41ba-9135-043aa9923530",
   "metadata": {
    "execution": {
     "iopub.execute_input": "2024-01-12T13:58:00.701488Z",
     "iopub.status.busy": "2024-01-12T13:58:00.700619Z",
     "iopub.status.idle": "2024-01-12T13:58:04.129099Z",
     "shell.execute_reply": "2024-01-12T13:58:04.128179Z"
    }
   },
   "outputs": [
    {
     "data": {
      "text/html": [
       "<table class=\"dataframe\">\n",
       "<caption>A data.frame: 3 × 9</caption>\n",
       "<thead>\n",
       "\t<tr><th></th><th scope=col>TYPE</th><th scope=col>FMTS</th><th scope=col>NAME</th><th scope=col>X.CENTER</th><th scope=col>Y.CENTER</th><th scope=col>bray_mean</th><th scope=col>bray_sd</th><th scope=col>bray_se</th><th scope=col>sample.num</th></tr>\n",
       "\t<tr><th></th><th scope=col>&lt;chr&gt;</th><th scope=col>&lt;chr&gt;</th><th scope=col>&lt;chr&gt;</th><th scope=col>&lt;dbl&gt;</th><th scope=col>&lt;dbl&gt;</th><th scope=col>&lt;dbl&gt;</th><th scope=col>&lt;dbl&gt;</th><th scope=col>&lt;dbl&gt;</th><th scope=col>&lt;int&gt;</th></tr>\n",
       "</thead>\n",
       "<tbody>\n",
       "\t<tr><th scope=row>1</th><td>DataV.GeoAtlas</td><td>microgeo</td><td>Tibet  </td><td> 88.38828</td><td>31.56375</td><td>0.8127623</td><td>0.1044117</td><td>0.0002820641</td><td>524</td></tr>\n",
       "\t<tr><th scope=row>2</th><td>DataV.GeoAtlas</td><td>microgeo</td><td>Qinghai</td><td> 96.04353</td><td>35.72640</td><td>0.7973775</td><td>0.1222975</td><td>0.0003917437</td><td>442</td></tr>\n",
       "\t<tr><th scope=row>3</th><td>DataV.GeoAtlas</td><td>microgeo</td><td>Sichuan</td><td>102.69345</td><td>30.67454</td><td>0.7220015</td><td>0.1392198</td><td>0.0007095021</td><td>278</td></tr>\n",
       "</tbody>\n",
       "</table>\n"
      ],
      "text/latex": [
       "A data.frame: 3 × 9\n",
       "\\begin{tabular}{r|lllllllll}\n",
       "  & TYPE & FMTS & NAME & X.CENTER & Y.CENTER & bray\\_mean & bray\\_sd & bray\\_se & sample.num\\\\\n",
       "  & <chr> & <chr> & <chr> & <dbl> & <dbl> & <dbl> & <dbl> & <dbl> & <int>\\\\\n",
       "\\hline\n",
       "\t1 & DataV.GeoAtlas & microgeo & Tibet   &  88.38828 & 31.56375 & 0.8127623 & 0.1044117 & 0.0002820641 & 524\\\\\n",
       "\t2 & DataV.GeoAtlas & microgeo & Qinghai &  96.04353 & 35.72640 & 0.7973775 & 0.1222975 & 0.0003917437 & 442\\\\\n",
       "\t3 & DataV.GeoAtlas & microgeo & Sichuan & 102.69345 & 30.67454 & 0.7220015 & 0.1392198 & 0.0007095021 & 278\\\\\n",
       "\\end{tabular}\n"
      ],
      "text/markdown": [
       "\n",
       "A data.frame: 3 × 9\n",
       "\n",
       "| <!--/--> | TYPE &lt;chr&gt; | FMTS &lt;chr&gt; | NAME &lt;chr&gt; | X.CENTER &lt;dbl&gt; | Y.CENTER &lt;dbl&gt; | bray_mean &lt;dbl&gt; | bray_sd &lt;dbl&gt; | bray_se &lt;dbl&gt; | sample.num &lt;int&gt; |\n",
       "|---|---|---|---|---|---|---|---|---|---|\n",
       "| 1 | DataV.GeoAtlas | microgeo | Tibet   |  88.38828 | 31.56375 | 0.8127623 | 0.1044117 | 0.0002820641 | 524 |\n",
       "| 2 | DataV.GeoAtlas | microgeo | Qinghai |  96.04353 | 35.72640 | 0.7973775 | 0.1222975 | 0.0003917437 | 442 |\n",
       "| 3 | DataV.GeoAtlas | microgeo | Sichuan | 102.69345 | 30.67454 | 0.7220015 | 0.1392198 | 0.0007095021 | 278 |\n",
       "\n"
      ],
      "text/plain": [
       "  TYPE           FMTS     NAME    X.CENTER  Y.CENTER bray_mean bray_sd  \n",
       "1 DataV.GeoAtlas microgeo Tibet    88.38828 31.56375 0.8127623 0.1044117\n",
       "2 DataV.GeoAtlas microgeo Qinghai  96.04353 35.72640 0.7973775 0.1222975\n",
       "3 DataV.GeoAtlas microgeo Sichuan 102.69345 30.67454 0.7220015 0.1392198\n",
       "  bray_se      sample.num\n",
       "1 0.0002820641 524       \n",
       "2 0.0003917437 442       \n",
       "3 0.0007095021 278       "
      ]
     },
     "metadata": {},
     "output_type": "display_data"
    }
   ],
   "source": [
    "# Merge distance matrix to a common map\n",
    "common.map.mean4mx <- merge_mtx_to_map(map = dataset.dts.aliyun$map, dat = dataset.dts.aliyun$div$beta$bray, \n",
    "                                        met = dataset.dts.aliyun$met, var = 'bray', med = 'mean')\n",
    "head(common.map.mean4mx@data[,1:9])\n",
    "# Now, you can visualize the microbial traits (beta diversity distance matrix) onto a map"
   ]
  },
  {
   "cell_type": "markdown",
   "id": "46d198c5-8161-4ca0-bf8f-a33c268ad26c",
   "metadata": {},
   "source": [
    "We also can merge a distance `matrix` with a gridded `SpatialPolygonsDataFrame`."
   ]
  },
  {
   "cell_type": "code",
   "execution_count": 13,
   "id": "b0610bb0-4cd1-4a34-bc19-ee790995b611",
   "metadata": {
    "execution": {
     "iopub.execute_input": "2024-01-12T13:58:04.131217Z",
     "iopub.status.busy": "2024-01-12T13:58:04.130522Z",
     "iopub.status.idle": "2024-01-12T13:58:04.345285Z",
     "shell.execute_reply": "2024-01-12T13:58:04.344373Z"
    }
   },
   "outputs": [
    {
     "data": {
      "text/html": [
       "<table class=\"dataframe\">\n",
       "<caption>A data.frame: 6 × 5</caption>\n",
       "<thead>\n",
       "\t<tr><th></th><th scope=col>TYPE</th><th scope=col>FMTS</th><th scope=col>NAME</th><th scope=col>X.CENTER</th><th scope=col>Y.CENTER</th></tr>\n",
       "\t<tr><th></th><th scope=col>&lt;chr&gt;</th><th scope=col>&lt;chr&gt;</th><th scope=col>&lt;chr&gt;</th><th scope=col>&lt;dbl&gt;</th><th scope=col>&lt;dbl&gt;</th></tr>\n",
       "</thead>\n",
       "<tbody>\n",
       "\t<tr><th scope=row>1</th><td>Gridded.Map</td><td>microgeo</td><td>1</td><td>83.74702</td><td>29.73742</td></tr>\n",
       "\t<tr><th scope=row>2</th><td>Gridded.Map</td><td>microgeo</td><td>2</td><td>85.46302</td><td>28.50944</td></tr>\n",
       "\t<tr><th scope=row>3</th><td>Gridded.Map</td><td>microgeo</td><td>3</td><td>86.67299</td><td>28.33105</td></tr>\n",
       "\t<tr><th scope=row>4</th><td>Gridded.Map</td><td>microgeo</td><td>4</td><td>89.49169</td><td>28.25211</td></tr>\n",
       "\t<tr><th scope=row>5</th><td>Gridded.Map</td><td>microgeo</td><td>5</td><td>88.12468</td><td>28.29693</td></tr>\n",
       "\t<tr><th scope=row>6</th><td>Gridded.Map</td><td>microgeo</td><td>6</td><td>85.14919</td><td>29.46224</td></tr>\n",
       "</tbody>\n",
       "</table>\n"
      ],
      "text/latex": [
       "A data.frame: 6 × 5\n",
       "\\begin{tabular}{r|lllll}\n",
       "  & TYPE & FMTS & NAME & X.CENTER & Y.CENTER\\\\\n",
       "  & <chr> & <chr> & <chr> & <dbl> & <dbl>\\\\\n",
       "\\hline\n",
       "\t1 & Gridded.Map & microgeo & 1 & 83.74702 & 29.73742\\\\\n",
       "\t2 & Gridded.Map & microgeo & 2 & 85.46302 & 28.50944\\\\\n",
       "\t3 & Gridded.Map & microgeo & 3 & 86.67299 & 28.33105\\\\\n",
       "\t4 & Gridded.Map & microgeo & 4 & 89.49169 & 28.25211\\\\\n",
       "\t5 & Gridded.Map & microgeo & 5 & 88.12468 & 28.29693\\\\\n",
       "\t6 & Gridded.Map & microgeo & 6 & 85.14919 & 29.46224\\\\\n",
       "\\end{tabular}\n"
      ],
      "text/markdown": [
       "\n",
       "A data.frame: 6 × 5\n",
       "\n",
       "| <!--/--> | TYPE &lt;chr&gt; | FMTS &lt;chr&gt; | NAME &lt;chr&gt; | X.CENTER &lt;dbl&gt; | Y.CENTER &lt;dbl&gt; |\n",
       "|---|---|---|---|---|---|\n",
       "| 1 | Gridded.Map | microgeo | 1 | 83.74702 | 29.73742 |\n",
       "| 2 | Gridded.Map | microgeo | 2 | 85.46302 | 28.50944 |\n",
       "| 3 | Gridded.Map | microgeo | 3 | 86.67299 | 28.33105 |\n",
       "| 4 | Gridded.Map | microgeo | 4 | 89.49169 | 28.25211 |\n",
       "| 5 | Gridded.Map | microgeo | 5 | 88.12468 | 28.29693 |\n",
       "| 6 | Gridded.Map | microgeo | 6 | 85.14919 | 29.46224 |\n",
       "\n"
      ],
      "text/plain": [
       "  TYPE        FMTS     NAME X.CENTER Y.CENTER\n",
       "1 Gridded.Map microgeo 1    83.74702 29.73742\n",
       "2 Gridded.Map microgeo 2    85.46302 28.50944\n",
       "3 Gridded.Map microgeo 3    86.67299 28.33105\n",
       "4 Gridded.Map microgeo 4    89.49169 28.25211\n",
       "5 Gridded.Map microgeo 5    88.12468 28.29693\n",
       "6 Gridded.Map microgeo 6    85.14919 29.46224"
      ]
     },
     "metadata": {},
     "output_type": "display_data"
    }
   ],
   "source": [
    "# Grid the map \n",
    "gridded.map <- grid_map(map = dataset.dts.aliyun$map, res = 1.5) %>% suppressMessages\n",
    "head(gridded.map@data)"
   ]
  },
  {
   "cell_type": "code",
   "execution_count": 14,
   "id": "98485cf7-3cef-4be4-aab4-0591e1594708",
   "metadata": {
    "execution": {
     "iopub.execute_input": "2024-01-12T13:58:04.347453Z",
     "iopub.status.busy": "2024-01-12T13:58:04.346753Z",
     "iopub.status.idle": "2024-01-12T13:58:55.249296Z",
     "shell.execute_reply": "2024-01-12T13:58:55.248278Z"
    }
   },
   "outputs": [
    {
     "data": {
      "text/html": [
       "<table class=\"dataframe\">\n",
       "<caption>A data.frame: 6 × 9</caption>\n",
       "<thead>\n",
       "\t<tr><th></th><th scope=col>TYPE</th><th scope=col>FMTS</th><th scope=col>NAME</th><th scope=col>X.CENTER</th><th scope=col>Y.CENTER</th><th scope=col>bray_mean</th><th scope=col>bray_sd</th><th scope=col>bray_se</th><th scope=col>sample.num</th></tr>\n",
       "\t<tr><th></th><th scope=col>&lt;chr&gt;</th><th scope=col>&lt;chr&gt;</th><th scope=col>&lt;chr&gt;</th><th scope=col>&lt;dbl&gt;</th><th scope=col>&lt;dbl&gt;</th><th scope=col>&lt;dbl&gt;</th><th scope=col>&lt;dbl&gt;</th><th scope=col>&lt;dbl&gt;</th><th scope=col>&lt;int&gt;</th></tr>\n",
       "</thead>\n",
       "<tbody>\n",
       "\t<tr><th scope=row>1</th><td>Gridded.Map</td><td>microgeo</td><td>1</td><td>83.74702</td><td>29.73742</td><td>0.6626201</td><td>0.09315733</td><td>0.010547990</td><td>13</td></tr>\n",
       "\t<tr><th scope=row>2</th><td>Gridded.Map</td><td>microgeo</td><td>2</td><td>85.46302</td><td>28.50944</td><td>0.6412429</td><td>0.10472639</td><td>0.060463808</td><td> 3</td></tr>\n",
       "\t<tr><th scope=row>3</th><td>Gridded.Map</td><td>microgeo</td><td>3</td><td>86.67299</td><td>28.33105</td><td>0.7313149</td><td>0.12932598</td><td>0.014643283</td><td>13</td></tr>\n",
       "\t<tr><th scope=row>4</th><td>Gridded.Map</td><td>microgeo</td><td>4</td><td>89.49169</td><td>28.25211</td><td>0.7666039</td><td>0.23269274</td><td>0.094996411</td><td> 4</td></tr>\n",
       "\t<tr><th scope=row>5</th><td>Gridded.Map</td><td>microgeo</td><td>5</td><td>88.12468</td><td>28.29693</td><td>0.7733280</td><td>0.13723699</td><td>0.013392959</td><td>15</td></tr>\n",
       "\t<tr><th scope=row>6</th><td>Gridded.Map</td><td>microgeo</td><td>6</td><td>85.14919</td><td>29.46224</td><td>0.7700101</td><td>0.10863048</td><td>0.006538787</td><td>24</td></tr>\n",
       "</tbody>\n",
       "</table>\n"
      ],
      "text/latex": [
       "A data.frame: 6 × 9\n",
       "\\begin{tabular}{r|lllllllll}\n",
       "  & TYPE & FMTS & NAME & X.CENTER & Y.CENTER & bray\\_mean & bray\\_sd & bray\\_se & sample.num\\\\\n",
       "  & <chr> & <chr> & <chr> & <dbl> & <dbl> & <dbl> & <dbl> & <dbl> & <int>\\\\\n",
       "\\hline\n",
       "\t1 & Gridded.Map & microgeo & 1 & 83.74702 & 29.73742 & 0.6626201 & 0.09315733 & 0.010547990 & 13\\\\\n",
       "\t2 & Gridded.Map & microgeo & 2 & 85.46302 & 28.50944 & 0.6412429 & 0.10472639 & 0.060463808 &  3\\\\\n",
       "\t3 & Gridded.Map & microgeo & 3 & 86.67299 & 28.33105 & 0.7313149 & 0.12932598 & 0.014643283 & 13\\\\\n",
       "\t4 & Gridded.Map & microgeo & 4 & 89.49169 & 28.25211 & 0.7666039 & 0.23269274 & 0.094996411 &  4\\\\\n",
       "\t5 & Gridded.Map & microgeo & 5 & 88.12468 & 28.29693 & 0.7733280 & 0.13723699 & 0.013392959 & 15\\\\\n",
       "\t6 & Gridded.Map & microgeo & 6 & 85.14919 & 29.46224 & 0.7700101 & 0.10863048 & 0.006538787 & 24\\\\\n",
       "\\end{tabular}\n"
      ],
      "text/markdown": [
       "\n",
       "A data.frame: 6 × 9\n",
       "\n",
       "| <!--/--> | TYPE &lt;chr&gt; | FMTS &lt;chr&gt; | NAME &lt;chr&gt; | X.CENTER &lt;dbl&gt; | Y.CENTER &lt;dbl&gt; | bray_mean &lt;dbl&gt; | bray_sd &lt;dbl&gt; | bray_se &lt;dbl&gt; | sample.num &lt;int&gt; |\n",
       "|---|---|---|---|---|---|---|---|---|---|\n",
       "| 1 | Gridded.Map | microgeo | 1 | 83.74702 | 29.73742 | 0.6626201 | 0.09315733 | 0.010547990 | 13 |\n",
       "| 2 | Gridded.Map | microgeo | 2 | 85.46302 | 28.50944 | 0.6412429 | 0.10472639 | 0.060463808 |  3 |\n",
       "| 3 | Gridded.Map | microgeo | 3 | 86.67299 | 28.33105 | 0.7313149 | 0.12932598 | 0.014643283 | 13 |\n",
       "| 4 | Gridded.Map | microgeo | 4 | 89.49169 | 28.25211 | 0.7666039 | 0.23269274 | 0.094996411 |  4 |\n",
       "| 5 | Gridded.Map | microgeo | 5 | 88.12468 | 28.29693 | 0.7733280 | 0.13723699 | 0.013392959 | 15 |\n",
       "| 6 | Gridded.Map | microgeo | 6 | 85.14919 | 29.46224 | 0.7700101 | 0.10863048 | 0.006538787 | 24 |\n",
       "\n"
      ],
      "text/plain": [
       "  TYPE        FMTS     NAME X.CENTER Y.CENTER bray_mean bray_sd    bray_se    \n",
       "1 Gridded.Map microgeo 1    83.74702 29.73742 0.6626201 0.09315733 0.010547990\n",
       "2 Gridded.Map microgeo 2    85.46302 28.50944 0.6412429 0.10472639 0.060463808\n",
       "3 Gridded.Map microgeo 3    86.67299 28.33105 0.7313149 0.12932598 0.014643283\n",
       "4 Gridded.Map microgeo 4    89.49169 28.25211 0.7666039 0.23269274 0.094996411\n",
       "5 Gridded.Map microgeo 5    88.12468 28.29693 0.7733280 0.13723699 0.013392959\n",
       "6 Gridded.Map microgeo 6    85.14919 29.46224 0.7700101 0.10863048 0.006538787\n",
       "  sample.num\n",
       "1 13        \n",
       "2  3        \n",
       "3 13        \n",
       "4  4        \n",
       "5 15        \n",
       "6 24        "
      ]
     },
     "metadata": {},
     "output_type": "display_data"
    }
   ],
   "source": [
    "# Merge distance matrix to a gridded map\n",
    "gridded.map.mean4mx <- merge_mtx_to_map(map = gridded.map, dat = dataset.dts.aliyun$div$beta$bray, \n",
    "                                        met = dataset.dts.aliyun$met, var = 'bray', med = 'mean')\n",
    "head(gridded.map.mean4mx@data[,1:9])\n",
    "# Now, you can visualize the microbial traits (beta diversity distance matrix) onto a map"
   ]
  },
  {
   "cell_type": "markdown",
   "id": "f81d45e8-1fc7-4d2e-9b8e-d779edfad038",
   "metadata": {},
   "source": [
    "## 3. Extract metadata table from a map"
   ]
  },
  {
   "cell_type": "code",
   "execution_count": 15,
   "id": "f2191fdb-b67d-4c95-9de3-23719ecb5813",
   "metadata": {
    "execution": {
     "iopub.execute_input": "2024-01-12T13:58:55.251524Z",
     "iopub.status.busy": "2024-01-12T13:58:55.250831Z",
     "iopub.status.idle": "2024-01-12T13:58:58.162498Z",
     "shell.execute_reply": "2024-01-12T13:58:58.161541Z"
    }
   },
   "outputs": [
    {
     "data": {
      "text/html": [
       "<table class=\"dataframe\">\n",
       "<caption>A data.frame: 6 × 7</caption>\n",
       "<thead>\n",
       "\t<tr><th></th><th scope=col>longitude</th><th scope=col>latitude</th><th scope=col>NAME</th><th scope=col>TYPE</th><th scope=col>FMTS</th><th scope=col>X.CENTER</th><th scope=col>Y.CENTER</th></tr>\n",
       "\t<tr><th></th><th scope=col>&lt;dbl&gt;</th><th scope=col>&lt;dbl&gt;</th><th scope=col>&lt;chr&gt;</th><th scope=col>&lt;chr&gt;</th><th scope=col>&lt;chr&gt;</th><th scope=col>&lt;dbl&gt;</th><th scope=col>&lt;dbl&gt;</th></tr>\n",
       "</thead>\n",
       "<tbody>\n",
       "\t<tr><th scope=row>s1</th><td>98.20894</td><td>33.10321</td><td>Sichuan</td><td>DataV.GeoAtlas</td><td>microgeo</td><td>102.6935</td><td>30.67454</td></tr>\n",
       "\t<tr><th scope=row>s2</th><td>98.20894</td><td>33.10321</td><td>Sichuan</td><td>DataV.GeoAtlas</td><td>microgeo</td><td>102.6935</td><td>30.67454</td></tr>\n",
       "\t<tr><th scope=row>s3</th><td>98.20894</td><td>33.10321</td><td>Sichuan</td><td>DataV.GeoAtlas</td><td>microgeo</td><td>102.6935</td><td>30.67454</td></tr>\n",
       "\t<tr><th scope=row>s4</th><td>98.20894</td><td>33.10321</td><td>Sichuan</td><td>DataV.GeoAtlas</td><td>microgeo</td><td>102.6935</td><td>30.67454</td></tr>\n",
       "\t<tr><th scope=row>s5</th><td>98.20894</td><td>33.10321</td><td>Sichuan</td><td>DataV.GeoAtlas</td><td>microgeo</td><td>102.6935</td><td>30.67454</td></tr>\n",
       "\t<tr><th scope=row>s6</th><td>98.20639</td><td>33.10280</td><td>Sichuan</td><td>DataV.GeoAtlas</td><td>microgeo</td><td>102.6935</td><td>30.67454</td></tr>\n",
       "</tbody>\n",
       "</table>\n"
      ],
      "text/latex": [
       "A data.frame: 6 × 7\n",
       "\\begin{tabular}{r|lllllll}\n",
       "  & longitude & latitude & NAME & TYPE & FMTS & X.CENTER & Y.CENTER\\\\\n",
       "  & <dbl> & <dbl> & <chr> & <chr> & <chr> & <dbl> & <dbl>\\\\\n",
       "\\hline\n",
       "\ts1 & 98.20894 & 33.10321 & Sichuan & DataV.GeoAtlas & microgeo & 102.6935 & 30.67454\\\\\n",
       "\ts2 & 98.20894 & 33.10321 & Sichuan & DataV.GeoAtlas & microgeo & 102.6935 & 30.67454\\\\\n",
       "\ts3 & 98.20894 & 33.10321 & Sichuan & DataV.GeoAtlas & microgeo & 102.6935 & 30.67454\\\\\n",
       "\ts4 & 98.20894 & 33.10321 & Sichuan & DataV.GeoAtlas & microgeo & 102.6935 & 30.67454\\\\\n",
       "\ts5 & 98.20894 & 33.10321 & Sichuan & DataV.GeoAtlas & microgeo & 102.6935 & 30.67454\\\\\n",
       "\ts6 & 98.20639 & 33.10280 & Sichuan & DataV.GeoAtlas & microgeo & 102.6935 & 30.67454\\\\\n",
       "\\end{tabular}\n"
      ],
      "text/markdown": [
       "\n",
       "A data.frame: 6 × 7\n",
       "\n",
       "| <!--/--> | longitude &lt;dbl&gt; | latitude &lt;dbl&gt; | NAME &lt;chr&gt; | TYPE &lt;chr&gt; | FMTS &lt;chr&gt; | X.CENTER &lt;dbl&gt; | Y.CENTER &lt;dbl&gt; |\n",
       "|---|---|---|---|---|---|---|---|\n",
       "| s1 | 98.20894 | 33.10321 | Sichuan | DataV.GeoAtlas | microgeo | 102.6935 | 30.67454 |\n",
       "| s2 | 98.20894 | 33.10321 | Sichuan | DataV.GeoAtlas | microgeo | 102.6935 | 30.67454 |\n",
       "| s3 | 98.20894 | 33.10321 | Sichuan | DataV.GeoAtlas | microgeo | 102.6935 | 30.67454 |\n",
       "| s4 | 98.20894 | 33.10321 | Sichuan | DataV.GeoAtlas | microgeo | 102.6935 | 30.67454 |\n",
       "| s5 | 98.20894 | 33.10321 | Sichuan | DataV.GeoAtlas | microgeo | 102.6935 | 30.67454 |\n",
       "| s6 | 98.20639 | 33.10280 | Sichuan | DataV.GeoAtlas | microgeo | 102.6935 | 30.67454 |\n",
       "\n"
      ],
      "text/plain": [
       "   longitude latitude NAME    TYPE           FMTS     X.CENTER Y.CENTER\n",
       "s1 98.20894  33.10321 Sichuan DataV.GeoAtlas microgeo 102.6935 30.67454\n",
       "s2 98.20894  33.10321 Sichuan DataV.GeoAtlas microgeo 102.6935 30.67454\n",
       "s3 98.20894  33.10321 Sichuan DataV.GeoAtlas microgeo 102.6935 30.67454\n",
       "s4 98.20894  33.10321 Sichuan DataV.GeoAtlas microgeo 102.6935 30.67454\n",
       "s5 98.20894  33.10321 Sichuan DataV.GeoAtlas microgeo 102.6935 30.67454\n",
       "s6 98.20639  33.10280 Sichuan DataV.GeoAtlas microgeo 102.6935 30.67454"
      ]
     },
     "metadata": {},
     "output_type": "display_data"
    }
   ],
   "source": [
    "# Extract metadata from a common map\n",
    "# Rownames are sample IDs\n",
    "# This new matadata table can be used for subsequent statistical analysis\n",
    "metadata <- dataset.dts.aliyun$map %>% extract_metadata_from_map(met = dataset.dts.aliyun$met)\n",
    "head(metadata)"
   ]
  },
  {
   "cell_type": "code",
   "execution_count": 16,
   "id": "a0f1fbf9-f726-4c6f-a7a5-e0adb4bfeb04",
   "metadata": {
    "execution": {
     "iopub.execute_input": "2024-01-12T13:58:58.164777Z",
     "iopub.status.busy": "2024-01-12T13:58:58.164099Z",
     "iopub.status.idle": "2024-01-12T13:59:01.220529Z",
     "shell.execute_reply": "2024-01-12T13:59:01.219590Z"
    }
   },
   "outputs": [
    {
     "data": {
      "text/html": [
       "<table class=\"dataframe\">\n",
       "<caption>A data.frame: 6 × 14</caption>\n",
       "<thead>\n",
       "\t<tr><th></th><th scope=col>longitude</th><th scope=col>latitude</th><th scope=col>NAME</th><th scope=col>TYPE</th><th scope=col>FMTS</th><th scope=col>X.CENTER</th><th scope=col>Y.CENTER</th><th scope=col>observed_mean</th><th scope=col>shannon_mean</th><th scope=col>observed_sd</th><th scope=col>shannon_sd</th><th scope=col>observed_se</th><th scope=col>shannon_se</th><th scope=col>sample.num</th></tr>\n",
       "\t<tr><th></th><th scope=col>&lt;dbl&gt;</th><th scope=col>&lt;dbl&gt;</th><th scope=col>&lt;chr&gt;</th><th scope=col>&lt;chr&gt;</th><th scope=col>&lt;chr&gt;</th><th scope=col>&lt;dbl&gt;</th><th scope=col>&lt;dbl&gt;</th><th scope=col>&lt;dbl&gt;</th><th scope=col>&lt;dbl&gt;</th><th scope=col>&lt;dbl&gt;</th><th scope=col>&lt;dbl&gt;</th><th scope=col>&lt;dbl&gt;</th><th scope=col>&lt;dbl&gt;</th><th scope=col>&lt;int&gt;</th></tr>\n",
       "</thead>\n",
       "<tbody>\n",
       "\t<tr><th scope=row>s1</th><td>98.20894</td><td>33.10321</td><td>Sichuan</td><td>DataV.GeoAtlas</td><td>microgeo</td><td>102.6935</td><td>30.67454</td><td>706.1151</td><td>5.974249</td><td>197.868</td><td>0.3664406</td><td>11.86733</td><td>0.02197765</td><td>278</td></tr>\n",
       "\t<tr><th scope=row>s2</th><td>98.20894</td><td>33.10321</td><td>Sichuan</td><td>DataV.GeoAtlas</td><td>microgeo</td><td>102.6935</td><td>30.67454</td><td>706.1151</td><td>5.974249</td><td>197.868</td><td>0.3664406</td><td>11.86733</td><td>0.02197765</td><td>278</td></tr>\n",
       "\t<tr><th scope=row>s3</th><td>98.20894</td><td>33.10321</td><td>Sichuan</td><td>DataV.GeoAtlas</td><td>microgeo</td><td>102.6935</td><td>30.67454</td><td>706.1151</td><td>5.974249</td><td>197.868</td><td>0.3664406</td><td>11.86733</td><td>0.02197765</td><td>278</td></tr>\n",
       "\t<tr><th scope=row>s4</th><td>98.20894</td><td>33.10321</td><td>Sichuan</td><td>DataV.GeoAtlas</td><td>microgeo</td><td>102.6935</td><td>30.67454</td><td>706.1151</td><td>5.974249</td><td>197.868</td><td>0.3664406</td><td>11.86733</td><td>0.02197765</td><td>278</td></tr>\n",
       "\t<tr><th scope=row>s5</th><td>98.20894</td><td>33.10321</td><td>Sichuan</td><td>DataV.GeoAtlas</td><td>microgeo</td><td>102.6935</td><td>30.67454</td><td>706.1151</td><td>5.974249</td><td>197.868</td><td>0.3664406</td><td>11.86733</td><td>0.02197765</td><td>278</td></tr>\n",
       "\t<tr><th scope=row>s6</th><td>98.20639</td><td>33.10280</td><td>Sichuan</td><td>DataV.GeoAtlas</td><td>microgeo</td><td>102.6935</td><td>30.67454</td><td>706.1151</td><td>5.974249</td><td>197.868</td><td>0.3664406</td><td>11.86733</td><td>0.02197765</td><td>278</td></tr>\n",
       "</tbody>\n",
       "</table>\n"
      ],
      "text/latex": [
       "A data.frame: 6 × 14\n",
       "\\begin{tabular}{r|llllllllllllll}\n",
       "  & longitude & latitude & NAME & TYPE & FMTS & X.CENTER & Y.CENTER & observed\\_mean & shannon\\_mean & observed\\_sd & shannon\\_sd & observed\\_se & shannon\\_se & sample.num\\\\\n",
       "  & <dbl> & <dbl> & <chr> & <chr> & <chr> & <dbl> & <dbl> & <dbl> & <dbl> & <dbl> & <dbl> & <dbl> & <dbl> & <int>\\\\\n",
       "\\hline\n",
       "\ts1 & 98.20894 & 33.10321 & Sichuan & DataV.GeoAtlas & microgeo & 102.6935 & 30.67454 & 706.1151 & 5.974249 & 197.868 & 0.3664406 & 11.86733 & 0.02197765 & 278\\\\\n",
       "\ts2 & 98.20894 & 33.10321 & Sichuan & DataV.GeoAtlas & microgeo & 102.6935 & 30.67454 & 706.1151 & 5.974249 & 197.868 & 0.3664406 & 11.86733 & 0.02197765 & 278\\\\\n",
       "\ts3 & 98.20894 & 33.10321 & Sichuan & DataV.GeoAtlas & microgeo & 102.6935 & 30.67454 & 706.1151 & 5.974249 & 197.868 & 0.3664406 & 11.86733 & 0.02197765 & 278\\\\\n",
       "\ts4 & 98.20894 & 33.10321 & Sichuan & DataV.GeoAtlas & microgeo & 102.6935 & 30.67454 & 706.1151 & 5.974249 & 197.868 & 0.3664406 & 11.86733 & 0.02197765 & 278\\\\\n",
       "\ts5 & 98.20894 & 33.10321 & Sichuan & DataV.GeoAtlas & microgeo & 102.6935 & 30.67454 & 706.1151 & 5.974249 & 197.868 & 0.3664406 & 11.86733 & 0.02197765 & 278\\\\\n",
       "\ts6 & 98.20639 & 33.10280 & Sichuan & DataV.GeoAtlas & microgeo & 102.6935 & 30.67454 & 706.1151 & 5.974249 & 197.868 & 0.3664406 & 11.86733 & 0.02197765 & 278\\\\\n",
       "\\end{tabular}\n"
      ],
      "text/markdown": [
       "\n",
       "A data.frame: 6 × 14\n",
       "\n",
       "| <!--/--> | longitude &lt;dbl&gt; | latitude &lt;dbl&gt; | NAME &lt;chr&gt; | TYPE &lt;chr&gt; | FMTS &lt;chr&gt; | X.CENTER &lt;dbl&gt; | Y.CENTER &lt;dbl&gt; | observed_mean &lt;dbl&gt; | shannon_mean &lt;dbl&gt; | observed_sd &lt;dbl&gt; | shannon_sd &lt;dbl&gt; | observed_se &lt;dbl&gt; | shannon_se &lt;dbl&gt; | sample.num &lt;int&gt; |\n",
       "|---|---|---|---|---|---|---|---|---|---|---|---|---|---|---|\n",
       "| s1 | 98.20894 | 33.10321 | Sichuan | DataV.GeoAtlas | microgeo | 102.6935 | 30.67454 | 706.1151 | 5.974249 | 197.868 | 0.3664406 | 11.86733 | 0.02197765 | 278 |\n",
       "| s2 | 98.20894 | 33.10321 | Sichuan | DataV.GeoAtlas | microgeo | 102.6935 | 30.67454 | 706.1151 | 5.974249 | 197.868 | 0.3664406 | 11.86733 | 0.02197765 | 278 |\n",
       "| s3 | 98.20894 | 33.10321 | Sichuan | DataV.GeoAtlas | microgeo | 102.6935 | 30.67454 | 706.1151 | 5.974249 | 197.868 | 0.3664406 | 11.86733 | 0.02197765 | 278 |\n",
       "| s4 | 98.20894 | 33.10321 | Sichuan | DataV.GeoAtlas | microgeo | 102.6935 | 30.67454 | 706.1151 | 5.974249 | 197.868 | 0.3664406 | 11.86733 | 0.02197765 | 278 |\n",
       "| s5 | 98.20894 | 33.10321 | Sichuan | DataV.GeoAtlas | microgeo | 102.6935 | 30.67454 | 706.1151 | 5.974249 | 197.868 | 0.3664406 | 11.86733 | 0.02197765 | 278 |\n",
       "| s6 | 98.20639 | 33.10280 | Sichuan | DataV.GeoAtlas | microgeo | 102.6935 | 30.67454 | 706.1151 | 5.974249 | 197.868 | 0.3664406 | 11.86733 | 0.02197765 | 278 |\n",
       "\n"
      ],
      "text/plain": [
       "   longitude latitude NAME    TYPE           FMTS     X.CENTER Y.CENTER\n",
       "s1 98.20894  33.10321 Sichuan DataV.GeoAtlas microgeo 102.6935 30.67454\n",
       "s2 98.20894  33.10321 Sichuan DataV.GeoAtlas microgeo 102.6935 30.67454\n",
       "s3 98.20894  33.10321 Sichuan DataV.GeoAtlas microgeo 102.6935 30.67454\n",
       "s4 98.20894  33.10321 Sichuan DataV.GeoAtlas microgeo 102.6935 30.67454\n",
       "s5 98.20894  33.10321 Sichuan DataV.GeoAtlas microgeo 102.6935 30.67454\n",
       "s6 98.20639  33.10280 Sichuan DataV.GeoAtlas microgeo 102.6935 30.67454\n",
       "   observed_mean shannon_mean observed_sd shannon_sd observed_se shannon_se\n",
       "s1 706.1151      5.974249     197.868     0.3664406  11.86733    0.02197765\n",
       "s2 706.1151      5.974249     197.868     0.3664406  11.86733    0.02197765\n",
       "s3 706.1151      5.974249     197.868     0.3664406  11.86733    0.02197765\n",
       "s4 706.1151      5.974249     197.868     0.3664406  11.86733    0.02197765\n",
       "s5 706.1151      5.974249     197.868     0.3664406  11.86733    0.02197765\n",
       "s6 706.1151      5.974249     197.868     0.3664406  11.86733    0.02197765\n",
       "   sample.num\n",
       "s1 278       \n",
       "s2 278       \n",
       "s3 278       \n",
       "s4 278       \n",
       "s5 278       \n",
       "s6 278       "
      ]
     },
     "metadata": {},
     "output_type": "display_data"
    }
   ],
   "source": [
    "# Extract metadata from a common map with additional data\n",
    "# Rownames are sample IDs\n",
    "# This new matadata table can be used for subsequent statistical analysis \n",
    "metadata.from.c.df <- common.map.mean4df %>% extract_metadata_from_map(met = dataset.dts.aliyun$met)\n",
    "head(metadata.from.c.df)"
   ]
  },
  {
   "cell_type": "code",
   "execution_count": 17,
   "id": "da701407-5a2d-490e-ac7e-381e22833df0",
   "metadata": {
    "execution": {
     "iopub.execute_input": "2024-01-12T13:59:01.222691Z",
     "iopub.status.busy": "2024-01-12T13:59:01.221995Z",
     "iopub.status.idle": "2024-01-12T13:59:53.286091Z",
     "shell.execute_reply": "2024-01-12T13:59:53.285070Z"
    }
   },
   "outputs": [
    {
     "data": {
      "text/html": [
       "<table class=\"dataframe\">\n",
       "<caption>A data.frame: 6 × 11</caption>\n",
       "<thead>\n",
       "\t<tr><th></th><th scope=col>longitude</th><th scope=col>latitude</th><th scope=col>NAME</th><th scope=col>TYPE</th><th scope=col>FMTS</th><th scope=col>X.CENTER</th><th scope=col>Y.CENTER</th><th scope=col>bray_mean</th><th scope=col>bray_sd</th><th scope=col>bray_se</th><th scope=col>sample.num</th></tr>\n",
       "\t<tr><th></th><th scope=col>&lt;dbl&gt;</th><th scope=col>&lt;dbl&gt;</th><th scope=col>&lt;chr&gt;</th><th scope=col>&lt;chr&gt;</th><th scope=col>&lt;chr&gt;</th><th scope=col>&lt;dbl&gt;</th><th scope=col>&lt;dbl&gt;</th><th scope=col>&lt;dbl&gt;</th><th scope=col>&lt;dbl&gt;</th><th scope=col>&lt;dbl&gt;</th><th scope=col>&lt;int&gt;</th></tr>\n",
       "</thead>\n",
       "<tbody>\n",
       "\t<tr><th scope=row>s1</th><td>98.20894</td><td>33.10321</td><td>138</td><td>Gridded.Map</td><td>microgeo</td><td>98.70691</td><td>32.50087</td><td>0.6559857</td><td>0.1575225</td><td>0.005006393</td><td>45</td></tr>\n",
       "\t<tr><th scope=row>s2</th><td>98.20894</td><td>33.10321</td><td>138</td><td>Gridded.Map</td><td>microgeo</td><td>98.70691</td><td>32.50087</td><td>0.6559857</td><td>0.1575225</td><td>0.005006393</td><td>45</td></tr>\n",
       "\t<tr><th scope=row>s3</th><td>98.20894</td><td>33.10321</td><td>138</td><td>Gridded.Map</td><td>microgeo</td><td>98.70691</td><td>32.50087</td><td>0.6559857</td><td>0.1575225</td><td>0.005006393</td><td>45</td></tr>\n",
       "\t<tr><th scope=row>s4</th><td>98.20894</td><td>33.10321</td><td>138</td><td>Gridded.Map</td><td>microgeo</td><td>98.70691</td><td>32.50087</td><td>0.6559857</td><td>0.1575225</td><td>0.005006393</td><td>45</td></tr>\n",
       "\t<tr><th scope=row>s5</th><td>98.20894</td><td>33.10321</td><td>138</td><td>Gridded.Map</td><td>microgeo</td><td>98.70691</td><td>32.50087</td><td>0.6559857</td><td>0.1575225</td><td>0.005006393</td><td>45</td></tr>\n",
       "\t<tr><th scope=row>s6</th><td>98.20639</td><td>33.10280</td><td>138</td><td>Gridded.Map</td><td>microgeo</td><td>98.70691</td><td>32.50087</td><td>0.6559857</td><td>0.1575225</td><td>0.005006393</td><td>45</td></tr>\n",
       "</tbody>\n",
       "</table>\n"
      ],
      "text/latex": [
       "A data.frame: 6 × 11\n",
       "\\begin{tabular}{r|lllllllllll}\n",
       "  & longitude & latitude & NAME & TYPE & FMTS & X.CENTER & Y.CENTER & bray\\_mean & bray\\_sd & bray\\_se & sample.num\\\\\n",
       "  & <dbl> & <dbl> & <chr> & <chr> & <chr> & <dbl> & <dbl> & <dbl> & <dbl> & <dbl> & <int>\\\\\n",
       "\\hline\n",
       "\ts1 & 98.20894 & 33.10321 & 138 & Gridded.Map & microgeo & 98.70691 & 32.50087 & 0.6559857 & 0.1575225 & 0.005006393 & 45\\\\\n",
       "\ts2 & 98.20894 & 33.10321 & 138 & Gridded.Map & microgeo & 98.70691 & 32.50087 & 0.6559857 & 0.1575225 & 0.005006393 & 45\\\\\n",
       "\ts3 & 98.20894 & 33.10321 & 138 & Gridded.Map & microgeo & 98.70691 & 32.50087 & 0.6559857 & 0.1575225 & 0.005006393 & 45\\\\\n",
       "\ts4 & 98.20894 & 33.10321 & 138 & Gridded.Map & microgeo & 98.70691 & 32.50087 & 0.6559857 & 0.1575225 & 0.005006393 & 45\\\\\n",
       "\ts5 & 98.20894 & 33.10321 & 138 & Gridded.Map & microgeo & 98.70691 & 32.50087 & 0.6559857 & 0.1575225 & 0.005006393 & 45\\\\\n",
       "\ts6 & 98.20639 & 33.10280 & 138 & Gridded.Map & microgeo & 98.70691 & 32.50087 & 0.6559857 & 0.1575225 & 0.005006393 & 45\\\\\n",
       "\\end{tabular}\n"
      ],
      "text/markdown": [
       "\n",
       "A data.frame: 6 × 11\n",
       "\n",
       "| <!--/--> | longitude &lt;dbl&gt; | latitude &lt;dbl&gt; | NAME &lt;chr&gt; | TYPE &lt;chr&gt; | FMTS &lt;chr&gt; | X.CENTER &lt;dbl&gt; | Y.CENTER &lt;dbl&gt; | bray_mean &lt;dbl&gt; | bray_sd &lt;dbl&gt; | bray_se &lt;dbl&gt; | sample.num &lt;int&gt; |\n",
       "|---|---|---|---|---|---|---|---|---|---|---|---|\n",
       "| s1 | 98.20894 | 33.10321 | 138 | Gridded.Map | microgeo | 98.70691 | 32.50087 | 0.6559857 | 0.1575225 | 0.005006393 | 45 |\n",
       "| s2 | 98.20894 | 33.10321 | 138 | Gridded.Map | microgeo | 98.70691 | 32.50087 | 0.6559857 | 0.1575225 | 0.005006393 | 45 |\n",
       "| s3 | 98.20894 | 33.10321 | 138 | Gridded.Map | microgeo | 98.70691 | 32.50087 | 0.6559857 | 0.1575225 | 0.005006393 | 45 |\n",
       "| s4 | 98.20894 | 33.10321 | 138 | Gridded.Map | microgeo | 98.70691 | 32.50087 | 0.6559857 | 0.1575225 | 0.005006393 | 45 |\n",
       "| s5 | 98.20894 | 33.10321 | 138 | Gridded.Map | microgeo | 98.70691 | 32.50087 | 0.6559857 | 0.1575225 | 0.005006393 | 45 |\n",
       "| s6 | 98.20639 | 33.10280 | 138 | Gridded.Map | microgeo | 98.70691 | 32.50087 | 0.6559857 | 0.1575225 | 0.005006393 | 45 |\n",
       "\n"
      ],
      "text/plain": [
       "   longitude latitude NAME TYPE        FMTS     X.CENTER Y.CENTER bray_mean\n",
       "s1 98.20894  33.10321 138  Gridded.Map microgeo 98.70691 32.50087 0.6559857\n",
       "s2 98.20894  33.10321 138  Gridded.Map microgeo 98.70691 32.50087 0.6559857\n",
       "s3 98.20894  33.10321 138  Gridded.Map microgeo 98.70691 32.50087 0.6559857\n",
       "s4 98.20894  33.10321 138  Gridded.Map microgeo 98.70691 32.50087 0.6559857\n",
       "s5 98.20894  33.10321 138  Gridded.Map microgeo 98.70691 32.50087 0.6559857\n",
       "s6 98.20639  33.10280 138  Gridded.Map microgeo 98.70691 32.50087 0.6559857\n",
       "   bray_sd   bray_se     sample.num\n",
       "s1 0.1575225 0.005006393 45        \n",
       "s2 0.1575225 0.005006393 45        \n",
       "s3 0.1575225 0.005006393 45        \n",
       "s4 0.1575225 0.005006393 45        \n",
       "s5 0.1575225 0.005006393 45        \n",
       "s6 0.1575225 0.005006393 45        "
      ]
     },
     "metadata": {},
     "output_type": "display_data"
    }
   ],
   "source": [
    "# Extract metadata from a gridded map\n",
    "# Rownames are sample IDs\n",
    "# This new matadata table can be used for subsequent statistical analysis\n",
    "metadata.from.g.mx <- gridded.map.mean4mx %>% extract_metadata_from_map(met = dataset.dts.aliyun$met)\n",
    "head(metadata.from.g.mx)"
   ]
  }
 ],
 "metadata": {
  "kernelspec": {
   "display_name": "R",
   "language": "R",
   "name": "ir"
  },
  "language_info": {
   "codemirror_mode": "r",
   "file_extension": ".r",
   "mimetype": "text/x-r-source",
   "name": "R",
   "pygments_lexer": "r",
   "version": "4.1.2"
  }
 },
 "nbformat": 4,
 "nbformat_minor": 5
}
