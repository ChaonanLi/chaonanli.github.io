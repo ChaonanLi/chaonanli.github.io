{
 "cells": [
  {
   "cell_type": "markdown",
   "id": "52f940d4-231d-46e5-96f3-9a4c42602e39",
   "metadata": {},
   "source": [
    "# Integrate biogeographic traits with a geographic map"
   ]
  },
  {
   "cell_type": "markdown",
   "id": "a22ae2de-4c7d-4777-8a69-ca36d69d8859",
   "metadata": {},
   "source": [
    " "
   ]
  },
  {
   "cell_type": "markdown",
   "id": "8da12352-5fab-440f-8358-d13f173995c9",
   "metadata": {},
   "source": [
    "To enable microbiome data analysis in conjunction with the metadata extracted from a geographic map, we also implemented several functions to merge microbial traits with a `SpatialPolygonsDataFrame` or extract a new metadata from a `SpatialPolygonsDataFrame`. By using these functions, we can perform the statistical comparing based on administrative areas or grids. "
   ]
  },
  {
   "cell_type": "markdown",
   "id": "eece6052-bc88-4bed-b303-dd25e52bd853",
   "metadata": {},
   "source": [
    "Here we need three R packages for this section of [microgeo](https://github.com/ChaonanLi/microgeo) R package tutorial. Just run the following codes to import them into R environment."
   ]
  },
  {
   "cell_type": "code",
   "execution_count": 1,
   "id": "572be6ca-205f-4ebe-b8c4-c1b49d20e43f",
   "metadata": {
    "execution": {
     "iopub.execute_input": "2024-06-09T11:22:04.057644Z",
     "iopub.status.busy": "2024-06-09T11:22:04.056238Z",
     "iopub.status.idle": "2024-06-09T11:22:04.232294Z",
     "shell.execute_reply": "2024-06-09T11:22:04.231315Z"
    }
   },
   "outputs": [],
   "source": [
    "suppressMessages(require(\"magrittr\")) \n",
    "require(\"ggplot2\")  %>% suppressMessages()\n",
    "require(\"microgeo\") %>% suppressMessages()"
   ]
  },
  {
   "cell_type": "markdown",
   "id": "a8fc53d2-d04c-4dc4-81ba-ed0b2fab83f6",
   "metadata": {},
   "source": [
    "If the Chinese characters cannot be displayed correctly, please run the following codes to set locale to `UTF-8`:"
   ]
  },
  {
   "cell_type": "code",
   "execution_count": 2,
   "id": "daa6fbf9-28c8-4255-a391-1fe6404e7d2a",
   "metadata": {
    "execution": {
     "iopub.execute_input": "2024-06-09T11:22:04.249114Z",
     "iopub.status.busy": "2024-06-09T11:22:04.233642Z",
     "iopub.status.idle": "2024-06-09T11:22:04.256733Z",
     "shell.execute_reply": "2024-06-09T11:22:04.253905Z"
    }
   },
   "outputs": [],
   "source": [
    "prev_locale <- Sys.setlocale(\"LC_CTYPE\", \"C.UTF-8\") "
   ]
  },
  {
   "cell_type": "markdown",
   "id": "0aca7e4b-c612-45ac-8a48-2b56b9074519",
   "metadata": {},
   "source": [
    "We need a standard microgeo dataset for the presentations in the section of tutorial."
   ]
  },
  {
   "cell_type": "code",
   "execution_count": 3,
   "id": "b5683f96-8ddf-4484-bb79-89bbd690111d",
   "metadata": {
    "execution": {
     "iopub.execute_input": "2024-06-09T11:22:04.258808Z",
     "iopub.status.busy": "2024-06-09T11:22:04.258115Z",
     "iopub.status.idle": "2024-06-09T11:23:00.961158Z",
     "shell.execute_reply": "2024-06-09T11:23:00.960256Z"
    }
   },
   "outputs": [
    {
     "name": "stderr",
     "output_type": "stream",
     "text": [
      "\u001b[36mℹ\u001b[39m [2024-06-09 19:22:10] \u001b[34m\u001b[3m\u001b[34mINFO\u001b[34m\u001b[23m\u001b[39m ==> all samples fall within the map area!\n",
      "\n",
      "\u001b[36mℹ\u001b[39m [2024-06-09 19:22:10] \u001b[34m\u001b[3m\u001b[34mINFO\u001b[34m\u001b[23m\u001b[39m ==> dataset has been created successfully!\n",
      "\n",
      "\u001b[36mℹ\u001b[39m [2024-06-09 19:22:10] \u001b[34m\u001b[3m\u001b[34mINFO\u001b[34m\u001b[23m\u001b[39m ==> use `object %>% show_dataset()` to check the summary of dataset.\n",
      "\n",
      "\u001b[36mℹ\u001b[39m [2024-06-09 19:22:13] \u001b[34m\u001b[3m\u001b[34mINFO\u001b[34m\u001b[23m\u001b[39m ==> the ASV/gene abundance table has been rarefied with a sub-sample depth of 5310\n",
      "\n",
      "\u001b[32m✔\u001b[39m [2024-06-09 19:22:17] \u001b[32m\u001b[3m\u001b[32mSAVE\u001b[32m\u001b[23m\u001b[39m ==> results have been saved to: object$div$alpha\n",
      "\n",
      "\u001b[32m✔\u001b[39m [2024-06-09 19:23:00] \u001b[32m\u001b[3m\u001b[32mSAVE\u001b[32m\u001b[23m\u001b[39m ==> results have been saved to: object$div$beta\n",
      "\n"
     ]
    },
    {
     "name": "stdout",
     "output_type": "stream",
     "text": [
      "\u001b[34m──\u001b[39m \u001b[34mThe Summary of Microgeo Dataset\u001b[39m \u001b[34m─────────────────────────────────────────────\u001b[39m\n"
     ]
    },
    {
     "name": "stderr",
     "output_type": "stream",
     "text": [
      "\u001b[36mℹ\u001b[39m object$mat: 6808 ASVs/genes and 1244 samples \u001b[32m\u001b[3m\u001b[32m[subsample depth: 5310]\u001b[32m\u001b[23m\u001b[39m\n",
      "\n",
      "\u001b[36mℹ\u001b[39m object$ant: 6808 ASVs/genes and 7 annotation levels (Kingdom, Phylum, Class, Order, Family, Genus, Species)\n",
      "\n",
      "\u001b[36mℹ\u001b[39m object$met: 1244 samples and 2 variables (longitude, latitude)\n",
      "\n",
      "\u001b[36mℹ\u001b[39m object$map: a SpatialPolygonsDataFrame with the CRS of '+proj=longlat +datum=WGS84 +no_defs'\n",
      "\n",
      "\u001b[36mℹ\u001b[39m object$phy: a phylogenetic tree with 6808 tip labels\n",
      "\n",
      "\u001b[36mℹ\u001b[39m object$env: 1244 samples and 10 variables\n",
      "\n"
     ]
    },
    {
     "name": "stdout",
     "output_type": "stream",
     "text": [
      "\n",
      "\u001b[30m──\u001b[39m \u001b[30mThe Summary of Biogeographic Traits\u001b[39m \u001b[30m─────────────────────────────────────────\u001b[39m\n"
     ]
    },
    {
     "name": "stderr",
     "output_type": "stream",
     "text": [
      "\u001b[32m✔\u001b[39m object$div$alpha: 2 alpha diversity index/indices (observed, shannon)\n",
      "\n",
      "\u001b[32m✔\u001b[39m object$div$beta: 2 beta diversity distance matrix/matrices (bray, jaccard)\n",
      "\n"
     ]
    },
    {
     "name": "stdout",
     "output_type": "stream",
     "text": [
      "\n",
      "\u001b[44m• To check the summary of dataset, Replace `object` with the variable name of your dataset\u001b[49m\n",
      "\u001b[44m• For example, if the variable name is `dataset.dts`you can run `head(dataset.dts$met)` to check the content of `met`\u001b[49m\n"
     ]
    }
   ],
   "source": [
    "# Use the map downloaded from DataV.GeoAtlas\n",
    "data(qtp)\n",
    "map <- read_aliyun_map(adcode = c(540000, 630000, 510000)) %>% suppressMessages() \n",
    "dataset.dts.aliyun <- create_dataset(mat = qtp$asv, ant = qtp$tax, met = qtp$met, map = map,\n",
    "                                     phy = qtp$tre, env = qtp$env, lon = \"longitude\", lat = \"latitude\")\n",
    "dataset.dts.aliyun %<>% rarefy_count_table()\n",
    "dataset.dts.aliyun %<>% tidy_dataset()\n",
    "dataset.dts.aliyun %<>% calc_alpha_div(measures = c(\"observed\", \"shannon\")) \n",
    "dataset.dts.aliyun %<>% calc_beta_div(measures = c(\"bray\", \"jaccard\")) \n",
    "dataset.dts.aliyun %>% show_dataset()"
   ]
  },
  {
   "cell_type": "markdown",
   "id": "164cfc68-dd70-43c8-b79f-2e0d406e6249",
   "metadata": {},
   "source": [
    "Now, let's go through each of these functions and see how they are used."
   ]
  },
  {
   "cell_type": "markdown",
   "id": "dc9c64e3-ed14-4aed-8818-e13a2f97fb3b",
   "metadata": {},
   "source": [
    "## 1. Merge a `data.frame` with a map"
   ]
  },
  {
   "cell_type": "markdown",
   "id": "962f1ce8-c386-4ce4-8075-488f46d44887",
   "metadata": {},
   "source": [
    "Firstly, we check the `data.frame` of alpha diversity indices, and the `SpatialPolygonsDataFrame`."
   ]
  },
  {
   "cell_type": "code",
   "execution_count": 4,
   "id": "e2a083e0-acd0-4e4e-b211-7b31a24482ed",
   "metadata": {
    "execution": {
     "iopub.execute_input": "2024-06-09T11:23:00.963552Z",
     "iopub.status.busy": "2024-06-09T11:23:00.962637Z",
     "iopub.status.idle": "2024-06-09T11:23:00.977812Z",
     "shell.execute_reply": "2024-06-09T11:23:00.977001Z"
    }
   },
   "outputs": [
    {
     "data": {
      "text/html": [
       "<table class=\"dataframe\">\n",
       "<caption>A data.frame: 6 × 2</caption>\n",
       "<thead>\n",
       "\t<tr><th></th><th scope=col>observed</th><th scope=col>shannon</th></tr>\n",
       "\t<tr><th></th><th scope=col>&lt;dbl&gt;</th><th scope=col>&lt;dbl&gt;</th></tr>\n",
       "</thead>\n",
       "<tbody>\n",
       "\t<tr><th scope=row>s1</th><td> 997</td><td>6.317993</td></tr>\n",
       "\t<tr><th scope=row>s2</th><td> 931</td><td>6.221955</td></tr>\n",
       "\t<tr><th scope=row>s3</th><td> 833</td><td>6.128113</td></tr>\n",
       "\t<tr><th scope=row>s4</th><td>1039</td><td>6.258115</td></tr>\n",
       "\t<tr><th scope=row>s5</th><td> 882</td><td>6.192494</td></tr>\n",
       "\t<tr><th scope=row>s6</th><td> 999</td><td>6.231846</td></tr>\n",
       "</tbody>\n",
       "</table>\n"
      ],
      "text/latex": [
       "A data.frame: 6 × 2\n",
       "\\begin{tabular}{r|ll}\n",
       "  & observed & shannon\\\\\n",
       "  & <dbl> & <dbl>\\\\\n",
       "\\hline\n",
       "\ts1 &  997 & 6.317993\\\\\n",
       "\ts2 &  931 & 6.221955\\\\\n",
       "\ts3 &  833 & 6.128113\\\\\n",
       "\ts4 & 1039 & 6.258115\\\\\n",
       "\ts5 &  882 & 6.192494\\\\\n",
       "\ts6 &  999 & 6.231846\\\\\n",
       "\\end{tabular}\n"
      ],
      "text/markdown": [
       "\n",
       "A data.frame: 6 × 2\n",
       "\n",
       "| <!--/--> | observed &lt;dbl&gt; | shannon &lt;dbl&gt; |\n",
       "|---|---|---|\n",
       "| s1 |  997 | 6.317993 |\n",
       "| s2 |  931 | 6.221955 |\n",
       "| s3 |  833 | 6.128113 |\n",
       "| s4 | 1039 | 6.258115 |\n",
       "| s5 |  882 | 6.192494 |\n",
       "| s6 |  999 | 6.231846 |\n",
       "\n"
      ],
      "text/plain": [
       "   observed shannon \n",
       "s1  997     6.317993\n",
       "s2  931     6.221955\n",
       "s3  833     6.128113\n",
       "s4 1039     6.258115\n",
       "s5  882     6.192494\n",
       "s6  999     6.231846"
      ]
     },
     "metadata": {},
     "output_type": "display_data"
    }
   ],
   "source": [
    "# Check the data.frame of alpha diversity indices \n",
    "head(dataset.dts.aliyun$div$alpha)"
   ]
  },
  {
   "cell_type": "code",
   "execution_count": 5,
   "id": "954da448-3825-4fb3-acd5-cdbb8fbf3102",
   "metadata": {
    "execution": {
     "iopub.execute_input": "2024-06-09T11:23:00.979842Z",
     "iopub.status.busy": "2024-06-09T11:23:00.979138Z",
     "iopub.status.idle": "2024-06-09T11:23:00.990921Z",
     "shell.execute_reply": "2024-06-09T11:23:00.989898Z"
    }
   },
   "outputs": [
    {
     "data": {
      "text/html": [
       "<table class=\"dataframe\">\n",
       "<caption>A data.frame: 3 × 5</caption>\n",
       "<thead>\n",
       "\t<tr><th></th><th scope=col>TYPE</th><th scope=col>FMTS</th><th scope=col>NAME</th><th scope=col>X.CENTER</th><th scope=col>Y.CENTER</th></tr>\n",
       "\t<tr><th></th><th scope=col>&lt;chr&gt;</th><th scope=col>&lt;chr&gt;</th><th scope=col>&lt;chr&gt;</th><th scope=col>&lt;dbl&gt;</th><th scope=col>&lt;dbl&gt;</th></tr>\n",
       "</thead>\n",
       "<tbody>\n",
       "\t<tr><th scope=row>1</th><td>DataV.GeoAtlas</td><td>microgeo</td><td>西藏自治区</td><td> 88.38828</td><td>31.56375</td></tr>\n",
       "\t<tr><th scope=row>2</th><td>DataV.GeoAtlas</td><td>microgeo</td><td>青海省    </td><td> 96.04353</td><td>35.72640</td></tr>\n",
       "\t<tr><th scope=row>3</th><td>DataV.GeoAtlas</td><td>microgeo</td><td>四川省    </td><td>102.69345</td><td>30.67454</td></tr>\n",
       "</tbody>\n",
       "</table>\n"
      ],
      "text/latex": [
       "A data.frame: 3 × 5\n",
       "\\begin{tabular}{r|lllll}\n",
       "  & TYPE & FMTS & NAME & X.CENTER & Y.CENTER\\\\\n",
       "  & <chr> & <chr> & <chr> & <dbl> & <dbl>\\\\\n",
       "\\hline\n",
       "\t1 & DataV.GeoAtlas & microgeo & 西藏自治区 &  88.38828 & 31.56375\\\\\n",
       "\t2 & DataV.GeoAtlas & microgeo & 青海省     &  96.04353 & 35.72640\\\\\n",
       "\t3 & DataV.GeoAtlas & microgeo & 四川省     & 102.69345 & 30.67454\\\\\n",
       "\\end{tabular}\n"
      ],
      "text/markdown": [
       "\n",
       "A data.frame: 3 × 5\n",
       "\n",
       "| <!--/--> | TYPE &lt;chr&gt; | FMTS &lt;chr&gt; | NAME &lt;chr&gt; | X.CENTER &lt;dbl&gt; | Y.CENTER &lt;dbl&gt; |\n",
       "|---|---|---|---|---|---|\n",
       "| 1 | DataV.GeoAtlas | microgeo | 西藏自治区 |  88.38828 | 31.56375 |\n",
       "| 2 | DataV.GeoAtlas | microgeo | 青海省     |  96.04353 | 35.72640 |\n",
       "| 3 | DataV.GeoAtlas | microgeo | 四川省     | 102.69345 | 30.67454 |\n",
       "\n"
      ],
      "text/plain": [
       "  TYPE           FMTS     NAME       X.CENTER  Y.CENTER\n",
       "1 DataV.GeoAtlas microgeo 西藏自治区  88.38828 31.56375\n",
       "2 DataV.GeoAtlas microgeo 青海省      96.04353 35.72640\n",
       "3 DataV.GeoAtlas microgeo 四川省     102.69345 30.67454"
      ]
     },
     "metadata": {},
     "output_type": "display_data"
    }
   ],
   "source": [
    "# Check the `SpatialPolygonsDataFrame`\n",
    "head(dataset.dts.aliyun$map@data)"
   ]
  },
  {
   "cell_type": "code",
   "execution_count": 6,
   "id": "4df65217-5a83-4768-97d3-8ccd36e4c3d9",
   "metadata": {
    "execution": {
     "iopub.execute_input": "2024-06-09T11:23:00.992963Z",
     "iopub.status.busy": "2024-06-09T11:23:00.992270Z",
     "iopub.status.idle": "2024-06-09T11:23:01.004264Z",
     "shell.execute_reply": "2024-06-09T11:23:01.003415Z"
    }
   },
   "outputs": [
    {
     "data": {
      "text/html": [
       "<table class=\"dataframe\">\n",
       "<caption>A data.frame: 3 × 5</caption>\n",
       "<thead>\n",
       "\t<tr><th></th><th scope=col>TYPE</th><th scope=col>FMTS</th><th scope=col>NAME</th><th scope=col>X.CENTER</th><th scope=col>Y.CENTER</th></tr>\n",
       "\t<tr><th></th><th scope=col>&lt;chr&gt;</th><th scope=col>&lt;chr&gt;</th><th scope=col>&lt;chr&gt;</th><th scope=col>&lt;dbl&gt;</th><th scope=col>&lt;dbl&gt;</th></tr>\n",
       "</thead>\n",
       "<tbody>\n",
       "\t<tr><th scope=row>1</th><td>DataV.GeoAtlas</td><td>microgeo</td><td>Tibet  </td><td> 88.38828</td><td>31.56375</td></tr>\n",
       "\t<tr><th scope=row>2</th><td>DataV.GeoAtlas</td><td>microgeo</td><td>Qinghai</td><td> 96.04353</td><td>35.72640</td></tr>\n",
       "\t<tr><th scope=row>3</th><td>DataV.GeoAtlas</td><td>microgeo</td><td>Sichuan</td><td>102.69345</td><td>30.67454</td></tr>\n",
       "</tbody>\n",
       "</table>\n"
      ],
      "text/latex": [
       "A data.frame: 3 × 5\n",
       "\\begin{tabular}{r|lllll}\n",
       "  & TYPE & FMTS & NAME & X.CENTER & Y.CENTER\\\\\n",
       "  & <chr> & <chr> & <chr> & <dbl> & <dbl>\\\\\n",
       "\\hline\n",
       "\t1 & DataV.GeoAtlas & microgeo & Tibet   &  88.38828 & 31.56375\\\\\n",
       "\t2 & DataV.GeoAtlas & microgeo & Qinghai &  96.04353 & 35.72640\\\\\n",
       "\t3 & DataV.GeoAtlas & microgeo & Sichuan & 102.69345 & 30.67454\\\\\n",
       "\\end{tabular}\n"
      ],
      "text/markdown": [
       "\n",
       "A data.frame: 3 × 5\n",
       "\n",
       "| <!--/--> | TYPE &lt;chr&gt; | FMTS &lt;chr&gt; | NAME &lt;chr&gt; | X.CENTER &lt;dbl&gt; | Y.CENTER &lt;dbl&gt; |\n",
       "|---|---|---|---|---|---|\n",
       "| 1 | DataV.GeoAtlas | microgeo | Tibet   |  88.38828 | 31.56375 |\n",
       "| 2 | DataV.GeoAtlas | microgeo | Qinghai |  96.04353 | 35.72640 |\n",
       "| 3 | DataV.GeoAtlas | microgeo | Sichuan | 102.69345 | 30.67454 |\n",
       "\n"
      ],
      "text/plain": [
       "  TYPE           FMTS     NAME    X.CENTER  Y.CENTER\n",
       "1 DataV.GeoAtlas microgeo Tibet    88.38828 31.56375\n",
       "2 DataV.GeoAtlas microgeo Qinghai  96.04353 35.72640\n",
       "3 DataV.GeoAtlas microgeo Sichuan 102.69345 30.67454"
      ]
     },
     "metadata": {},
     "output_type": "display_data"
    }
   ],
   "source": [
    "# Change the names of Polygons\n",
    "dataset.dts.aliyun$map@data$NAME <- c(\"Tibet\", \"Qinghai\", \"Sichuan\") \n",
    "head(dataset.dts.aliyun$map@data)"
   ]
  },
  {
   "cell_type": "markdown",
   "id": "76609ad8-7336-46e6-8866-ca93876caeb4",
   "metadata": {},
   "source": [
    "Then, we merge the `data.frame` of alpha diversity indices with a `SpatialPolygonsDataFrame`."
   ]
  },
  {
   "cell_type": "code",
   "execution_count": 7,
   "id": "2cde46e7-531f-47ad-b08e-1eb596aee962",
   "metadata": {
    "execution": {
     "iopub.execute_input": "2024-06-09T11:23:01.006257Z",
     "iopub.status.busy": "2024-06-09T11:23:01.005568Z",
     "iopub.status.idle": "2024-06-09T11:23:03.903969Z",
     "shell.execute_reply": "2024-06-09T11:23:03.903028Z"
    }
   },
   "outputs": [
    {
     "data": {
      "text/html": [
       "<table class=\"dataframe\">\n",
       "<caption>A data.frame: 3 × 12</caption>\n",
       "<thead>\n",
       "\t<tr><th></th><th scope=col>TYPE</th><th scope=col>FMTS</th><th scope=col>NAME</th><th scope=col>X.CENTER</th><th scope=col>Y.CENTER</th><th scope=col>observed_mean</th><th scope=col>shannon_mean</th><th scope=col>observed_sd</th><th scope=col>shannon_sd</th><th scope=col>observed_se</th><th scope=col>shannon_se</th><th scope=col>sample.num</th></tr>\n",
       "\t<tr><th></th><th scope=col>&lt;chr&gt;</th><th scope=col>&lt;chr&gt;</th><th scope=col>&lt;chr&gt;</th><th scope=col>&lt;dbl&gt;</th><th scope=col>&lt;dbl&gt;</th><th scope=col>&lt;dbl&gt;</th><th scope=col>&lt;dbl&gt;</th><th scope=col>&lt;dbl&gt;</th><th scope=col>&lt;dbl&gt;</th><th scope=col>&lt;dbl&gt;</th><th scope=col>&lt;dbl&gt;</th><th scope=col>&lt;int&gt;</th></tr>\n",
       "</thead>\n",
       "<tbody>\n",
       "\t<tr><th scope=row>1</th><td>DataV.GeoAtlas</td><td>microgeo</td><td>Tibet  </td><td> 88.38828</td><td>31.56375</td><td>663.5095</td><td>5.847969</td><td>238.3167</td><td>0.4755891</td><td>10.41091</td><td>0.02077620</td><td>524</td></tr>\n",
       "\t<tr><th scope=row>2</th><td>DataV.GeoAtlas</td><td>microgeo</td><td>Qinghai</td><td> 96.04353</td><td>35.72640</td><td>648.1290</td><td>5.837897</td><td>246.2957</td><td>0.5385612</td><td>11.71509</td><td>0.02561674</td><td>442</td></tr>\n",
       "\t<tr><th scope=row>3</th><td>DataV.GeoAtlas</td><td>microgeo</td><td>Sichuan</td><td>102.69345</td><td>30.67454</td><td>706.5180</td><td>5.973561</td><td>197.9724</td><td>0.3659978</td><td>11.87360</td><td>0.02195109</td><td>278</td></tr>\n",
       "</tbody>\n",
       "</table>\n"
      ],
      "text/latex": [
       "A data.frame: 3 × 12\n",
       "\\begin{tabular}{r|llllllllllll}\n",
       "  & TYPE & FMTS & NAME & X.CENTER & Y.CENTER & observed\\_mean & shannon\\_mean & observed\\_sd & shannon\\_sd & observed\\_se & shannon\\_se & sample.num\\\\\n",
       "  & <chr> & <chr> & <chr> & <dbl> & <dbl> & <dbl> & <dbl> & <dbl> & <dbl> & <dbl> & <dbl> & <int>\\\\\n",
       "\\hline\n",
       "\t1 & DataV.GeoAtlas & microgeo & Tibet   &  88.38828 & 31.56375 & 663.5095 & 5.847969 & 238.3167 & 0.4755891 & 10.41091 & 0.02077620 & 524\\\\\n",
       "\t2 & DataV.GeoAtlas & microgeo & Qinghai &  96.04353 & 35.72640 & 648.1290 & 5.837897 & 246.2957 & 0.5385612 & 11.71509 & 0.02561674 & 442\\\\\n",
       "\t3 & DataV.GeoAtlas & microgeo & Sichuan & 102.69345 & 30.67454 & 706.5180 & 5.973561 & 197.9724 & 0.3659978 & 11.87360 & 0.02195109 & 278\\\\\n",
       "\\end{tabular}\n"
      ],
      "text/markdown": [
       "\n",
       "A data.frame: 3 × 12\n",
       "\n",
       "| <!--/--> | TYPE &lt;chr&gt; | FMTS &lt;chr&gt; | NAME &lt;chr&gt; | X.CENTER &lt;dbl&gt; | Y.CENTER &lt;dbl&gt; | observed_mean &lt;dbl&gt; | shannon_mean &lt;dbl&gt; | observed_sd &lt;dbl&gt; | shannon_sd &lt;dbl&gt; | observed_se &lt;dbl&gt; | shannon_se &lt;dbl&gt; | sample.num &lt;int&gt; |\n",
       "|---|---|---|---|---|---|---|---|---|---|---|---|---|\n",
       "| 1 | DataV.GeoAtlas | microgeo | Tibet   |  88.38828 | 31.56375 | 663.5095 | 5.847969 | 238.3167 | 0.4755891 | 10.41091 | 0.02077620 | 524 |\n",
       "| 2 | DataV.GeoAtlas | microgeo | Qinghai |  96.04353 | 35.72640 | 648.1290 | 5.837897 | 246.2957 | 0.5385612 | 11.71509 | 0.02561674 | 442 |\n",
       "| 3 | DataV.GeoAtlas | microgeo | Sichuan | 102.69345 | 30.67454 | 706.5180 | 5.973561 | 197.9724 | 0.3659978 | 11.87360 | 0.02195109 | 278 |\n",
       "\n"
      ],
      "text/plain": [
       "  TYPE           FMTS     NAME    X.CENTER  Y.CENTER observed_mean shannon_mean\n",
       "1 DataV.GeoAtlas microgeo Tibet    88.38828 31.56375 663.5095      5.847969    \n",
       "2 DataV.GeoAtlas microgeo Qinghai  96.04353 35.72640 648.1290      5.837897    \n",
       "3 DataV.GeoAtlas microgeo Sichuan 102.69345 30.67454 706.5180      5.973561    \n",
       "  observed_sd shannon_sd observed_se shannon_se sample.num\n",
       "1 238.3167    0.4755891  10.41091    0.02077620 524       \n",
       "2 246.2957    0.5385612  11.71509    0.02561674 442       \n",
       "3 197.9724    0.3659978  11.87360    0.02195109 278       "
      ]
     },
     "metadata": {},
     "output_type": "display_data"
    }
   ],
   "source": [
    "# Merge data to a `SpatialPolygonsDataFrame`\n",
    "common.map.mean4df <- merge_dfs_to_map(map = dataset.dts.aliyun$map, dat = dataset.dts.aliyun$div$alpha, \n",
    "                                       met = dataset.dts.aliyun$met, med = 'mean')\n",
    "head(common.map.mean4df@data[,1:12])\n",
    "# Now, you can visualize the microbial traits (alpha diversity indices) onto a map"
   ]
  },
  {
   "cell_type": "markdown",
   "id": "e83316f7-b020-46c2-93ab-8c19fa59f7ab",
   "metadata": {},
   "source": [
    "We also can merge the `data.frame` of alpha diversity indices with a gridded `SpatialPolygonsDataFrame`. "
   ]
  },
  {
   "cell_type": "code",
   "execution_count": 8,
   "id": "90f00a05-224e-469f-9ea3-81dd8c30d6b5",
   "metadata": {
    "execution": {
     "iopub.execute_input": "2024-06-09T11:23:03.906111Z",
     "iopub.status.busy": "2024-06-09T11:23:03.905411Z",
     "iopub.status.idle": "2024-06-09T11:23:04.157111Z",
     "shell.execute_reply": "2024-06-09T11:23:04.156010Z"
    }
   },
   "outputs": [
    {
     "data": {
      "text/html": [
       "<table class=\"dataframe\">\n",
       "<caption>A data.frame: 6 × 5</caption>\n",
       "<thead>\n",
       "\t<tr><th></th><th scope=col>TYPE</th><th scope=col>FMTS</th><th scope=col>NAME</th><th scope=col>X.CENTER</th><th scope=col>Y.CENTER</th></tr>\n",
       "\t<tr><th></th><th scope=col>&lt;chr&gt;</th><th scope=col>&lt;chr&gt;</th><th scope=col>&lt;chr&gt;</th><th scope=col>&lt;dbl&gt;</th><th scope=col>&lt;dbl&gt;</th></tr>\n",
       "</thead>\n",
       "<tbody>\n",
       "\t<tr><th scope=row>1</th><td>Gridded.Map</td><td>microgeo</td><td>1</td><td>83.74702</td><td>29.73742</td></tr>\n",
       "\t<tr><th scope=row>2</th><td>Gridded.Map</td><td>microgeo</td><td>2</td><td>85.46302</td><td>28.50944</td></tr>\n",
       "\t<tr><th scope=row>3</th><td>Gridded.Map</td><td>microgeo</td><td>3</td><td>86.67299</td><td>28.33105</td></tr>\n",
       "\t<tr><th scope=row>4</th><td>Gridded.Map</td><td>microgeo</td><td>4</td><td>89.49169</td><td>28.25211</td></tr>\n",
       "\t<tr><th scope=row>5</th><td>Gridded.Map</td><td>microgeo</td><td>5</td><td>88.12468</td><td>28.29693</td></tr>\n",
       "\t<tr><th scope=row>6</th><td>Gridded.Map</td><td>microgeo</td><td>6</td><td>85.14919</td><td>29.46224</td></tr>\n",
       "</tbody>\n",
       "</table>\n"
      ],
      "text/latex": [
       "A data.frame: 6 × 5\n",
       "\\begin{tabular}{r|lllll}\n",
       "  & TYPE & FMTS & NAME & X.CENTER & Y.CENTER\\\\\n",
       "  & <chr> & <chr> & <chr> & <dbl> & <dbl>\\\\\n",
       "\\hline\n",
       "\t1 & Gridded.Map & microgeo & 1 & 83.74702 & 29.73742\\\\\n",
       "\t2 & Gridded.Map & microgeo & 2 & 85.46302 & 28.50944\\\\\n",
       "\t3 & Gridded.Map & microgeo & 3 & 86.67299 & 28.33105\\\\\n",
       "\t4 & Gridded.Map & microgeo & 4 & 89.49169 & 28.25211\\\\\n",
       "\t5 & Gridded.Map & microgeo & 5 & 88.12468 & 28.29693\\\\\n",
       "\t6 & Gridded.Map & microgeo & 6 & 85.14919 & 29.46224\\\\\n",
       "\\end{tabular}\n"
      ],
      "text/markdown": [
       "\n",
       "A data.frame: 6 × 5\n",
       "\n",
       "| <!--/--> | TYPE &lt;chr&gt; | FMTS &lt;chr&gt; | NAME &lt;chr&gt; | X.CENTER &lt;dbl&gt; | Y.CENTER &lt;dbl&gt; |\n",
       "|---|---|---|---|---|---|\n",
       "| 1 | Gridded.Map | microgeo | 1 | 83.74702 | 29.73742 |\n",
       "| 2 | Gridded.Map | microgeo | 2 | 85.46302 | 28.50944 |\n",
       "| 3 | Gridded.Map | microgeo | 3 | 86.67299 | 28.33105 |\n",
       "| 4 | Gridded.Map | microgeo | 4 | 89.49169 | 28.25211 |\n",
       "| 5 | Gridded.Map | microgeo | 5 | 88.12468 | 28.29693 |\n",
       "| 6 | Gridded.Map | microgeo | 6 | 85.14919 | 29.46224 |\n",
       "\n"
      ],
      "text/plain": [
       "  TYPE        FMTS     NAME X.CENTER Y.CENTER\n",
       "1 Gridded.Map microgeo 1    83.74702 29.73742\n",
       "2 Gridded.Map microgeo 2    85.46302 28.50944\n",
       "3 Gridded.Map microgeo 3    86.67299 28.33105\n",
       "4 Gridded.Map microgeo 4    89.49169 28.25211\n",
       "5 Gridded.Map microgeo 5    88.12468 28.29693\n",
       "6 Gridded.Map microgeo 6    85.14919 29.46224"
      ]
     },
     "metadata": {},
     "output_type": "display_data"
    }
   ],
   "source": [
    "# Grid the map [`SpatialPolygonsDataFrame`]\n",
    "gridded.map <- grid_map(map = dataset.dts.aliyun$map, res = 1.5) %>% suppressMessages\n",
    "head(gridded.map@data)"
   ]
  },
  {
   "cell_type": "code",
   "execution_count": 9,
   "id": "843502f5-42bb-4d4c-b990-b69e95a96201",
   "metadata": {
    "execution": {
     "iopub.execute_input": "2024-06-09T11:23:04.159197Z",
     "iopub.status.busy": "2024-06-09T11:23:04.158513Z",
     "iopub.status.idle": "2024-06-09T11:23:58.020370Z",
     "shell.execute_reply": "2024-06-09T11:23:58.019471Z"
    }
   },
   "outputs": [
    {
     "data": {
      "text/html": [
       "<table class=\"dataframe\">\n",
       "<caption>A data.frame: 6 × 12</caption>\n",
       "<thead>\n",
       "\t<tr><th></th><th scope=col>TYPE</th><th scope=col>FMTS</th><th scope=col>NAME</th><th scope=col>X.CENTER</th><th scope=col>Y.CENTER</th><th scope=col>observed_mean</th><th scope=col>shannon_mean</th><th scope=col>observed_sd</th><th scope=col>shannon_sd</th><th scope=col>observed_se</th><th scope=col>shannon_se</th><th scope=col>sample.num</th></tr>\n",
       "\t<tr><th></th><th scope=col>&lt;chr&gt;</th><th scope=col>&lt;chr&gt;</th><th scope=col>&lt;chr&gt;</th><th scope=col>&lt;dbl&gt;</th><th scope=col>&lt;dbl&gt;</th><th scope=col>&lt;dbl&gt;</th><th scope=col>&lt;dbl&gt;</th><th scope=col>&lt;dbl&gt;</th><th scope=col>&lt;dbl&gt;</th><th scope=col>&lt;dbl&gt;</th><th scope=col>&lt;dbl&gt;</th><th scope=col>&lt;int&gt;</th></tr>\n",
       "</thead>\n",
       "<tbody>\n",
       "\t<tr><th scope=row>1</th><td>Gridded.Map</td><td>microgeo</td><td>1</td><td>83.74702</td><td>29.73742</td><td>592.7692</td><td>5.811758</td><td>150.2477</td><td>0.2217618</td><td> 41.67120</td><td>0.06150565</td><td>13</td></tr>\n",
       "\t<tr><th scope=row>2</th><td>Gridded.Map</td><td>microgeo</td><td>2</td><td>85.46302</td><td>28.50944</td><td>700.6667</td><td>5.950323</td><td>203.3822</td><td>0.2875940</td><td>117.42279</td><td>0.16604250</td><td> 3</td></tr>\n",
       "\t<tr><th scope=row>3</th><td>Gridded.Map</td><td>microgeo</td><td>3</td><td>86.67299</td><td>28.33105</td><td>554.0000</td><td>5.783567</td><td>145.5804</td><td>0.2778320</td><td> 40.37675</td><td>0.07705673</td><td>13</td></tr>\n",
       "\t<tr><th scope=row>4</th><td>Gridded.Map</td><td>microgeo</td><td>4</td><td>89.49169</td><td>28.25211</td><td>667.5000</td><td>5.788181</td><td>309.3073</td><td>0.5658123</td><td>154.65365</td><td>0.28290616</td><td> 4</td></tr>\n",
       "\t<tr><th scope=row>5</th><td>Gridded.Map</td><td>microgeo</td><td>5</td><td>88.12468</td><td>28.29693</td><td>470.8000</td><td>5.424761</td><td>152.4140</td><td>0.4160093</td><td> 39.35313</td><td>0.10741315</td><td>15</td></tr>\n",
       "\t<tr><th scope=row>6</th><td>Gridded.Map</td><td>microgeo</td><td>6</td><td>85.14919</td><td>29.46224</td><td>554.5417</td><td>5.750960</td><td>144.9923</td><td>0.2275268</td><td> 29.59644</td><td>0.04644371</td><td>24</td></tr>\n",
       "</tbody>\n",
       "</table>\n"
      ],
      "text/latex": [
       "A data.frame: 6 × 12\n",
       "\\begin{tabular}{r|llllllllllll}\n",
       "  & TYPE & FMTS & NAME & X.CENTER & Y.CENTER & observed\\_mean & shannon\\_mean & observed\\_sd & shannon\\_sd & observed\\_se & shannon\\_se & sample.num\\\\\n",
       "  & <chr> & <chr> & <chr> & <dbl> & <dbl> & <dbl> & <dbl> & <dbl> & <dbl> & <dbl> & <dbl> & <int>\\\\\n",
       "\\hline\n",
       "\t1 & Gridded.Map & microgeo & 1 & 83.74702 & 29.73742 & 592.7692 & 5.811758 & 150.2477 & 0.2217618 &  41.67120 & 0.06150565 & 13\\\\\n",
       "\t2 & Gridded.Map & microgeo & 2 & 85.46302 & 28.50944 & 700.6667 & 5.950323 & 203.3822 & 0.2875940 & 117.42279 & 0.16604250 &  3\\\\\n",
       "\t3 & Gridded.Map & microgeo & 3 & 86.67299 & 28.33105 & 554.0000 & 5.783567 & 145.5804 & 0.2778320 &  40.37675 & 0.07705673 & 13\\\\\n",
       "\t4 & Gridded.Map & microgeo & 4 & 89.49169 & 28.25211 & 667.5000 & 5.788181 & 309.3073 & 0.5658123 & 154.65365 & 0.28290616 &  4\\\\\n",
       "\t5 & Gridded.Map & microgeo & 5 & 88.12468 & 28.29693 & 470.8000 & 5.424761 & 152.4140 & 0.4160093 &  39.35313 & 0.10741315 & 15\\\\\n",
       "\t6 & Gridded.Map & microgeo & 6 & 85.14919 & 29.46224 & 554.5417 & 5.750960 & 144.9923 & 0.2275268 &  29.59644 & 0.04644371 & 24\\\\\n",
       "\\end{tabular}\n"
      ],
      "text/markdown": [
       "\n",
       "A data.frame: 6 × 12\n",
       "\n",
       "| <!--/--> | TYPE &lt;chr&gt; | FMTS &lt;chr&gt; | NAME &lt;chr&gt; | X.CENTER &lt;dbl&gt; | Y.CENTER &lt;dbl&gt; | observed_mean &lt;dbl&gt; | shannon_mean &lt;dbl&gt; | observed_sd &lt;dbl&gt; | shannon_sd &lt;dbl&gt; | observed_se &lt;dbl&gt; | shannon_se &lt;dbl&gt; | sample.num &lt;int&gt; |\n",
       "|---|---|---|---|---|---|---|---|---|---|---|---|---|\n",
       "| 1 | Gridded.Map | microgeo | 1 | 83.74702 | 29.73742 | 592.7692 | 5.811758 | 150.2477 | 0.2217618 |  41.67120 | 0.06150565 | 13 |\n",
       "| 2 | Gridded.Map | microgeo | 2 | 85.46302 | 28.50944 | 700.6667 | 5.950323 | 203.3822 | 0.2875940 | 117.42279 | 0.16604250 |  3 |\n",
       "| 3 | Gridded.Map | microgeo | 3 | 86.67299 | 28.33105 | 554.0000 | 5.783567 | 145.5804 | 0.2778320 |  40.37675 | 0.07705673 | 13 |\n",
       "| 4 | Gridded.Map | microgeo | 4 | 89.49169 | 28.25211 | 667.5000 | 5.788181 | 309.3073 | 0.5658123 | 154.65365 | 0.28290616 |  4 |\n",
       "| 5 | Gridded.Map | microgeo | 5 | 88.12468 | 28.29693 | 470.8000 | 5.424761 | 152.4140 | 0.4160093 |  39.35313 | 0.10741315 | 15 |\n",
       "| 6 | Gridded.Map | microgeo | 6 | 85.14919 | 29.46224 | 554.5417 | 5.750960 | 144.9923 | 0.2275268 |  29.59644 | 0.04644371 | 24 |\n",
       "\n"
      ],
      "text/plain": [
       "  TYPE        FMTS     NAME X.CENTER Y.CENTER observed_mean shannon_mean\n",
       "1 Gridded.Map microgeo 1    83.74702 29.73742 592.7692      5.811758    \n",
       "2 Gridded.Map microgeo 2    85.46302 28.50944 700.6667      5.950323    \n",
       "3 Gridded.Map microgeo 3    86.67299 28.33105 554.0000      5.783567    \n",
       "4 Gridded.Map microgeo 4    89.49169 28.25211 667.5000      5.788181    \n",
       "5 Gridded.Map microgeo 5    88.12468 28.29693 470.8000      5.424761    \n",
       "6 Gridded.Map microgeo 6    85.14919 29.46224 554.5417      5.750960    \n",
       "  observed_sd shannon_sd observed_se shannon_se sample.num\n",
       "1 150.2477    0.2217618   41.67120   0.06150565 13        \n",
       "2 203.3822    0.2875940  117.42279   0.16604250  3        \n",
       "3 145.5804    0.2778320   40.37675   0.07705673 13        \n",
       "4 309.3073    0.5658123  154.65365   0.28290616  4        \n",
       "5 152.4140    0.4160093   39.35313   0.10741315 15        \n",
       "6 144.9923    0.2275268   29.59644   0.04644371 24        "
      ]
     },
     "metadata": {},
     "output_type": "display_data"
    }
   ],
   "source": [
    "# Merge data to a gridded map\n",
    "gridded.map.mean4df <- merge_dfs_to_map(map = gridded.map, dat = dataset.dts.aliyun$div$alpha, \n",
    "                                        met = dataset.dts.aliyun$met, med = 'mean')\n",
    "head(gridded.map.mean4df@data[,1:12])\n",
    "# Now, you can visualize the microbial traits (alpha diversity indices) onto a map"
   ]
  },
  {
   "cell_type": "markdown",
   "id": "b7603d5e-bbfc-40e5-b7b9-a50a63a2d7f3",
   "metadata": {},
   "source": [
    "## 2. Merge a `distance matrix` with a map"
   ]
  },
  {
   "cell_type": "markdown",
   "id": "1a7cc382-e939-49a3-aed2-6060651b1721",
   "metadata": {},
   "source": [
    "Firstly, we check the distance `matrix`, and the `SpatialPolygonsDataFrame`."
   ]
  },
  {
   "cell_type": "code",
   "execution_count": 10,
   "id": "3bd97af6-f8ad-4454-85dd-a89bc15e6bb7",
   "metadata": {
    "execution": {
     "iopub.execute_input": "2024-06-09T11:23:58.022370Z",
     "iopub.status.busy": "2024-06-09T11:23:58.021713Z",
     "iopub.status.idle": "2024-06-09T11:23:58.032395Z",
     "shell.execute_reply": "2024-06-09T11:23:58.031603Z"
    }
   },
   "outputs": [
    {
     "data": {
      "text/html": [
       "<table class=\"dataframe\">\n",
       "<caption>A matrix: 5 × 5 of type dbl</caption>\n",
       "<thead>\n",
       "\t<tr><th></th><th scope=col>s1</th><th scope=col>s2</th><th scope=col>s3</th><th scope=col>s4</th><th scope=col>s5</th></tr>\n",
       "</thead>\n",
       "<tbody>\n",
       "\t<tr><th scope=row>s1</th><td>0.0000000</td><td>0.4828625</td><td>0.5873823</td><td>0.5001883</td><td>0.3935970</td></tr>\n",
       "\t<tr><th scope=row>s2</th><td>0.4828625</td><td>0.0000000</td><td>0.4879473</td><td>0.4094162</td><td>0.3952919</td></tr>\n",
       "\t<tr><th scope=row>s3</th><td>0.5873823</td><td>0.4879473</td><td>0.0000000</td><td>0.4067797</td><td>0.4885122</td></tr>\n",
       "\t<tr><th scope=row>s4</th><td>0.5001883</td><td>0.4094162</td><td>0.4067797</td><td>0.0000000</td><td>0.4148776</td></tr>\n",
       "\t<tr><th scope=row>s5</th><td>0.3935970</td><td>0.3952919</td><td>0.4885122</td><td>0.4148776</td><td>0.0000000</td></tr>\n",
       "</tbody>\n",
       "</table>\n"
      ],
      "text/latex": [
       "A matrix: 5 × 5 of type dbl\n",
       "\\begin{tabular}{r|lllll}\n",
       "  & s1 & s2 & s3 & s4 & s5\\\\\n",
       "\\hline\n",
       "\ts1 & 0.0000000 & 0.4828625 & 0.5873823 & 0.5001883 & 0.3935970\\\\\n",
       "\ts2 & 0.4828625 & 0.0000000 & 0.4879473 & 0.4094162 & 0.3952919\\\\\n",
       "\ts3 & 0.5873823 & 0.4879473 & 0.0000000 & 0.4067797 & 0.4885122\\\\\n",
       "\ts4 & 0.5001883 & 0.4094162 & 0.4067797 & 0.0000000 & 0.4148776\\\\\n",
       "\ts5 & 0.3935970 & 0.3952919 & 0.4885122 & 0.4148776 & 0.0000000\\\\\n",
       "\\end{tabular}\n"
      ],
      "text/markdown": [
       "\n",
       "A matrix: 5 × 5 of type dbl\n",
       "\n",
       "| <!--/--> | s1 | s2 | s3 | s4 | s5 |\n",
       "|---|---|---|---|---|---|\n",
       "| s1 | 0.0000000 | 0.4828625 | 0.5873823 | 0.5001883 | 0.3935970 |\n",
       "| s2 | 0.4828625 | 0.0000000 | 0.4879473 | 0.4094162 | 0.3952919 |\n",
       "| s3 | 0.5873823 | 0.4879473 | 0.0000000 | 0.4067797 | 0.4885122 |\n",
       "| s4 | 0.5001883 | 0.4094162 | 0.4067797 | 0.0000000 | 0.4148776 |\n",
       "| s5 | 0.3935970 | 0.3952919 | 0.4885122 | 0.4148776 | 0.0000000 |\n",
       "\n"
      ],
      "text/plain": [
       "   s1        s2        s3        s4        s5       \n",
       "s1 0.0000000 0.4828625 0.5873823 0.5001883 0.3935970\n",
       "s2 0.4828625 0.0000000 0.4879473 0.4094162 0.3952919\n",
       "s3 0.5873823 0.4879473 0.0000000 0.4067797 0.4885122\n",
       "s4 0.5001883 0.4094162 0.4067797 0.0000000 0.4148776\n",
       "s5 0.3935970 0.3952919 0.4885122 0.4148776 0.0000000"
      ]
     },
     "metadata": {},
     "output_type": "display_data"
    }
   ],
   "source": [
    "# Check the distance matrix \n",
    "dataset.dts.aliyun$div$beta$bray[1:5, 1:5]"
   ]
  },
  {
   "cell_type": "code",
   "execution_count": 11,
   "id": "92a5e3b0-5496-483e-9c79-1ddb65500ce3",
   "metadata": {
    "execution": {
     "iopub.execute_input": "2024-06-09T11:23:58.034289Z",
     "iopub.status.busy": "2024-06-09T11:23:58.033639Z",
     "iopub.status.idle": "2024-06-09T11:23:58.044420Z",
     "shell.execute_reply": "2024-06-09T11:23:58.043638Z"
    }
   },
   "outputs": [
    {
     "data": {
      "text/html": [
       "<table class=\"dataframe\">\n",
       "<caption>A data.frame: 3 × 5</caption>\n",
       "<thead>\n",
       "\t<tr><th></th><th scope=col>TYPE</th><th scope=col>FMTS</th><th scope=col>NAME</th><th scope=col>X.CENTER</th><th scope=col>Y.CENTER</th></tr>\n",
       "\t<tr><th></th><th scope=col>&lt;chr&gt;</th><th scope=col>&lt;chr&gt;</th><th scope=col>&lt;chr&gt;</th><th scope=col>&lt;dbl&gt;</th><th scope=col>&lt;dbl&gt;</th></tr>\n",
       "</thead>\n",
       "<tbody>\n",
       "\t<tr><th scope=row>1</th><td>DataV.GeoAtlas</td><td>microgeo</td><td>Tibet  </td><td> 88.38828</td><td>31.56375</td></tr>\n",
       "\t<tr><th scope=row>2</th><td>DataV.GeoAtlas</td><td>microgeo</td><td>Qinghai</td><td> 96.04353</td><td>35.72640</td></tr>\n",
       "\t<tr><th scope=row>3</th><td>DataV.GeoAtlas</td><td>microgeo</td><td>Sichuan</td><td>102.69345</td><td>30.67454</td></tr>\n",
       "</tbody>\n",
       "</table>\n"
      ],
      "text/latex": [
       "A data.frame: 3 × 5\n",
       "\\begin{tabular}{r|lllll}\n",
       "  & TYPE & FMTS & NAME & X.CENTER & Y.CENTER\\\\\n",
       "  & <chr> & <chr> & <chr> & <dbl> & <dbl>\\\\\n",
       "\\hline\n",
       "\t1 & DataV.GeoAtlas & microgeo & Tibet   &  88.38828 & 31.56375\\\\\n",
       "\t2 & DataV.GeoAtlas & microgeo & Qinghai &  96.04353 & 35.72640\\\\\n",
       "\t3 & DataV.GeoAtlas & microgeo & Sichuan & 102.69345 & 30.67454\\\\\n",
       "\\end{tabular}\n"
      ],
      "text/markdown": [
       "\n",
       "A data.frame: 3 × 5\n",
       "\n",
       "| <!--/--> | TYPE &lt;chr&gt; | FMTS &lt;chr&gt; | NAME &lt;chr&gt; | X.CENTER &lt;dbl&gt; | Y.CENTER &lt;dbl&gt; |\n",
       "|---|---|---|---|---|---|\n",
       "| 1 | DataV.GeoAtlas | microgeo | Tibet   |  88.38828 | 31.56375 |\n",
       "| 2 | DataV.GeoAtlas | microgeo | Qinghai |  96.04353 | 35.72640 |\n",
       "| 3 | DataV.GeoAtlas | microgeo | Sichuan | 102.69345 | 30.67454 |\n",
       "\n"
      ],
      "text/plain": [
       "  TYPE           FMTS     NAME    X.CENTER  Y.CENTER\n",
       "1 DataV.GeoAtlas microgeo Tibet    88.38828 31.56375\n",
       "2 DataV.GeoAtlas microgeo Qinghai  96.04353 35.72640\n",
       "3 DataV.GeoAtlas microgeo Sichuan 102.69345 30.67454"
      ]
     },
     "metadata": {},
     "output_type": "display_data"
    }
   ],
   "source": [
    "# Check the `SpatialPolygonsDataFrame`\n",
    "head(dataset.dts.aliyun$map@data)"
   ]
  },
  {
   "cell_type": "markdown",
   "id": "20d90b2c-97da-4e16-9c3b-2f18727fbc1e",
   "metadata": {},
   "source": [
    "Then, we merge the distance `matrix` with a `SpatialPolygonsDataFrame`. "
   ]
  },
  {
   "cell_type": "code",
   "execution_count": 12,
   "id": "1655c78f-b8a4-41ba-9135-043aa9923530",
   "metadata": {
    "execution": {
     "iopub.execute_input": "2024-06-09T11:23:58.046316Z",
     "iopub.status.busy": "2024-06-09T11:23:58.045668Z",
     "iopub.status.idle": "2024-06-09T11:24:01.015551Z",
     "shell.execute_reply": "2024-06-09T11:24:01.014671Z"
    }
   },
   "outputs": [
    {
     "data": {
      "text/html": [
       "<table class=\"dataframe\">\n",
       "<caption>A data.frame: 3 × 9</caption>\n",
       "<thead>\n",
       "\t<tr><th></th><th scope=col>TYPE</th><th scope=col>FMTS</th><th scope=col>NAME</th><th scope=col>X.CENTER</th><th scope=col>Y.CENTER</th><th scope=col>bray_mean</th><th scope=col>bray_sd</th><th scope=col>bray_se</th><th scope=col>sample.num</th></tr>\n",
       "\t<tr><th></th><th scope=col>&lt;chr&gt;</th><th scope=col>&lt;chr&gt;</th><th scope=col>&lt;chr&gt;</th><th scope=col>&lt;dbl&gt;</th><th scope=col>&lt;dbl&gt;</th><th scope=col>&lt;dbl&gt;</th><th scope=col>&lt;dbl&gt;</th><th scope=col>&lt;dbl&gt;</th><th scope=col>&lt;int&gt;</th></tr>\n",
       "</thead>\n",
       "<tbody>\n",
       "\t<tr><th scope=row>1</th><td>DataV.GeoAtlas</td><td>microgeo</td><td>Tibet  </td><td> 88.38828</td><td>31.56375</td><td>0.8129844</td><td>0.1042697</td><td>0.0002816805</td><td>524</td></tr>\n",
       "\t<tr><th scope=row>2</th><td>DataV.GeoAtlas</td><td>microgeo</td><td>Qinghai</td><td> 96.04353</td><td>35.72640</td><td>0.7973101</td><td>0.1221973</td><td>0.0003914227</td><td>442</td></tr>\n",
       "\t<tr><th scope=row>3</th><td>DataV.GeoAtlas</td><td>microgeo</td><td>Sichuan</td><td>102.69345</td><td>30.67454</td><td>0.7214043</td><td>0.1389998</td><td>0.0007083811</td><td>278</td></tr>\n",
       "</tbody>\n",
       "</table>\n"
      ],
      "text/latex": [
       "A data.frame: 3 × 9\n",
       "\\begin{tabular}{r|lllllllll}\n",
       "  & TYPE & FMTS & NAME & X.CENTER & Y.CENTER & bray\\_mean & bray\\_sd & bray\\_se & sample.num\\\\\n",
       "  & <chr> & <chr> & <chr> & <dbl> & <dbl> & <dbl> & <dbl> & <dbl> & <int>\\\\\n",
       "\\hline\n",
       "\t1 & DataV.GeoAtlas & microgeo & Tibet   &  88.38828 & 31.56375 & 0.8129844 & 0.1042697 & 0.0002816805 & 524\\\\\n",
       "\t2 & DataV.GeoAtlas & microgeo & Qinghai &  96.04353 & 35.72640 & 0.7973101 & 0.1221973 & 0.0003914227 & 442\\\\\n",
       "\t3 & DataV.GeoAtlas & microgeo & Sichuan & 102.69345 & 30.67454 & 0.7214043 & 0.1389998 & 0.0007083811 & 278\\\\\n",
       "\\end{tabular}\n"
      ],
      "text/markdown": [
       "\n",
       "A data.frame: 3 × 9\n",
       "\n",
       "| <!--/--> | TYPE &lt;chr&gt; | FMTS &lt;chr&gt; | NAME &lt;chr&gt; | X.CENTER &lt;dbl&gt; | Y.CENTER &lt;dbl&gt; | bray_mean &lt;dbl&gt; | bray_sd &lt;dbl&gt; | bray_se &lt;dbl&gt; | sample.num &lt;int&gt; |\n",
       "|---|---|---|---|---|---|---|---|---|---|\n",
       "| 1 | DataV.GeoAtlas | microgeo | Tibet   |  88.38828 | 31.56375 | 0.8129844 | 0.1042697 | 0.0002816805 | 524 |\n",
       "| 2 | DataV.GeoAtlas | microgeo | Qinghai |  96.04353 | 35.72640 | 0.7973101 | 0.1221973 | 0.0003914227 | 442 |\n",
       "| 3 | DataV.GeoAtlas | microgeo | Sichuan | 102.69345 | 30.67454 | 0.7214043 | 0.1389998 | 0.0007083811 | 278 |\n",
       "\n"
      ],
      "text/plain": [
       "  TYPE           FMTS     NAME    X.CENTER  Y.CENTER bray_mean bray_sd  \n",
       "1 DataV.GeoAtlas microgeo Tibet    88.38828 31.56375 0.8129844 0.1042697\n",
       "2 DataV.GeoAtlas microgeo Qinghai  96.04353 35.72640 0.7973101 0.1221973\n",
       "3 DataV.GeoAtlas microgeo Sichuan 102.69345 30.67454 0.7214043 0.1389998\n",
       "  bray_se      sample.num\n",
       "1 0.0002816805 524       \n",
       "2 0.0003914227 442       \n",
       "3 0.0007083811 278       "
      ]
     },
     "metadata": {},
     "output_type": "display_data"
    }
   ],
   "source": [
    "# Merge distance matrix to a common map\n",
    "common.map.mean4mx <- merge_mtx_to_map(map = dataset.dts.aliyun$map, dat = dataset.dts.aliyun$div$beta$bray, \n",
    "                                        met = dataset.dts.aliyun$met, var = 'bray', med = 'mean')\n",
    "head(common.map.mean4mx@data[,1:9])\n",
    "# Now, you can visualize the microbial traits (beta diversity distance matrix) onto a map"
   ]
  },
  {
   "cell_type": "markdown",
   "id": "46d198c5-8161-4ca0-bf8f-a33c268ad26c",
   "metadata": {},
   "source": [
    "We also can merge a distance `matrix` with a gridded `SpatialPolygonsDataFrame`."
   ]
  },
  {
   "cell_type": "code",
   "execution_count": 13,
   "id": "b0610bb0-4cd1-4a34-bc19-ee790995b611",
   "metadata": {
    "execution": {
     "iopub.execute_input": "2024-06-09T11:24:01.017599Z",
     "iopub.status.busy": "2024-06-09T11:24:01.016937Z",
     "iopub.status.idle": "2024-06-09T11:24:01.211551Z",
     "shell.execute_reply": "2024-06-09T11:24:01.210680Z"
    }
   },
   "outputs": [
    {
     "data": {
      "text/html": [
       "<table class=\"dataframe\">\n",
       "<caption>A data.frame: 6 × 5</caption>\n",
       "<thead>\n",
       "\t<tr><th></th><th scope=col>TYPE</th><th scope=col>FMTS</th><th scope=col>NAME</th><th scope=col>X.CENTER</th><th scope=col>Y.CENTER</th></tr>\n",
       "\t<tr><th></th><th scope=col>&lt;chr&gt;</th><th scope=col>&lt;chr&gt;</th><th scope=col>&lt;chr&gt;</th><th scope=col>&lt;dbl&gt;</th><th scope=col>&lt;dbl&gt;</th></tr>\n",
       "</thead>\n",
       "<tbody>\n",
       "\t<tr><th scope=row>1</th><td>Gridded.Map</td><td>microgeo</td><td>1</td><td>83.74702</td><td>29.73742</td></tr>\n",
       "\t<tr><th scope=row>2</th><td>Gridded.Map</td><td>microgeo</td><td>2</td><td>85.46302</td><td>28.50944</td></tr>\n",
       "\t<tr><th scope=row>3</th><td>Gridded.Map</td><td>microgeo</td><td>3</td><td>86.67299</td><td>28.33105</td></tr>\n",
       "\t<tr><th scope=row>4</th><td>Gridded.Map</td><td>microgeo</td><td>4</td><td>89.49169</td><td>28.25211</td></tr>\n",
       "\t<tr><th scope=row>5</th><td>Gridded.Map</td><td>microgeo</td><td>5</td><td>88.12468</td><td>28.29693</td></tr>\n",
       "\t<tr><th scope=row>6</th><td>Gridded.Map</td><td>microgeo</td><td>6</td><td>85.14919</td><td>29.46224</td></tr>\n",
       "</tbody>\n",
       "</table>\n"
      ],
      "text/latex": [
       "A data.frame: 6 × 5\n",
       "\\begin{tabular}{r|lllll}\n",
       "  & TYPE & FMTS & NAME & X.CENTER & Y.CENTER\\\\\n",
       "  & <chr> & <chr> & <chr> & <dbl> & <dbl>\\\\\n",
       "\\hline\n",
       "\t1 & Gridded.Map & microgeo & 1 & 83.74702 & 29.73742\\\\\n",
       "\t2 & Gridded.Map & microgeo & 2 & 85.46302 & 28.50944\\\\\n",
       "\t3 & Gridded.Map & microgeo & 3 & 86.67299 & 28.33105\\\\\n",
       "\t4 & Gridded.Map & microgeo & 4 & 89.49169 & 28.25211\\\\\n",
       "\t5 & Gridded.Map & microgeo & 5 & 88.12468 & 28.29693\\\\\n",
       "\t6 & Gridded.Map & microgeo & 6 & 85.14919 & 29.46224\\\\\n",
       "\\end{tabular}\n"
      ],
      "text/markdown": [
       "\n",
       "A data.frame: 6 × 5\n",
       "\n",
       "| <!--/--> | TYPE &lt;chr&gt; | FMTS &lt;chr&gt; | NAME &lt;chr&gt; | X.CENTER &lt;dbl&gt; | Y.CENTER &lt;dbl&gt; |\n",
       "|---|---|---|---|---|---|\n",
       "| 1 | Gridded.Map | microgeo | 1 | 83.74702 | 29.73742 |\n",
       "| 2 | Gridded.Map | microgeo | 2 | 85.46302 | 28.50944 |\n",
       "| 3 | Gridded.Map | microgeo | 3 | 86.67299 | 28.33105 |\n",
       "| 4 | Gridded.Map | microgeo | 4 | 89.49169 | 28.25211 |\n",
       "| 5 | Gridded.Map | microgeo | 5 | 88.12468 | 28.29693 |\n",
       "| 6 | Gridded.Map | microgeo | 6 | 85.14919 | 29.46224 |\n",
       "\n"
      ],
      "text/plain": [
       "  TYPE        FMTS     NAME X.CENTER Y.CENTER\n",
       "1 Gridded.Map microgeo 1    83.74702 29.73742\n",
       "2 Gridded.Map microgeo 2    85.46302 28.50944\n",
       "3 Gridded.Map microgeo 3    86.67299 28.33105\n",
       "4 Gridded.Map microgeo 4    89.49169 28.25211\n",
       "5 Gridded.Map microgeo 5    88.12468 28.29693\n",
       "6 Gridded.Map microgeo 6    85.14919 29.46224"
      ]
     },
     "metadata": {},
     "output_type": "display_data"
    }
   ],
   "source": [
    "# Grid the map \n",
    "gridded.map <- grid_map(map = dataset.dts.aliyun$map, res = 1.5) %>% suppressMessages\n",
    "head(gridded.map@data)"
   ]
  },
  {
   "cell_type": "code",
   "execution_count": 14,
   "id": "98485cf7-3cef-4be4-aab4-0591e1594708",
   "metadata": {
    "execution": {
     "iopub.execute_input": "2024-06-09T11:24:01.213624Z",
     "iopub.status.busy": "2024-06-09T11:24:01.212952Z",
     "iopub.status.idle": "2024-06-09T11:24:51.691559Z",
     "shell.execute_reply": "2024-06-09T11:24:51.690591Z"
    }
   },
   "outputs": [
    {
     "data": {
      "text/html": [
       "<table class=\"dataframe\">\n",
       "<caption>A data.frame: 6 × 9</caption>\n",
       "<thead>\n",
       "\t<tr><th></th><th scope=col>TYPE</th><th scope=col>FMTS</th><th scope=col>NAME</th><th scope=col>X.CENTER</th><th scope=col>Y.CENTER</th><th scope=col>bray_mean</th><th scope=col>bray_sd</th><th scope=col>bray_se</th><th scope=col>sample.num</th></tr>\n",
       "\t<tr><th></th><th scope=col>&lt;chr&gt;</th><th scope=col>&lt;chr&gt;</th><th scope=col>&lt;chr&gt;</th><th scope=col>&lt;dbl&gt;</th><th scope=col>&lt;dbl&gt;</th><th scope=col>&lt;dbl&gt;</th><th scope=col>&lt;dbl&gt;</th><th scope=col>&lt;dbl&gt;</th><th scope=col>&lt;int&gt;</th></tr>\n",
       "</thead>\n",
       "<tbody>\n",
       "\t<tr><th scope=row>1</th><td>Gridded.Map</td><td>microgeo</td><td>1</td><td>83.74702</td><td>29.73742</td><td>0.6629630</td><td>0.09284562</td><td>0.010512697</td><td>13</td></tr>\n",
       "\t<tr><th scope=row>2</th><td>Gridded.Map</td><td>microgeo</td><td>2</td><td>85.46302</td><td>28.50944</td><td>0.6391086</td><td>0.09982613</td><td>0.057634640</td><td> 3</td></tr>\n",
       "\t<tr><th scope=row>3</th><td>Gridded.Map</td><td>microgeo</td><td>3</td><td>86.67299</td><td>28.33105</td><td>0.7319016</td><td>0.13026073</td><td>0.014749123</td><td>13</td></tr>\n",
       "\t<tr><th scope=row>4</th><td>Gridded.Map</td><td>microgeo</td><td>4</td><td>89.49169</td><td>28.25211</td><td>0.7632454</td><td>0.23259699</td><td>0.094957324</td><td> 4</td></tr>\n",
       "\t<tr><th scope=row>5</th><td>Gridded.Map</td><td>microgeo</td><td>5</td><td>88.12468</td><td>28.29693</td><td>0.7759196</td><td>0.13614340</td><td>0.013286235</td><td>15</td></tr>\n",
       "\t<tr><th scope=row>6</th><td>Gridded.Map</td><td>microgeo</td><td>6</td><td>85.14919</td><td>29.46224</td><td>0.7701507</td><td>0.10856920</td><td>0.006535098</td><td>24</td></tr>\n",
       "</tbody>\n",
       "</table>\n"
      ],
      "text/latex": [
       "A data.frame: 6 × 9\n",
       "\\begin{tabular}{r|lllllllll}\n",
       "  & TYPE & FMTS & NAME & X.CENTER & Y.CENTER & bray\\_mean & bray\\_sd & bray\\_se & sample.num\\\\\n",
       "  & <chr> & <chr> & <chr> & <dbl> & <dbl> & <dbl> & <dbl> & <dbl> & <int>\\\\\n",
       "\\hline\n",
       "\t1 & Gridded.Map & microgeo & 1 & 83.74702 & 29.73742 & 0.6629630 & 0.09284562 & 0.010512697 & 13\\\\\n",
       "\t2 & Gridded.Map & microgeo & 2 & 85.46302 & 28.50944 & 0.6391086 & 0.09982613 & 0.057634640 &  3\\\\\n",
       "\t3 & Gridded.Map & microgeo & 3 & 86.67299 & 28.33105 & 0.7319016 & 0.13026073 & 0.014749123 & 13\\\\\n",
       "\t4 & Gridded.Map & microgeo & 4 & 89.49169 & 28.25211 & 0.7632454 & 0.23259699 & 0.094957324 &  4\\\\\n",
       "\t5 & Gridded.Map & microgeo & 5 & 88.12468 & 28.29693 & 0.7759196 & 0.13614340 & 0.013286235 & 15\\\\\n",
       "\t6 & Gridded.Map & microgeo & 6 & 85.14919 & 29.46224 & 0.7701507 & 0.10856920 & 0.006535098 & 24\\\\\n",
       "\\end{tabular}\n"
      ],
      "text/markdown": [
       "\n",
       "A data.frame: 6 × 9\n",
       "\n",
       "| <!--/--> | TYPE &lt;chr&gt; | FMTS &lt;chr&gt; | NAME &lt;chr&gt; | X.CENTER &lt;dbl&gt; | Y.CENTER &lt;dbl&gt; | bray_mean &lt;dbl&gt; | bray_sd &lt;dbl&gt; | bray_se &lt;dbl&gt; | sample.num &lt;int&gt; |\n",
       "|---|---|---|---|---|---|---|---|---|---|\n",
       "| 1 | Gridded.Map | microgeo | 1 | 83.74702 | 29.73742 | 0.6629630 | 0.09284562 | 0.010512697 | 13 |\n",
       "| 2 | Gridded.Map | microgeo | 2 | 85.46302 | 28.50944 | 0.6391086 | 0.09982613 | 0.057634640 |  3 |\n",
       "| 3 | Gridded.Map | microgeo | 3 | 86.67299 | 28.33105 | 0.7319016 | 0.13026073 | 0.014749123 | 13 |\n",
       "| 4 | Gridded.Map | microgeo | 4 | 89.49169 | 28.25211 | 0.7632454 | 0.23259699 | 0.094957324 |  4 |\n",
       "| 5 | Gridded.Map | microgeo | 5 | 88.12468 | 28.29693 | 0.7759196 | 0.13614340 | 0.013286235 | 15 |\n",
       "| 6 | Gridded.Map | microgeo | 6 | 85.14919 | 29.46224 | 0.7701507 | 0.10856920 | 0.006535098 | 24 |\n",
       "\n"
      ],
      "text/plain": [
       "  TYPE        FMTS     NAME X.CENTER Y.CENTER bray_mean bray_sd    bray_se    \n",
       "1 Gridded.Map microgeo 1    83.74702 29.73742 0.6629630 0.09284562 0.010512697\n",
       "2 Gridded.Map microgeo 2    85.46302 28.50944 0.6391086 0.09982613 0.057634640\n",
       "3 Gridded.Map microgeo 3    86.67299 28.33105 0.7319016 0.13026073 0.014749123\n",
       "4 Gridded.Map microgeo 4    89.49169 28.25211 0.7632454 0.23259699 0.094957324\n",
       "5 Gridded.Map microgeo 5    88.12468 28.29693 0.7759196 0.13614340 0.013286235\n",
       "6 Gridded.Map microgeo 6    85.14919 29.46224 0.7701507 0.10856920 0.006535098\n",
       "  sample.num\n",
       "1 13        \n",
       "2  3        \n",
       "3 13        \n",
       "4  4        \n",
       "5 15        \n",
       "6 24        "
      ]
     },
     "metadata": {},
     "output_type": "display_data"
    }
   ],
   "source": [
    "# Merge distance matrix to a gridded map\n",
    "gridded.map.mean4mx <- merge_mtx_to_map(map = gridded.map, dat = dataset.dts.aliyun$div$beta$bray, \n",
    "                                        met = dataset.dts.aliyun$met, var = 'bray', med = 'mean')\n",
    "head(gridded.map.mean4mx@data[,1:9])\n",
    "# Now, you can visualize the microbial traits (beta diversity distance matrix) onto a map"
   ]
  },
  {
   "cell_type": "markdown",
   "id": "f81d45e8-1fc7-4d2e-9b8e-d779edfad038",
   "metadata": {},
   "source": [
    "## 3. Extract metadata table from a map"
   ]
  },
  {
   "cell_type": "code",
   "execution_count": 15,
   "id": "f2191fdb-b67d-4c95-9de3-23719ecb5813",
   "metadata": {
    "execution": {
     "iopub.execute_input": "2024-06-09T11:24:51.693647Z",
     "iopub.status.busy": "2024-06-09T11:24:51.692973Z",
     "iopub.status.idle": "2024-06-09T11:24:54.613721Z",
     "shell.execute_reply": "2024-06-09T11:24:54.612718Z"
    }
   },
   "outputs": [
    {
     "data": {
      "text/html": [
       "<table class=\"dataframe\">\n",
       "<caption>A data.frame: 6 × 7</caption>\n",
       "<thead>\n",
       "\t<tr><th></th><th scope=col>longitude</th><th scope=col>latitude</th><th scope=col>NAME</th><th scope=col>TYPE</th><th scope=col>FMTS</th><th scope=col>X.CENTER</th><th scope=col>Y.CENTER</th></tr>\n",
       "\t<tr><th></th><th scope=col>&lt;dbl&gt;</th><th scope=col>&lt;dbl&gt;</th><th scope=col>&lt;chr&gt;</th><th scope=col>&lt;chr&gt;</th><th scope=col>&lt;chr&gt;</th><th scope=col>&lt;dbl&gt;</th><th scope=col>&lt;dbl&gt;</th></tr>\n",
       "</thead>\n",
       "<tbody>\n",
       "\t<tr><th scope=row>s1</th><td>98.20894</td><td>33.10321</td><td>Sichuan</td><td>DataV.GeoAtlas</td><td>microgeo</td><td>102.6935</td><td>30.67454</td></tr>\n",
       "\t<tr><th scope=row>s2</th><td>98.20894</td><td>33.10321</td><td>Sichuan</td><td>DataV.GeoAtlas</td><td>microgeo</td><td>102.6935</td><td>30.67454</td></tr>\n",
       "\t<tr><th scope=row>s3</th><td>98.20894</td><td>33.10321</td><td>Sichuan</td><td>DataV.GeoAtlas</td><td>microgeo</td><td>102.6935</td><td>30.67454</td></tr>\n",
       "\t<tr><th scope=row>s4</th><td>98.20894</td><td>33.10321</td><td>Sichuan</td><td>DataV.GeoAtlas</td><td>microgeo</td><td>102.6935</td><td>30.67454</td></tr>\n",
       "\t<tr><th scope=row>s5</th><td>98.20894</td><td>33.10321</td><td>Sichuan</td><td>DataV.GeoAtlas</td><td>microgeo</td><td>102.6935</td><td>30.67454</td></tr>\n",
       "\t<tr><th scope=row>s6</th><td>98.20639</td><td>33.10280</td><td>Sichuan</td><td>DataV.GeoAtlas</td><td>microgeo</td><td>102.6935</td><td>30.67454</td></tr>\n",
       "</tbody>\n",
       "</table>\n"
      ],
      "text/latex": [
       "A data.frame: 6 × 7\n",
       "\\begin{tabular}{r|lllllll}\n",
       "  & longitude & latitude & NAME & TYPE & FMTS & X.CENTER & Y.CENTER\\\\\n",
       "  & <dbl> & <dbl> & <chr> & <chr> & <chr> & <dbl> & <dbl>\\\\\n",
       "\\hline\n",
       "\ts1 & 98.20894 & 33.10321 & Sichuan & DataV.GeoAtlas & microgeo & 102.6935 & 30.67454\\\\\n",
       "\ts2 & 98.20894 & 33.10321 & Sichuan & DataV.GeoAtlas & microgeo & 102.6935 & 30.67454\\\\\n",
       "\ts3 & 98.20894 & 33.10321 & Sichuan & DataV.GeoAtlas & microgeo & 102.6935 & 30.67454\\\\\n",
       "\ts4 & 98.20894 & 33.10321 & Sichuan & DataV.GeoAtlas & microgeo & 102.6935 & 30.67454\\\\\n",
       "\ts5 & 98.20894 & 33.10321 & Sichuan & DataV.GeoAtlas & microgeo & 102.6935 & 30.67454\\\\\n",
       "\ts6 & 98.20639 & 33.10280 & Sichuan & DataV.GeoAtlas & microgeo & 102.6935 & 30.67454\\\\\n",
       "\\end{tabular}\n"
      ],
      "text/markdown": [
       "\n",
       "A data.frame: 6 × 7\n",
       "\n",
       "| <!--/--> | longitude &lt;dbl&gt; | latitude &lt;dbl&gt; | NAME &lt;chr&gt; | TYPE &lt;chr&gt; | FMTS &lt;chr&gt; | X.CENTER &lt;dbl&gt; | Y.CENTER &lt;dbl&gt; |\n",
       "|---|---|---|---|---|---|---|---|\n",
       "| s1 | 98.20894 | 33.10321 | Sichuan | DataV.GeoAtlas | microgeo | 102.6935 | 30.67454 |\n",
       "| s2 | 98.20894 | 33.10321 | Sichuan | DataV.GeoAtlas | microgeo | 102.6935 | 30.67454 |\n",
       "| s3 | 98.20894 | 33.10321 | Sichuan | DataV.GeoAtlas | microgeo | 102.6935 | 30.67454 |\n",
       "| s4 | 98.20894 | 33.10321 | Sichuan | DataV.GeoAtlas | microgeo | 102.6935 | 30.67454 |\n",
       "| s5 | 98.20894 | 33.10321 | Sichuan | DataV.GeoAtlas | microgeo | 102.6935 | 30.67454 |\n",
       "| s6 | 98.20639 | 33.10280 | Sichuan | DataV.GeoAtlas | microgeo | 102.6935 | 30.67454 |\n",
       "\n"
      ],
      "text/plain": [
       "   longitude latitude NAME    TYPE           FMTS     X.CENTER Y.CENTER\n",
       "s1 98.20894  33.10321 Sichuan DataV.GeoAtlas microgeo 102.6935 30.67454\n",
       "s2 98.20894  33.10321 Sichuan DataV.GeoAtlas microgeo 102.6935 30.67454\n",
       "s3 98.20894  33.10321 Sichuan DataV.GeoAtlas microgeo 102.6935 30.67454\n",
       "s4 98.20894  33.10321 Sichuan DataV.GeoAtlas microgeo 102.6935 30.67454\n",
       "s5 98.20894  33.10321 Sichuan DataV.GeoAtlas microgeo 102.6935 30.67454\n",
       "s6 98.20639  33.10280 Sichuan DataV.GeoAtlas microgeo 102.6935 30.67454"
      ]
     },
     "metadata": {},
     "output_type": "display_data"
    }
   ],
   "source": [
    "# Extract metadata from a common map\n",
    "# Rownames are sample IDs\n",
    "# This new matadata table can be used for subsequent statistical analysis\n",
    "metadata <- dataset.dts.aliyun$map %>% extract_metadata_from_map(met = dataset.dts.aliyun$met)\n",
    "head(metadata)"
   ]
  },
  {
   "cell_type": "code",
   "execution_count": 16,
   "id": "a0f1fbf9-f726-4c6f-a7a5-e0adb4bfeb04",
   "metadata": {
    "execution": {
     "iopub.execute_input": "2024-06-09T11:24:54.616031Z",
     "iopub.status.busy": "2024-06-09T11:24:54.615290Z",
     "iopub.status.idle": "2024-06-09T11:24:57.606233Z",
     "shell.execute_reply": "2024-06-09T11:24:57.605346Z"
    }
   },
   "outputs": [
    {
     "data": {
      "text/html": [
       "<table class=\"dataframe\">\n",
       "<caption>A data.frame: 6 × 14</caption>\n",
       "<thead>\n",
       "\t<tr><th></th><th scope=col>longitude</th><th scope=col>latitude</th><th scope=col>NAME</th><th scope=col>TYPE</th><th scope=col>FMTS</th><th scope=col>X.CENTER</th><th scope=col>Y.CENTER</th><th scope=col>observed_mean</th><th scope=col>shannon_mean</th><th scope=col>observed_sd</th><th scope=col>shannon_sd</th><th scope=col>observed_se</th><th scope=col>shannon_se</th><th scope=col>sample.num</th></tr>\n",
       "\t<tr><th></th><th scope=col>&lt;dbl&gt;</th><th scope=col>&lt;dbl&gt;</th><th scope=col>&lt;chr&gt;</th><th scope=col>&lt;chr&gt;</th><th scope=col>&lt;chr&gt;</th><th scope=col>&lt;dbl&gt;</th><th scope=col>&lt;dbl&gt;</th><th scope=col>&lt;dbl&gt;</th><th scope=col>&lt;dbl&gt;</th><th scope=col>&lt;dbl&gt;</th><th scope=col>&lt;dbl&gt;</th><th scope=col>&lt;dbl&gt;</th><th scope=col>&lt;dbl&gt;</th><th scope=col>&lt;int&gt;</th></tr>\n",
       "</thead>\n",
       "<tbody>\n",
       "\t<tr><th scope=row>s1</th><td>98.20894</td><td>33.10321</td><td>Sichuan</td><td>DataV.GeoAtlas</td><td>microgeo</td><td>102.6935</td><td>30.67454</td><td>706.518</td><td>5.973561</td><td>197.9724</td><td>0.3659978</td><td>11.8736</td><td>0.02195109</td><td>278</td></tr>\n",
       "\t<tr><th scope=row>s2</th><td>98.20894</td><td>33.10321</td><td>Sichuan</td><td>DataV.GeoAtlas</td><td>microgeo</td><td>102.6935</td><td>30.67454</td><td>706.518</td><td>5.973561</td><td>197.9724</td><td>0.3659978</td><td>11.8736</td><td>0.02195109</td><td>278</td></tr>\n",
       "\t<tr><th scope=row>s3</th><td>98.20894</td><td>33.10321</td><td>Sichuan</td><td>DataV.GeoAtlas</td><td>microgeo</td><td>102.6935</td><td>30.67454</td><td>706.518</td><td>5.973561</td><td>197.9724</td><td>0.3659978</td><td>11.8736</td><td>0.02195109</td><td>278</td></tr>\n",
       "\t<tr><th scope=row>s4</th><td>98.20894</td><td>33.10321</td><td>Sichuan</td><td>DataV.GeoAtlas</td><td>microgeo</td><td>102.6935</td><td>30.67454</td><td>706.518</td><td>5.973561</td><td>197.9724</td><td>0.3659978</td><td>11.8736</td><td>0.02195109</td><td>278</td></tr>\n",
       "\t<tr><th scope=row>s5</th><td>98.20894</td><td>33.10321</td><td>Sichuan</td><td>DataV.GeoAtlas</td><td>microgeo</td><td>102.6935</td><td>30.67454</td><td>706.518</td><td>5.973561</td><td>197.9724</td><td>0.3659978</td><td>11.8736</td><td>0.02195109</td><td>278</td></tr>\n",
       "\t<tr><th scope=row>s6</th><td>98.20639</td><td>33.10280</td><td>Sichuan</td><td>DataV.GeoAtlas</td><td>microgeo</td><td>102.6935</td><td>30.67454</td><td>706.518</td><td>5.973561</td><td>197.9724</td><td>0.3659978</td><td>11.8736</td><td>0.02195109</td><td>278</td></tr>\n",
       "</tbody>\n",
       "</table>\n"
      ],
      "text/latex": [
       "A data.frame: 6 × 14\n",
       "\\begin{tabular}{r|llllllllllllll}\n",
       "  & longitude & latitude & NAME & TYPE & FMTS & X.CENTER & Y.CENTER & observed\\_mean & shannon\\_mean & observed\\_sd & shannon\\_sd & observed\\_se & shannon\\_se & sample.num\\\\\n",
       "  & <dbl> & <dbl> & <chr> & <chr> & <chr> & <dbl> & <dbl> & <dbl> & <dbl> & <dbl> & <dbl> & <dbl> & <dbl> & <int>\\\\\n",
       "\\hline\n",
       "\ts1 & 98.20894 & 33.10321 & Sichuan & DataV.GeoAtlas & microgeo & 102.6935 & 30.67454 & 706.518 & 5.973561 & 197.9724 & 0.3659978 & 11.8736 & 0.02195109 & 278\\\\\n",
       "\ts2 & 98.20894 & 33.10321 & Sichuan & DataV.GeoAtlas & microgeo & 102.6935 & 30.67454 & 706.518 & 5.973561 & 197.9724 & 0.3659978 & 11.8736 & 0.02195109 & 278\\\\\n",
       "\ts3 & 98.20894 & 33.10321 & Sichuan & DataV.GeoAtlas & microgeo & 102.6935 & 30.67454 & 706.518 & 5.973561 & 197.9724 & 0.3659978 & 11.8736 & 0.02195109 & 278\\\\\n",
       "\ts4 & 98.20894 & 33.10321 & Sichuan & DataV.GeoAtlas & microgeo & 102.6935 & 30.67454 & 706.518 & 5.973561 & 197.9724 & 0.3659978 & 11.8736 & 0.02195109 & 278\\\\\n",
       "\ts5 & 98.20894 & 33.10321 & Sichuan & DataV.GeoAtlas & microgeo & 102.6935 & 30.67454 & 706.518 & 5.973561 & 197.9724 & 0.3659978 & 11.8736 & 0.02195109 & 278\\\\\n",
       "\ts6 & 98.20639 & 33.10280 & Sichuan & DataV.GeoAtlas & microgeo & 102.6935 & 30.67454 & 706.518 & 5.973561 & 197.9724 & 0.3659978 & 11.8736 & 0.02195109 & 278\\\\\n",
       "\\end{tabular}\n"
      ],
      "text/markdown": [
       "\n",
       "A data.frame: 6 × 14\n",
       "\n",
       "| <!--/--> | longitude &lt;dbl&gt; | latitude &lt;dbl&gt; | NAME &lt;chr&gt; | TYPE &lt;chr&gt; | FMTS &lt;chr&gt; | X.CENTER &lt;dbl&gt; | Y.CENTER &lt;dbl&gt; | observed_mean &lt;dbl&gt; | shannon_mean &lt;dbl&gt; | observed_sd &lt;dbl&gt; | shannon_sd &lt;dbl&gt; | observed_se &lt;dbl&gt; | shannon_se &lt;dbl&gt; | sample.num &lt;int&gt; |\n",
       "|---|---|---|---|---|---|---|---|---|---|---|---|---|---|---|\n",
       "| s1 | 98.20894 | 33.10321 | Sichuan | DataV.GeoAtlas | microgeo | 102.6935 | 30.67454 | 706.518 | 5.973561 | 197.9724 | 0.3659978 | 11.8736 | 0.02195109 | 278 |\n",
       "| s2 | 98.20894 | 33.10321 | Sichuan | DataV.GeoAtlas | microgeo | 102.6935 | 30.67454 | 706.518 | 5.973561 | 197.9724 | 0.3659978 | 11.8736 | 0.02195109 | 278 |\n",
       "| s3 | 98.20894 | 33.10321 | Sichuan | DataV.GeoAtlas | microgeo | 102.6935 | 30.67454 | 706.518 | 5.973561 | 197.9724 | 0.3659978 | 11.8736 | 0.02195109 | 278 |\n",
       "| s4 | 98.20894 | 33.10321 | Sichuan | DataV.GeoAtlas | microgeo | 102.6935 | 30.67454 | 706.518 | 5.973561 | 197.9724 | 0.3659978 | 11.8736 | 0.02195109 | 278 |\n",
       "| s5 | 98.20894 | 33.10321 | Sichuan | DataV.GeoAtlas | microgeo | 102.6935 | 30.67454 | 706.518 | 5.973561 | 197.9724 | 0.3659978 | 11.8736 | 0.02195109 | 278 |\n",
       "| s6 | 98.20639 | 33.10280 | Sichuan | DataV.GeoAtlas | microgeo | 102.6935 | 30.67454 | 706.518 | 5.973561 | 197.9724 | 0.3659978 | 11.8736 | 0.02195109 | 278 |\n",
       "\n"
      ],
      "text/plain": [
       "   longitude latitude NAME    TYPE           FMTS     X.CENTER Y.CENTER\n",
       "s1 98.20894  33.10321 Sichuan DataV.GeoAtlas microgeo 102.6935 30.67454\n",
       "s2 98.20894  33.10321 Sichuan DataV.GeoAtlas microgeo 102.6935 30.67454\n",
       "s3 98.20894  33.10321 Sichuan DataV.GeoAtlas microgeo 102.6935 30.67454\n",
       "s4 98.20894  33.10321 Sichuan DataV.GeoAtlas microgeo 102.6935 30.67454\n",
       "s5 98.20894  33.10321 Sichuan DataV.GeoAtlas microgeo 102.6935 30.67454\n",
       "s6 98.20639  33.10280 Sichuan DataV.GeoAtlas microgeo 102.6935 30.67454\n",
       "   observed_mean shannon_mean observed_sd shannon_sd observed_se shannon_se\n",
       "s1 706.518       5.973561     197.9724    0.3659978  11.8736     0.02195109\n",
       "s2 706.518       5.973561     197.9724    0.3659978  11.8736     0.02195109\n",
       "s3 706.518       5.973561     197.9724    0.3659978  11.8736     0.02195109\n",
       "s4 706.518       5.973561     197.9724    0.3659978  11.8736     0.02195109\n",
       "s5 706.518       5.973561     197.9724    0.3659978  11.8736     0.02195109\n",
       "s6 706.518       5.973561     197.9724    0.3659978  11.8736     0.02195109\n",
       "   sample.num\n",
       "s1 278       \n",
       "s2 278       \n",
       "s3 278       \n",
       "s4 278       \n",
       "s5 278       \n",
       "s6 278       "
      ]
     },
     "metadata": {},
     "output_type": "display_data"
    }
   ],
   "source": [
    "# Extract metadata from a common map with additional data\n",
    "# Rownames are sample IDs\n",
    "# This new matadata table can be used for subsequent statistical analysis \n",
    "metadata.from.c.df <- common.map.mean4df %>% extract_metadata_from_map(met = dataset.dts.aliyun$met)\n",
    "head(metadata.from.c.df)"
   ]
  },
  {
   "cell_type": "code",
   "execution_count": 17,
   "id": "da701407-5a2d-490e-ac7e-381e22833df0",
   "metadata": {
    "execution": {
     "iopub.execute_input": "2024-06-09T11:24:57.608312Z",
     "iopub.status.busy": "2024-06-09T11:24:57.607630Z",
     "iopub.status.idle": "2024-06-09T11:25:48.703838Z",
     "shell.execute_reply": "2024-06-09T11:25:48.702845Z"
    }
   },
   "outputs": [
    {
     "data": {
      "text/html": [
       "<table class=\"dataframe\">\n",
       "<caption>A data.frame: 6 × 11</caption>\n",
       "<thead>\n",
       "\t<tr><th></th><th scope=col>longitude</th><th scope=col>latitude</th><th scope=col>NAME</th><th scope=col>TYPE</th><th scope=col>FMTS</th><th scope=col>X.CENTER</th><th scope=col>Y.CENTER</th><th scope=col>bray_mean</th><th scope=col>bray_sd</th><th scope=col>bray_se</th><th scope=col>sample.num</th></tr>\n",
       "\t<tr><th></th><th scope=col>&lt;dbl&gt;</th><th scope=col>&lt;dbl&gt;</th><th scope=col>&lt;chr&gt;</th><th scope=col>&lt;chr&gt;</th><th scope=col>&lt;chr&gt;</th><th scope=col>&lt;dbl&gt;</th><th scope=col>&lt;dbl&gt;</th><th scope=col>&lt;dbl&gt;</th><th scope=col>&lt;dbl&gt;</th><th scope=col>&lt;dbl&gt;</th><th scope=col>&lt;int&gt;</th></tr>\n",
       "</thead>\n",
       "<tbody>\n",
       "\t<tr><th scope=row>s1</th><td>98.20894</td><td>33.10321</td><td>138</td><td>Gridded.Map</td><td>microgeo</td><td>98.70691</td><td>32.50087</td><td>0.6562307</td><td>0.1576439</td><td>0.005010251</td><td>45</td></tr>\n",
       "\t<tr><th scope=row>s2</th><td>98.20894</td><td>33.10321</td><td>138</td><td>Gridded.Map</td><td>microgeo</td><td>98.70691</td><td>32.50087</td><td>0.6562307</td><td>0.1576439</td><td>0.005010251</td><td>45</td></tr>\n",
       "\t<tr><th scope=row>s3</th><td>98.20894</td><td>33.10321</td><td>138</td><td>Gridded.Map</td><td>microgeo</td><td>98.70691</td><td>32.50087</td><td>0.6562307</td><td>0.1576439</td><td>0.005010251</td><td>45</td></tr>\n",
       "\t<tr><th scope=row>s4</th><td>98.20894</td><td>33.10321</td><td>138</td><td>Gridded.Map</td><td>microgeo</td><td>98.70691</td><td>32.50087</td><td>0.6562307</td><td>0.1576439</td><td>0.005010251</td><td>45</td></tr>\n",
       "\t<tr><th scope=row>s5</th><td>98.20894</td><td>33.10321</td><td>138</td><td>Gridded.Map</td><td>microgeo</td><td>98.70691</td><td>32.50087</td><td>0.6562307</td><td>0.1576439</td><td>0.005010251</td><td>45</td></tr>\n",
       "\t<tr><th scope=row>s6</th><td>98.20639</td><td>33.10280</td><td>138</td><td>Gridded.Map</td><td>microgeo</td><td>98.70691</td><td>32.50087</td><td>0.6562307</td><td>0.1576439</td><td>0.005010251</td><td>45</td></tr>\n",
       "</tbody>\n",
       "</table>\n"
      ],
      "text/latex": [
       "A data.frame: 6 × 11\n",
       "\\begin{tabular}{r|lllllllllll}\n",
       "  & longitude & latitude & NAME & TYPE & FMTS & X.CENTER & Y.CENTER & bray\\_mean & bray\\_sd & bray\\_se & sample.num\\\\\n",
       "  & <dbl> & <dbl> & <chr> & <chr> & <chr> & <dbl> & <dbl> & <dbl> & <dbl> & <dbl> & <int>\\\\\n",
       "\\hline\n",
       "\ts1 & 98.20894 & 33.10321 & 138 & Gridded.Map & microgeo & 98.70691 & 32.50087 & 0.6562307 & 0.1576439 & 0.005010251 & 45\\\\\n",
       "\ts2 & 98.20894 & 33.10321 & 138 & Gridded.Map & microgeo & 98.70691 & 32.50087 & 0.6562307 & 0.1576439 & 0.005010251 & 45\\\\\n",
       "\ts3 & 98.20894 & 33.10321 & 138 & Gridded.Map & microgeo & 98.70691 & 32.50087 & 0.6562307 & 0.1576439 & 0.005010251 & 45\\\\\n",
       "\ts4 & 98.20894 & 33.10321 & 138 & Gridded.Map & microgeo & 98.70691 & 32.50087 & 0.6562307 & 0.1576439 & 0.005010251 & 45\\\\\n",
       "\ts5 & 98.20894 & 33.10321 & 138 & Gridded.Map & microgeo & 98.70691 & 32.50087 & 0.6562307 & 0.1576439 & 0.005010251 & 45\\\\\n",
       "\ts6 & 98.20639 & 33.10280 & 138 & Gridded.Map & microgeo & 98.70691 & 32.50087 & 0.6562307 & 0.1576439 & 0.005010251 & 45\\\\\n",
       "\\end{tabular}\n"
      ],
      "text/markdown": [
       "\n",
       "A data.frame: 6 × 11\n",
       "\n",
       "| <!--/--> | longitude &lt;dbl&gt; | latitude &lt;dbl&gt; | NAME &lt;chr&gt; | TYPE &lt;chr&gt; | FMTS &lt;chr&gt; | X.CENTER &lt;dbl&gt; | Y.CENTER &lt;dbl&gt; | bray_mean &lt;dbl&gt; | bray_sd &lt;dbl&gt; | bray_se &lt;dbl&gt; | sample.num &lt;int&gt; |\n",
       "|---|---|---|---|---|---|---|---|---|---|---|---|\n",
       "| s1 | 98.20894 | 33.10321 | 138 | Gridded.Map | microgeo | 98.70691 | 32.50087 | 0.6562307 | 0.1576439 | 0.005010251 | 45 |\n",
       "| s2 | 98.20894 | 33.10321 | 138 | Gridded.Map | microgeo | 98.70691 | 32.50087 | 0.6562307 | 0.1576439 | 0.005010251 | 45 |\n",
       "| s3 | 98.20894 | 33.10321 | 138 | Gridded.Map | microgeo | 98.70691 | 32.50087 | 0.6562307 | 0.1576439 | 0.005010251 | 45 |\n",
       "| s4 | 98.20894 | 33.10321 | 138 | Gridded.Map | microgeo | 98.70691 | 32.50087 | 0.6562307 | 0.1576439 | 0.005010251 | 45 |\n",
       "| s5 | 98.20894 | 33.10321 | 138 | Gridded.Map | microgeo | 98.70691 | 32.50087 | 0.6562307 | 0.1576439 | 0.005010251 | 45 |\n",
       "| s6 | 98.20639 | 33.10280 | 138 | Gridded.Map | microgeo | 98.70691 | 32.50087 | 0.6562307 | 0.1576439 | 0.005010251 | 45 |\n",
       "\n"
      ],
      "text/plain": [
       "   longitude latitude NAME TYPE        FMTS     X.CENTER Y.CENTER bray_mean\n",
       "s1 98.20894  33.10321 138  Gridded.Map microgeo 98.70691 32.50087 0.6562307\n",
       "s2 98.20894  33.10321 138  Gridded.Map microgeo 98.70691 32.50087 0.6562307\n",
       "s3 98.20894  33.10321 138  Gridded.Map microgeo 98.70691 32.50087 0.6562307\n",
       "s4 98.20894  33.10321 138  Gridded.Map microgeo 98.70691 32.50087 0.6562307\n",
       "s5 98.20894  33.10321 138  Gridded.Map microgeo 98.70691 32.50087 0.6562307\n",
       "s6 98.20639  33.10280 138  Gridded.Map microgeo 98.70691 32.50087 0.6562307\n",
       "   bray_sd   bray_se     sample.num\n",
       "s1 0.1576439 0.005010251 45        \n",
       "s2 0.1576439 0.005010251 45        \n",
       "s3 0.1576439 0.005010251 45        \n",
       "s4 0.1576439 0.005010251 45        \n",
       "s5 0.1576439 0.005010251 45        \n",
       "s6 0.1576439 0.005010251 45        "
      ]
     },
     "metadata": {},
     "output_type": "display_data"
    }
   ],
   "source": [
    "# Extract metadata from a gridded map\n",
    "# Rownames are sample IDs\n",
    "# This new matadata table can be used for subsequent statistical analysis\n",
    "metadata.from.g.mx <- gridded.map.mean4mx %>% extract_metadata_from_map(met = dataset.dts.aliyun$met)\n",
    "head(metadata.from.g.mx)"
   ]
  }
 ],
 "metadata": {
  "kernelspec": {
   "display_name": "R",
   "language": "R",
   "name": "ir"
  },
  "language_info": {
   "codemirror_mode": "r",
   "file_extension": ".r",
   "mimetype": "text/x-r-source",
   "name": "R",
   "pygments_lexer": "r",
   "version": "4.1.2"
  }
 },
 "nbformat": 4,
 "nbformat_minor": 5
}
