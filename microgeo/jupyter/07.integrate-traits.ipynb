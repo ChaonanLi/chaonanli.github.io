{
 "cells": [
  {
   "cell_type": "markdown",
   "id": "52f940d4-231d-46e5-96f3-9a4c42602e39",
   "metadata": {},
   "source": [
    "# Integrate biogeographic traits with a geographic map"
   ]
  },
  {
   "cell_type": "markdown",
   "id": "a22ae2de-4c7d-4777-8a69-ca36d69d8859",
   "metadata": {},
   "source": [
    " "
   ]
  },
  {
   "cell_type": "markdown",
   "id": "8da12352-5fab-440f-8358-d13f173995c9",
   "metadata": {},
   "source": [
    "To enable microbiome data analysis in conjunction with the metadata extracted from a geographic map, we also implemented several functions to merge microbial traits with a `SpatialPolygonsDataFrame` or extract a new metadata from a `SpatialPolygonsDataFrame`. By using these functions, we can perform the statistical comparing based on administrative areas or grids. "
   ]
  },
  {
   "cell_type": "markdown",
   "id": "eece6052-bc88-4bed-b303-dd25e52bd853",
   "metadata": {},
   "source": [
    "Here we need three R packages for this section of [microgeo](https://github.com/ChaonanLi/microgeo) R package tutorial. Just run the following codes to import them into R environment."
   ]
  },
  {
   "cell_type": "code",
   "execution_count": 1,
   "id": "572be6ca-205f-4ebe-b8c4-c1b49d20e43f",
   "metadata": {
    "execution": {
     "iopub.execute_input": "2024-06-08T14:17:45.965980Z",
     "iopub.status.busy": "2024-06-08T14:17:45.964205Z",
     "iopub.status.idle": "2024-06-08T14:17:46.148523Z",
     "shell.execute_reply": "2024-06-08T14:17:46.147431Z"
    }
   },
   "outputs": [],
   "source": [
    "suppressMessages(require(\"magrittr\")) \n",
    "require(\"ggplot2\")  %>% suppressMessages()\n",
    "require(\"microgeo\") %>% suppressMessages()"
   ]
  },
  {
   "cell_type": "markdown",
   "id": "a8fc53d2-d04c-4dc4-81ba-ed0b2fab83f6",
   "metadata": {},
   "source": [
    "If the Chinese characters cannot be displayed correctly, please run the following codes to set locale to `UTF-8`:"
   ]
  },
  {
   "cell_type": "code",
   "execution_count": 2,
   "id": "daa6fbf9-28c8-4255-a391-1fe6404e7d2a",
   "metadata": {
    "execution": {
     "iopub.execute_input": "2024-06-08T14:17:46.165602Z",
     "iopub.status.busy": "2024-06-08T14:17:46.149918Z",
     "iopub.status.idle": "2024-06-08T14:17:46.172169Z",
     "shell.execute_reply": "2024-06-08T14:17:46.171272Z"
    }
   },
   "outputs": [],
   "source": [
    "prev_locale <- Sys.setlocale(\"LC_CTYPE\", \"C.UTF-8\") "
   ]
  },
  {
   "cell_type": "markdown",
   "id": "0aca7e4b-c612-45ac-8a48-2b56b9074519",
   "metadata": {},
   "source": [
    "We need a standard microgeo dataset for the presentations in the section of tutorial."
   ]
  },
  {
   "cell_type": "code",
   "execution_count": 3,
   "id": "b5683f96-8ddf-4484-bb79-89bbd690111d",
   "metadata": {
    "execution": {
     "iopub.execute_input": "2024-06-08T14:17:46.177116Z",
     "iopub.status.busy": "2024-06-08T14:17:46.173619Z",
     "iopub.status.idle": "2024-06-08T14:18:42.029504Z",
     "shell.execute_reply": "2024-06-08T14:18:42.028594Z"
    }
   },
   "outputs": [
    {
     "name": "stderr",
     "output_type": "stream",
     "text": [
      "\u001b[36mℹ\u001b[39m [2024-06-08 22:17:52] \u001b[34m\u001b[3m\u001b[34mINFO\u001b[34m\u001b[23m\u001b[39m ==> all samples fall within the map area!\n",
      "\n",
      "\u001b[36mℹ\u001b[39m [2024-06-08 22:17:52] \u001b[34m\u001b[3m\u001b[34mINFO\u001b[34m\u001b[23m\u001b[39m ==> dataset has been created successfully!\n",
      "\n",
      "\u001b[36mℹ\u001b[39m [2024-06-08 22:17:52] \u001b[34m\u001b[3m\u001b[34mINFO\u001b[34m\u001b[23m\u001b[39m ==> use `object %>% show_dataset()` to check the summary of dataset.\n",
      "\n",
      "\u001b[36mℹ\u001b[39m [2024-06-08 22:17:56] \u001b[34m\u001b[3m\u001b[34mINFO\u001b[34m\u001b[23m\u001b[39m ==> the ASV/gene abundance table has been rarefied with a sub-sample depth of 5310\n",
      "\n",
      "\u001b[32m✔\u001b[39m [2024-06-08 22:18:00] \u001b[32m\u001b[3m\u001b[32mSAVE\u001b[32m\u001b[23m\u001b[39m ==> results have been saved to: object$div$alpha\n",
      "\n",
      "\u001b[32m✔\u001b[39m [2024-06-08 22:18:41] \u001b[32m\u001b[3m\u001b[32mSAVE\u001b[32m\u001b[23m\u001b[39m ==> results have been saved to: object$div$beta\n",
      "\n"
     ]
    },
    {
     "name": "stdout",
     "output_type": "stream",
     "text": [
      "\u001b[34m──\u001b[39m \u001b[34mThe Summary of Microgeo Dataset\u001b[39m \u001b[34m─────────────────────────────────────────────\u001b[39m\n"
     ]
    },
    {
     "name": "stderr",
     "output_type": "stream",
     "text": [
      "\u001b[36mℹ\u001b[39m object$mat: 6808 ASVs/genes and 1244 samples \u001b[32m\u001b[3m\u001b[32m[subsample depth: 5310]\u001b[32m\u001b[23m\u001b[39m\n",
      "\n",
      "\u001b[36mℹ\u001b[39m object$ant: 6808 ASVs/genes and 7 annotation levels (Kingdom, Phylum, Class, Order, Family, Genus, Species)\n",
      "\n",
      "\u001b[36mℹ\u001b[39m object$met: 1244 samples and 2 variables (longitude, latitude)\n",
      "\n",
      "\u001b[36mℹ\u001b[39m object$map: a SpatialPolygonsDataFrame with the CRS of '+proj=longlat +datum=WGS84 +no_defs'\n",
      "\n",
      "\u001b[36mℹ\u001b[39m object$phy: a phylogenetic tree with 6808 tip labels\n",
      "\n",
      "\u001b[36mℹ\u001b[39m object$env: 1244 samples and 10 variables\n",
      "\n"
     ]
    },
    {
     "name": "stdout",
     "output_type": "stream",
     "text": [
      "\n",
      "\u001b[30m──\u001b[39m \u001b[30mThe Summary of Biogeographic Traits\u001b[39m \u001b[30m─────────────────────────────────────────\u001b[39m\n"
     ]
    },
    {
     "name": "stderr",
     "output_type": "stream",
     "text": [
      "\u001b[32m✔\u001b[39m object$div$alpha: 2 alpha diversity index/indices (observed, shannon)\n",
      "\n",
      "\u001b[32m✔\u001b[39m object$div$beta: 2 beta diversity distance matrix/matrices (bray, jaccard)\n",
      "\n"
     ]
    },
    {
     "name": "stdout",
     "output_type": "stream",
     "text": [
      "\n",
      "\u001b[44m• To check the summary of dataset, Replace `object` with the variable name of your dataset\u001b[49m\n",
      "\u001b[44m• For example, if the variable name is `dataset.dts`you can run `head(dataset.dts$met)` to check the content of `met`\u001b[49m\n"
     ]
    }
   ],
   "source": [
    "# Use the map downloaded from DataV.GeoAtlas\n",
    "data(qtp)\n",
    "map <- read_aliyun_map(adcode = c(540000, 630000, 510000)) %>% suppressMessages() \n",
    "dataset.dts.aliyun <- create_dataset(mat = qtp$asv, ant = qtp$tax, met = qtp$met, map = map,\n",
    "                                     phy = qtp$tre, env = qtp$env, lon = \"longitude\", lat = \"latitude\")\n",
    "dataset.dts.aliyun %<>% rarefy_count_table()\n",
    "dataset.dts.aliyun %<>% tidy_dataset()\n",
    "dataset.dts.aliyun %<>% calc_alpha_div(measures = c(\"observed\", \"shannon\")) \n",
    "dataset.dts.aliyun %<>% calc_beta_div(measures = c(\"bray\", \"jaccard\")) \n",
    "dataset.dts.aliyun %>% show_dataset()"
   ]
  },
  {
   "cell_type": "markdown",
   "id": "164cfc68-dd70-43c8-b79f-2e0d406e6249",
   "metadata": {},
   "source": [
    "Now, let's go through each of these functions and see how they are used."
   ]
  },
  {
   "cell_type": "markdown",
   "id": "dc9c64e3-ed14-4aed-8818-e13a2f97fb3b",
   "metadata": {},
   "source": [
    "## 1. Merge a `data.frame` with a map"
   ]
  },
  {
   "cell_type": "markdown",
   "id": "962f1ce8-c386-4ce4-8075-488f46d44887",
   "metadata": {},
   "source": [
    "Firstly, we check the `data.frame` of alpha diversity indices, and the `SpatialPolygonsDataFrame`."
   ]
  },
  {
   "cell_type": "code",
   "execution_count": 4,
   "id": "e2a083e0-acd0-4e4e-b211-7b31a24482ed",
   "metadata": {
    "execution": {
     "iopub.execute_input": "2024-06-08T14:18:42.031903Z",
     "iopub.status.busy": "2024-06-08T14:18:42.031000Z",
     "iopub.status.idle": "2024-06-08T14:18:42.045865Z",
     "shell.execute_reply": "2024-06-08T14:18:42.045042Z"
    }
   },
   "outputs": [
    {
     "data": {
      "text/html": [
       "<table class=\"dataframe\">\n",
       "<caption>A data.frame: 6 × 2</caption>\n",
       "<thead>\n",
       "\t<tr><th></th><th scope=col>observed</th><th scope=col>shannon</th></tr>\n",
       "\t<tr><th></th><th scope=col>&lt;dbl&gt;</th><th scope=col>&lt;dbl&gt;</th></tr>\n",
       "</thead>\n",
       "<tbody>\n",
       "\t<tr><th scope=row>s1</th><td>1019</td><td>6.360763</td></tr>\n",
       "\t<tr><th scope=row>s2</th><td> 912</td><td>6.249492</td></tr>\n",
       "\t<tr><th scope=row>s3</th><td> 857</td><td>6.133158</td></tr>\n",
       "\t<tr><th scope=row>s4</th><td>1045</td><td>6.281507</td></tr>\n",
       "\t<tr><th scope=row>s5</th><td> 895</td><td>6.210187</td></tr>\n",
       "\t<tr><th scope=row>s6</th><td> 980</td><td>6.216210</td></tr>\n",
       "</tbody>\n",
       "</table>\n"
      ],
      "text/latex": [
       "A data.frame: 6 × 2\n",
       "\\begin{tabular}{r|ll}\n",
       "  & observed & shannon\\\\\n",
       "  & <dbl> & <dbl>\\\\\n",
       "\\hline\n",
       "\ts1 & 1019 & 6.360763\\\\\n",
       "\ts2 &  912 & 6.249492\\\\\n",
       "\ts3 &  857 & 6.133158\\\\\n",
       "\ts4 & 1045 & 6.281507\\\\\n",
       "\ts5 &  895 & 6.210187\\\\\n",
       "\ts6 &  980 & 6.216210\\\\\n",
       "\\end{tabular}\n"
      ],
      "text/markdown": [
       "\n",
       "A data.frame: 6 × 2\n",
       "\n",
       "| <!--/--> | observed &lt;dbl&gt; | shannon &lt;dbl&gt; |\n",
       "|---|---|---|\n",
       "| s1 | 1019 | 6.360763 |\n",
       "| s2 |  912 | 6.249492 |\n",
       "| s3 |  857 | 6.133158 |\n",
       "| s4 | 1045 | 6.281507 |\n",
       "| s5 |  895 | 6.210187 |\n",
       "| s6 |  980 | 6.216210 |\n",
       "\n"
      ],
      "text/plain": [
       "   observed shannon \n",
       "s1 1019     6.360763\n",
       "s2  912     6.249492\n",
       "s3  857     6.133158\n",
       "s4 1045     6.281507\n",
       "s5  895     6.210187\n",
       "s6  980     6.216210"
      ]
     },
     "metadata": {},
     "output_type": "display_data"
    }
   ],
   "source": [
    "# Check the data.frame of alpha diversity indices \n",
    "head(dataset.dts.aliyun$div$alpha)"
   ]
  },
  {
   "cell_type": "code",
   "execution_count": 5,
   "id": "954da448-3825-4fb3-acd5-cdbb8fbf3102",
   "metadata": {
    "execution": {
     "iopub.execute_input": "2024-06-08T14:18:42.047910Z",
     "iopub.status.busy": "2024-06-08T14:18:42.047214Z",
     "iopub.status.idle": "2024-06-08T14:18:42.058739Z",
     "shell.execute_reply": "2024-06-08T14:18:42.057912Z"
    }
   },
   "outputs": [
    {
     "data": {
      "text/html": [
       "<table class=\"dataframe\">\n",
       "<caption>A data.frame: 3 × 5</caption>\n",
       "<thead>\n",
       "\t<tr><th></th><th scope=col>TYPE</th><th scope=col>FMTS</th><th scope=col>NAME</th><th scope=col>X.CENTER</th><th scope=col>Y.CENTER</th></tr>\n",
       "\t<tr><th></th><th scope=col>&lt;chr&gt;</th><th scope=col>&lt;chr&gt;</th><th scope=col>&lt;chr&gt;</th><th scope=col>&lt;dbl&gt;</th><th scope=col>&lt;dbl&gt;</th></tr>\n",
       "</thead>\n",
       "<tbody>\n",
       "\t<tr><th scope=row>1</th><td>DataV.GeoAtlas</td><td>microgeo</td><td>西藏自治区</td><td> 88.38828</td><td>31.56375</td></tr>\n",
       "\t<tr><th scope=row>2</th><td>DataV.GeoAtlas</td><td>microgeo</td><td>青海省    </td><td> 96.04353</td><td>35.72640</td></tr>\n",
       "\t<tr><th scope=row>3</th><td>DataV.GeoAtlas</td><td>microgeo</td><td>四川省    </td><td>102.69345</td><td>30.67454</td></tr>\n",
       "</tbody>\n",
       "</table>\n"
      ],
      "text/latex": [
       "A data.frame: 3 × 5\n",
       "\\begin{tabular}{r|lllll}\n",
       "  & TYPE & FMTS & NAME & X.CENTER & Y.CENTER\\\\\n",
       "  & <chr> & <chr> & <chr> & <dbl> & <dbl>\\\\\n",
       "\\hline\n",
       "\t1 & DataV.GeoAtlas & microgeo & 西藏自治区 &  88.38828 & 31.56375\\\\\n",
       "\t2 & DataV.GeoAtlas & microgeo & 青海省     &  96.04353 & 35.72640\\\\\n",
       "\t3 & DataV.GeoAtlas & microgeo & 四川省     & 102.69345 & 30.67454\\\\\n",
       "\\end{tabular}\n"
      ],
      "text/markdown": [
       "\n",
       "A data.frame: 3 × 5\n",
       "\n",
       "| <!--/--> | TYPE &lt;chr&gt; | FMTS &lt;chr&gt; | NAME &lt;chr&gt; | X.CENTER &lt;dbl&gt; | Y.CENTER &lt;dbl&gt; |\n",
       "|---|---|---|---|---|---|\n",
       "| 1 | DataV.GeoAtlas | microgeo | 西藏自治区 |  88.38828 | 31.56375 |\n",
       "| 2 | DataV.GeoAtlas | microgeo | 青海省     |  96.04353 | 35.72640 |\n",
       "| 3 | DataV.GeoAtlas | microgeo | 四川省     | 102.69345 | 30.67454 |\n",
       "\n"
      ],
      "text/plain": [
       "  TYPE           FMTS     NAME       X.CENTER  Y.CENTER\n",
       "1 DataV.GeoAtlas microgeo 西藏自治区  88.38828 31.56375\n",
       "2 DataV.GeoAtlas microgeo 青海省      96.04353 35.72640\n",
       "3 DataV.GeoAtlas microgeo 四川省     102.69345 30.67454"
      ]
     },
     "metadata": {},
     "output_type": "display_data"
    }
   ],
   "source": [
    "# Check the `SpatialPolygonsDataFrame`\n",
    "head(dataset.dts.aliyun$map@data)"
   ]
  },
  {
   "cell_type": "code",
   "execution_count": 6,
   "id": "4df65217-5a83-4768-97d3-8ccd36e4c3d9",
   "metadata": {
    "execution": {
     "iopub.execute_input": "2024-06-08T14:18:42.060799Z",
     "iopub.status.busy": "2024-06-08T14:18:42.060102Z",
     "iopub.status.idle": "2024-06-08T14:18:42.072361Z",
     "shell.execute_reply": "2024-06-08T14:18:42.071516Z"
    }
   },
   "outputs": [
    {
     "data": {
      "text/html": [
       "<table class=\"dataframe\">\n",
       "<caption>A data.frame: 3 × 5</caption>\n",
       "<thead>\n",
       "\t<tr><th></th><th scope=col>TYPE</th><th scope=col>FMTS</th><th scope=col>NAME</th><th scope=col>X.CENTER</th><th scope=col>Y.CENTER</th></tr>\n",
       "\t<tr><th></th><th scope=col>&lt;chr&gt;</th><th scope=col>&lt;chr&gt;</th><th scope=col>&lt;chr&gt;</th><th scope=col>&lt;dbl&gt;</th><th scope=col>&lt;dbl&gt;</th></tr>\n",
       "</thead>\n",
       "<tbody>\n",
       "\t<tr><th scope=row>1</th><td>DataV.GeoAtlas</td><td>microgeo</td><td>Tibet  </td><td> 88.38828</td><td>31.56375</td></tr>\n",
       "\t<tr><th scope=row>2</th><td>DataV.GeoAtlas</td><td>microgeo</td><td>Qinghai</td><td> 96.04353</td><td>35.72640</td></tr>\n",
       "\t<tr><th scope=row>3</th><td>DataV.GeoAtlas</td><td>microgeo</td><td>Sichuan</td><td>102.69345</td><td>30.67454</td></tr>\n",
       "</tbody>\n",
       "</table>\n"
      ],
      "text/latex": [
       "A data.frame: 3 × 5\n",
       "\\begin{tabular}{r|lllll}\n",
       "  & TYPE & FMTS & NAME & X.CENTER & Y.CENTER\\\\\n",
       "  & <chr> & <chr> & <chr> & <dbl> & <dbl>\\\\\n",
       "\\hline\n",
       "\t1 & DataV.GeoAtlas & microgeo & Tibet   &  88.38828 & 31.56375\\\\\n",
       "\t2 & DataV.GeoAtlas & microgeo & Qinghai &  96.04353 & 35.72640\\\\\n",
       "\t3 & DataV.GeoAtlas & microgeo & Sichuan & 102.69345 & 30.67454\\\\\n",
       "\\end{tabular}\n"
      ],
      "text/markdown": [
       "\n",
       "A data.frame: 3 × 5\n",
       "\n",
       "| <!--/--> | TYPE &lt;chr&gt; | FMTS &lt;chr&gt; | NAME &lt;chr&gt; | X.CENTER &lt;dbl&gt; | Y.CENTER &lt;dbl&gt; |\n",
       "|---|---|---|---|---|---|\n",
       "| 1 | DataV.GeoAtlas | microgeo | Tibet   |  88.38828 | 31.56375 |\n",
       "| 2 | DataV.GeoAtlas | microgeo | Qinghai |  96.04353 | 35.72640 |\n",
       "| 3 | DataV.GeoAtlas | microgeo | Sichuan | 102.69345 | 30.67454 |\n",
       "\n"
      ],
      "text/plain": [
       "  TYPE           FMTS     NAME    X.CENTER  Y.CENTER\n",
       "1 DataV.GeoAtlas microgeo Tibet    88.38828 31.56375\n",
       "2 DataV.GeoAtlas microgeo Qinghai  96.04353 35.72640\n",
       "3 DataV.GeoAtlas microgeo Sichuan 102.69345 30.67454"
      ]
     },
     "metadata": {},
     "output_type": "display_data"
    }
   ],
   "source": [
    "# Change the names of Polygons\n",
    "dataset.dts.aliyun$map@data$NAME <- c(\"Tibet\", \"Qinghai\", \"Sichuan\") \n",
    "head(dataset.dts.aliyun$map@data)"
   ]
  },
  {
   "cell_type": "markdown",
   "id": "76609ad8-7336-46e6-8866-ca93876caeb4",
   "metadata": {},
   "source": [
    "Then, we merge the `data.frame` of alpha diversity indices with a `SpatialPolygonsDataFrame`."
   ]
  },
  {
   "cell_type": "code",
   "execution_count": 7,
   "id": "2cde46e7-531f-47ad-b08e-1eb596aee962",
   "metadata": {
    "execution": {
     "iopub.execute_input": "2024-06-08T14:18:42.074368Z",
     "iopub.status.busy": "2024-06-08T14:18:42.073682Z",
     "iopub.status.idle": "2024-06-08T14:18:44.973883Z",
     "shell.execute_reply": "2024-06-08T14:18:44.972884Z"
    }
   },
   "outputs": [
    {
     "data": {
      "text/html": [
       "<table class=\"dataframe\">\n",
       "<caption>A data.frame: 3 × 12</caption>\n",
       "<thead>\n",
       "\t<tr><th></th><th scope=col>TYPE</th><th scope=col>FMTS</th><th scope=col>NAME</th><th scope=col>X.CENTER</th><th scope=col>Y.CENTER</th><th scope=col>observed_mean</th><th scope=col>shannon_mean</th><th scope=col>observed_sd</th><th scope=col>shannon_sd</th><th scope=col>observed_se</th><th scope=col>shannon_se</th><th scope=col>sample.num</th></tr>\n",
       "\t<tr><th></th><th scope=col>&lt;chr&gt;</th><th scope=col>&lt;chr&gt;</th><th scope=col>&lt;chr&gt;</th><th scope=col>&lt;dbl&gt;</th><th scope=col>&lt;dbl&gt;</th><th scope=col>&lt;dbl&gt;</th><th scope=col>&lt;dbl&gt;</th><th scope=col>&lt;dbl&gt;</th><th scope=col>&lt;dbl&gt;</th><th scope=col>&lt;dbl&gt;</th><th scope=col>&lt;dbl&gt;</th><th scope=col>&lt;int&gt;</th></tr>\n",
       "</thead>\n",
       "<tbody>\n",
       "\t<tr><th scope=row>1</th><td>DataV.GeoAtlas</td><td>microgeo</td><td>Tibet  </td><td> 88.38828</td><td>31.56375</td><td>663.9256</td><td>5.847352</td><td>238.8247</td><td>0.4771589</td><td>10.43311</td><td>0.02084478</td><td>524</td></tr>\n",
       "\t<tr><th scope=row>2</th><td>DataV.GeoAtlas</td><td>microgeo</td><td>Qinghai</td><td> 96.04353</td><td>35.72640</td><td>648.3009</td><td>5.838355</td><td>247.0447</td><td>0.5392920</td><td>11.75072</td><td>0.02565151</td><td>442</td></tr>\n",
       "\t<tr><th scope=row>3</th><td>DataV.GeoAtlas</td><td>microgeo</td><td>Sichuan</td><td>102.69345</td><td>30.67454</td><td>706.5791</td><td>5.976061</td><td>198.0105</td><td>0.3673219</td><td>11.87588</td><td>0.02203051</td><td>278</td></tr>\n",
       "</tbody>\n",
       "</table>\n"
      ],
      "text/latex": [
       "A data.frame: 3 × 12\n",
       "\\begin{tabular}{r|llllllllllll}\n",
       "  & TYPE & FMTS & NAME & X.CENTER & Y.CENTER & observed\\_mean & shannon\\_mean & observed\\_sd & shannon\\_sd & observed\\_se & shannon\\_se & sample.num\\\\\n",
       "  & <chr> & <chr> & <chr> & <dbl> & <dbl> & <dbl> & <dbl> & <dbl> & <dbl> & <dbl> & <dbl> & <int>\\\\\n",
       "\\hline\n",
       "\t1 & DataV.GeoAtlas & microgeo & Tibet   &  88.38828 & 31.56375 & 663.9256 & 5.847352 & 238.8247 & 0.4771589 & 10.43311 & 0.02084478 & 524\\\\\n",
       "\t2 & DataV.GeoAtlas & microgeo & Qinghai &  96.04353 & 35.72640 & 648.3009 & 5.838355 & 247.0447 & 0.5392920 & 11.75072 & 0.02565151 & 442\\\\\n",
       "\t3 & DataV.GeoAtlas & microgeo & Sichuan & 102.69345 & 30.67454 & 706.5791 & 5.976061 & 198.0105 & 0.3673219 & 11.87588 & 0.02203051 & 278\\\\\n",
       "\\end{tabular}\n"
      ],
      "text/markdown": [
       "\n",
       "A data.frame: 3 × 12\n",
       "\n",
       "| <!--/--> | TYPE &lt;chr&gt; | FMTS &lt;chr&gt; | NAME &lt;chr&gt; | X.CENTER &lt;dbl&gt; | Y.CENTER &lt;dbl&gt; | observed_mean &lt;dbl&gt; | shannon_mean &lt;dbl&gt; | observed_sd &lt;dbl&gt; | shannon_sd &lt;dbl&gt; | observed_se &lt;dbl&gt; | shannon_se &lt;dbl&gt; | sample.num &lt;int&gt; |\n",
       "|---|---|---|---|---|---|---|---|---|---|---|---|---|\n",
       "| 1 | DataV.GeoAtlas | microgeo | Tibet   |  88.38828 | 31.56375 | 663.9256 | 5.847352 | 238.8247 | 0.4771589 | 10.43311 | 0.02084478 | 524 |\n",
       "| 2 | DataV.GeoAtlas | microgeo | Qinghai |  96.04353 | 35.72640 | 648.3009 | 5.838355 | 247.0447 | 0.5392920 | 11.75072 | 0.02565151 | 442 |\n",
       "| 3 | DataV.GeoAtlas | microgeo | Sichuan | 102.69345 | 30.67454 | 706.5791 | 5.976061 | 198.0105 | 0.3673219 | 11.87588 | 0.02203051 | 278 |\n",
       "\n"
      ],
      "text/plain": [
       "  TYPE           FMTS     NAME    X.CENTER  Y.CENTER observed_mean shannon_mean\n",
       "1 DataV.GeoAtlas microgeo Tibet    88.38828 31.56375 663.9256      5.847352    \n",
       "2 DataV.GeoAtlas microgeo Qinghai  96.04353 35.72640 648.3009      5.838355    \n",
       "3 DataV.GeoAtlas microgeo Sichuan 102.69345 30.67454 706.5791      5.976061    \n",
       "  observed_sd shannon_sd observed_se shannon_se sample.num\n",
       "1 238.8247    0.4771589  10.43311    0.02084478 524       \n",
       "2 247.0447    0.5392920  11.75072    0.02565151 442       \n",
       "3 198.0105    0.3673219  11.87588    0.02203051 278       "
      ]
     },
     "metadata": {},
     "output_type": "display_data"
    }
   ],
   "source": [
    "# Merge data to a `SpatialPolygonsDataFrame`\n",
    "common.map.mean4df <- merge_dfs_to_map(map = dataset.dts.aliyun$map, dat = dataset.dts.aliyun$div$alpha, \n",
    "                                       met = dataset.dts.aliyun$met, med = 'mean')\n",
    "head(common.map.mean4df@data[,1:12])\n",
    "# Now, you can visualize the microbial traits (alpha diversity indices) onto a map"
   ]
  },
  {
   "cell_type": "markdown",
   "id": "e83316f7-b020-46c2-93ab-8c19fa59f7ab",
   "metadata": {},
   "source": [
    "We also can merge the `data.frame` of alpha diversity indices with a gridded `SpatialPolygonsDataFrame`. "
   ]
  },
  {
   "cell_type": "code",
   "execution_count": 8,
   "id": "90f00a05-224e-469f-9ea3-81dd8c30d6b5",
   "metadata": {
    "execution": {
     "iopub.execute_input": "2024-06-08T14:18:44.976099Z",
     "iopub.status.busy": "2024-06-08T14:18:44.975383Z",
     "iopub.status.idle": "2024-06-08T14:18:45.228890Z",
     "shell.execute_reply": "2024-06-08T14:18:45.227962Z"
    }
   },
   "outputs": [
    {
     "data": {
      "text/html": [
       "<table class=\"dataframe\">\n",
       "<caption>A data.frame: 6 × 5</caption>\n",
       "<thead>\n",
       "\t<tr><th></th><th scope=col>TYPE</th><th scope=col>FMTS</th><th scope=col>NAME</th><th scope=col>X.CENTER</th><th scope=col>Y.CENTER</th></tr>\n",
       "\t<tr><th></th><th scope=col>&lt;chr&gt;</th><th scope=col>&lt;chr&gt;</th><th scope=col>&lt;chr&gt;</th><th scope=col>&lt;dbl&gt;</th><th scope=col>&lt;dbl&gt;</th></tr>\n",
       "</thead>\n",
       "<tbody>\n",
       "\t<tr><th scope=row>1</th><td>Gridded.Map</td><td>microgeo</td><td>1</td><td>83.74702</td><td>29.73742</td></tr>\n",
       "\t<tr><th scope=row>2</th><td>Gridded.Map</td><td>microgeo</td><td>2</td><td>85.46302</td><td>28.50944</td></tr>\n",
       "\t<tr><th scope=row>3</th><td>Gridded.Map</td><td>microgeo</td><td>3</td><td>86.67299</td><td>28.33105</td></tr>\n",
       "\t<tr><th scope=row>4</th><td>Gridded.Map</td><td>microgeo</td><td>4</td><td>89.49169</td><td>28.25211</td></tr>\n",
       "\t<tr><th scope=row>5</th><td>Gridded.Map</td><td>microgeo</td><td>5</td><td>88.12468</td><td>28.29693</td></tr>\n",
       "\t<tr><th scope=row>6</th><td>Gridded.Map</td><td>microgeo</td><td>6</td><td>85.14919</td><td>29.46224</td></tr>\n",
       "</tbody>\n",
       "</table>\n"
      ],
      "text/latex": [
       "A data.frame: 6 × 5\n",
       "\\begin{tabular}{r|lllll}\n",
       "  & TYPE & FMTS & NAME & X.CENTER & Y.CENTER\\\\\n",
       "  & <chr> & <chr> & <chr> & <dbl> & <dbl>\\\\\n",
       "\\hline\n",
       "\t1 & Gridded.Map & microgeo & 1 & 83.74702 & 29.73742\\\\\n",
       "\t2 & Gridded.Map & microgeo & 2 & 85.46302 & 28.50944\\\\\n",
       "\t3 & Gridded.Map & microgeo & 3 & 86.67299 & 28.33105\\\\\n",
       "\t4 & Gridded.Map & microgeo & 4 & 89.49169 & 28.25211\\\\\n",
       "\t5 & Gridded.Map & microgeo & 5 & 88.12468 & 28.29693\\\\\n",
       "\t6 & Gridded.Map & microgeo & 6 & 85.14919 & 29.46224\\\\\n",
       "\\end{tabular}\n"
      ],
      "text/markdown": [
       "\n",
       "A data.frame: 6 × 5\n",
       "\n",
       "| <!--/--> | TYPE &lt;chr&gt; | FMTS &lt;chr&gt; | NAME &lt;chr&gt; | X.CENTER &lt;dbl&gt; | Y.CENTER &lt;dbl&gt; |\n",
       "|---|---|---|---|---|---|\n",
       "| 1 | Gridded.Map | microgeo | 1 | 83.74702 | 29.73742 |\n",
       "| 2 | Gridded.Map | microgeo | 2 | 85.46302 | 28.50944 |\n",
       "| 3 | Gridded.Map | microgeo | 3 | 86.67299 | 28.33105 |\n",
       "| 4 | Gridded.Map | microgeo | 4 | 89.49169 | 28.25211 |\n",
       "| 5 | Gridded.Map | microgeo | 5 | 88.12468 | 28.29693 |\n",
       "| 6 | Gridded.Map | microgeo | 6 | 85.14919 | 29.46224 |\n",
       "\n"
      ],
      "text/plain": [
       "  TYPE        FMTS     NAME X.CENTER Y.CENTER\n",
       "1 Gridded.Map microgeo 1    83.74702 29.73742\n",
       "2 Gridded.Map microgeo 2    85.46302 28.50944\n",
       "3 Gridded.Map microgeo 3    86.67299 28.33105\n",
       "4 Gridded.Map microgeo 4    89.49169 28.25211\n",
       "5 Gridded.Map microgeo 5    88.12468 28.29693\n",
       "6 Gridded.Map microgeo 6    85.14919 29.46224"
      ]
     },
     "metadata": {},
     "output_type": "display_data"
    }
   ],
   "source": [
    "# Grid the map [`SpatialPolygonsDataFrame`]\n",
    "gridded.map <- grid_map(map = dataset.dts.aliyun$map, res = 1.5) %>% suppressMessages\n",
    "head(gridded.map@data)"
   ]
  },
  {
   "cell_type": "code",
   "execution_count": 9,
   "id": "843502f5-42bb-4d4c-b990-b69e95a96201",
   "metadata": {
    "execution": {
     "iopub.execute_input": "2024-06-08T14:18:45.231040Z",
     "iopub.status.busy": "2024-06-08T14:18:45.230336Z",
     "iopub.status.idle": "2024-06-08T14:19:38.376795Z",
     "shell.execute_reply": "2024-06-08T14:19:38.375934Z"
    }
   },
   "outputs": [
    {
     "data": {
      "text/html": [
       "<table class=\"dataframe\">\n",
       "<caption>A data.frame: 6 × 12</caption>\n",
       "<thead>\n",
       "\t<tr><th></th><th scope=col>TYPE</th><th scope=col>FMTS</th><th scope=col>NAME</th><th scope=col>X.CENTER</th><th scope=col>Y.CENTER</th><th scope=col>observed_mean</th><th scope=col>shannon_mean</th><th scope=col>observed_sd</th><th scope=col>shannon_sd</th><th scope=col>observed_se</th><th scope=col>shannon_se</th><th scope=col>sample.num</th></tr>\n",
       "\t<tr><th></th><th scope=col>&lt;chr&gt;</th><th scope=col>&lt;chr&gt;</th><th scope=col>&lt;chr&gt;</th><th scope=col>&lt;dbl&gt;</th><th scope=col>&lt;dbl&gt;</th><th scope=col>&lt;dbl&gt;</th><th scope=col>&lt;dbl&gt;</th><th scope=col>&lt;dbl&gt;</th><th scope=col>&lt;dbl&gt;</th><th scope=col>&lt;dbl&gt;</th><th scope=col>&lt;dbl&gt;</th><th scope=col>&lt;int&gt;</th></tr>\n",
       "</thead>\n",
       "<tbody>\n",
       "\t<tr><th scope=row>1</th><td>Gridded.Map</td><td>microgeo</td><td>1</td><td>83.74702</td><td>29.73742</td><td>589.8462</td><td>5.806871</td><td>148.4519</td><td>0.2254060</td><td> 41.17316</td><td>0.06251639</td><td>13</td></tr>\n",
       "\t<tr><th scope=row>2</th><td>Gridded.Map</td><td>microgeo</td><td>2</td><td>85.46302</td><td>28.50944</td><td>701.0000</td><td>5.940640</td><td>205.2486</td><td>0.2833256</td><td>118.50035</td><td>0.16357811</td><td> 3</td></tr>\n",
       "\t<tr><th scope=row>3</th><td>Gridded.Map</td><td>microgeo</td><td>3</td><td>86.67299</td><td>28.33105</td><td>551.4615</td><td>5.778170</td><td>145.2369</td><td>0.2801199</td><td> 40.28148</td><td>0.07769127</td><td>13</td></tr>\n",
       "\t<tr><th scope=row>4</th><td>Gridded.Map</td><td>microgeo</td><td>4</td><td>89.49169</td><td>28.25211</td><td>671.2500</td><td>5.787977</td><td>318.1670</td><td>0.5607113</td><td>159.08351</td><td>0.28035564</td><td> 4</td></tr>\n",
       "\t<tr><th scope=row>5</th><td>Gridded.Map</td><td>microgeo</td><td>5</td><td>88.12468</td><td>28.29693</td><td>472.0000</td><td>5.425260</td><td>152.3009</td><td>0.4139726</td><td> 39.32393</td><td>0.10688727</td><td>15</td></tr>\n",
       "\t<tr><th scope=row>6</th><td>Gridded.Map</td><td>microgeo</td><td>6</td><td>85.14919</td><td>29.46224</td><td>556.7083</td><td>5.755047</td><td>147.4241</td><td>0.2302761</td><td> 30.09282</td><td>0.04700492</td><td>24</td></tr>\n",
       "</tbody>\n",
       "</table>\n"
      ],
      "text/latex": [
       "A data.frame: 6 × 12\n",
       "\\begin{tabular}{r|llllllllllll}\n",
       "  & TYPE & FMTS & NAME & X.CENTER & Y.CENTER & observed\\_mean & shannon\\_mean & observed\\_sd & shannon\\_sd & observed\\_se & shannon\\_se & sample.num\\\\\n",
       "  & <chr> & <chr> & <chr> & <dbl> & <dbl> & <dbl> & <dbl> & <dbl> & <dbl> & <dbl> & <dbl> & <int>\\\\\n",
       "\\hline\n",
       "\t1 & Gridded.Map & microgeo & 1 & 83.74702 & 29.73742 & 589.8462 & 5.806871 & 148.4519 & 0.2254060 &  41.17316 & 0.06251639 & 13\\\\\n",
       "\t2 & Gridded.Map & microgeo & 2 & 85.46302 & 28.50944 & 701.0000 & 5.940640 & 205.2486 & 0.2833256 & 118.50035 & 0.16357811 &  3\\\\\n",
       "\t3 & Gridded.Map & microgeo & 3 & 86.67299 & 28.33105 & 551.4615 & 5.778170 & 145.2369 & 0.2801199 &  40.28148 & 0.07769127 & 13\\\\\n",
       "\t4 & Gridded.Map & microgeo & 4 & 89.49169 & 28.25211 & 671.2500 & 5.787977 & 318.1670 & 0.5607113 & 159.08351 & 0.28035564 &  4\\\\\n",
       "\t5 & Gridded.Map & microgeo & 5 & 88.12468 & 28.29693 & 472.0000 & 5.425260 & 152.3009 & 0.4139726 &  39.32393 & 0.10688727 & 15\\\\\n",
       "\t6 & Gridded.Map & microgeo & 6 & 85.14919 & 29.46224 & 556.7083 & 5.755047 & 147.4241 & 0.2302761 &  30.09282 & 0.04700492 & 24\\\\\n",
       "\\end{tabular}\n"
      ],
      "text/markdown": [
       "\n",
       "A data.frame: 6 × 12\n",
       "\n",
       "| <!--/--> | TYPE &lt;chr&gt; | FMTS &lt;chr&gt; | NAME &lt;chr&gt; | X.CENTER &lt;dbl&gt; | Y.CENTER &lt;dbl&gt; | observed_mean &lt;dbl&gt; | shannon_mean &lt;dbl&gt; | observed_sd &lt;dbl&gt; | shannon_sd &lt;dbl&gt; | observed_se &lt;dbl&gt; | shannon_se &lt;dbl&gt; | sample.num &lt;int&gt; |\n",
       "|---|---|---|---|---|---|---|---|---|---|---|---|---|\n",
       "| 1 | Gridded.Map | microgeo | 1 | 83.74702 | 29.73742 | 589.8462 | 5.806871 | 148.4519 | 0.2254060 |  41.17316 | 0.06251639 | 13 |\n",
       "| 2 | Gridded.Map | microgeo | 2 | 85.46302 | 28.50944 | 701.0000 | 5.940640 | 205.2486 | 0.2833256 | 118.50035 | 0.16357811 |  3 |\n",
       "| 3 | Gridded.Map | microgeo | 3 | 86.67299 | 28.33105 | 551.4615 | 5.778170 | 145.2369 | 0.2801199 |  40.28148 | 0.07769127 | 13 |\n",
       "| 4 | Gridded.Map | microgeo | 4 | 89.49169 | 28.25211 | 671.2500 | 5.787977 | 318.1670 | 0.5607113 | 159.08351 | 0.28035564 |  4 |\n",
       "| 5 | Gridded.Map | microgeo | 5 | 88.12468 | 28.29693 | 472.0000 | 5.425260 | 152.3009 | 0.4139726 |  39.32393 | 0.10688727 | 15 |\n",
       "| 6 | Gridded.Map | microgeo | 6 | 85.14919 | 29.46224 | 556.7083 | 5.755047 | 147.4241 | 0.2302761 |  30.09282 | 0.04700492 | 24 |\n",
       "\n"
      ],
      "text/plain": [
       "  TYPE        FMTS     NAME X.CENTER Y.CENTER observed_mean shannon_mean\n",
       "1 Gridded.Map microgeo 1    83.74702 29.73742 589.8462      5.806871    \n",
       "2 Gridded.Map microgeo 2    85.46302 28.50944 701.0000      5.940640    \n",
       "3 Gridded.Map microgeo 3    86.67299 28.33105 551.4615      5.778170    \n",
       "4 Gridded.Map microgeo 4    89.49169 28.25211 671.2500      5.787977    \n",
       "5 Gridded.Map microgeo 5    88.12468 28.29693 472.0000      5.425260    \n",
       "6 Gridded.Map microgeo 6    85.14919 29.46224 556.7083      5.755047    \n",
       "  observed_sd shannon_sd observed_se shannon_se sample.num\n",
       "1 148.4519    0.2254060   41.17316   0.06251639 13        \n",
       "2 205.2486    0.2833256  118.50035   0.16357811  3        \n",
       "3 145.2369    0.2801199   40.28148   0.07769127 13        \n",
       "4 318.1670    0.5607113  159.08351   0.28035564  4        \n",
       "5 152.3009    0.4139726   39.32393   0.10688727 15        \n",
       "6 147.4241    0.2302761   30.09282   0.04700492 24        "
      ]
     },
     "metadata": {},
     "output_type": "display_data"
    }
   ],
   "source": [
    "# Merge data to a gridded map\n",
    "gridded.map.mean4df <- merge_dfs_to_map(map = gridded.map, dat = dataset.dts.aliyun$div$alpha, \n",
    "                                        met = dataset.dts.aliyun$met, med = 'mean')\n",
    "head(gridded.map.mean4df@data[,1:12])\n",
    "# Now, you can visualize the microbial traits (alpha diversity indices) onto a map"
   ]
  },
  {
   "cell_type": "markdown",
   "id": "b7603d5e-bbfc-40e5-b7b9-a50a63a2d7f3",
   "metadata": {},
   "source": [
    "## 2. Merge a `distance matrix` with a map"
   ]
  },
  {
   "cell_type": "markdown",
   "id": "1a7cc382-e939-49a3-aed2-6060651b1721",
   "metadata": {},
   "source": [
    "Firstly, we check the distance `matrix`, and the `SpatialPolygonsDataFrame`."
   ]
  },
  {
   "cell_type": "code",
   "execution_count": 10,
   "id": "3bd97af6-f8ad-4454-85dd-a89bc15e6bb7",
   "metadata": {
    "execution": {
     "iopub.execute_input": "2024-06-08T14:19:38.378823Z",
     "iopub.status.busy": "2024-06-08T14:19:38.378168Z",
     "iopub.status.idle": "2024-06-08T14:19:38.388988Z",
     "shell.execute_reply": "2024-06-08T14:19:38.388055Z"
    }
   },
   "outputs": [
    {
     "data": {
      "text/html": [
       "<table class=\"dataframe\">\n",
       "<caption>A matrix: 5 × 5 of type dbl</caption>\n",
       "<thead>\n",
       "\t<tr><th></th><th scope=col>s1</th><th scope=col>s2</th><th scope=col>s3</th><th scope=col>s4</th><th scope=col>s5</th></tr>\n",
       "</thead>\n",
       "<tbody>\n",
       "\t<tr><th scope=row>s1</th><td>0.0000000</td><td>0.4879473</td><td>0.5740113</td><td>0.4824859</td><td>0.4103578</td></tr>\n",
       "\t<tr><th scope=row>s2</th><td>0.4879473</td><td>0.0000000</td><td>0.4679849</td><td>0.4045198</td><td>0.4035782</td></tr>\n",
       "\t<tr><th scope=row>s3</th><td>0.5740113</td><td>0.4679849</td><td>0.0000000</td><td>0.3794727</td><td>0.4726930</td></tr>\n",
       "\t<tr><th scope=row>s4</th><td>0.4824859</td><td>0.4045198</td><td>0.3794727</td><td>0.0000000</td><td>0.4041431</td></tr>\n",
       "\t<tr><th scope=row>s5</th><td>0.4103578</td><td>0.4035782</td><td>0.4726930</td><td>0.4041431</td><td>0.0000000</td></tr>\n",
       "</tbody>\n",
       "</table>\n"
      ],
      "text/latex": [
       "A matrix: 5 × 5 of type dbl\n",
       "\\begin{tabular}{r|lllll}\n",
       "  & s1 & s2 & s3 & s4 & s5\\\\\n",
       "\\hline\n",
       "\ts1 & 0.0000000 & 0.4879473 & 0.5740113 & 0.4824859 & 0.4103578\\\\\n",
       "\ts2 & 0.4879473 & 0.0000000 & 0.4679849 & 0.4045198 & 0.4035782\\\\\n",
       "\ts3 & 0.5740113 & 0.4679849 & 0.0000000 & 0.3794727 & 0.4726930\\\\\n",
       "\ts4 & 0.4824859 & 0.4045198 & 0.3794727 & 0.0000000 & 0.4041431\\\\\n",
       "\ts5 & 0.4103578 & 0.4035782 & 0.4726930 & 0.4041431 & 0.0000000\\\\\n",
       "\\end{tabular}\n"
      ],
      "text/markdown": [
       "\n",
       "A matrix: 5 × 5 of type dbl\n",
       "\n",
       "| <!--/--> | s1 | s2 | s3 | s4 | s5 |\n",
       "|---|---|---|---|---|---|\n",
       "| s1 | 0.0000000 | 0.4879473 | 0.5740113 | 0.4824859 | 0.4103578 |\n",
       "| s2 | 0.4879473 | 0.0000000 | 0.4679849 | 0.4045198 | 0.4035782 |\n",
       "| s3 | 0.5740113 | 0.4679849 | 0.0000000 | 0.3794727 | 0.4726930 |\n",
       "| s4 | 0.4824859 | 0.4045198 | 0.3794727 | 0.0000000 | 0.4041431 |\n",
       "| s5 | 0.4103578 | 0.4035782 | 0.4726930 | 0.4041431 | 0.0000000 |\n",
       "\n"
      ],
      "text/plain": [
       "   s1        s2        s3        s4        s5       \n",
       "s1 0.0000000 0.4879473 0.5740113 0.4824859 0.4103578\n",
       "s2 0.4879473 0.0000000 0.4679849 0.4045198 0.4035782\n",
       "s3 0.5740113 0.4679849 0.0000000 0.3794727 0.4726930\n",
       "s4 0.4824859 0.4045198 0.3794727 0.0000000 0.4041431\n",
       "s5 0.4103578 0.4035782 0.4726930 0.4041431 0.0000000"
      ]
     },
     "metadata": {},
     "output_type": "display_data"
    }
   ],
   "source": [
    "# Check the distance matrix \n",
    "dataset.dts.aliyun$div$beta$bray[1:5, 1:5]"
   ]
  },
  {
   "cell_type": "code",
   "execution_count": 11,
   "id": "92a5e3b0-5496-483e-9c79-1ddb65500ce3",
   "metadata": {
    "execution": {
     "iopub.execute_input": "2024-06-08T14:19:38.390886Z",
     "iopub.status.busy": "2024-06-08T14:19:38.390235Z",
     "iopub.status.idle": "2024-06-08T14:19:38.400898Z",
     "shell.execute_reply": "2024-06-08T14:19:38.400103Z"
    }
   },
   "outputs": [
    {
     "data": {
      "text/html": [
       "<table class=\"dataframe\">\n",
       "<caption>A data.frame: 3 × 5</caption>\n",
       "<thead>\n",
       "\t<tr><th></th><th scope=col>TYPE</th><th scope=col>FMTS</th><th scope=col>NAME</th><th scope=col>X.CENTER</th><th scope=col>Y.CENTER</th></tr>\n",
       "\t<tr><th></th><th scope=col>&lt;chr&gt;</th><th scope=col>&lt;chr&gt;</th><th scope=col>&lt;chr&gt;</th><th scope=col>&lt;dbl&gt;</th><th scope=col>&lt;dbl&gt;</th></tr>\n",
       "</thead>\n",
       "<tbody>\n",
       "\t<tr><th scope=row>1</th><td>DataV.GeoAtlas</td><td>microgeo</td><td>Tibet  </td><td> 88.38828</td><td>31.56375</td></tr>\n",
       "\t<tr><th scope=row>2</th><td>DataV.GeoAtlas</td><td>microgeo</td><td>Qinghai</td><td> 96.04353</td><td>35.72640</td></tr>\n",
       "\t<tr><th scope=row>3</th><td>DataV.GeoAtlas</td><td>microgeo</td><td>Sichuan</td><td>102.69345</td><td>30.67454</td></tr>\n",
       "</tbody>\n",
       "</table>\n"
      ],
      "text/latex": [
       "A data.frame: 3 × 5\n",
       "\\begin{tabular}{r|lllll}\n",
       "  & TYPE & FMTS & NAME & X.CENTER & Y.CENTER\\\\\n",
       "  & <chr> & <chr> & <chr> & <dbl> & <dbl>\\\\\n",
       "\\hline\n",
       "\t1 & DataV.GeoAtlas & microgeo & Tibet   &  88.38828 & 31.56375\\\\\n",
       "\t2 & DataV.GeoAtlas & microgeo & Qinghai &  96.04353 & 35.72640\\\\\n",
       "\t3 & DataV.GeoAtlas & microgeo & Sichuan & 102.69345 & 30.67454\\\\\n",
       "\\end{tabular}\n"
      ],
      "text/markdown": [
       "\n",
       "A data.frame: 3 × 5\n",
       "\n",
       "| <!--/--> | TYPE &lt;chr&gt; | FMTS &lt;chr&gt; | NAME &lt;chr&gt; | X.CENTER &lt;dbl&gt; | Y.CENTER &lt;dbl&gt; |\n",
       "|---|---|---|---|---|---|\n",
       "| 1 | DataV.GeoAtlas | microgeo | Tibet   |  88.38828 | 31.56375 |\n",
       "| 2 | DataV.GeoAtlas | microgeo | Qinghai |  96.04353 | 35.72640 |\n",
       "| 3 | DataV.GeoAtlas | microgeo | Sichuan | 102.69345 | 30.67454 |\n",
       "\n"
      ],
      "text/plain": [
       "  TYPE           FMTS     NAME    X.CENTER  Y.CENTER\n",
       "1 DataV.GeoAtlas microgeo Tibet    88.38828 31.56375\n",
       "2 DataV.GeoAtlas microgeo Qinghai  96.04353 35.72640\n",
       "3 DataV.GeoAtlas microgeo Sichuan 102.69345 30.67454"
      ]
     },
     "metadata": {},
     "output_type": "display_data"
    }
   ],
   "source": [
    "# Check the `SpatialPolygonsDataFrame`\n",
    "head(dataset.dts.aliyun$map@data)"
   ]
  },
  {
   "cell_type": "markdown",
   "id": "20d90b2c-97da-4e16-9c3b-2f18727fbc1e",
   "metadata": {},
   "source": [
    "Then, we merge the distance `matrix` with a `SpatialPolygonsDataFrame`. "
   ]
  },
  {
   "cell_type": "code",
   "execution_count": 12,
   "id": "1655c78f-b8a4-41ba-9135-043aa9923530",
   "metadata": {
    "execution": {
     "iopub.execute_input": "2024-06-08T14:19:38.402805Z",
     "iopub.status.busy": "2024-06-08T14:19:38.402155Z",
     "iopub.status.idle": "2024-06-08T14:19:41.376434Z",
     "shell.execute_reply": "2024-06-08T14:19:41.375559Z"
    }
   },
   "outputs": [
    {
     "data": {
      "text/html": [
       "<table class=\"dataframe\">\n",
       "<caption>A data.frame: 3 × 9</caption>\n",
       "<thead>\n",
       "\t<tr><th></th><th scope=col>TYPE</th><th scope=col>FMTS</th><th scope=col>NAME</th><th scope=col>X.CENTER</th><th scope=col>Y.CENTER</th><th scope=col>bray_mean</th><th scope=col>bray_sd</th><th scope=col>bray_se</th><th scope=col>sample.num</th></tr>\n",
       "\t<tr><th></th><th scope=col>&lt;chr&gt;</th><th scope=col>&lt;chr&gt;</th><th scope=col>&lt;chr&gt;</th><th scope=col>&lt;dbl&gt;</th><th scope=col>&lt;dbl&gt;</th><th scope=col>&lt;dbl&gt;</th><th scope=col>&lt;dbl&gt;</th><th scope=col>&lt;dbl&gt;</th><th scope=col>&lt;int&gt;</th></tr>\n",
       "</thead>\n",
       "<tbody>\n",
       "\t<tr><th scope=row>1</th><td>DataV.GeoAtlas</td><td>microgeo</td><td>Tibet  </td><td> 88.38828</td><td>31.56375</td><td>0.8128314</td><td>0.1044475</td><td>0.0002821608</td><td>524</td></tr>\n",
       "\t<tr><th scope=row>2</th><td>DataV.GeoAtlas</td><td>microgeo</td><td>Qinghai</td><td> 96.04353</td><td>35.72640</td><td>0.7974283</td><td>0.1224688</td><td>0.0003922925</td><td>442</td></tr>\n",
       "\t<tr><th scope=row>3</th><td>DataV.GeoAtlas</td><td>microgeo</td><td>Sichuan</td><td>102.69345</td><td>30.67454</td><td>0.7214008</td><td>0.1392887</td><td>0.0007098534</td><td>278</td></tr>\n",
       "</tbody>\n",
       "</table>\n"
      ],
      "text/latex": [
       "A data.frame: 3 × 9\n",
       "\\begin{tabular}{r|lllllllll}\n",
       "  & TYPE & FMTS & NAME & X.CENTER & Y.CENTER & bray\\_mean & bray\\_sd & bray\\_se & sample.num\\\\\n",
       "  & <chr> & <chr> & <chr> & <dbl> & <dbl> & <dbl> & <dbl> & <dbl> & <int>\\\\\n",
       "\\hline\n",
       "\t1 & DataV.GeoAtlas & microgeo & Tibet   &  88.38828 & 31.56375 & 0.8128314 & 0.1044475 & 0.0002821608 & 524\\\\\n",
       "\t2 & DataV.GeoAtlas & microgeo & Qinghai &  96.04353 & 35.72640 & 0.7974283 & 0.1224688 & 0.0003922925 & 442\\\\\n",
       "\t3 & DataV.GeoAtlas & microgeo & Sichuan & 102.69345 & 30.67454 & 0.7214008 & 0.1392887 & 0.0007098534 & 278\\\\\n",
       "\\end{tabular}\n"
      ],
      "text/markdown": [
       "\n",
       "A data.frame: 3 × 9\n",
       "\n",
       "| <!--/--> | TYPE &lt;chr&gt; | FMTS &lt;chr&gt; | NAME &lt;chr&gt; | X.CENTER &lt;dbl&gt; | Y.CENTER &lt;dbl&gt; | bray_mean &lt;dbl&gt; | bray_sd &lt;dbl&gt; | bray_se &lt;dbl&gt; | sample.num &lt;int&gt; |\n",
       "|---|---|---|---|---|---|---|---|---|---|\n",
       "| 1 | DataV.GeoAtlas | microgeo | Tibet   |  88.38828 | 31.56375 | 0.8128314 | 0.1044475 | 0.0002821608 | 524 |\n",
       "| 2 | DataV.GeoAtlas | microgeo | Qinghai |  96.04353 | 35.72640 | 0.7974283 | 0.1224688 | 0.0003922925 | 442 |\n",
       "| 3 | DataV.GeoAtlas | microgeo | Sichuan | 102.69345 | 30.67454 | 0.7214008 | 0.1392887 | 0.0007098534 | 278 |\n",
       "\n"
      ],
      "text/plain": [
       "  TYPE           FMTS     NAME    X.CENTER  Y.CENTER bray_mean bray_sd  \n",
       "1 DataV.GeoAtlas microgeo Tibet    88.38828 31.56375 0.8128314 0.1044475\n",
       "2 DataV.GeoAtlas microgeo Qinghai  96.04353 35.72640 0.7974283 0.1224688\n",
       "3 DataV.GeoAtlas microgeo Sichuan 102.69345 30.67454 0.7214008 0.1392887\n",
       "  bray_se      sample.num\n",
       "1 0.0002821608 524       \n",
       "2 0.0003922925 442       \n",
       "3 0.0007098534 278       "
      ]
     },
     "metadata": {},
     "output_type": "display_data"
    }
   ],
   "source": [
    "# Merge distance matrix to a common map\n",
    "common.map.mean4mx <- merge_mtx_to_map(map = dataset.dts.aliyun$map, dat = dataset.dts.aliyun$div$beta$bray, \n",
    "                                        met = dataset.dts.aliyun$met, var = 'bray', med = 'mean')\n",
    "head(common.map.mean4mx@data[,1:9])\n",
    "# Now, you can visualize the microbial traits (beta diversity distance matrix) onto a map"
   ]
  },
  {
   "cell_type": "markdown",
   "id": "46d198c5-8161-4ca0-bf8f-a33c268ad26c",
   "metadata": {},
   "source": [
    "We also can merge a distance `matrix` with a gridded `SpatialPolygonsDataFrame`."
   ]
  },
  {
   "cell_type": "code",
   "execution_count": 13,
   "id": "b0610bb0-4cd1-4a34-bc19-ee790995b611",
   "metadata": {
    "execution": {
     "iopub.execute_input": "2024-06-08T14:19:41.378466Z",
     "iopub.status.busy": "2024-06-08T14:19:41.377802Z",
     "iopub.status.idle": "2024-06-08T14:19:41.575546Z",
     "shell.execute_reply": "2024-06-08T14:19:41.574640Z"
    }
   },
   "outputs": [
    {
     "data": {
      "text/html": [
       "<table class=\"dataframe\">\n",
       "<caption>A data.frame: 6 × 5</caption>\n",
       "<thead>\n",
       "\t<tr><th></th><th scope=col>TYPE</th><th scope=col>FMTS</th><th scope=col>NAME</th><th scope=col>X.CENTER</th><th scope=col>Y.CENTER</th></tr>\n",
       "\t<tr><th></th><th scope=col>&lt;chr&gt;</th><th scope=col>&lt;chr&gt;</th><th scope=col>&lt;chr&gt;</th><th scope=col>&lt;dbl&gt;</th><th scope=col>&lt;dbl&gt;</th></tr>\n",
       "</thead>\n",
       "<tbody>\n",
       "\t<tr><th scope=row>1</th><td>Gridded.Map</td><td>microgeo</td><td>1</td><td>83.74702</td><td>29.73742</td></tr>\n",
       "\t<tr><th scope=row>2</th><td>Gridded.Map</td><td>microgeo</td><td>2</td><td>85.46302</td><td>28.50944</td></tr>\n",
       "\t<tr><th scope=row>3</th><td>Gridded.Map</td><td>microgeo</td><td>3</td><td>86.67299</td><td>28.33105</td></tr>\n",
       "\t<tr><th scope=row>4</th><td>Gridded.Map</td><td>microgeo</td><td>4</td><td>89.49169</td><td>28.25211</td></tr>\n",
       "\t<tr><th scope=row>5</th><td>Gridded.Map</td><td>microgeo</td><td>5</td><td>88.12468</td><td>28.29693</td></tr>\n",
       "\t<tr><th scope=row>6</th><td>Gridded.Map</td><td>microgeo</td><td>6</td><td>85.14919</td><td>29.46224</td></tr>\n",
       "</tbody>\n",
       "</table>\n"
      ],
      "text/latex": [
       "A data.frame: 6 × 5\n",
       "\\begin{tabular}{r|lllll}\n",
       "  & TYPE & FMTS & NAME & X.CENTER & Y.CENTER\\\\\n",
       "  & <chr> & <chr> & <chr> & <dbl> & <dbl>\\\\\n",
       "\\hline\n",
       "\t1 & Gridded.Map & microgeo & 1 & 83.74702 & 29.73742\\\\\n",
       "\t2 & Gridded.Map & microgeo & 2 & 85.46302 & 28.50944\\\\\n",
       "\t3 & Gridded.Map & microgeo & 3 & 86.67299 & 28.33105\\\\\n",
       "\t4 & Gridded.Map & microgeo & 4 & 89.49169 & 28.25211\\\\\n",
       "\t5 & Gridded.Map & microgeo & 5 & 88.12468 & 28.29693\\\\\n",
       "\t6 & Gridded.Map & microgeo & 6 & 85.14919 & 29.46224\\\\\n",
       "\\end{tabular}\n"
      ],
      "text/markdown": [
       "\n",
       "A data.frame: 6 × 5\n",
       "\n",
       "| <!--/--> | TYPE &lt;chr&gt; | FMTS &lt;chr&gt; | NAME &lt;chr&gt; | X.CENTER &lt;dbl&gt; | Y.CENTER &lt;dbl&gt; |\n",
       "|---|---|---|---|---|---|\n",
       "| 1 | Gridded.Map | microgeo | 1 | 83.74702 | 29.73742 |\n",
       "| 2 | Gridded.Map | microgeo | 2 | 85.46302 | 28.50944 |\n",
       "| 3 | Gridded.Map | microgeo | 3 | 86.67299 | 28.33105 |\n",
       "| 4 | Gridded.Map | microgeo | 4 | 89.49169 | 28.25211 |\n",
       "| 5 | Gridded.Map | microgeo | 5 | 88.12468 | 28.29693 |\n",
       "| 6 | Gridded.Map | microgeo | 6 | 85.14919 | 29.46224 |\n",
       "\n"
      ],
      "text/plain": [
       "  TYPE        FMTS     NAME X.CENTER Y.CENTER\n",
       "1 Gridded.Map microgeo 1    83.74702 29.73742\n",
       "2 Gridded.Map microgeo 2    85.46302 28.50944\n",
       "3 Gridded.Map microgeo 3    86.67299 28.33105\n",
       "4 Gridded.Map microgeo 4    89.49169 28.25211\n",
       "5 Gridded.Map microgeo 5    88.12468 28.29693\n",
       "6 Gridded.Map microgeo 6    85.14919 29.46224"
      ]
     },
     "metadata": {},
     "output_type": "display_data"
    }
   ],
   "source": [
    "# Grid the map \n",
    "gridded.map <- grid_map(map = dataset.dts.aliyun$map, res = 1.5) %>% suppressMessages\n",
    "head(gridded.map@data)"
   ]
  },
  {
   "cell_type": "code",
   "execution_count": 14,
   "id": "98485cf7-3cef-4be4-aab4-0591e1594708",
   "metadata": {
    "execution": {
     "iopub.execute_input": "2024-06-08T14:19:41.577720Z",
     "iopub.status.busy": "2024-06-08T14:19:41.577021Z",
     "iopub.status.idle": "2024-06-08T14:20:31.928009Z",
     "shell.execute_reply": "2024-06-08T14:20:31.927048Z"
    }
   },
   "outputs": [
    {
     "data": {
      "text/html": [
       "<table class=\"dataframe\">\n",
       "<caption>A data.frame: 6 × 9</caption>\n",
       "<thead>\n",
       "\t<tr><th></th><th scope=col>TYPE</th><th scope=col>FMTS</th><th scope=col>NAME</th><th scope=col>X.CENTER</th><th scope=col>Y.CENTER</th><th scope=col>bray_mean</th><th scope=col>bray_sd</th><th scope=col>bray_se</th><th scope=col>sample.num</th></tr>\n",
       "\t<tr><th></th><th scope=col>&lt;chr&gt;</th><th scope=col>&lt;chr&gt;</th><th scope=col>&lt;chr&gt;</th><th scope=col>&lt;dbl&gt;</th><th scope=col>&lt;dbl&gt;</th><th scope=col>&lt;dbl&gt;</th><th scope=col>&lt;dbl&gt;</th><th scope=col>&lt;dbl&gt;</th><th scope=col>&lt;int&gt;</th></tr>\n",
       "</thead>\n",
       "<tbody>\n",
       "\t<tr><th scope=row>1</th><td>Gridded.Map</td><td>microgeo</td><td>1</td><td>83.74702</td><td>29.73742</td><td>0.6596794</td><td>0.09295681</td><td>0.010525286</td><td>13</td></tr>\n",
       "\t<tr><th scope=row>2</th><td>Gridded.Map</td><td>microgeo</td><td>2</td><td>85.46302</td><td>28.50944</td><td>0.6465788</td><td>0.09518546</td><td>0.054955351</td><td> 3</td></tr>\n",
       "\t<tr><th scope=row>3</th><td>Gridded.Map</td><td>microgeo</td><td>3</td><td>86.67299</td><td>28.33105</td><td>0.7325631</td><td>0.13097985</td><td>0.014830547</td><td>13</td></tr>\n",
       "\t<tr><th scope=row>4</th><td>Gridded.Map</td><td>microgeo</td><td>4</td><td>89.49169</td><td>28.25211</td><td>0.7621469</td><td>0.23346363</td><td>0.095311130</td><td> 4</td></tr>\n",
       "\t<tr><th scope=row>5</th><td>Gridded.Map</td><td>microgeo</td><td>5</td><td>88.12468</td><td>28.29693</td><td>0.7758479</td><td>0.13784170</td><td>0.013451972</td><td>15</td></tr>\n",
       "\t<tr><th scope=row>6</th><td>Gridded.Map</td><td>microgeo</td><td>6</td><td>85.14919</td><td>29.46224</td><td>0.7689047</td><td>0.10815016</td><td>0.006509875</td><td>24</td></tr>\n",
       "</tbody>\n",
       "</table>\n"
      ],
      "text/latex": [
       "A data.frame: 6 × 9\n",
       "\\begin{tabular}{r|lllllllll}\n",
       "  & TYPE & FMTS & NAME & X.CENTER & Y.CENTER & bray\\_mean & bray\\_sd & bray\\_se & sample.num\\\\\n",
       "  & <chr> & <chr> & <chr> & <dbl> & <dbl> & <dbl> & <dbl> & <dbl> & <int>\\\\\n",
       "\\hline\n",
       "\t1 & Gridded.Map & microgeo & 1 & 83.74702 & 29.73742 & 0.6596794 & 0.09295681 & 0.010525286 & 13\\\\\n",
       "\t2 & Gridded.Map & microgeo & 2 & 85.46302 & 28.50944 & 0.6465788 & 0.09518546 & 0.054955351 &  3\\\\\n",
       "\t3 & Gridded.Map & microgeo & 3 & 86.67299 & 28.33105 & 0.7325631 & 0.13097985 & 0.014830547 & 13\\\\\n",
       "\t4 & Gridded.Map & microgeo & 4 & 89.49169 & 28.25211 & 0.7621469 & 0.23346363 & 0.095311130 &  4\\\\\n",
       "\t5 & Gridded.Map & microgeo & 5 & 88.12468 & 28.29693 & 0.7758479 & 0.13784170 & 0.013451972 & 15\\\\\n",
       "\t6 & Gridded.Map & microgeo & 6 & 85.14919 & 29.46224 & 0.7689047 & 0.10815016 & 0.006509875 & 24\\\\\n",
       "\\end{tabular}\n"
      ],
      "text/markdown": [
       "\n",
       "A data.frame: 6 × 9\n",
       "\n",
       "| <!--/--> | TYPE &lt;chr&gt; | FMTS &lt;chr&gt; | NAME &lt;chr&gt; | X.CENTER &lt;dbl&gt; | Y.CENTER &lt;dbl&gt; | bray_mean &lt;dbl&gt; | bray_sd &lt;dbl&gt; | bray_se &lt;dbl&gt; | sample.num &lt;int&gt; |\n",
       "|---|---|---|---|---|---|---|---|---|---|\n",
       "| 1 | Gridded.Map | microgeo | 1 | 83.74702 | 29.73742 | 0.6596794 | 0.09295681 | 0.010525286 | 13 |\n",
       "| 2 | Gridded.Map | microgeo | 2 | 85.46302 | 28.50944 | 0.6465788 | 0.09518546 | 0.054955351 |  3 |\n",
       "| 3 | Gridded.Map | microgeo | 3 | 86.67299 | 28.33105 | 0.7325631 | 0.13097985 | 0.014830547 | 13 |\n",
       "| 4 | Gridded.Map | microgeo | 4 | 89.49169 | 28.25211 | 0.7621469 | 0.23346363 | 0.095311130 |  4 |\n",
       "| 5 | Gridded.Map | microgeo | 5 | 88.12468 | 28.29693 | 0.7758479 | 0.13784170 | 0.013451972 | 15 |\n",
       "| 6 | Gridded.Map | microgeo | 6 | 85.14919 | 29.46224 | 0.7689047 | 0.10815016 | 0.006509875 | 24 |\n",
       "\n"
      ],
      "text/plain": [
       "  TYPE        FMTS     NAME X.CENTER Y.CENTER bray_mean bray_sd    bray_se    \n",
       "1 Gridded.Map microgeo 1    83.74702 29.73742 0.6596794 0.09295681 0.010525286\n",
       "2 Gridded.Map microgeo 2    85.46302 28.50944 0.6465788 0.09518546 0.054955351\n",
       "3 Gridded.Map microgeo 3    86.67299 28.33105 0.7325631 0.13097985 0.014830547\n",
       "4 Gridded.Map microgeo 4    89.49169 28.25211 0.7621469 0.23346363 0.095311130\n",
       "5 Gridded.Map microgeo 5    88.12468 28.29693 0.7758479 0.13784170 0.013451972\n",
       "6 Gridded.Map microgeo 6    85.14919 29.46224 0.7689047 0.10815016 0.006509875\n",
       "  sample.num\n",
       "1 13        \n",
       "2  3        \n",
       "3 13        \n",
       "4  4        \n",
       "5 15        \n",
       "6 24        "
      ]
     },
     "metadata": {},
     "output_type": "display_data"
    }
   ],
   "source": [
    "# Merge distance matrix to a gridded map\n",
    "gridded.map.mean4mx <- merge_mtx_to_map(map = gridded.map, dat = dataset.dts.aliyun$div$beta$bray, \n",
    "                                        met = dataset.dts.aliyun$met, var = 'bray', med = 'mean')\n",
    "head(gridded.map.mean4mx@data[,1:9])\n",
    "# Now, you can visualize the microbial traits (beta diversity distance matrix) onto a map"
   ]
  },
  {
   "cell_type": "markdown",
   "id": "f81d45e8-1fc7-4d2e-9b8e-d779edfad038",
   "metadata": {},
   "source": [
    "## 3. Extract metadata table from a map"
   ]
  },
  {
   "cell_type": "code",
   "execution_count": 15,
   "id": "f2191fdb-b67d-4c95-9de3-23719ecb5813",
   "metadata": {
    "execution": {
     "iopub.execute_input": "2024-06-08T14:20:31.930142Z",
     "iopub.status.busy": "2024-06-08T14:20:31.929443Z",
     "iopub.status.idle": "2024-06-08T14:20:34.807451Z",
     "shell.execute_reply": "2024-06-08T14:20:34.806562Z"
    }
   },
   "outputs": [
    {
     "data": {
      "text/html": [
       "<table class=\"dataframe\">\n",
       "<caption>A data.frame: 6 × 7</caption>\n",
       "<thead>\n",
       "\t<tr><th></th><th scope=col>longitude</th><th scope=col>latitude</th><th scope=col>NAME</th><th scope=col>TYPE</th><th scope=col>FMTS</th><th scope=col>X.CENTER</th><th scope=col>Y.CENTER</th></tr>\n",
       "\t<tr><th></th><th scope=col>&lt;dbl&gt;</th><th scope=col>&lt;dbl&gt;</th><th scope=col>&lt;chr&gt;</th><th scope=col>&lt;chr&gt;</th><th scope=col>&lt;chr&gt;</th><th scope=col>&lt;dbl&gt;</th><th scope=col>&lt;dbl&gt;</th></tr>\n",
       "</thead>\n",
       "<tbody>\n",
       "\t<tr><th scope=row>s1</th><td>98.20894</td><td>33.10321</td><td>Sichuan</td><td>DataV.GeoAtlas</td><td>microgeo</td><td>102.6935</td><td>30.67454</td></tr>\n",
       "\t<tr><th scope=row>s2</th><td>98.20894</td><td>33.10321</td><td>Sichuan</td><td>DataV.GeoAtlas</td><td>microgeo</td><td>102.6935</td><td>30.67454</td></tr>\n",
       "\t<tr><th scope=row>s3</th><td>98.20894</td><td>33.10321</td><td>Sichuan</td><td>DataV.GeoAtlas</td><td>microgeo</td><td>102.6935</td><td>30.67454</td></tr>\n",
       "\t<tr><th scope=row>s4</th><td>98.20894</td><td>33.10321</td><td>Sichuan</td><td>DataV.GeoAtlas</td><td>microgeo</td><td>102.6935</td><td>30.67454</td></tr>\n",
       "\t<tr><th scope=row>s5</th><td>98.20894</td><td>33.10321</td><td>Sichuan</td><td>DataV.GeoAtlas</td><td>microgeo</td><td>102.6935</td><td>30.67454</td></tr>\n",
       "\t<tr><th scope=row>s6</th><td>98.20639</td><td>33.10280</td><td>Sichuan</td><td>DataV.GeoAtlas</td><td>microgeo</td><td>102.6935</td><td>30.67454</td></tr>\n",
       "</tbody>\n",
       "</table>\n"
      ],
      "text/latex": [
       "A data.frame: 6 × 7\n",
       "\\begin{tabular}{r|lllllll}\n",
       "  & longitude & latitude & NAME & TYPE & FMTS & X.CENTER & Y.CENTER\\\\\n",
       "  & <dbl> & <dbl> & <chr> & <chr> & <chr> & <dbl> & <dbl>\\\\\n",
       "\\hline\n",
       "\ts1 & 98.20894 & 33.10321 & Sichuan & DataV.GeoAtlas & microgeo & 102.6935 & 30.67454\\\\\n",
       "\ts2 & 98.20894 & 33.10321 & Sichuan & DataV.GeoAtlas & microgeo & 102.6935 & 30.67454\\\\\n",
       "\ts3 & 98.20894 & 33.10321 & Sichuan & DataV.GeoAtlas & microgeo & 102.6935 & 30.67454\\\\\n",
       "\ts4 & 98.20894 & 33.10321 & Sichuan & DataV.GeoAtlas & microgeo & 102.6935 & 30.67454\\\\\n",
       "\ts5 & 98.20894 & 33.10321 & Sichuan & DataV.GeoAtlas & microgeo & 102.6935 & 30.67454\\\\\n",
       "\ts6 & 98.20639 & 33.10280 & Sichuan & DataV.GeoAtlas & microgeo & 102.6935 & 30.67454\\\\\n",
       "\\end{tabular}\n"
      ],
      "text/markdown": [
       "\n",
       "A data.frame: 6 × 7\n",
       "\n",
       "| <!--/--> | longitude &lt;dbl&gt; | latitude &lt;dbl&gt; | NAME &lt;chr&gt; | TYPE &lt;chr&gt; | FMTS &lt;chr&gt; | X.CENTER &lt;dbl&gt; | Y.CENTER &lt;dbl&gt; |\n",
       "|---|---|---|---|---|---|---|---|\n",
       "| s1 | 98.20894 | 33.10321 | Sichuan | DataV.GeoAtlas | microgeo | 102.6935 | 30.67454 |\n",
       "| s2 | 98.20894 | 33.10321 | Sichuan | DataV.GeoAtlas | microgeo | 102.6935 | 30.67454 |\n",
       "| s3 | 98.20894 | 33.10321 | Sichuan | DataV.GeoAtlas | microgeo | 102.6935 | 30.67454 |\n",
       "| s4 | 98.20894 | 33.10321 | Sichuan | DataV.GeoAtlas | microgeo | 102.6935 | 30.67454 |\n",
       "| s5 | 98.20894 | 33.10321 | Sichuan | DataV.GeoAtlas | microgeo | 102.6935 | 30.67454 |\n",
       "| s6 | 98.20639 | 33.10280 | Sichuan | DataV.GeoAtlas | microgeo | 102.6935 | 30.67454 |\n",
       "\n"
      ],
      "text/plain": [
       "   longitude latitude NAME    TYPE           FMTS     X.CENTER Y.CENTER\n",
       "s1 98.20894  33.10321 Sichuan DataV.GeoAtlas microgeo 102.6935 30.67454\n",
       "s2 98.20894  33.10321 Sichuan DataV.GeoAtlas microgeo 102.6935 30.67454\n",
       "s3 98.20894  33.10321 Sichuan DataV.GeoAtlas microgeo 102.6935 30.67454\n",
       "s4 98.20894  33.10321 Sichuan DataV.GeoAtlas microgeo 102.6935 30.67454\n",
       "s5 98.20894  33.10321 Sichuan DataV.GeoAtlas microgeo 102.6935 30.67454\n",
       "s6 98.20639  33.10280 Sichuan DataV.GeoAtlas microgeo 102.6935 30.67454"
      ]
     },
     "metadata": {},
     "output_type": "display_data"
    }
   ],
   "source": [
    "# Extract metadata from a common map\n",
    "# Rownames are sample IDs\n",
    "# This new matadata table can be used for subsequent statistical analysis\n",
    "metadata <- dataset.dts.aliyun$map %>% extract_metadata_from_map(met = dataset.dts.aliyun$met)\n",
    "head(metadata)"
   ]
  },
  {
   "cell_type": "code",
   "execution_count": 16,
   "id": "a0f1fbf9-f726-4c6f-a7a5-e0adb4bfeb04",
   "metadata": {
    "execution": {
     "iopub.execute_input": "2024-06-08T14:20:34.809555Z",
     "iopub.status.busy": "2024-06-08T14:20:34.808882Z",
     "iopub.status.idle": "2024-06-08T14:20:37.780155Z",
     "shell.execute_reply": "2024-06-08T14:20:37.779263Z"
    }
   },
   "outputs": [
    {
     "data": {
      "text/html": [
       "<table class=\"dataframe\">\n",
       "<caption>A data.frame: 6 × 14</caption>\n",
       "<thead>\n",
       "\t<tr><th></th><th scope=col>longitude</th><th scope=col>latitude</th><th scope=col>NAME</th><th scope=col>TYPE</th><th scope=col>FMTS</th><th scope=col>X.CENTER</th><th scope=col>Y.CENTER</th><th scope=col>observed_mean</th><th scope=col>shannon_mean</th><th scope=col>observed_sd</th><th scope=col>shannon_sd</th><th scope=col>observed_se</th><th scope=col>shannon_se</th><th scope=col>sample.num</th></tr>\n",
       "\t<tr><th></th><th scope=col>&lt;dbl&gt;</th><th scope=col>&lt;dbl&gt;</th><th scope=col>&lt;chr&gt;</th><th scope=col>&lt;chr&gt;</th><th scope=col>&lt;chr&gt;</th><th scope=col>&lt;dbl&gt;</th><th scope=col>&lt;dbl&gt;</th><th scope=col>&lt;dbl&gt;</th><th scope=col>&lt;dbl&gt;</th><th scope=col>&lt;dbl&gt;</th><th scope=col>&lt;dbl&gt;</th><th scope=col>&lt;dbl&gt;</th><th scope=col>&lt;dbl&gt;</th><th scope=col>&lt;int&gt;</th></tr>\n",
       "</thead>\n",
       "<tbody>\n",
       "\t<tr><th scope=row>s1</th><td>98.20894</td><td>33.10321</td><td>Sichuan</td><td>DataV.GeoAtlas</td><td>microgeo</td><td>102.6935</td><td>30.67454</td><td>706.5791</td><td>5.976061</td><td>198.0105</td><td>0.3673219</td><td>11.87588</td><td>0.02203051</td><td>278</td></tr>\n",
       "\t<tr><th scope=row>s2</th><td>98.20894</td><td>33.10321</td><td>Sichuan</td><td>DataV.GeoAtlas</td><td>microgeo</td><td>102.6935</td><td>30.67454</td><td>706.5791</td><td>5.976061</td><td>198.0105</td><td>0.3673219</td><td>11.87588</td><td>0.02203051</td><td>278</td></tr>\n",
       "\t<tr><th scope=row>s3</th><td>98.20894</td><td>33.10321</td><td>Sichuan</td><td>DataV.GeoAtlas</td><td>microgeo</td><td>102.6935</td><td>30.67454</td><td>706.5791</td><td>5.976061</td><td>198.0105</td><td>0.3673219</td><td>11.87588</td><td>0.02203051</td><td>278</td></tr>\n",
       "\t<tr><th scope=row>s4</th><td>98.20894</td><td>33.10321</td><td>Sichuan</td><td>DataV.GeoAtlas</td><td>microgeo</td><td>102.6935</td><td>30.67454</td><td>706.5791</td><td>5.976061</td><td>198.0105</td><td>0.3673219</td><td>11.87588</td><td>0.02203051</td><td>278</td></tr>\n",
       "\t<tr><th scope=row>s5</th><td>98.20894</td><td>33.10321</td><td>Sichuan</td><td>DataV.GeoAtlas</td><td>microgeo</td><td>102.6935</td><td>30.67454</td><td>706.5791</td><td>5.976061</td><td>198.0105</td><td>0.3673219</td><td>11.87588</td><td>0.02203051</td><td>278</td></tr>\n",
       "\t<tr><th scope=row>s6</th><td>98.20639</td><td>33.10280</td><td>Sichuan</td><td>DataV.GeoAtlas</td><td>microgeo</td><td>102.6935</td><td>30.67454</td><td>706.5791</td><td>5.976061</td><td>198.0105</td><td>0.3673219</td><td>11.87588</td><td>0.02203051</td><td>278</td></tr>\n",
       "</tbody>\n",
       "</table>\n"
      ],
      "text/latex": [
       "A data.frame: 6 × 14\n",
       "\\begin{tabular}{r|llllllllllllll}\n",
       "  & longitude & latitude & NAME & TYPE & FMTS & X.CENTER & Y.CENTER & observed\\_mean & shannon\\_mean & observed\\_sd & shannon\\_sd & observed\\_se & shannon\\_se & sample.num\\\\\n",
       "  & <dbl> & <dbl> & <chr> & <chr> & <chr> & <dbl> & <dbl> & <dbl> & <dbl> & <dbl> & <dbl> & <dbl> & <dbl> & <int>\\\\\n",
       "\\hline\n",
       "\ts1 & 98.20894 & 33.10321 & Sichuan & DataV.GeoAtlas & microgeo & 102.6935 & 30.67454 & 706.5791 & 5.976061 & 198.0105 & 0.3673219 & 11.87588 & 0.02203051 & 278\\\\\n",
       "\ts2 & 98.20894 & 33.10321 & Sichuan & DataV.GeoAtlas & microgeo & 102.6935 & 30.67454 & 706.5791 & 5.976061 & 198.0105 & 0.3673219 & 11.87588 & 0.02203051 & 278\\\\\n",
       "\ts3 & 98.20894 & 33.10321 & Sichuan & DataV.GeoAtlas & microgeo & 102.6935 & 30.67454 & 706.5791 & 5.976061 & 198.0105 & 0.3673219 & 11.87588 & 0.02203051 & 278\\\\\n",
       "\ts4 & 98.20894 & 33.10321 & Sichuan & DataV.GeoAtlas & microgeo & 102.6935 & 30.67454 & 706.5791 & 5.976061 & 198.0105 & 0.3673219 & 11.87588 & 0.02203051 & 278\\\\\n",
       "\ts5 & 98.20894 & 33.10321 & Sichuan & DataV.GeoAtlas & microgeo & 102.6935 & 30.67454 & 706.5791 & 5.976061 & 198.0105 & 0.3673219 & 11.87588 & 0.02203051 & 278\\\\\n",
       "\ts6 & 98.20639 & 33.10280 & Sichuan & DataV.GeoAtlas & microgeo & 102.6935 & 30.67454 & 706.5791 & 5.976061 & 198.0105 & 0.3673219 & 11.87588 & 0.02203051 & 278\\\\\n",
       "\\end{tabular}\n"
      ],
      "text/markdown": [
       "\n",
       "A data.frame: 6 × 14\n",
       "\n",
       "| <!--/--> | longitude &lt;dbl&gt; | latitude &lt;dbl&gt; | NAME &lt;chr&gt; | TYPE &lt;chr&gt; | FMTS &lt;chr&gt; | X.CENTER &lt;dbl&gt; | Y.CENTER &lt;dbl&gt; | observed_mean &lt;dbl&gt; | shannon_mean &lt;dbl&gt; | observed_sd &lt;dbl&gt; | shannon_sd &lt;dbl&gt; | observed_se &lt;dbl&gt; | shannon_se &lt;dbl&gt; | sample.num &lt;int&gt; |\n",
       "|---|---|---|---|---|---|---|---|---|---|---|---|---|---|---|\n",
       "| s1 | 98.20894 | 33.10321 | Sichuan | DataV.GeoAtlas | microgeo | 102.6935 | 30.67454 | 706.5791 | 5.976061 | 198.0105 | 0.3673219 | 11.87588 | 0.02203051 | 278 |\n",
       "| s2 | 98.20894 | 33.10321 | Sichuan | DataV.GeoAtlas | microgeo | 102.6935 | 30.67454 | 706.5791 | 5.976061 | 198.0105 | 0.3673219 | 11.87588 | 0.02203051 | 278 |\n",
       "| s3 | 98.20894 | 33.10321 | Sichuan | DataV.GeoAtlas | microgeo | 102.6935 | 30.67454 | 706.5791 | 5.976061 | 198.0105 | 0.3673219 | 11.87588 | 0.02203051 | 278 |\n",
       "| s4 | 98.20894 | 33.10321 | Sichuan | DataV.GeoAtlas | microgeo | 102.6935 | 30.67454 | 706.5791 | 5.976061 | 198.0105 | 0.3673219 | 11.87588 | 0.02203051 | 278 |\n",
       "| s5 | 98.20894 | 33.10321 | Sichuan | DataV.GeoAtlas | microgeo | 102.6935 | 30.67454 | 706.5791 | 5.976061 | 198.0105 | 0.3673219 | 11.87588 | 0.02203051 | 278 |\n",
       "| s6 | 98.20639 | 33.10280 | Sichuan | DataV.GeoAtlas | microgeo | 102.6935 | 30.67454 | 706.5791 | 5.976061 | 198.0105 | 0.3673219 | 11.87588 | 0.02203051 | 278 |\n",
       "\n"
      ],
      "text/plain": [
       "   longitude latitude NAME    TYPE           FMTS     X.CENTER Y.CENTER\n",
       "s1 98.20894  33.10321 Sichuan DataV.GeoAtlas microgeo 102.6935 30.67454\n",
       "s2 98.20894  33.10321 Sichuan DataV.GeoAtlas microgeo 102.6935 30.67454\n",
       "s3 98.20894  33.10321 Sichuan DataV.GeoAtlas microgeo 102.6935 30.67454\n",
       "s4 98.20894  33.10321 Sichuan DataV.GeoAtlas microgeo 102.6935 30.67454\n",
       "s5 98.20894  33.10321 Sichuan DataV.GeoAtlas microgeo 102.6935 30.67454\n",
       "s6 98.20639  33.10280 Sichuan DataV.GeoAtlas microgeo 102.6935 30.67454\n",
       "   observed_mean shannon_mean observed_sd shannon_sd observed_se shannon_se\n",
       "s1 706.5791      5.976061     198.0105    0.3673219  11.87588    0.02203051\n",
       "s2 706.5791      5.976061     198.0105    0.3673219  11.87588    0.02203051\n",
       "s3 706.5791      5.976061     198.0105    0.3673219  11.87588    0.02203051\n",
       "s4 706.5791      5.976061     198.0105    0.3673219  11.87588    0.02203051\n",
       "s5 706.5791      5.976061     198.0105    0.3673219  11.87588    0.02203051\n",
       "s6 706.5791      5.976061     198.0105    0.3673219  11.87588    0.02203051\n",
       "   sample.num\n",
       "s1 278       \n",
       "s2 278       \n",
       "s3 278       \n",
       "s4 278       \n",
       "s5 278       \n",
       "s6 278       "
      ]
     },
     "metadata": {},
     "output_type": "display_data"
    }
   ],
   "source": [
    "# Extract metadata from a common map with additional data\n",
    "# Rownames are sample IDs\n",
    "# This new matadata table can be used for subsequent statistical analysis \n",
    "metadata.from.c.df <- common.map.mean4df %>% extract_metadata_from_map(met = dataset.dts.aliyun$met)\n",
    "head(metadata.from.c.df)"
   ]
  },
  {
   "cell_type": "code",
   "execution_count": 17,
   "id": "da701407-5a2d-490e-ac7e-381e22833df0",
   "metadata": {
    "execution": {
     "iopub.execute_input": "2024-06-08T14:20:37.782287Z",
     "iopub.status.busy": "2024-06-08T14:20:37.781593Z",
     "iopub.status.idle": "2024-06-08T14:21:27.867339Z",
     "shell.execute_reply": "2024-06-08T14:21:27.866477Z"
    }
   },
   "outputs": [
    {
     "data": {
      "text/html": [
       "<table class=\"dataframe\">\n",
       "<caption>A data.frame: 6 × 11</caption>\n",
       "<thead>\n",
       "\t<tr><th></th><th scope=col>longitude</th><th scope=col>latitude</th><th scope=col>NAME</th><th scope=col>TYPE</th><th scope=col>FMTS</th><th scope=col>X.CENTER</th><th scope=col>Y.CENTER</th><th scope=col>bray_mean</th><th scope=col>bray_sd</th><th scope=col>bray_se</th><th scope=col>sample.num</th></tr>\n",
       "\t<tr><th></th><th scope=col>&lt;dbl&gt;</th><th scope=col>&lt;dbl&gt;</th><th scope=col>&lt;chr&gt;</th><th scope=col>&lt;chr&gt;</th><th scope=col>&lt;chr&gt;</th><th scope=col>&lt;dbl&gt;</th><th scope=col>&lt;dbl&gt;</th><th scope=col>&lt;dbl&gt;</th><th scope=col>&lt;dbl&gt;</th><th scope=col>&lt;dbl&gt;</th><th scope=col>&lt;int&gt;</th></tr>\n",
       "</thead>\n",
       "<tbody>\n",
       "\t<tr><th scope=row>s1</th><td>98.20894</td><td>33.10321</td><td>138</td><td>Gridded.Map</td><td>microgeo</td><td>98.70691</td><td>32.50087</td><td>0.6553648</td><td>0.1580563</td><td>0.00502336</td><td>45</td></tr>\n",
       "\t<tr><th scope=row>s2</th><td>98.20894</td><td>33.10321</td><td>138</td><td>Gridded.Map</td><td>microgeo</td><td>98.70691</td><td>32.50087</td><td>0.6553648</td><td>0.1580563</td><td>0.00502336</td><td>45</td></tr>\n",
       "\t<tr><th scope=row>s3</th><td>98.20894</td><td>33.10321</td><td>138</td><td>Gridded.Map</td><td>microgeo</td><td>98.70691</td><td>32.50087</td><td>0.6553648</td><td>0.1580563</td><td>0.00502336</td><td>45</td></tr>\n",
       "\t<tr><th scope=row>s4</th><td>98.20894</td><td>33.10321</td><td>138</td><td>Gridded.Map</td><td>microgeo</td><td>98.70691</td><td>32.50087</td><td>0.6553648</td><td>0.1580563</td><td>0.00502336</td><td>45</td></tr>\n",
       "\t<tr><th scope=row>s5</th><td>98.20894</td><td>33.10321</td><td>138</td><td>Gridded.Map</td><td>microgeo</td><td>98.70691</td><td>32.50087</td><td>0.6553648</td><td>0.1580563</td><td>0.00502336</td><td>45</td></tr>\n",
       "\t<tr><th scope=row>s6</th><td>98.20639</td><td>33.10280</td><td>138</td><td>Gridded.Map</td><td>microgeo</td><td>98.70691</td><td>32.50087</td><td>0.6553648</td><td>0.1580563</td><td>0.00502336</td><td>45</td></tr>\n",
       "</tbody>\n",
       "</table>\n"
      ],
      "text/latex": [
       "A data.frame: 6 × 11\n",
       "\\begin{tabular}{r|lllllllllll}\n",
       "  & longitude & latitude & NAME & TYPE & FMTS & X.CENTER & Y.CENTER & bray\\_mean & bray\\_sd & bray\\_se & sample.num\\\\\n",
       "  & <dbl> & <dbl> & <chr> & <chr> & <chr> & <dbl> & <dbl> & <dbl> & <dbl> & <dbl> & <int>\\\\\n",
       "\\hline\n",
       "\ts1 & 98.20894 & 33.10321 & 138 & Gridded.Map & microgeo & 98.70691 & 32.50087 & 0.6553648 & 0.1580563 & 0.00502336 & 45\\\\\n",
       "\ts2 & 98.20894 & 33.10321 & 138 & Gridded.Map & microgeo & 98.70691 & 32.50087 & 0.6553648 & 0.1580563 & 0.00502336 & 45\\\\\n",
       "\ts3 & 98.20894 & 33.10321 & 138 & Gridded.Map & microgeo & 98.70691 & 32.50087 & 0.6553648 & 0.1580563 & 0.00502336 & 45\\\\\n",
       "\ts4 & 98.20894 & 33.10321 & 138 & Gridded.Map & microgeo & 98.70691 & 32.50087 & 0.6553648 & 0.1580563 & 0.00502336 & 45\\\\\n",
       "\ts5 & 98.20894 & 33.10321 & 138 & Gridded.Map & microgeo & 98.70691 & 32.50087 & 0.6553648 & 0.1580563 & 0.00502336 & 45\\\\\n",
       "\ts6 & 98.20639 & 33.10280 & 138 & Gridded.Map & microgeo & 98.70691 & 32.50087 & 0.6553648 & 0.1580563 & 0.00502336 & 45\\\\\n",
       "\\end{tabular}\n"
      ],
      "text/markdown": [
       "\n",
       "A data.frame: 6 × 11\n",
       "\n",
       "| <!--/--> | longitude &lt;dbl&gt; | latitude &lt;dbl&gt; | NAME &lt;chr&gt; | TYPE &lt;chr&gt; | FMTS &lt;chr&gt; | X.CENTER &lt;dbl&gt; | Y.CENTER &lt;dbl&gt; | bray_mean &lt;dbl&gt; | bray_sd &lt;dbl&gt; | bray_se &lt;dbl&gt; | sample.num &lt;int&gt; |\n",
       "|---|---|---|---|---|---|---|---|---|---|---|---|\n",
       "| s1 | 98.20894 | 33.10321 | 138 | Gridded.Map | microgeo | 98.70691 | 32.50087 | 0.6553648 | 0.1580563 | 0.00502336 | 45 |\n",
       "| s2 | 98.20894 | 33.10321 | 138 | Gridded.Map | microgeo | 98.70691 | 32.50087 | 0.6553648 | 0.1580563 | 0.00502336 | 45 |\n",
       "| s3 | 98.20894 | 33.10321 | 138 | Gridded.Map | microgeo | 98.70691 | 32.50087 | 0.6553648 | 0.1580563 | 0.00502336 | 45 |\n",
       "| s4 | 98.20894 | 33.10321 | 138 | Gridded.Map | microgeo | 98.70691 | 32.50087 | 0.6553648 | 0.1580563 | 0.00502336 | 45 |\n",
       "| s5 | 98.20894 | 33.10321 | 138 | Gridded.Map | microgeo | 98.70691 | 32.50087 | 0.6553648 | 0.1580563 | 0.00502336 | 45 |\n",
       "| s6 | 98.20639 | 33.10280 | 138 | Gridded.Map | microgeo | 98.70691 | 32.50087 | 0.6553648 | 0.1580563 | 0.00502336 | 45 |\n",
       "\n"
      ],
      "text/plain": [
       "   longitude latitude NAME TYPE        FMTS     X.CENTER Y.CENTER bray_mean\n",
       "s1 98.20894  33.10321 138  Gridded.Map microgeo 98.70691 32.50087 0.6553648\n",
       "s2 98.20894  33.10321 138  Gridded.Map microgeo 98.70691 32.50087 0.6553648\n",
       "s3 98.20894  33.10321 138  Gridded.Map microgeo 98.70691 32.50087 0.6553648\n",
       "s4 98.20894  33.10321 138  Gridded.Map microgeo 98.70691 32.50087 0.6553648\n",
       "s5 98.20894  33.10321 138  Gridded.Map microgeo 98.70691 32.50087 0.6553648\n",
       "s6 98.20639  33.10280 138  Gridded.Map microgeo 98.70691 32.50087 0.6553648\n",
       "   bray_sd   bray_se    sample.num\n",
       "s1 0.1580563 0.00502336 45        \n",
       "s2 0.1580563 0.00502336 45        \n",
       "s3 0.1580563 0.00502336 45        \n",
       "s4 0.1580563 0.00502336 45        \n",
       "s5 0.1580563 0.00502336 45        \n",
       "s6 0.1580563 0.00502336 45        "
      ]
     },
     "metadata": {},
     "output_type": "display_data"
    }
   ],
   "source": [
    "# Extract metadata from a gridded map\n",
    "# Rownames are sample IDs\n",
    "# This new matadata table can be used for subsequent statistical analysis\n",
    "metadata.from.g.mx <- gridded.map.mean4mx %>% extract_metadata_from_map(met = dataset.dts.aliyun$met)\n",
    "head(metadata.from.g.mx)"
   ]
  }
 ],
 "metadata": {
  "kernelspec": {
   "display_name": "R",
   "language": "R",
   "name": "ir"
  },
  "language_info": {
   "codemirror_mode": "r",
   "file_extension": ".r",
   "mimetype": "text/x-r-source",
   "name": "R",
   "pygments_lexer": "r",
   "version": "4.1.2"
  }
 },
 "nbformat": 4,
 "nbformat_minor": 5
}
