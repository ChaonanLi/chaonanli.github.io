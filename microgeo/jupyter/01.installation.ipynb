{
 "cells": [
  {
   "cell_type": "markdown",
   "id": "ecdf579a-a5d0-4297-bf6b-dcd9116a15b7",
   "metadata": {},
   "source": [
    "# Install microgeo R package and its dependencies"
   ]
  },
  {
   "cell_type": "markdown",
   "id": "2e389b2d-f4af-4193-84a9-b9a770747703",
   "metadata": {},
   "source": [
    "  "
   ]
  },
  {
   "cell_type": "markdown",
   "id": "7f72a1ac-3e26-40fc-9532-c8598609b818",
   "metadata": {},
   "source": [
    "The [microgeo](https://github.com/ChaonanLi/microgeo) R package warps `ggplot2` and `ggspatial`, and other R packages involved in geographic information system (GIS) and machine learning such as `gstat`, `raster`, `terra`, `sf`, `sp` and `caret`. It permits the microbial biogeographical trait calculation, spatial data collection, and spatial interpolation, machine learning modeling/prediction and visualization for microbial biogeographical traits. Specifically, the [microgeo](https://github.com/ChaonanLi/microgeo) provides the flexible visualization methods for microbial traits onto maps, e.g., gridded-based visualization, spatial interpolation and machine learning, and it is not limited to those traits calculated by [microgeo](https://github.com/ChaonanLi/microgeo) package itself. Users can rapidly visualize any microbial traits calculated by other tools onto maps, and also can analyze microbiome dataset in conjunction with the data calculated by [microgeo](https://github.com/ChaonanLi/microgeo) R package. The [microgeo](https://github.com/ChaonanLi/microgeo) is currently undergoing continuous developments and updates. We welcome any ideas and suggestions. If you find any errors during use, please submit them to [GitHub Issues](https://github.com/ChaonanLi/microgeo/issues) or [Gitee Issues](https://gitee.com/bioape/microgeo/issues). \n",
    "\n",
    "![RTools](../img/microgeo-workflow.png)\n",
    "\n",
    "The [microgeo](https://github.com/ChaonanLi/microgeo) R package requires `R >= 4.1.0` and several dependent R packages, and it is now available on both [GitHub](https://github.com/ChaonanLi/microgeo) and [Gitee](https://gitee.com/bioape/microgeo). The installation may take a few minutes because the dependencies, especially the installation on an Ubuntu OS. Please be patient and wait for the installation process to complete. If the installation is interrupted, you may need to install several libraries. Please pay attention to the prompts during the installation process for guidance. \n",
    "\n",
    "The [microgeo](https://github.com/ChaonanLi/microgeo) R package has been tested in the following environments:\n",
    "\n",
    "|CPU\t            |Cores\t                |Memory (GB) |Operate system               |Architecture |R version     |\n",
    "|-------------------|-----------------------|------------|-----------------------------|-------------|--------------|\n",
    "|AMD EPYC 7Y43      |8 cores 16 threads     |16\t         |Windows 10 (Virtual Machine) |x86          |4.3.2         |\n",
    "|AMD EPYC 7Y43      |8 cores 16 threads     |16\t         |Windows 11 (Virtual Machine) |x86          |4.3.2         |\n",
    "|Intel Core i5-5350U|2 cores 4 threads      |8\t         |macOS 12.7.2                 |x86          |4.3.2         |\n",
    "|Apple M2 Pro       |10 cores 20 threads    |16          |macOS 14.0                   |arm          |4.3.2         |\n",
    "|Apple M2           |8 cores 16 threads     |16\t         |macOS 13.5.2                 |arm          |4.3.2         |\n",
    "|AMD EPYC 7Y43      |92 cores 192 threads   |1024        |Ubuntu 18.04                 |x86          |4.1.0 to 4.3.2|\n",
    "|AMD EPYC 7Y43      |92 cores 192 threads   |1024        |Ubuntu 20.04                 |x86          |4.1.0 to 4.3.2|\n",
    "|AMD EPYC 7Y43      |92 cores 192 threads   |1024        |Ubuntu 22.04                 |x86          |4.1.0 to 4.3.2|\n",
    "\n",
    "Before installing the [microgeo](https://github.com/ChaonanLi/microgeo) R package, there are a few additional steps to take. Here, we present the installation procedures on the three major operating systems."
   ]
  },
  {
   "cell_type": "markdown",
   "id": "97ea5a41-f51d-4427-b4e8-76ef915f4d44",
   "metadata": {},
   "source": [
    "## 1. Install dependencies"
   ]
  },
  {
   "cell_type": "markdown",
   "id": "0f6dc8bb-011e-4b8b-8358-91aa58c68eed",
   "metadata": {},
   "source": [
    "### 1.1 Install dependencies on Windows (64 bit, x86)"
   ]
  },
  {
   "cell_type": "markdown",
   "id": "cdd97190-d602-47b0-8296-9dbfb47f7de7",
   "metadata": {},
   "source": [
    "Before installing the [microgeo](https://github.com/ChaonanLi/microgeo) R package on a Windows OS, the [Git](https://git-scm.com/) and [RTools](https://cran.r-project.org/bin/windows/Rtools/) need to be installed. Notably, the version of [RTools](https://cran.r-project.org/bin/windows/Rtools/) must be compatible with the version of R base, and please pay attention to distinguish. For example, if your R version is 4.1.0, you should install the RTools 4.0; if your R version is 4.3.2, you should install RTools 4.3.\n",
    "\n",
    "![RTools](../img/rtools.png)"
   ]
  },
  {
   "cell_type": "markdown",
   "id": "070eb4b9-95ed-4e28-a3a2-2d7871b37682",
   "metadata": {},
   "source": [
    "### 1.2 Install dependencies on macOS（ARM and x86）"
   ]
  },
  {
   "cell_type": "markdown",
   "id": "77456840-bcac-4b4e-b546-5e56f2275b83",
   "metadata": {},
   "source": [
    "The installation of [microgeo](https://github.com/ChaonanLi/microgeo) R package on a macOS requires `Xcode Command Line Tools` and several system libraries. We need to install the `Xcode Command Line Tools` if it is not avaliable on your Mac. Just run the following codes in your terminal, and install `Xcode Command Line Tools` according to the prompt in the pop-up window\n",
    "\n",
    "```shell\n",
    "xcode-select --install\n",
    "```"
   ]
  },
  {
   "cell_type": "markdown",
   "id": "42722822-7e78-4e96-8c84-308087621b89",
   "metadata": {},
   "source": [
    "#### 1.2.1 Install macOS dependencies using `Homebrew`"
   ]
  },
  {
   "cell_type": "markdown",
   "id": "f7192a01-f803-406c-a130-a978a63b96b2",
   "metadata": {},
   "source": [
    "Usually, we can use the `Homebrew` to install the dependencies of [microgeo](https://github.com/ChaonanLi/microgeo) R package on a macOS. Firstly, we need to install the `Homebrew` if it is not avaliable on your Mac. Just run the following codes in your terminal. This step may take a few minutes, especially for the old versions of Mac."
   ]
  },
  {
   "cell_type": "markdown",
   "id": "2fe8b830-7bd4-4e3e-880e-c391b3a80508",
   "metadata": {},
   "source": [
    "```shell\n",
    "# Install the `Homebrew`\n",
    "# You may need to add `185.199.110.133 raw.githubusercontent.com` to `/etc/hosts` if the network can not connect to GitHub\n",
    "/bin/bash -c \"$(curl -fsSL https://raw.githubusercontent.com/Homebrew/install/HEAD/install.sh)\" \n",
    "\n",
    "# Configure `Homebrew` if the `brew` command is not avaliable in your therminal\n",
    "# The path of `brew` may be not the `/opt/homebrew/bin` in your Mac! \n",
    "# Run `dirname $(which brew)` to find a correct path on your macOS\n",
    "echo 'export PATH=\"/opt/homebrew/bin:$PATH\"' >> ~/.zshrc # The default terminal is `zsh` rather than `bash` in the new version of Mac; Run `echo $SHELL` to check it\n",
    "echo 'export PATH=\"/opt/homebrew/bin:$PATH\"' >> ~/.bash_profile # The default terminal is `bash` in the old version of Mac; Run `echo $SHELL` to check it\n",
    "source ~/.zshrc && source ~/.bash_profile\n",
    "\n",
    "# Check the version of `Homebrew`\n",
    "brew --version\n",
    "```"
   ]
  },
  {
   "cell_type": "markdown",
   "id": "edfb932c-94f2-45fc-af9a-a5cfb4f6c600",
   "metadata": {},
   "source": [
    "Switching the `Homebrew` package manager to a mirror or source within the country is often done to improve download speeds and reduce latency for users. `Homebrew` relies on external servers to fetch and install software packages, and using a local mirror can significantly enhance the installation process by utilizing servers located within the country. This helps to mitigate slow download speeds that may occur when fetching packages from international servers, resulting in a more efficient and faster software installation experience for users. Here's a specific example tailored for users in Mainland China.\n"
   ]
  },
  {
   "cell_type": "markdown",
   "id": "43ab451b-7976-4a80-b013-f7dfe27674ec",
   "metadata": {},
   "source": [
    "```shell\n",
    "# Check the default mirror or source of `Homebrew` \n",
    "# The default may be `https://github.com/Homebrew/brew.git`\n",
    "cd \"$(brew --repo)\" && git remote -v \n",
    "\n",
    "# Switch the default mirror to the Aliyun mirror\n",
    "git -C \"$(brew --repo)\" remote set-url origin https://mirrors.aliyun.com/homebrew/brew.git\n",
    "echo 'export HOMEBREW_BOTTLE_DOMAIN=https://mirrors.aliyun.com/homebrew/homebrew-bottles' >> ~/.zshrc\n",
    "echo 'export HOMEBREW_BOTTLE_DOMAIN=https://mirrors.aliyun.com/homebrew/homebrew-bottles' >> ~/.bash_profile\n",
    "source ~/.zshrc && source ~/.bash_profile\n",
    "\n",
    "# Update \n",
    "brew update\n",
    "\n",
    "# Sometimes, you may need to exit and re-enter the terminal for changes to take effect.\n",
    "# Run `cd \"$(brew --repo)\" && git remote -v` to check the changes before installing the system libraries using `brew`\n",
    "```"
   ]
  },
  {
   "cell_type": "markdown",
   "id": "e474034c-998f-4797-a434-9be487f9a8f0",
   "metadata": {},
   "source": [
    "Now, we can use `Homebrew` to install the system libraries required by [microgeo](https://github.com/ChaonanLi/microgeo) R packages. Just run the following codes."
   ]
  },
  {
   "cell_type": "markdown",
   "id": "1e80eac3-4c07-4f26-ab29-1fd0426752c0",
   "metadata": {},
   "source": [
    "```shell\n",
    "brew install gdal\n",
    "```"
   ]
  },
  {
   "cell_type": "markdown",
   "id": "7f57cf0d-30f0-4f66-aaac-08123f43bdd5",
   "metadata": {},
   "source": [
    "#### 1.2.2 Install macOS dependencies using `MacPorts`（**recommend**）"
   ]
  },
  {
   "cell_type": "markdown",
   "id": "ed24599f-ee0b-48c8-9f35-3710ecc8e64b",
   "metadata": {},
   "source": [
    "We also can use the [MacPorts](https://github.com/macports/macports-base/releases/tag/v2.8.1) to install the system libraries required by [microgeo](https://github.com/ChaonanLi/microgeo) R packages on a macOS. Please note that you must install a correct `MacPorts` version according to the version of your macOS. For example, I have a MacBook Pro with a macOS Sonoma v14.0, thus I need to install the `MacPorts-2.8.1-14-Sonoma.pkg`. Once the installation package is successfully downloaded, you only need to follow the installation wizard to complete the installation. **Please note: Remember to disconnect the network before installing, otherwise the installation process will be very, very slow！**"
   ]
  },
  {
   "cell_type": "markdown",
   "id": "1905f391-9991-44cf-b517-bb8d91ec1d2a",
   "metadata": {},
   "source": [
    "![RTools](../img/macports-install.png)"
   ]
  },
  {
   "cell_type": "markdown",
   "id": "0353d246-1d61-409c-a49e-7e65cdbe22f5",
   "metadata": {},
   "source": [
    "After successfully installing `MacPorts`, we need to add it to the system's environment variables. Otherwise, the `port` command can not be found in the terminal. Just run the following codes in your termal. \n",
    "\n",
    "```shell\n",
    "dirname $(which port) # Find the location of `port` command in your macOS. It may be `/opt/local/bin`\n",
    "echo 'export PATH=\"/opt/local/bin:/opt/local/sbin:$PATH\"' >> ~/.zshrc # The default terminal is `zsh` rather than `bash` in the new version of Mac; Run `echo $SHELL` to check it\n",
    "echo 'export PATH=\"/opt/local/bin:/opt/local/sbin:$PATH\"' >> ~/.bash_profile # The default terminal is `bash` in the old version of Mac; Run `echo $SHELL` to check it\n",
    "source ~/.zshrc && source ~/.bash_profile\n",
    "port version # check the version of `MacPorts`\n",
    "```"
   ]
  },
  {
   "cell_type": "markdown",
   "id": "b1f80e1a-ec08-4693-bb9b-900d6b9c7824",
   "metadata": {},
   "source": [
    "Now we can use the `MacPorts` to install system libraries required by [microgeo](https://github.com/ChaonanLi/microgeo) R packages on a macOS. Just run the following codes in your termal."
   ]
  },
  {
   "cell_type": "markdown",
   "id": "ea43bef6-3163-47ad-ab17-aad6c1a5e865",
   "metadata": {},
   "source": [
    "```shell\n",
    "sudo port selfupdate\n",
    "sudo port install gdal +hdf4 +hdf5 +netcdf\n",
    "```"
   ]
  },
  {
   "cell_type": "markdown",
   "id": "b06ac661-e132-46e9-9de7-65fc1621f4be",
   "metadata": {},
   "source": [
    "Please note that in macOS, due to different system versions, additional system libraries may be required (such as `subversion`, `proj`, `geos` and `pkg-config`, etc.). Pay attention to the prompts during the installation process. If you encounter dependency installation failures due to missing library files, please use the `brew` or `port` (recommend) command to install the required libraries before installing the dependencies of [microgeo](https://github.com/ChaonanLi/microgeo) R packages."
   ]
  },
  {
   "cell_type": "markdown",
   "id": "a379486c-0db1-4564-9cf3-02019018c5d6",
   "metadata": {},
   "source": [
    "### 1.3 Install dependencies on Ubuntu OS (64 bit, x86)"
   ]
  },
  {
   "cell_type": "markdown",
   "id": "a60b9236-de62-4360-995b-3de50690aa44",
   "metadata": {},
   "source": [
    "The installation of [microgeo](https://github.com/ChaonanLi/microgeo) R package on an Ubuntu OS may require several libraries including `libgeos-dev, libgdal-dev, libudunits2-dev, uuid-dev, libharfbuzz-dev, libfribidi-dev, libv8-dev, cmake, libgit2-dev and gdal-bin.` Just run the following codes in your terminal to install them.\n",
    "\n",
    "```shell\n",
    "sudo apt update\n",
    "sudo apt install -y libgeos-dev libgdal-dev libudunits2-dev uuid-dev libharfbuzz-dev libfribidi-dev libv8-dev cmake libgit2-dev gdal-bin\n",
    "```"
   ]
  },
  {
   "cell_type": "markdown",
   "id": "2e6447f0-e266-4b4a-a7d9-368d27dba563",
   "metadata": {},
   "source": [
    "### 1.4 Check the capcibility of `GDAL` (macOS and Ubuntu)"
   ]
  },
  {
   "cell_type": "markdown",
   "id": "85974b44-ffc1-4145-8afc-276bf6885361",
   "metadata": {},
   "source": [
    "For Linux (tested only on Ubuntu 18.04，20.04 and 22.04) and macOS operating systems, using the [microgeo](https://github.com/ChaonanLi/microgeo) R packages also requires the `GDAL version 3.4.1` or above. You can check the current GDAL version on your system by using the command `gdalinfo --version`. **More importantly, the GDAL installed on your system needs to support both HDF4 and HDF5. You can check if the current version of GDAL meets this requirement by using the command `gdalinfo --formats | grep HDF`**."
   ]
  },
  {
   "cell_type": "markdown",
   "id": "2244521f-2f03-4b13-a683-a451348cedbe",
   "metadata": {},
   "source": [
    "![RTools](../img/gdal-supports.png)"
   ]
  },
  {
   "cell_type": "markdown",
   "id": "ffa2c1d5-845a-4d62-9a0b-5abf6cf47276",
   "metadata": {},
   "source": [
    "After our testing, the GDAL installed using `brew` on macOS does not by default support HDF4, resulting in errors when processing remote sensing images. This is why we recommend users to install the system dependencies required for the [microgeo](https://github.com/ChaonanLi/microgeo) R packages using `MacPorts`."
   ]
  },
  {
   "cell_type": "markdown",
   "id": "5a67a12c-14bb-41e2-8418-20f78cd45f6d",
   "metadata": {},
   "source": [
    "## 2. Install microgeo R package"
   ]
  },
  {
   "cell_type": "markdown",
   "id": "a9918e80-2ddd-4cf6-ac51-1195637d12e6",
   "metadata": {},
   "source": [
    "Now, the [microgeo](https://github.com/ChaonanLi/microgeo) R package can be installed. It is important to be aware that the installation of [microgeo](https://github.com/ChaonanLi/microgeo) on the Ubuntu OS may take a considerable amount of time, given the need to build numerous dependencies. Your patience is appreciated while waiting for the installation process to conclude."
   ]
  },
  {
   "cell_type": "code",
   "execution_count": 1,
   "id": "b419bf94-09e4-44f4-919f-f53e589f8d2f",
   "metadata": {
    "execution": {
     "iopub.execute_input": "2024-06-08T14:17:23.220732Z",
     "iopub.status.busy": "2024-06-08T14:17:23.219206Z",
     "iopub.status.idle": "2024-06-08T14:17:23.262496Z",
     "shell.execute_reply": "2024-06-08T14:17:23.261415Z"
    }
   },
   "outputs": [],
   "source": [
    "# Install the `remotes` R package as the microgeo R package is now available on both GitHub and Gitee\n",
    "if (!suppressMessages(require('remotes', character.only = TRUE))) \n",
    "    install.packages('remotes', dependencies = TRUE, repos = \"http://cran.rstudio.com/\")"
   ]
  },
  {
   "cell_type": "code",
   "execution_count": 2,
   "id": "fc21ab86-ee9b-411f-a9ca-79178a6d0c0d",
   "metadata": {
    "execution": {
     "iopub.execute_input": "2024-06-08T14:17:23.284362Z",
     "iopub.status.busy": "2024-06-08T14:17:23.264225Z",
     "iopub.status.idle": "2024-06-08T14:17:23.294342Z",
     "shell.execute_reply": "2024-06-08T14:17:23.293497Z"
    }
   },
   "outputs": [],
   "source": [
    "# Install the `mcirogeo` R package from GitHub\n",
    "if (!suppressMessages(require('microgeo', character.only = TRUE)))\n",
    "     remotes::install_github('ChaonanLi/microgeo') "
   ]
  },
  {
   "cell_type": "markdown",
   "id": "48947974-a13f-40c5-b2c2-13d3403d08a2",
   "metadata": {},
   "source": [
    "For users in mainland China, installing the [microgeo](https://github.com/ChaonanLi/microgeo) R package from [GitHub](https://github.com/ChaonanLi/microgeo) can be challenging due to network issues. To address this problem, there is a copy of the microgeo R package source code available on [Gitee](https://gitee.com/bioape/microgeo) as well. Users in mainland China can directly install [microgeo](https://github.com/ChaonanLi/microgeo) R package from [Gitee](https://gitee.com/bioape/microgeo). Just run the following codes in your R console."
   ]
  },
  {
   "cell_type": "code",
   "execution_count": 3,
   "id": "4de8e7e3-0942-4c96-8dc0-6ff3cc949fc5",
   "metadata": {
    "execution": {
     "iopub.execute_input": "2024-06-08T14:17:23.296331Z",
     "iopub.status.busy": "2024-06-08T14:17:23.295643Z",
     "iopub.status.idle": "2024-06-08T14:17:23.301512Z",
     "shell.execute_reply": "2024-06-08T14:17:23.300682Z"
    }
   },
   "outputs": [],
   "source": [
    "# Install the `mcirogeo` R package from Gitee\n",
    "if (!suppressMessages(require('microgeo', character.only = TRUE)))\n",
    "    remotes::install_git(\"https://gitee.com/bioape/microgeo\")"
   ]
  },
  {
   "cell_type": "markdown",
   "id": "e8874a3e-cfea-4970-b129-dc54e6f67df5",
   "metadata": {},
   "source": [
    "Since several dependent R packages are not avaliable on `CRAN`, there are a few additional steps to use the [microgeo](https://github.com/ChaonanLi/microgeo) R package. Just run the following codes in your R console. Sometimes, when installing packages in RStudio, you may encounter situations where certain library files cannot be found. In such cases, you can simply switch to your terminal to perform the installation."
   ]
  },
  {
   "cell_type": "code",
   "execution_count": 4,
   "id": "69d27a55-42d8-4606-9943-553faa481aaf",
   "metadata": {
    "execution": {
     "iopub.execute_input": "2024-06-08T14:17:23.303460Z",
     "iopub.status.busy": "2024-06-08T14:17:23.302773Z",
     "iopub.status.idle": "2024-06-08T14:17:27.729316Z",
     "shell.execute_reply": "2024-06-08T14:17:27.728257Z"
    }
   },
   "outputs": [],
   "source": [
    "# Install additional R packages required by `microgeo`\n",
    "source(system.file(\"scripts\", \"install-extra-pkgs.R\", package = \"microgeo\")) "
   ]
  },
  {
   "cell_type": "markdown",
   "id": "9a016082-4f65-4694-9bed-eb87ca1f1e3e",
   "metadata": {},
   "source": [
    "Having successfully installed the [microgeo](https://github.com/ChaonanLi/microgeo) R package, we can now delve into using it to create geographic maps. However, it is important to note that several functions may require significant computational resources. Personal computers might not meet the computational demands, so we recommend users to utilize these functions from the [microgeo](https://github.com/ChaonanLi/microgeo) R package on a workstation or server. "
   ]
  }
 ],
 "metadata": {
  "kernelspec": {
   "display_name": "R",
   "language": "R",
   "name": "ir"
  },
  "language_info": {
   "codemirror_mode": "r",
   "file_extension": ".r",
   "mimetype": "text/x-r-source",
   "name": "R",
   "pygments_lexer": "r",
   "version": "4.1.2"
  }
 },
 "nbformat": 4,
 "nbformat_minor": 5
}
