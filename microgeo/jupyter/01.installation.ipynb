{
 "cells": [
  {
   "cell_type": "markdown",
   "id": "ecdf579a-a5d0-4297-bf6b-dcd9116a15b7",
   "metadata": {},
   "source": [
    "# Install microgeo R package and its dependencies"
   ]
  },
  {
   "cell_type": "markdown",
   "id": "2e389b2d-f4af-4193-84a9-b9a770747703",
   "metadata": {},
   "source": [
    "  "
   ]
  },
  {
   "cell_type": "markdown",
   "id": "7f72a1ac-3e26-40fc-9532-c8598609b818",
   "metadata": {},
   "source": [
    "The [microgeo](https://github.com/ChaonanLi/microgeo) R package warps `ggplot2` and `ggspatial`, and other R packages involved in geographic information system (GIS) and machine learning such as `gstat`, `raster`, `terra`, `sf`, `sp` and `caret`. It permits the microbial biogeographical trait calculation, spatial data collection, and spatial interpolation, machine learning modeling/prediction and visualization for microbial biogeographical traits. Specifically, the [microgeo](https://github.com/ChaonanLi/microgeo) provides the flexible visualization methods for microbial traits onto maps, e.g., gridded-based visualization, spatial interpolation and machine learning, and it is not limited to those traits calculated by [microgeo](https://github.com/ChaonanLi/microgeo) package itself. Users can rapidly visualize any microbial traits calculated by other tools onto maps, and also can analyze microbiome dataset in conjunction with the data calculated by [microgeo](https://github.com/ChaonanLi/microgeo) R package. The [microgeo](https://github.com/ChaonanLi/microgeo) is currently undergoing continuous developments and updates. We welcome any ideas and suggestions. If you find any errors during use, please submit them to [GitHub Issues](https://github.com/ChaonanLi/microgeo/issues) or [Gitee Issues](https://gitee.com/bioape/microgeo/issues). \n",
    "\n",
    "![RTools](../img/microgeo-workflow.png)\n",
    "\n",
    "The [microgeo](https://github.com/ChaonanLi/microgeo) R package requires `R >= 4.1.0` and several dependent R packages, and it is now available on both [GitHub](https://github.com/ChaonanLi/microgeo) and [Gitee](https://gitee.com/bioape/microgeo). The installation may take a few minutes because the dependencies, especially the installation on an Ubuntu OS. Please be patient and wait for the installation process to complete. If the installation is interrupted, you may need to install several libraries. Please pay attention to the prompts during the installation process for guidance. \n",
    "\n",
    "The [microgeo](https://github.com/ChaonanLi/microgeo) R package has been tested in the following environments:\n",
    "\n",
    "|CPU\t            |Cores\t                |Memory (GB) |Operate system|Architecture  |R version     |Status |\n",
    "|-------------------|-----------------------|------------|--------------|--------------|--------------|---------------------------------------------------------------------------------|\n",
    "|AMD 5700G          |8 cores 16 threads     |32\t         |Windows 10    |x86           |4.3.2         |Very well!                                                                       |\n",
    "|AMD 5700G          |8 cores 16 threads     |32\t         |Windows 11    |x86           |4.3.2         |Very well!                                                                       |\n",
    "|Intel Core i5-5350U|2 cores 4 threads      |8\t         |macOS 12.7.2  |x86           |4.3.2         |Very well!                                                                       |\n",
    "|Apple M2 Pro       |10 cores 20 threads    |16          |macOS 14.0    |arm           |4.3.2         |The `get_modis_*_metrics()` runs very slowly because of the `terra::mosaic()`.   |\n",
    "|Apple M2           |8 cores 16 threads     |16\t         |macOS 13.5.2  |arm           |4.3.2         |The `get_modis_*_metrics()` runs very slowly because of the `terra::mosaic()`.   |\n",
    "|AMD EPYC 7Y43      |92 cores 192 threads   |1024        |Ubuntu 18.04  |x86           |4.1.0 to 4.3.2|Very well!                                                                       |\n",
    "|AMD EPYC 7Y43      |92 cores 192 threads   |1024        |Ubuntu 20.04  |x86           |4.1.0 to 4.3.2|Very well!                                                                       |\n",
    "|AMD EPYC 7Y43      |92 cores 192 threads   |1024        |Ubuntu 22.04  |x86           |4.1.0 to 4.3.2|Very well!                                                                       |\n",
    "\n",
    "Before installing the [microgeo](https://github.com/ChaonanLi/microgeo) R package, there are a few additional steps to take. Here, we present the installation procedures on the three major operating systems."
   ]
  },
  {
   "cell_type": "markdown",
   "id": "97ea5a41-f51d-4427-b4e8-76ef915f4d44",
   "metadata": {},
   "source": [
    "## 1. Install dependencies"
   ]
  },
  {
   "cell_type": "markdown",
   "id": "0f6dc8bb-011e-4b8b-8358-91aa58c68eed",
   "metadata": {},
   "source": [
    "### 1.1 Install dependencies on Windows (64 bit, x86)"
   ]
  },
  {
   "cell_type": "markdown",
   "id": "cdd97190-d602-47b0-8296-9dbfb47f7de7",
   "metadata": {},
   "source": [
    "Before installing the [microgeo](https://github.com/ChaonanLi/microgeo) R package on a Windows OS, the [Git](https://git-scm.com/) and [RTools](https://cran.r-project.org/bin/windows/Rtools/) need to be installed. Notably, the version of [RTools](https://cran.r-project.org/bin/windows/Rtools/) must be compatible with the version of R base, and please pay attention to distinguish. For example, if your R version is 4.1.0, you should install the RTools 4.0; if your R version is 4.3.2, you should install RTools 4.3.\n",
    "\n",
    "![RTools](../img/rtools.png)"
   ]
  },
  {
   "cell_type": "markdown",
   "id": "070eb4b9-95ed-4e28-a3a2-2d7871b37682",
   "metadata": {},
   "source": [
    "### 1.2 Install dependencies on MacOS（ARM and x86）"
   ]
  },
  {
   "cell_type": "markdown",
   "id": "1e80eac3-4c07-4f26-ab29-1fd0426752c0",
   "metadata": {},
   "source": [
    "The installation of [microgeo](https://github.com/ChaonanLi/microgeo) R package on a MacOS requires `Xcode Command Line Tools` and several system libraries including `gdal`, `proj`, `pkg-config` and `geos`. The installation steps are as follows:\n",
    "\n",
    "First, we need to install the `Xcode Command Line Tools` if it is not avaliable on your Mac. Just run the following codes in your terminal, and install `Xcode Command Line Tools` according to the prompt in the pop-up window\n",
    "\n",
    "```shell\n",
    "xcode-select --install\n",
    "```\n",
    "\n",
    "Then, we need to install the `Homebrew` if it is not avaliable on your Mac. Just run the following codes in your terminal. This step may take a few minutes, especially for the old versions of Mac.\n",
    "\n",
    "```shell\n",
    "# Install `Homebrew`\n",
    "/bin/bash -c \"$(curl -fsSL https://raw.githubusercontent.com/Homebrew/install/HEAD/install.sh)\" # you may need to add `185.199.110.133 raw.githubusercontent.com` to `/etc/hosts`\n",
    "\n",
    "# Configure `Homebrew` if the `brew` command is not avaliable in your therminal\n",
    "# The path of `brew` may be not the `/opt/homebrew/bin` in your Mac! Run `dirname $(which brew)` to find the correct path \n",
    "echo 'export PATH=\"/opt/homebrew/bin:$PATH\"' >> ~/.zshrc # The default terminal is `zsh` rather than `bash` in the new version of Mac; Run `echo $SHELL` to check it\n",
    "echo 'export PATH=\"/opt/homebrew/bin:$PATH\"' >> ~/.bash_profile # The default terminal is `bash` in the old version of Mac; Run `echo $SHELL` to check it\n",
    "\n",
    "# Check the version of `Homebrew`\n",
    "brew --version\n",
    "```\n",
    "\n",
    "Switching the `Homebrew` package manager to a mirror or source within the country is often done to improve download speeds and reduce latency for users. `Homebrew` relies on external servers to fetch and install software packages, and using a local mirror can significantly enhance the installation process by utilizing servers located within the country. This helps to mitigate slow download speeds that may occur when fetching packages from international servers, resulting in a more efficient and faster software installation experience for users. Here's a specific example tailored for users in Mainland China.\n",
    "\n",
    "```shell\n",
    "# Check the default mirror or source of `Homebrew`; The default may be `https://github.com/Homebrew/brew.git`\n",
    "cd \"$(brew --repo)\" && git remote -v \n",
    "\n",
    "# Switch the default mirror to the Aliyun mirror\n",
    "git -C \"$(brew --repo)\" remote set-url origin https://mirrors.aliyun.com/homebrew/brew.git\n",
    "echo 'export HOMEBREW_BOTTLE_DOMAIN=https://mirrors.aliyun.com/homebrew/homebrew-bottles' >> ~/.zshrc\n",
    "echo 'export HOMEBREW_BOTTLE_DOMAIN=https://mirrors.aliyun.com/homebrew/homebrew-bottles' >> ~/.bash_profile\n",
    "source ~/.zshrc && source ~/.bash_profile\n",
    "\n",
    "# Update \n",
    "brew update\n",
    "\n",
    "# Sometimes, you may need to exit and re-enter the terminal for changes to take effect.\n",
    "# Run `cd \"$(brew --repo)\" && git remote -v` to check the changes before installing the system libraries using `brew`\n",
    "```\n",
    "\n",
    "Now, we can use `Homebrew` to install the system libraries required by [microgeo](https://github.com/ChaonanLi/microgeo) R packages. Just run the following codes.\n",
    "\n",
    "```shell\n",
    "brew install geos\n",
    "# brew install gdal\n",
    "# brew install proj\n",
    "# brew install pkg-config\n",
    "```"
   ]
  },
  {
   "cell_type": "markdown",
   "id": "a379486c-0db1-4564-9cf3-02019018c5d6",
   "metadata": {},
   "source": [
    "### 1.3 Install dependencies on Ubuntu OS (64 bit, x86)"
   ]
  },
  {
   "cell_type": "markdown",
   "id": "a60b9236-de62-4360-995b-3de50690aa44",
   "metadata": {},
   "source": [
    "The installation of [microgeo](https://github.com/ChaonanLi/microgeo) R package on an Ubuntu OS may require several libraries including `libgeos-dev, libgdal-dev, libudunits2-dev, uuid-dev, libharfbuzz-dev, libfribidi-dev, libv8-dev, cmake and libgit2-dev.` Just run the following codes in your terminal to install them.\n",
    "\n",
    "```shell\n",
    "sudo apt update\n",
    "sudo apt install -y libgeos-dev libgdal-dev libudunits2-dev uuid-dev libharfbuzz-dev libfribidi-dev libv8-dev cmake libgit2-dev\n",
    "```"
   ]
  },
  {
   "cell_type": "markdown",
   "id": "5a67a12c-14bb-41e2-8418-20f78cd45f6d",
   "metadata": {},
   "source": [
    "## 2. Install microgeo R package"
   ]
  },
  {
   "cell_type": "markdown",
   "id": "a9918e80-2ddd-4cf6-ac51-1195637d12e6",
   "metadata": {},
   "source": [
    "Now, the [microgeo](https://github.com/ChaonanLi/microgeo) R package can be installed. It is important to be aware that the installation of [microgeo](https://github.com/ChaonanLi/microgeo) on the Ubuntu OS may take a considerable amount of time, given the need to build numerous dependencies. Your patience is appreciated while waiting for the installation process to conclude."
   ]
  },
  {
   "cell_type": "code",
   "execution_count": 1,
   "id": "b419bf94-09e4-44f4-919f-f53e589f8d2f",
   "metadata": {
    "execution": {
     "iopub.execute_input": "2024-01-08T13:18:27.049753Z",
     "iopub.status.busy": "2024-01-08T13:18:27.048348Z",
     "iopub.status.idle": "2024-01-08T13:18:27.079913Z",
     "shell.execute_reply": "2024-01-08T13:18:27.078649Z"
    }
   },
   "outputs": [],
   "source": [
    "# Install the `remotes` R package as the microgeo R package is now available on both GitHub and Gitee\n",
    "if (!suppressMessages(require('remotes', character.only = TRUE))) \n",
    "    install.packages('remotes', dependencies = TRUE, repos = \"http://cran.rstudio.com/\")"
   ]
  },
  {
   "cell_type": "code",
   "execution_count": 2,
   "id": "fc21ab86-ee9b-411f-a9ca-79178a6d0c0d",
   "metadata": {
    "execution": {
     "iopub.execute_input": "2024-01-08T13:18:27.105103Z",
     "iopub.status.busy": "2024-01-08T13:18:27.081672Z",
     "iopub.status.idle": "2024-01-08T13:18:27.115762Z",
     "shell.execute_reply": "2024-01-08T13:18:27.114894Z"
    }
   },
   "outputs": [],
   "source": [
    "# Install the `mcirogeo` R package from GitHub\n",
    "if (!suppressMessages(require('microgeo', character.only = TRUE)))\n",
    "     remotes::install_github('ChaonanLi/microgeo') "
   ]
  },
  {
   "cell_type": "markdown",
   "id": "48947974-a13f-40c5-b2c2-13d3403d08a2",
   "metadata": {},
   "source": [
    "For users in mainland China, installing the [microgeo](https://github.com/ChaonanLi/microgeo) R package from [GitHub](https://github.com/ChaonanLi/microgeo) can be challenging due to network issues. To address this problem, there is a copy of the microgeo R package source code available on [Gitee](https://gitee.com/bioape/microgeo) as well. Users in mainland China can directly install [microgeo](https://github.com/ChaonanLi/microgeo) R package from [Gitee](https://gitee.com/bioape/microgeo). Just run the following codes in your R console."
   ]
  },
  {
   "cell_type": "code",
   "execution_count": 3,
   "id": "4de8e7e3-0942-4c96-8dc0-6ff3cc949fc5",
   "metadata": {
    "execution": {
     "iopub.execute_input": "2024-01-08T13:18:27.117776Z",
     "iopub.status.busy": "2024-01-08T13:18:27.117087Z",
     "iopub.status.idle": "2024-01-08T13:18:27.123158Z",
     "shell.execute_reply": "2024-01-08T13:18:27.122315Z"
    }
   },
   "outputs": [],
   "source": [
    "# Install the `mcirogeo` R package from Gitee\n",
    "if (!suppressMessages(require('microgeo', character.only = TRUE)))\n",
    "    remotes::install_git(\"https://gitee.com/bioape/microgeo\")"
   ]
  },
  {
   "cell_type": "markdown",
   "id": "e8874a3e-cfea-4970-b129-dc54e6f67df5",
   "metadata": {},
   "source": [
    "Since several dependent R packages are not avaliable on `CRAN`, there are a few additional steps to use the [microgeo](https://github.com/ChaonanLi/microgeo) R package. Just run the following codes in your R console."
   ]
  },
  {
   "cell_type": "code",
   "execution_count": 4,
   "id": "69d27a55-42d8-4606-9943-553faa481aaf",
   "metadata": {
    "execution": {
     "iopub.execute_input": "2024-01-08T13:18:27.125134Z",
     "iopub.status.busy": "2024-01-08T13:18:27.124451Z",
     "iopub.status.idle": "2024-01-08T13:18:30.710055Z",
     "shell.execute_reply": "2024-01-08T13:18:30.709018Z"
    }
   },
   "outputs": [],
   "source": [
    "# Install additional R packages required by `microgeo`\n",
    "source(system.file(\"scripts\", \"install-extra-pkgs.R\", package = \"microgeo\")) "
   ]
  }
 ],
 "metadata": {
  "kernelspec": {
   "display_name": "R",
   "language": "R",
   "name": "ir"
  },
  "language_info": {
   "codemirror_mode": "r",
   "file_extension": ".r",
   "mimetype": "text/x-r-source",
   "name": "R",
   "pygments_lexer": "r",
   "version": "4.1.2"
  }
 },
 "nbformat": 4,
 "nbformat_minor": 5
}
