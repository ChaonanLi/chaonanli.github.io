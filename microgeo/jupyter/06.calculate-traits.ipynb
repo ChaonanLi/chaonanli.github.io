{
 "cells": [
  {
   "cell_type": "markdown",
   "id": "528188fd-1ef0-4bd8-ac6c-3261d461681f",
   "metadata": {},
   "source": [
    "# Calculate biogeographic traits"
   ]
  },
  {
   "cell_type": "markdown",
   "id": "68e968ae-f80a-4bab-a60d-83bd94f3dd37",
   "metadata": {},
   "source": [
    " "
   ]
  },
  {
   "cell_type": "markdown",
   "id": "b2c8dd1e-6d11-423b-a932-1fcd7bcda1fe",
   "metadata": {},
   "source": [
    "Our focus is on the spatial distribution of microbial biogeographic traits, so we also need to calculate several microbial community measures. The [microgeo](https://github.com/ChaonanLi/microgeo) R package provides some basic functions for calculating microbial relative abundance, diversity, and community assembly mechanism indicators. Of course, you can also visualize more microbial traits onto maps, not limited to the traits calculated by the [microgeo](https://github.com/ChaonanLi/microgeo) R package."
   ]
  },
  {
   "cell_type": "markdown",
   "id": "011bde4e-601e-432a-950f-aba7428308dd",
   "metadata": {},
   "source": [
    "Here we need three R packages for this section of [microgeo](https://github.com/ChaonanLi/microgeo) R package tutorial. Just run the following codes to import them into R environment."
   ]
  },
  {
   "cell_type": "code",
   "execution_count": 1,
   "id": "694d7806-2d1e-4e8a-99ef-cc58f622893f",
   "metadata": {
    "execution": {
     "iopub.execute_input": "2024-06-08T14:17:43.053407Z",
     "iopub.status.busy": "2024-06-08T14:17:43.050863Z",
     "iopub.status.idle": "2024-06-08T14:17:43.245364Z",
     "shell.execute_reply": "2024-06-08T14:17:43.244385Z"
    }
   },
   "outputs": [],
   "source": [
    "suppressMessages(require(\"magrittr\")) \n",
    "require(\"ggplot2\")  %>% suppressMessages()\n",
    "require(\"microgeo\") %>% suppressMessages()"
   ]
  },
  {
   "cell_type": "markdown",
   "id": "a9a8f656-ceb6-4bd6-b1f1-6ee1180422b5",
   "metadata": {},
   "source": [
    "If the Chinese characters cannot be displayed correctly, please run the following codes to set locale to `UTF-8`:"
   ]
  },
  {
   "cell_type": "code",
   "execution_count": 2,
   "id": "4f7406d1-79a2-45b7-974a-9969d0d671e0",
   "metadata": {
    "execution": {
     "iopub.execute_input": "2024-06-08T14:17:43.262189Z",
     "iopub.status.busy": "2024-06-08T14:17:43.246746Z",
     "iopub.status.idle": "2024-06-08T14:17:43.270192Z",
     "shell.execute_reply": "2024-06-08T14:17:43.269332Z"
    }
   },
   "outputs": [],
   "source": [
    "prev_locale <- Sys.setlocale(\"LC_CTYPE\", \"C.UTF-8\") "
   ]
  },
  {
   "cell_type": "markdown",
   "id": "c562b358-1cfd-45d0-8d89-764104cd9a36",
   "metadata": {},
   "source": [
    "We need a standard microgeo dataset for the presentations in the section of tutorial."
   ]
  },
  {
   "cell_type": "code",
   "execution_count": 3,
   "id": "8a6d5cef-d1e8-44a7-92bb-57097eab757b",
   "metadata": {
    "execution": {
     "iopub.execute_input": "2024-06-08T14:17:43.272263Z",
     "iopub.status.busy": "2024-06-08T14:17:43.271544Z",
     "iopub.status.idle": "2024-06-08T14:17:55.499776Z",
     "shell.execute_reply": "2024-06-08T14:17:55.498876Z"
    }
   },
   "outputs": [
    {
     "name": "stderr",
     "output_type": "stream",
     "text": [
      "\u001b[36mℹ\u001b[39m [2024-06-08 22:17:49] \u001b[34m\u001b[3m\u001b[34mINFO\u001b[34m\u001b[23m\u001b[39m ==> all samples fall within the map area!\n",
      "\n",
      "\u001b[36mℹ\u001b[39m [2024-06-08 22:17:49] \u001b[34m\u001b[3m\u001b[34mINFO\u001b[34m\u001b[23m\u001b[39m ==> dataset has been created successfully!\n",
      "\n",
      "\u001b[36mℹ\u001b[39m [2024-06-08 22:17:49] \u001b[34m\u001b[3m\u001b[34mINFO\u001b[34m\u001b[23m\u001b[39m ==> use `object %>% show_dataset()` to check the summary of dataset.\n",
      "\n",
      "\u001b[36mℹ\u001b[39m [2024-06-08 22:17:53] \u001b[34m\u001b[3m\u001b[34mINFO\u001b[34m\u001b[23m\u001b[39m ==> the ASV/gene abundance table has been rarefied with a sub-sample depth of 5310\n",
      "\n"
     ]
    },
    {
     "name": "stdout",
     "output_type": "stream",
     "text": [
      "\u001b[34m──\u001b[39m \u001b[34mThe Summary of Microgeo Dataset\u001b[39m \u001b[34m─────────────────────────────────────────────\u001b[39m\n"
     ]
    },
    {
     "name": "stderr",
     "output_type": "stream",
     "text": [
      "\u001b[36mℹ\u001b[39m object$mat: 6808 ASVs/genes and 1244 samples \u001b[32m\u001b[3m\u001b[32m[subsample depth: 5310]\u001b[32m\u001b[23m\u001b[39m\n",
      "\n",
      "\u001b[36mℹ\u001b[39m object$ant: 6808 ASVs/genes and 7 annotation levels (Kingdom, Phylum, Class, Order, Family, Genus, Species)\n",
      "\n",
      "\u001b[36mℹ\u001b[39m object$met: 1244 samples and 2 variables (longitude, latitude)\n",
      "\n",
      "\u001b[36mℹ\u001b[39m object$map: a SpatialPolygonsDataFrame with the CRS of '+proj=longlat +datum=WGS84 +no_defs'\n",
      "\n",
      "\u001b[36mℹ\u001b[39m object$phy: a phylogenetic tree with 6808 tip labels\n",
      "\n",
      "\u001b[36mℹ\u001b[39m object$env: 1244 samples and 10 variables\n",
      "\n"
     ]
    },
    {
     "name": "stdout",
     "output_type": "stream",
     "text": [
      "\n",
      "\u001b[44m• To check the summary of dataset, Replace `object` with the variable name of your dataset\u001b[49m\n",
      "\u001b[44m• For example, if the variable name is `dataset.dts`you can run `head(dataset.dts$met)` to check the content of `met`\u001b[49m\n"
     ]
    }
   ],
   "source": [
    "# Using the map downloaded from DataV.GeoAtlas\n",
    "data(qtp)\n",
    "map <- read_aliyun_map(adcode = c(540000, 630000, 510000)) %>% suppressMessages() \n",
    "dataset.dts.aliyun <- create_dataset(mat = qtp$asv, ant = qtp$tax, met = qtp$met, map = map,\n",
    "                                     phy = qtp$tre, env = qtp$env, lon = \"longitude\", lat = \"latitude\") \n",
    "dataset.dts.aliyun %<>% rarefy_count_table() \n",
    "dataset.dts.aliyun %<>% tidy_dataset()\n",
    "dataset.dts.aliyun %>% show_dataset()"
   ]
  },
  {
   "cell_type": "markdown",
   "id": "9836dd65-3ad1-46b9-aaad-eb27774a0a9f",
   "metadata": {},
   "source": [
    "## 1. Calculate the relative abundance"
   ]
  },
  {
   "cell_type": "markdown",
   "id": "34282341-bd72-4523-92d8-de8954a93c80",
   "metadata": {},
   "source": [
    "We implemented a function of `calc_rel_abund()`, which calculates the relative abundance of ASVs/genes at each of classification level. Just run the following codes."
   ]
  },
  {
   "cell_type": "code",
   "execution_count": 4,
   "id": "543e20f2-cc79-4e31-abfe-4d92d9906cbf",
   "metadata": {
    "execution": {
     "iopub.execute_input": "2024-06-08T14:17:55.502189Z",
     "iopub.status.busy": "2024-06-08T14:17:55.501301Z",
     "iopub.status.idle": "2024-06-08T14:18:00.973752Z",
     "shell.execute_reply": "2024-06-08T14:18:00.972852Z"
    }
   },
   "outputs": [
    {
     "data": {
      "text/html": [
       "<table class=\"dataframe\">\n",
       "<caption>A data.frame: 6 × 5</caption>\n",
       "<thead>\n",
       "\t<tr><th></th><th scope=col>p__</th><th scope=col>p__Acidobacteria</th><th scope=col>p__Actinobacteria</th><th scope=col>p__Armatimonadetes</th><th scope=col>p__Bacteroidetes</th></tr>\n",
       "\t<tr><th></th><th scope=col>&lt;dbl&gt;</th><th scope=col>&lt;dbl&gt;</th><th scope=col>&lt;dbl&gt;</th><th scope=col>&lt;dbl&gt;</th><th scope=col>&lt;dbl&gt;</th></tr>\n",
       "</thead>\n",
       "<tbody>\n",
       "\t<tr><th scope=row>s1</th><td>0.1318267</td><td>13.16384</td><td>49.39736</td><td>0.00000000</td><td>2.090395</td></tr>\n",
       "\t<tr><th scope=row>s2</th><td>0.1318267</td><td>13.46516</td><td>51.63842</td><td>0.03766478</td><td>1.902072</td></tr>\n",
       "\t<tr><th scope=row>s3</th><td>0.1129944</td><td>21.92090</td><td>42.97552</td><td>0.00000000</td><td>1.374765</td></tr>\n",
       "\t<tr><th scope=row>s4</th><td>0.1506591</td><td>15.85687</td><td>47.96610</td><td>0.03766478</td><td>4.726930</td></tr>\n",
       "\t<tr><th scope=row>s5</th><td>0.1129944</td><td>12.97552</td><td>55.91337</td><td>0.03766478</td><td>1.167608</td></tr>\n",
       "\t<tr><th scope=row>s6</th><td>0.2636535</td><td>15.31073</td><td>46.64783</td><td>0.03766478</td><td>2.749529</td></tr>\n",
       "</tbody>\n",
       "</table>\n"
      ],
      "text/latex": [
       "A data.frame: 6 × 5\n",
       "\\begin{tabular}{r|lllll}\n",
       "  & p\\_\\_ & p\\_\\_Acidobacteria & p\\_\\_Actinobacteria & p\\_\\_Armatimonadetes & p\\_\\_Bacteroidetes\\\\\n",
       "  & <dbl> & <dbl> & <dbl> & <dbl> & <dbl>\\\\\n",
       "\\hline\n",
       "\ts1 & 0.1318267 & 13.16384 & 49.39736 & 0.00000000 & 2.090395\\\\\n",
       "\ts2 & 0.1318267 & 13.46516 & 51.63842 & 0.03766478 & 1.902072\\\\\n",
       "\ts3 & 0.1129944 & 21.92090 & 42.97552 & 0.00000000 & 1.374765\\\\\n",
       "\ts4 & 0.1506591 & 15.85687 & 47.96610 & 0.03766478 & 4.726930\\\\\n",
       "\ts5 & 0.1129944 & 12.97552 & 55.91337 & 0.03766478 & 1.167608\\\\\n",
       "\ts6 & 0.2636535 & 15.31073 & 46.64783 & 0.03766478 & 2.749529\\\\\n",
       "\\end{tabular}\n"
      ],
      "text/markdown": [
       "\n",
       "A data.frame: 6 × 5\n",
       "\n",
       "| <!--/--> | p__ &lt;dbl&gt; | p__Acidobacteria &lt;dbl&gt; | p__Actinobacteria &lt;dbl&gt; | p__Armatimonadetes &lt;dbl&gt; | p__Bacteroidetes &lt;dbl&gt; |\n",
       "|---|---|---|---|---|---|\n",
       "| s1 | 0.1318267 | 13.16384 | 49.39736 | 0.00000000 | 2.090395 |\n",
       "| s2 | 0.1318267 | 13.46516 | 51.63842 | 0.03766478 | 1.902072 |\n",
       "| s3 | 0.1129944 | 21.92090 | 42.97552 | 0.00000000 | 1.374765 |\n",
       "| s4 | 0.1506591 | 15.85687 | 47.96610 | 0.03766478 | 4.726930 |\n",
       "| s5 | 0.1129944 | 12.97552 | 55.91337 | 0.03766478 | 1.167608 |\n",
       "| s6 | 0.2636535 | 15.31073 | 46.64783 | 0.03766478 | 2.749529 |\n",
       "\n"
      ],
      "text/plain": [
       "   p__       p__Acidobacteria p__Actinobacteria p__Armatimonadetes\n",
       "s1 0.1318267 13.16384         49.39736          0.00000000        \n",
       "s2 0.1318267 13.46516         51.63842          0.03766478        \n",
       "s3 0.1129944 21.92090         42.97552          0.00000000        \n",
       "s4 0.1506591 15.85687         47.96610          0.03766478        \n",
       "s5 0.1129944 12.97552         55.91337          0.03766478        \n",
       "s6 0.2636535 15.31073         46.64783          0.03766478        \n",
       "   p__Bacteroidetes\n",
       "s1 2.090395        \n",
       "s2 1.902072        \n",
       "s3 1.374765        \n",
       "s4 4.726930        \n",
       "s5 1.167608        \n",
       "s6 2.749529        "
      ]
     },
     "metadata": {},
     "output_type": "display_data"
    }
   ],
   "source": [
    "# Calculate relative abundance\n",
    "dataset.dts.aliyun %<>% calc_rel_abund() %>% suppressMessages()\n",
    "head(dataset.dts.aliyun$abd$raw$Phylum[,1:5])"
   ]
  },
  {
   "cell_type": "code",
   "execution_count": 5,
   "id": "1e2c60ce-d17d-4c62-978d-3f23a81187ec",
   "metadata": {
    "execution": {
     "iopub.execute_input": "2024-06-08T14:18:00.975962Z",
     "iopub.status.busy": "2024-06-08T14:18:00.975239Z",
     "iopub.status.idle": "2024-06-08T14:18:01.153258Z",
     "shell.execute_reply": "2024-06-08T14:18:01.152369Z"
    }
   },
   "outputs": [
    {
     "name": "stdout",
     "output_type": "stream",
     "text": [
      "\u001b[34m──\u001b[39m \u001b[34mThe Summary of Microgeo Dataset\u001b[39m \u001b[34m─────────────────────────────────────────────\u001b[39m\n"
     ]
    },
    {
     "name": "stderr",
     "output_type": "stream",
     "text": [
      "\u001b[36mℹ\u001b[39m object$mat: 6808 ASVs/genes and 1244 samples \u001b[32m\u001b[3m\u001b[32m[subsample depth: 5310]\u001b[32m\u001b[23m\u001b[39m\n",
      "\n",
      "\u001b[36mℹ\u001b[39m object$ant: 6808 ASVs/genes and 7 annotation levels (Kingdom, Phylum, Class, Order, Family, Genus, Species)\n",
      "\n",
      "\u001b[36mℹ\u001b[39m object$met: 1244 samples and 2 variables (longitude, latitude)\n",
      "\n",
      "\u001b[36mℹ\u001b[39m object$map: a SpatialPolygonsDataFrame with the CRS of '+proj=longlat +datum=WGS84 +no_defs'\n",
      "\n",
      "\u001b[36mℹ\u001b[39m object$phy: a phylogenetic tree with 6808 tip labels\n",
      "\n",
      "\u001b[36mℹ\u001b[39m object$env: 1244 samples and 10 variables\n",
      "\n"
     ]
    },
    {
     "name": "stdout",
     "output_type": "stream",
     "text": [
      "\n",
      "\u001b[30m──\u001b[39m \u001b[30mThe Summary of Biogeographic Traits\u001b[39m \u001b[30m─────────────────────────────────────────\u001b[39m\n"
     ]
    },
    {
     "name": "stderr",
     "output_type": "stream",
     "text": [
      "\u001b[32m✔\u001b[39m object$abd$raw: 7 abundance tables (Kingdom, Phylum, Class, Order, Family, Genus, Species)\n",
      "\n"
     ]
    },
    {
     "name": "stdout",
     "output_type": "stream",
     "text": [
      "\n",
      "\u001b[44m• To check the summary of dataset, Replace `object` with the variable name of your dataset\u001b[49m\n",
      "\u001b[44m• For example, if the variable name is `dataset.dts`you can run `head(dataset.dts$met)` to check the content of `met`\u001b[49m\n"
     ]
    }
   ],
   "source": [
    "# Show dataset \n",
    "dataset.dts.aliyun %>% show_dataset()"
   ]
  },
  {
   "cell_type": "markdown",
   "id": "bbe9c872-4c38-4b99-8a38-af47d370ea3c",
   "metadata": {},
   "source": [
    "## 2. Calculate the ecological markers"
   ]
  },
  {
   "cell_type": "markdown",
   "id": "be206581-81d4-494e-95e0-f4e97f9e6439",
   "metadata": {},
   "source": [
    "We also designed a function of `calc_markers()`, which identifies the potentially ecological markers base on the relative abundance of ASV/genes at a given classification level. If there is only one environmnetal variable for the identification, then a correlation method would be used. If the are two or more environmental variables, then a mantel test would be applied. **Please note that such a function only works when the relative abundance of ASVs/genes are available in microgeo dataset!**. "
   ]
  },
  {
   "cell_type": "code",
   "execution_count": 6,
   "id": "ca8ff1ed-5e48-4ec7-b5e8-896b178cf227",
   "metadata": {
    "execution": {
     "iopub.execute_input": "2024-06-08T14:18:01.155471Z",
     "iopub.status.busy": "2024-06-08T14:18:01.154775Z",
     "iopub.status.idle": "2024-06-08T14:18:01.187262Z",
     "shell.execute_reply": "2024-06-08T14:18:01.186430Z"
    }
   },
   "outputs": [
    {
     "name": "stderr",
     "output_type": "stream",
     "text": [
      "\u001b[36mℹ\u001b[39m [2024-06-08 22:18:01] \u001b[34m\u001b[3m\u001b[34mINFO\u001b[34m\u001b[23m\u001b[39m ==> found 18 ecological markers at `Phylum` level..\n",
      "\n",
      "\u001b[32m✔\u001b[39m [2024-06-08 22:18:01] \u001b[32m\u001b[3m\u001b[32mSAVE\u001b[32m\u001b[23m\u001b[39m ==> results have been saved to: object$abd$mar\n",
      "\n"
     ]
    }
   ],
   "source": [
    "# Identify ecological markers based on soil pH in <env>[Correlation]\n",
    "dataset.dts.aliyun %<>% calc_markers(use.var = 'pH', annotation.level = 'Phylum', r.thres = 0.1, use.dat = 'env') "
   ]
  },
  {
   "cell_type": "code",
   "execution_count": 7,
   "id": "fa9943b1-8b6b-4019-bd00-816455d9f1c7",
   "metadata": {
    "execution": {
     "iopub.execute_input": "2024-06-08T14:18:01.189326Z",
     "iopub.status.busy": "2024-06-08T14:18:01.188651Z",
     "iopub.status.idle": "2024-06-08T14:18:01.201219Z",
     "shell.execute_reply": "2024-06-08T14:18:01.200331Z"
    }
   },
   "outputs": [
    {
     "data": {
      "text/html": [
       "<table class=\"dataframe\">\n",
       "<caption>A data.frame: 6 × 3</caption>\n",
       "<thead>\n",
       "\t<tr><th></th><th scope=col>var</th><th scope=col>r</th><th scope=col>p</th></tr>\n",
       "\t<tr><th></th><th scope=col>&lt;fct&gt;</th><th scope=col>&lt;dbl&gt;</th><th scope=col>&lt;dbl&gt;</th></tr>\n",
       "</thead>\n",
       "<tbody>\n",
       "\t<tr><th scope=row>p__Acidobacteria</th><td>p__Acidobacteria   </td><td>-0.3898299</td><td>2.023896e-46</td></tr>\n",
       "\t<tr><th scope=row>p__Verrucomicrobia</th><td>p__Verrucomicrobia </td><td>-0.3700755</td><td>1.150345e-41</td></tr>\n",
       "\t<tr><th scope=row>p__Rokubacteria</th><td>p__Rokubacteria    </td><td>-0.3443490</td><td>5.956207e-36</td></tr>\n",
       "\t<tr><th scope=row>p__Actinobacteria</th><td>p__Actinobacteria  </td><td> 0.3219090</td><td>2.188202e-31</td></tr>\n",
       "\t<tr><th scope=row>p__Chloroflexi</th><td>p__Chloroflexi     </td><td> 0.2990333</td><td>4.091258e-27</td></tr>\n",
       "\t<tr><th scope=row>p__Gemmatimonadetes</th><td>p__Gemmatimonadetes</td><td> 0.2937886</td><td>3.457193e-26</td></tr>\n",
       "</tbody>\n",
       "</table>\n"
      ],
      "text/latex": [
       "A data.frame: 6 × 3\n",
       "\\begin{tabular}{r|lll}\n",
       "  & var & r & p\\\\\n",
       "  & <fct> & <dbl> & <dbl>\\\\\n",
       "\\hline\n",
       "\tp\\_\\_Acidobacteria & p\\_\\_Acidobacteria    & -0.3898299 & 2.023896e-46\\\\\n",
       "\tp\\_\\_Verrucomicrobia & p\\_\\_Verrucomicrobia  & -0.3700755 & 1.150345e-41\\\\\n",
       "\tp\\_\\_Rokubacteria & p\\_\\_Rokubacteria     & -0.3443490 & 5.956207e-36\\\\\n",
       "\tp\\_\\_Actinobacteria & p\\_\\_Actinobacteria   &  0.3219090 & 2.188202e-31\\\\\n",
       "\tp\\_\\_Chloroflexi & p\\_\\_Chloroflexi      &  0.2990333 & 4.091258e-27\\\\\n",
       "\tp\\_\\_Gemmatimonadetes & p\\_\\_Gemmatimonadetes &  0.2937886 & 3.457193e-26\\\\\n",
       "\\end{tabular}\n"
      ],
      "text/markdown": [
       "\n",
       "A data.frame: 6 × 3\n",
       "\n",
       "| <!--/--> | var &lt;fct&gt; | r &lt;dbl&gt; | p &lt;dbl&gt; |\n",
       "|---|---|---|---|\n",
       "| p__Acidobacteria | p__Acidobacteria    | -0.3898299 | 2.023896e-46 |\n",
       "| p__Verrucomicrobia | p__Verrucomicrobia  | -0.3700755 | 1.150345e-41 |\n",
       "| p__Rokubacteria | p__Rokubacteria     | -0.3443490 | 5.956207e-36 |\n",
       "| p__Actinobacteria | p__Actinobacteria   |  0.3219090 | 2.188202e-31 |\n",
       "| p__Chloroflexi | p__Chloroflexi      |  0.2990333 | 4.091258e-27 |\n",
       "| p__Gemmatimonadetes | p__Gemmatimonadetes |  0.2937886 | 3.457193e-26 |\n",
       "\n"
      ],
      "text/plain": [
       "                    var                 r          p           \n",
       "p__Acidobacteria    p__Acidobacteria    -0.3898299 2.023896e-46\n",
       "p__Verrucomicrobia  p__Verrucomicrobia  -0.3700755 1.150345e-41\n",
       "p__Rokubacteria     p__Rokubacteria     -0.3443490 5.956207e-36\n",
       "p__Actinobacteria   p__Actinobacteria    0.3219090 2.188202e-31\n",
       "p__Chloroflexi      p__Chloroflexi       0.2990333 4.091258e-27\n",
       "p__Gemmatimonadetes p__Gemmatimonadetes  0.2937886 3.457193e-26"
      ]
     },
     "metadata": {},
     "output_type": "display_data"
    }
   ],
   "source": [
    "# Show markers \n",
    "head(dataset.dts.aliyun$abd$mar$correlation)"
   ]
  },
  {
   "cell_type": "code",
   "execution_count": 8,
   "id": "5e7601fd-239c-4b92-bf08-e652fb8a6d67",
   "metadata": {
    "execution": {
     "iopub.execute_input": "2024-06-08T14:18:01.203306Z",
     "iopub.status.busy": "2024-06-08T14:18:01.202623Z",
     "iopub.status.idle": "2024-06-08T14:23:24.473748Z",
     "shell.execute_reply": "2024-06-08T14:23:24.472145Z"
    }
   },
   "outputs": [
    {
     "name": "stderr",
     "output_type": "stream",
     "text": [
      "\u001b[36mℹ\u001b[39m [2024-06-08 22:18:01] \u001b[34m\u001b[3m\u001b[34mINFO\u001b[34m\u001b[23m\u001b[39m ==> mantel test would take a while...\n",
      "\n",
      "\u001b[36mℹ\u001b[39m [2024-06-08 22:18:01] \u001b[34m\u001b[3m\u001b[34mINFO\u001b[34m\u001b[23m\u001b[39m ==> current annot. name(1/26): p__\n",
      "\n",
      "\u001b[36mℹ\u001b[39m [2024-06-08 22:18:15] \u001b[34m\u001b[3m\u001b[34mINFO\u001b[34m\u001b[23m\u001b[39m ==> current annot. name(2/26): p__Acidobacteria\n",
      "\n",
      "\u001b[36mℹ\u001b[39m [2024-06-08 22:18:28] \u001b[34m\u001b[3m\u001b[34mINFO\u001b[34m\u001b[23m\u001b[39m ==> current annot. name(3/26): p__Actinobacteria\n",
      "\n",
      "\u001b[36mℹ\u001b[39m [2024-06-08 22:18:41] \u001b[34m\u001b[3m\u001b[34mINFO\u001b[34m\u001b[23m\u001b[39m ==> current annot. name(4/26): p__Armatimonadetes\n",
      "\n",
      "\u001b[36mℹ\u001b[39m [2024-06-08 22:18:53] \u001b[34m\u001b[3m\u001b[34mINFO\u001b[34m\u001b[23m\u001b[39m ==> current annot. name(5/26): p__Bacteroidetes\n",
      "\n",
      "\u001b[36mℹ\u001b[39m [2024-06-08 22:19:06] \u001b[34m\u001b[3m\u001b[34mINFO\u001b[34m\u001b[23m\u001b[39m ==> current annot. name(6/26): p__Chloroflexi\n",
      "\n",
      "\u001b[36mℹ\u001b[39m [2024-06-08 22:19:19] \u001b[34m\u001b[3m\u001b[34mINFO\u001b[34m\u001b[23m\u001b[39m ==> current annot. name(7/26): p__Crenarchaeota\n",
      "\n",
      "\u001b[36mℹ\u001b[39m [2024-06-08 22:19:31] \u001b[34m\u001b[3m\u001b[34mINFO\u001b[34m\u001b[23m\u001b[39m ==> current annot. name(8/26): p__Cyanobacteria\n",
      "\n",
      "\u001b[36mℹ\u001b[39m [2024-06-08 22:19:43] \u001b[34m\u001b[3m\u001b[34mINFO\u001b[34m\u001b[23m\u001b[39m ==> current annot. name(9/26): p__Deinococcus.Thermus\n",
      "\n",
      "\u001b[36mℹ\u001b[39m [2024-06-08 22:19:56] \u001b[34m\u001b[3m\u001b[34mINFO\u001b[34m\u001b[23m\u001b[39m ==> current annot. name(10/26): p__Elusimicrobia\n",
      "\n",
      "\u001b[36mℹ\u001b[39m [2024-06-08 22:20:09] \u001b[34m\u001b[3m\u001b[34mINFO\u001b[34m\u001b[23m\u001b[39m ==> current annot. name(11/26): p__Entotheonellaeota\n",
      "\n",
      "\u001b[36mℹ\u001b[39m [2024-06-08 22:20:20] \u001b[34m\u001b[3m\u001b[34mINFO\u001b[34m\u001b[23m\u001b[39m ==> current annot. name(12/26): p__Euryarchaeota\n",
      "\n",
      "\u001b[36mℹ\u001b[39m [2024-06-08 22:20:32] \u001b[34m\u001b[3m\u001b[34mINFO\u001b[34m\u001b[23m\u001b[39m ==> current annot. name(13/26): p__FBP\n",
      "\n",
      "\u001b[36mℹ\u001b[39m [2024-06-08 22:20:45] \u001b[34m\u001b[3m\u001b[34mINFO\u001b[34m\u001b[23m\u001b[39m ==> current annot. name(14/26): p__Fibrobacteres\n",
      "\n",
      "\u001b[36mℹ\u001b[39m [2024-06-08 22:20:57] \u001b[34m\u001b[3m\u001b[34mINFO\u001b[34m\u001b[23m\u001b[39m ==> current annot. name(15/26): p__Firmicutes\n",
      "\n",
      "\u001b[36mℹ\u001b[39m [2024-06-08 22:21:09] \u001b[34m\u001b[3m\u001b[34mINFO\u001b[34m\u001b[23m\u001b[39m ==> current annot. name(16/26): p__GAL15\n",
      "\n",
      "\u001b[36mℹ\u001b[39m [2024-06-08 22:21:21] \u001b[34m\u001b[3m\u001b[34mINFO\u001b[34m\u001b[23m\u001b[39m ==> current annot. name(17/26): p__Gemmatimonadetes\n",
      "\n",
      "\u001b[36mℹ\u001b[39m [2024-06-08 22:21:34] \u001b[34m\u001b[3m\u001b[34mINFO\u001b[34m\u001b[23m\u001b[39m ==> current annot. name(18/26): p__Latescibacteria\n",
      "\n",
      "\u001b[36mℹ\u001b[39m [2024-06-08 22:21:46] \u001b[34m\u001b[3m\u001b[34mINFO\u001b[34m\u001b[23m\u001b[39m ==> current annot. name(19/26): p__Nitrospirae\n",
      "\n",
      "\u001b[36mℹ\u001b[39m [2024-06-08 22:21:58] \u001b[34m\u001b[3m\u001b[34mINFO\u001b[34m\u001b[23m\u001b[39m ==> current annot. name(20/26): p__Planctomycetes\n",
      "\n",
      "\u001b[36mℹ\u001b[39m [2024-06-08 22:22:11] \u001b[34m\u001b[3m\u001b[34mINFO\u001b[34m\u001b[23m\u001b[39m ==> current annot. name(21/26): p__Proteobacteria\n",
      "\n",
      "\u001b[36mℹ\u001b[39m [2024-06-08 22:22:23] \u001b[34m\u001b[3m\u001b[34mINFO\u001b[34m\u001b[23m\u001b[39m ==> current annot. name(22/26): p__Rokubacteria\n",
      "\n",
      "\u001b[36mℹ\u001b[39m [2024-06-08 22:22:35] \u001b[34m\u001b[3m\u001b[34mINFO\u001b[34m\u001b[23m\u001b[39m ==> current annot. name(23/26): p__Thaumarchaeota\n",
      "\n",
      "\u001b[36mℹ\u001b[39m [2024-06-08 22:22:48] \u001b[34m\u001b[3m\u001b[34mINFO\u001b[34m\u001b[23m\u001b[39m ==> current annot. name(24/26): p__Verrucomicrobia\n",
      "\n",
      "\u001b[36mℹ\u001b[39m [2024-06-08 22:23:00] \u001b[34m\u001b[3m\u001b[34mINFO\u001b[34m\u001b[23m\u001b[39m ==> current annot. name(25/26): p__WPS.2\n",
      "\n",
      "\u001b[36mℹ\u001b[39m [2024-06-08 22:23:11] \u001b[34m\u001b[3m\u001b[34mINFO\u001b[34m\u001b[23m\u001b[39m ==> current annot. name(26/26): p__WS2\n",
      "\n",
      "\u001b[36mℹ\u001b[39m [2024-06-08 22:23:24] \u001b[34m\u001b[3m\u001b[34mINFO\u001b[34m\u001b[23m\u001b[39m ==> found 4 ecological markers at `Phylum` level..\n",
      "\n",
      "\u001b[32m✔\u001b[39m [2024-06-08 22:23:24] \u001b[32m\u001b[3m\u001b[32mSAVE\u001b[32m\u001b[23m\u001b[39m ==> results have been saved to: object$abd$mar\n",
      "\n"
     ]
    }
   ],
   "source": [
    "# Identify ecological markers based on soil pH and TOC in <env> [Mantel test]\n",
    "dataset.dts.aliyun %<>% calc_markers(use.var = c('pH', 'TOC'), annotation.level = 'Phylum', r.thres = 0.1, use.dat = 'env') "
   ]
  },
  {
   "cell_type": "code",
   "execution_count": 9,
   "id": "a0499b3c-ef6b-4073-99cf-73a6c4a808d6",
   "metadata": {
    "execution": {
     "iopub.execute_input": "2024-06-08T14:23:24.477066Z",
     "iopub.status.busy": "2024-06-08T14:23:24.476099Z",
     "iopub.status.idle": "2024-06-08T14:23:24.494442Z",
     "shell.execute_reply": "2024-06-08T14:23:24.493272Z"
    }
   },
   "outputs": [
    {
     "data": {
      "text/html": [
       "<table class=\"dataframe\">\n",
       "<caption>A data.frame: 4 × 3</caption>\n",
       "<thead>\n",
       "\t<tr><th></th><th scope=col>var</th><th scope=col>r</th><th scope=col>p</th></tr>\n",
       "\t<tr><th></th><th scope=col>&lt;fct&gt;</th><th scope=col>&lt;dbl&gt;</th><th scope=col>&lt;dbl&gt;</th></tr>\n",
       "</thead>\n",
       "<tbody>\n",
       "\t<tr><th scope=row>p__Crenarchaeota</th><td>p__Crenarchaeota   </td><td>0.2233029</td><td>0.001</td></tr>\n",
       "\t<tr><th scope=row>p__Actinobacteria</th><td>p__Actinobacteria  </td><td>0.1205523</td><td>0.001</td></tr>\n",
       "\t<tr><th scope=row>p__Thaumarchaeota</th><td>p__Thaumarchaeota  </td><td>0.1201680</td><td>0.001</td></tr>\n",
       "\t<tr><th scope=row>p__Gemmatimonadetes</th><td>p__Gemmatimonadetes</td><td>0.1108208</td><td>0.001</td></tr>\n",
       "</tbody>\n",
       "</table>\n"
      ],
      "text/latex": [
       "A data.frame: 4 × 3\n",
       "\\begin{tabular}{r|lll}\n",
       "  & var & r & p\\\\\n",
       "  & <fct> & <dbl> & <dbl>\\\\\n",
       "\\hline\n",
       "\tp\\_\\_Crenarchaeota & p\\_\\_Crenarchaeota    & 0.2233029 & 0.001\\\\\n",
       "\tp\\_\\_Actinobacteria & p\\_\\_Actinobacteria   & 0.1205523 & 0.001\\\\\n",
       "\tp\\_\\_Thaumarchaeota & p\\_\\_Thaumarchaeota   & 0.1201680 & 0.001\\\\\n",
       "\tp\\_\\_Gemmatimonadetes & p\\_\\_Gemmatimonadetes & 0.1108208 & 0.001\\\\\n",
       "\\end{tabular}\n"
      ],
      "text/markdown": [
       "\n",
       "A data.frame: 4 × 3\n",
       "\n",
       "| <!--/--> | var &lt;fct&gt; | r &lt;dbl&gt; | p &lt;dbl&gt; |\n",
       "|---|---|---|---|\n",
       "| p__Crenarchaeota | p__Crenarchaeota    | 0.2233029 | 0.001 |\n",
       "| p__Actinobacteria | p__Actinobacteria   | 0.1205523 | 0.001 |\n",
       "| p__Thaumarchaeota | p__Thaumarchaeota   | 0.1201680 | 0.001 |\n",
       "| p__Gemmatimonadetes | p__Gemmatimonadetes | 0.1108208 | 0.001 |\n",
       "\n"
      ],
      "text/plain": [
       "                    var                 r         p    \n",
       "p__Crenarchaeota    p__Crenarchaeota    0.2233029 0.001\n",
       "p__Actinobacteria   p__Actinobacteria   0.1205523 0.001\n",
       "p__Thaumarchaeota   p__Thaumarchaeota   0.1201680 0.001\n",
       "p__Gemmatimonadetes p__Gemmatimonadetes 0.1108208 0.001"
      ]
     },
     "metadata": {},
     "output_type": "display_data"
    }
   ],
   "source": [
    "# Show markers \n",
    "head(dataset.dts.aliyun$abd$mar$correlation)"
   ]
  },
  {
   "cell_type": "code",
   "execution_count": 10,
   "id": "dd7d8a0b-4bef-41c3-af9f-296d070a529a",
   "metadata": {
    "execution": {
     "iopub.execute_input": "2024-06-08T14:23:24.499435Z",
     "iopub.status.busy": "2024-06-08T14:23:24.497733Z",
     "iopub.status.idle": "2024-06-08T14:23:24.748157Z",
     "shell.execute_reply": "2024-06-08T14:23:24.745796Z"
    }
   },
   "outputs": [
    {
     "name": "stdout",
     "output_type": "stream",
     "text": [
      "\u001b[34m──\u001b[39m \u001b[34mThe Summary of Microgeo Dataset\u001b[39m \u001b[34m─────────────────────────────────────────────\u001b[39m\n"
     ]
    },
    {
     "name": "stderr",
     "output_type": "stream",
     "text": [
      "\u001b[36mℹ\u001b[39m object$mat: 6808 ASVs/genes and 1244 samples \u001b[32m\u001b[3m\u001b[32m[subsample depth: 5310]\u001b[32m\u001b[23m\u001b[39m\n",
      "\n",
      "\u001b[36mℹ\u001b[39m object$ant: 6808 ASVs/genes and 7 annotation levels (Kingdom, Phylum, Class, Order, Family, Genus, Species)\n",
      "\n",
      "\u001b[36mℹ\u001b[39m object$met: 1244 samples and 2 variables (longitude, latitude)\n",
      "\n",
      "\u001b[36mℹ\u001b[39m object$map: a SpatialPolygonsDataFrame with the CRS of '+proj=longlat +datum=WGS84 +no_defs'\n",
      "\n",
      "\u001b[36mℹ\u001b[39m object$phy: a phylogenetic tree with 6808 tip labels\n",
      "\n",
      "\u001b[36mℹ\u001b[39m object$env: 1244 samples and 10 variables\n",
      "\n"
     ]
    },
    {
     "name": "stdout",
     "output_type": "stream",
     "text": [
      "\n",
      "\u001b[30m──\u001b[39m \u001b[30mThe Summary of Biogeographic Traits\u001b[39m \u001b[30m─────────────────────────────────────────\u001b[39m\n"
     ]
    },
    {
     "name": "stderr",
     "output_type": "stream",
     "text": [
      "\u001b[32m✔\u001b[39m object$abd$raw: 7 abundance tables (Kingdom, Phylum, Class, Order, Family, Genus, Species)\n",
      "\n",
      "\u001b[32m✔\u001b[39m object$abd$mar: 4 eco-markers at Phylum level (abundance, correlation)\n",
      "\n"
     ]
    },
    {
     "name": "stdout",
     "output_type": "stream",
     "text": [
      "\n",
      "\u001b[44m• To check the summary of dataset, Replace `object` with the variable name of your dataset\u001b[49m\n",
      "\u001b[44m• For example, if the variable name is `dataset.dts`you can run `head(dataset.dts$met)` to check the content of `met`\u001b[49m\n"
     ]
    }
   ],
   "source": [
    "# Show dataset \n",
    "dataset.dts.aliyun %>% show_dataset()"
   ]
  },
  {
   "cell_type": "markdown",
   "id": "ba71f452-62f4-488c-baf7-9689946065da",
   "metadata": {},
   "source": [
    "## 3. Calculate alpha diversity indices"
   ]
  },
  {
   "cell_type": "markdown",
   "id": "32e49891-6bab-43c7-ae54-0642e39ee9d3",
   "metadata": {},
   "source": [
    "We implemented a functiobn of `calc_alpha_div()`, which calculates serveral alpha diversity indices such as observed ASVs and Shannon index. Just run the following codes."
   ]
  },
  {
   "cell_type": "code",
   "execution_count": 11,
   "id": "6f9018c0-38fa-4614-ac0d-34cf45271bba",
   "metadata": {
    "execution": {
     "iopub.execute_input": "2024-06-08T14:23:24.751728Z",
     "iopub.status.busy": "2024-06-08T14:23:24.750729Z",
     "iopub.status.idle": "2024-06-08T14:23:27.995061Z",
     "shell.execute_reply": "2024-06-08T14:23:27.993867Z"
    }
   },
   "outputs": [],
   "source": [
    "# Calculate alpha diversity indices\n",
    "dataset.dts.aliyun %<>% calc_alpha_div(measures = c(\"observed\", \"shannon\")) %>% suppressMessages()"
   ]
  },
  {
   "cell_type": "code",
   "execution_count": 12,
   "id": "089c2913-0fd1-4ad7-a8a2-0255be621e6a",
   "metadata": {
    "execution": {
     "iopub.execute_input": "2024-06-08T14:23:27.997298Z",
     "iopub.status.busy": "2024-06-08T14:23:27.996587Z",
     "iopub.status.idle": "2024-06-08T14:23:28.174719Z",
     "shell.execute_reply": "2024-06-08T14:23:28.173573Z"
    }
   },
   "outputs": [
    {
     "name": "stdout",
     "output_type": "stream",
     "text": [
      "\u001b[34m──\u001b[39m \u001b[34mThe Summary of Microgeo Dataset\u001b[39m \u001b[34m─────────────────────────────────────────────\u001b[39m\n"
     ]
    },
    {
     "name": "stderr",
     "output_type": "stream",
     "text": [
      "\u001b[36mℹ\u001b[39m object$mat: 6808 ASVs/genes and 1244 samples \u001b[32m\u001b[3m\u001b[32m[subsample depth: 5310]\u001b[32m\u001b[23m\u001b[39m\n",
      "\n",
      "\u001b[36mℹ\u001b[39m object$ant: 6808 ASVs/genes and 7 annotation levels (Kingdom, Phylum, Class, Order, Family, Genus, Species)\n",
      "\n",
      "\u001b[36mℹ\u001b[39m object$met: 1244 samples and 2 variables (longitude, latitude)\n",
      "\n",
      "\u001b[36mℹ\u001b[39m object$map: a SpatialPolygonsDataFrame with the CRS of '+proj=longlat +datum=WGS84 +no_defs'\n",
      "\n",
      "\u001b[36mℹ\u001b[39m object$phy: a phylogenetic tree with 6808 tip labels\n",
      "\n",
      "\u001b[36mℹ\u001b[39m object$env: 1244 samples and 10 variables\n",
      "\n"
     ]
    },
    {
     "name": "stdout",
     "output_type": "stream",
     "text": [
      "\n",
      "\u001b[30m──\u001b[39m \u001b[30mThe Summary of Biogeographic Traits\u001b[39m \u001b[30m─────────────────────────────────────────\u001b[39m\n"
     ]
    },
    {
     "name": "stderr",
     "output_type": "stream",
     "text": [
      "\u001b[32m✔\u001b[39m object$abd$raw: 7 abundance tables (Kingdom, Phylum, Class, Order, Family, Genus, Species)\n",
      "\n",
      "\u001b[32m✔\u001b[39m object$abd$mar: 4 eco-markers at Phylum level (abundance, correlation)\n",
      "\n",
      "\u001b[32m✔\u001b[39m object$div$alpha: 2 alpha diversity index/indices (observed, shannon)\n",
      "\n"
     ]
    },
    {
     "name": "stdout",
     "output_type": "stream",
     "text": [
      "\n",
      "\u001b[44m• To check the summary of dataset, Replace `object` with the variable name of your dataset\u001b[49m\n",
      "\u001b[44m• For example, if the variable name is `dataset.dts`you can run `head(dataset.dts$met)` to check the content of `met`\u001b[49m\n"
     ]
    }
   ],
   "source": [
    "# Show dataset \n",
    "dataset.dts.aliyun %>% show_dataset()"
   ]
  },
  {
   "cell_type": "markdown",
   "id": "e1d4b97b-9b61-44f8-bcfe-1ad9d57d8238",
   "metadata": {},
   "source": [
    "## 4. Calculate beta diversity distance matrices"
   ]
  },
  {
   "cell_type": "markdown",
   "id": "7540f379-b99e-45d2-b84c-aca16d4f1f51",
   "metadata": {},
   "source": [
    "We implemented a function of `calc_beta_div()`, which calculates serveral beta diversity distance matrix such as `Bray-Curtis` and `Jarccard` distance matrix. Just run the following codes."
   ]
  },
  {
   "cell_type": "code",
   "execution_count": 13,
   "id": "ab4e9e5a-6ddc-4b30-ad85-34de2c2dc4ad",
   "metadata": {
    "execution": {
     "iopub.execute_input": "2024-06-08T14:23:28.176875Z",
     "iopub.status.busy": "2024-06-08T14:23:28.176187Z",
     "iopub.status.idle": "2024-06-08T14:24:12.642500Z",
     "shell.execute_reply": "2024-06-08T14:24:12.641072Z"
    }
   },
   "outputs": [],
   "source": [
    "# Calculate alpha diversity indices\n",
    "dataset.dts.aliyun %<>% calc_beta_div(measures = c(\"bray\", \"jaccard\")) %>% suppressMessages()"
   ]
  },
  {
   "cell_type": "code",
   "execution_count": 14,
   "id": "a8a0ae4f-0c15-4a54-9263-fcf0e875c1c2",
   "metadata": {
    "execution": {
     "iopub.execute_input": "2024-06-08T14:24:12.645255Z",
     "iopub.status.busy": "2024-06-08T14:24:12.644379Z",
     "iopub.status.idle": "2024-06-08T14:24:12.836989Z",
     "shell.execute_reply": "2024-06-08T14:24:12.836086Z"
    }
   },
   "outputs": [
    {
     "name": "stdout",
     "output_type": "stream",
     "text": [
      "\u001b[34m──\u001b[39m \u001b[34mThe Summary of Microgeo Dataset\u001b[39m \u001b[34m─────────────────────────────────────────────\u001b[39m\n"
     ]
    },
    {
     "name": "stderr",
     "output_type": "stream",
     "text": [
      "\u001b[36mℹ\u001b[39m object$mat: 6808 ASVs/genes and 1244 samples \u001b[32m\u001b[3m\u001b[32m[subsample depth: 5310]\u001b[32m\u001b[23m\u001b[39m\n",
      "\n",
      "\u001b[36mℹ\u001b[39m object$ant: 6808 ASVs/genes and 7 annotation levels (Kingdom, Phylum, Class, Order, Family, Genus, Species)\n",
      "\n",
      "\u001b[36mℹ\u001b[39m object$met: 1244 samples and 2 variables (longitude, latitude)\n",
      "\n",
      "\u001b[36mℹ\u001b[39m object$map: a SpatialPolygonsDataFrame with the CRS of '+proj=longlat +datum=WGS84 +no_defs'\n",
      "\n",
      "\u001b[36mℹ\u001b[39m object$phy: a phylogenetic tree with 6808 tip labels\n",
      "\n",
      "\u001b[36mℹ\u001b[39m object$env: 1244 samples and 10 variables\n",
      "\n"
     ]
    },
    {
     "name": "stdout",
     "output_type": "stream",
     "text": [
      "\n",
      "\u001b[30m──\u001b[39m \u001b[30mThe Summary of Biogeographic Traits\u001b[39m \u001b[30m─────────────────────────────────────────\u001b[39m\n"
     ]
    },
    {
     "name": "stderr",
     "output_type": "stream",
     "text": [
      "\u001b[32m✔\u001b[39m object$abd$raw: 7 abundance tables (Kingdom, Phylum, Class, Order, Family, Genus, Species)\n",
      "\n",
      "\u001b[32m✔\u001b[39m object$abd$mar: 4 eco-markers at Phylum level (abundance, correlation)\n",
      "\n",
      "\u001b[32m✔\u001b[39m object$div$alpha: 2 alpha diversity index/indices (observed, shannon)\n",
      "\n",
      "\u001b[32m✔\u001b[39m object$div$beta: 2 beta diversity distance matrix/matrices (bray, jaccard)\n",
      "\n"
     ]
    },
    {
     "name": "stdout",
     "output_type": "stream",
     "text": [
      "\n",
      "\u001b[44m• To check the summary of dataset, Replace `object` with the variable name of your dataset\u001b[49m\n",
      "\u001b[44m• For example, if the variable name is `dataset.dts`you can run `head(dataset.dts$met)` to check the content of `met`\u001b[49m\n"
     ]
    }
   ],
   "source": [
    "# Show dataset \n",
    "dataset.dts.aliyun %>% show_dataset()"
   ]
  },
  {
   "cell_type": "code",
   "execution_count": 15,
   "id": "14fe9351-49ec-4fa0-bb7c-3171f4457e2e",
   "metadata": {
    "execution": {
     "iopub.execute_input": "2024-06-08T14:24:12.839126Z",
     "iopub.status.busy": "2024-06-08T14:24:12.838437Z",
     "iopub.status.idle": "2024-06-08T14:24:12.851322Z",
     "shell.execute_reply": "2024-06-08T14:24:12.850315Z"
    }
   },
   "outputs": [
    {
     "data": {
      "text/html": [
       "<table class=\"dataframe\">\n",
       "<caption>A matrix: 4 × 4 of type dbl</caption>\n",
       "<thead>\n",
       "\t<tr><th></th><th scope=col>s1</th><th scope=col>s2</th><th scope=col>s3</th><th scope=col>s4</th></tr>\n",
       "</thead>\n",
       "<tbody>\n",
       "\t<tr><th scope=row>s1</th><td>0.0000000</td><td>0.4856874</td><td>0.5804143</td><td>0.4839925</td></tr>\n",
       "\t<tr><th scope=row>s2</th><td>0.4856874</td><td>0.0000000</td><td>0.4907721</td><td>0.4269303</td></tr>\n",
       "\t<tr><th scope=row>s3</th><td>0.5804143</td><td>0.4907721</td><td>0.0000000</td><td>0.4158192</td></tr>\n",
       "\t<tr><th scope=row>s4</th><td>0.4839925</td><td>0.4269303</td><td>0.4158192</td><td>0.0000000</td></tr>\n",
       "</tbody>\n",
       "</table>\n"
      ],
      "text/latex": [
       "A matrix: 4 × 4 of type dbl\n",
       "\\begin{tabular}{r|llll}\n",
       "  & s1 & s2 & s3 & s4\\\\\n",
       "\\hline\n",
       "\ts1 & 0.0000000 & 0.4856874 & 0.5804143 & 0.4839925\\\\\n",
       "\ts2 & 0.4856874 & 0.0000000 & 0.4907721 & 0.4269303\\\\\n",
       "\ts3 & 0.5804143 & 0.4907721 & 0.0000000 & 0.4158192\\\\\n",
       "\ts4 & 0.4839925 & 0.4269303 & 0.4158192 & 0.0000000\\\\\n",
       "\\end{tabular}\n"
      ],
      "text/markdown": [
       "\n",
       "A matrix: 4 × 4 of type dbl\n",
       "\n",
       "| <!--/--> | s1 | s2 | s3 | s4 |\n",
       "|---|---|---|---|---|\n",
       "| s1 | 0.0000000 | 0.4856874 | 0.5804143 | 0.4839925 |\n",
       "| s2 | 0.4856874 | 0.0000000 | 0.4907721 | 0.4269303 |\n",
       "| s3 | 0.5804143 | 0.4907721 | 0.0000000 | 0.4158192 |\n",
       "| s4 | 0.4839925 | 0.4269303 | 0.4158192 | 0.0000000 |\n",
       "\n"
      ],
      "text/plain": [
       "   s1        s2        s3        s4       \n",
       "s1 0.0000000 0.4856874 0.5804143 0.4839925\n",
       "s2 0.4856874 0.0000000 0.4907721 0.4269303\n",
       "s3 0.5804143 0.4907721 0.0000000 0.4158192\n",
       "s4 0.4839925 0.4269303 0.4158192 0.0000000"
      ]
     },
     "metadata": {},
     "output_type": "display_data"
    }
   ],
   "source": [
    "# Check results [Bray-Curtis distance]\n",
    "dataset.dts.aliyun$div$bet$bray[1:4, 1:4]"
   ]
  },
  {
   "cell_type": "markdown",
   "id": "7d16a9f1-5e26-4bc3-b1fc-5d53bf662808",
   "metadata": {},
   "source": [
    "## 5. Calculate microbial community assembly indices"
   ]
  },
  {
   "cell_type": "markdown",
   "id": "c70948e9-4248-497d-a278-79cd9f29235d",
   "metadata": {},
   "source": [
    "We implemeted a function of `calc_phylo_asmb()`, which calculates the metrics involved in microbial community assembly. Just run the following codes."
   ]
  },
  {
   "cell_type": "code",
   "execution_count": 16,
   "id": "625272e1-f041-4f69-bbda-9e1b4ad63292",
   "metadata": {
    "execution": {
     "iopub.execute_input": "2024-06-08T14:24:12.853744Z",
     "iopub.status.busy": "2024-06-08T14:24:12.852929Z",
     "iopub.status.idle": "2024-06-08T14:24:12.966068Z",
     "shell.execute_reply": "2024-06-08T14:24:12.965003Z"
    }
   },
   "outputs": [],
   "source": [
    "# Calculate `alpha.phylo` null model\n",
    "# runs = 9 just for an example. 999 runs may be better \n",
    "dataset.dts.aliyun %<>% calc_phylo_asmb(type = 'alpha.phylo', runs = 9, out.dir = 'test/calc_comm_asmb') %>% suppressMessages()"
   ]
  },
  {
   "cell_type": "code",
   "execution_count": 17,
   "id": "cb81a6ec-cf99-48cb-a945-ad764b142e5b",
   "metadata": {
    "execution": {
     "iopub.execute_input": "2024-06-08T14:24:12.968571Z",
     "iopub.status.busy": "2024-06-08T14:24:12.967697Z",
     "iopub.status.idle": "2024-06-08T14:24:12.983625Z",
     "shell.execute_reply": "2024-06-08T14:24:12.982770Z"
    }
   },
   "outputs": [
    {
     "data": {
      "text/html": [
       "<table class=\"dataframe\">\n",
       "<caption>A data.frame: 6 × 8</caption>\n",
       "<thead>\n",
       "\t<tr><th></th><th scope=col>ntaxa</th><th scope=col>mntd.obs</th><th scope=col>mntd.rand.mean</th><th scope=col>mntd.rand.sd</th><th scope=col>mntd.obs.rank</th><th scope=col>mntd.obs.z</th><th scope=col>mntd.obs.p</th><th scope=col>runs</th></tr>\n",
       "\t<tr><th></th><th scope=col>&lt;int&gt;</th><th scope=col>&lt;dbl&gt;</th><th scope=col>&lt;dbl&gt;</th><th scope=col>&lt;dbl&gt;</th><th scope=col>&lt;dbl&gt;</th><th scope=col>&lt;dbl&gt;</th><th scope=col>&lt;dbl&gt;</th><th scope=col>&lt;dbl&gt;</th></tr>\n",
       "</thead>\n",
       "<tbody>\n",
       "\t<tr><th scope=row>s1</th><td>1025</td><td>0.04106696</td><td>0.08161756</td><td>0.002877478</td><td>1</td><td>-14.092410</td><td>0.1</td><td>9</td></tr>\n",
       "\t<tr><th scope=row>s2</th><td> 937</td><td>0.04935124</td><td>0.08603810</td><td>0.007130529</td><td>1</td><td> -5.145040</td><td>0.1</td><td>9</td></tr>\n",
       "\t<tr><th scope=row>s3</th><td> 845</td><td>0.04806105</td><td>0.09186194</td><td>0.007032748</td><td>1</td><td> -6.228134</td><td>0.1</td><td>9</td></tr>\n",
       "\t<tr><th scope=row>s4</th><td>1038</td><td>0.04639918</td><td>0.08223707</td><td>0.008971357</td><td>1</td><td> -3.994701</td><td>0.1</td><td>9</td></tr>\n",
       "\t<tr><th scope=row>s5</th><td> 898</td><td>0.04579750</td><td>0.08977941</td><td>0.007259340</td><td>1</td><td> -6.058665</td><td>0.1</td><td>9</td></tr>\n",
       "\t<tr><th scope=row>s6</th><td> 973</td><td>0.04750401</td><td>0.08405180</td><td>0.009327828</td><td>1</td><td> -3.918147</td><td>0.1</td><td>9</td></tr>\n",
       "</tbody>\n",
       "</table>\n"
      ],
      "text/latex": [
       "A data.frame: 6 × 8\n",
       "\\begin{tabular}{r|llllllll}\n",
       "  & ntaxa & mntd.obs & mntd.rand.mean & mntd.rand.sd & mntd.obs.rank & mntd.obs.z & mntd.obs.p & runs\\\\\n",
       "  & <int> & <dbl> & <dbl> & <dbl> & <dbl> & <dbl> & <dbl> & <dbl>\\\\\n",
       "\\hline\n",
       "\ts1 & 1025 & 0.04106696 & 0.08161756 & 0.002877478 & 1 & -14.092410 & 0.1 & 9\\\\\n",
       "\ts2 &  937 & 0.04935124 & 0.08603810 & 0.007130529 & 1 &  -5.145040 & 0.1 & 9\\\\\n",
       "\ts3 &  845 & 0.04806105 & 0.09186194 & 0.007032748 & 1 &  -6.228134 & 0.1 & 9\\\\\n",
       "\ts4 & 1038 & 0.04639918 & 0.08223707 & 0.008971357 & 1 &  -3.994701 & 0.1 & 9\\\\\n",
       "\ts5 &  898 & 0.04579750 & 0.08977941 & 0.007259340 & 1 &  -6.058665 & 0.1 & 9\\\\\n",
       "\ts6 &  973 & 0.04750401 & 0.08405180 & 0.009327828 & 1 &  -3.918147 & 0.1 & 9\\\\\n",
       "\\end{tabular}\n"
      ],
      "text/markdown": [
       "\n",
       "A data.frame: 6 × 8\n",
       "\n",
       "| <!--/--> | ntaxa &lt;int&gt; | mntd.obs &lt;dbl&gt; | mntd.rand.mean &lt;dbl&gt; | mntd.rand.sd &lt;dbl&gt; | mntd.obs.rank &lt;dbl&gt; | mntd.obs.z &lt;dbl&gt; | mntd.obs.p &lt;dbl&gt; | runs &lt;dbl&gt; |\n",
       "|---|---|---|---|---|---|---|---|---|\n",
       "| s1 | 1025 | 0.04106696 | 0.08161756 | 0.002877478 | 1 | -14.092410 | 0.1 | 9 |\n",
       "| s2 |  937 | 0.04935124 | 0.08603810 | 0.007130529 | 1 |  -5.145040 | 0.1 | 9 |\n",
       "| s3 |  845 | 0.04806105 | 0.09186194 | 0.007032748 | 1 |  -6.228134 | 0.1 | 9 |\n",
       "| s4 | 1038 | 0.04639918 | 0.08223707 | 0.008971357 | 1 |  -3.994701 | 0.1 | 9 |\n",
       "| s5 |  898 | 0.04579750 | 0.08977941 | 0.007259340 | 1 |  -6.058665 | 0.1 | 9 |\n",
       "| s6 |  973 | 0.04750401 | 0.08405180 | 0.009327828 | 1 |  -3.918147 | 0.1 | 9 |\n",
       "\n"
      ],
      "text/plain": [
       "   ntaxa mntd.obs   mntd.rand.mean mntd.rand.sd mntd.obs.rank mntd.obs.z\n",
       "s1 1025  0.04106696 0.08161756     0.002877478  1             -14.092410\n",
       "s2  937  0.04935124 0.08603810     0.007130529  1              -5.145040\n",
       "s3  845  0.04806105 0.09186194     0.007032748  1              -6.228134\n",
       "s4 1038  0.04639918 0.08223707     0.008971357  1              -3.994701\n",
       "s5  898  0.04579750 0.08977941     0.007259340  1              -6.058665\n",
       "s6  973  0.04750401 0.08405180     0.009327828  1              -3.918147\n",
       "   mntd.obs.p runs\n",
       "s1 0.1        9   \n",
       "s2 0.1        9   \n",
       "s3 0.1        9   \n",
       "s4 0.1        9   \n",
       "s5 0.1        9   \n",
       "s6 0.1        9   "
      ]
     },
     "metadata": {},
     "output_type": "display_data"
    }
   ],
   "source": [
    "# Check results \n",
    "head(dataset.dts.aliyun$asb$alpha.phylo)"
   ]
  },
  {
   "cell_type": "code",
   "execution_count": 18,
   "id": "9bc41eb6-5642-4314-b6b7-32aa6cc3c827",
   "metadata": {
    "execution": {
     "iopub.execute_input": "2024-06-08T14:24:12.985793Z",
     "iopub.status.busy": "2024-06-08T14:24:12.985083Z",
     "iopub.status.idle": "2024-06-08T14:25:28.316675Z",
     "shell.execute_reply": "2024-06-08T14:25:28.315299Z"
    }
   },
   "outputs": [],
   "source": [
    "# Calculate `beta.phylo` null model\n",
    "# runs = 9 just for an example. 999 runs may be better \n",
    "dataset.dts.aliyun %<>% calc_phylo_asmb(type = 'beta.phylo', runs = 9, out.dir = 'test/calc_comm_asmb') %>% suppressMessages()"
   ]
  },
  {
   "cell_type": "code",
   "execution_count": 19,
   "id": "60b7ceb8-fe25-470f-8674-cb214e9250f9",
   "metadata": {
    "execution": {
     "iopub.execute_input": "2024-06-08T14:25:28.319048Z",
     "iopub.status.busy": "2024-06-08T14:25:28.318320Z",
     "iopub.status.idle": "2024-06-08T14:25:28.327684Z",
     "shell.execute_reply": "2024-06-08T14:25:28.326838Z"
    }
   },
   "outputs": [
    {
     "data": {
      "text/html": [
       "<style>\n",
       ".list-inline {list-style: none; margin:0; padding: 0}\n",
       ".list-inline>li {display: inline-block}\n",
       ".list-inline>li:not(:last-child)::after {content: \"\\00b7\"; padding: 0 .5ex}\n",
       "</style>\n",
       "<ol class=list-inline><li>'b.mntd'</li><li>'bc'</li><li>'rc'</li><li>'b.nti'</li></ol>\n"
      ],
      "text/latex": [
       "\\begin{enumerate*}\n",
       "\\item 'b.mntd'\n",
       "\\item 'bc'\n",
       "\\item 'rc'\n",
       "\\item 'b.nti'\n",
       "\\end{enumerate*}\n"
      ],
      "text/markdown": [
       "1. 'b.mntd'\n",
       "2. 'bc'\n",
       "3. 'rc'\n",
       "4. 'b.nti'\n",
       "\n",
       "\n"
      ],
      "text/plain": [
       "[1] \"b.mntd\" \"bc\"     \"rc\"     \"b.nti\" "
      ]
     },
     "metadata": {},
     "output_type": "display_data"
    }
   ],
   "source": [
    "# Check distance matrix \n",
    "names(dataset.dts.aliyun$asb$beta.phylo$dis) # distance matrices"
   ]
  },
  {
   "cell_type": "code",
   "execution_count": 20,
   "id": "d7ad20c3-f676-4aa5-8440-3755b37e0352",
   "metadata": {
    "execution": {
     "iopub.execute_input": "2024-06-08T14:25:28.329742Z",
     "iopub.status.busy": "2024-06-08T14:25:28.329071Z",
     "iopub.status.idle": "2024-06-08T14:25:28.342733Z",
     "shell.execute_reply": "2024-06-08T14:25:28.341917Z"
    }
   },
   "outputs": [
    {
     "data": {
      "text/html": [
       "<table class=\"dataframe\">\n",
       "<caption>A data.frame: 6 × 7</caption>\n",
       "<thead>\n",
       "\t<tr><th></th><th scope=col>sample1</th><th scope=col>sample2</th><th scope=col>bMNTD</th><th scope=col>BC</th><th scope=col>bNTI</th><th scope=col>RC</th><th scope=col>process</th></tr>\n",
       "\t<tr><th></th><th scope=col>&lt;chr&gt;</th><th scope=col>&lt;chr&gt;</th><th scope=col>&lt;dbl&gt;</th><th scope=col>&lt;dbl&gt;</th><th scope=col>&lt;dbl&gt;</th><th scope=col>&lt;dbl&gt;</th><th scope=col>&lt;chr&gt;</th></tr>\n",
       "</thead>\n",
       "<tbody>\n",
       "\t<tr><th scope=row>1</th><td>s2</td><td>s1</td><td>0.01482283</td><td>0.4994350</td><td>-7.032617</td><td>-1</td><td>Homogeneous.Selection</td></tr>\n",
       "\t<tr><th scope=row>2</th><td>s3</td><td>s1</td><td>0.01822827</td><td>0.5702448</td><td>-4.684807</td><td>-1</td><td>Homogeneous.Selection</td></tr>\n",
       "\t<tr><th scope=row>3</th><td>s4</td><td>s1</td><td>0.01598193</td><td>0.4775895</td><td>-2.093879</td><td>-1</td><td>Homogeneous.Selection</td></tr>\n",
       "\t<tr><th scope=row>4</th><td>s5</td><td>s1</td><td>0.01284542</td><td>0.4077213</td><td>-3.840588</td><td>-1</td><td>Homogeneous.Selection</td></tr>\n",
       "\t<tr><th scope=row>5</th><td>s6</td><td>s1</td><td>0.01567921</td><td>0.4738230</td><td>-5.191145</td><td>-1</td><td>Homogeneous.Selection</td></tr>\n",
       "\t<tr><th scope=row>6</th><td>s7</td><td>s1</td><td>0.01544265</td><td>0.4815443</td><td>-6.252689</td><td>-1</td><td>Homogeneous.Selection</td></tr>\n",
       "</tbody>\n",
       "</table>\n"
      ],
      "text/latex": [
       "A data.frame: 6 × 7\n",
       "\\begin{tabular}{r|lllllll}\n",
       "  & sample1 & sample2 & bMNTD & BC & bNTI & RC & process\\\\\n",
       "  & <chr> & <chr> & <dbl> & <dbl> & <dbl> & <dbl> & <chr>\\\\\n",
       "\\hline\n",
       "\t1 & s2 & s1 & 0.01482283 & 0.4994350 & -7.032617 & -1 & Homogeneous.Selection\\\\\n",
       "\t2 & s3 & s1 & 0.01822827 & 0.5702448 & -4.684807 & -1 & Homogeneous.Selection\\\\\n",
       "\t3 & s4 & s1 & 0.01598193 & 0.4775895 & -2.093879 & -1 & Homogeneous.Selection\\\\\n",
       "\t4 & s5 & s1 & 0.01284542 & 0.4077213 & -3.840588 & -1 & Homogeneous.Selection\\\\\n",
       "\t5 & s6 & s1 & 0.01567921 & 0.4738230 & -5.191145 & -1 & Homogeneous.Selection\\\\\n",
       "\t6 & s7 & s1 & 0.01544265 & 0.4815443 & -6.252689 & -1 & Homogeneous.Selection\\\\\n",
       "\\end{tabular}\n"
      ],
      "text/markdown": [
       "\n",
       "A data.frame: 6 × 7\n",
       "\n",
       "| <!--/--> | sample1 &lt;chr&gt; | sample2 &lt;chr&gt; | bMNTD &lt;dbl&gt; | BC &lt;dbl&gt; | bNTI &lt;dbl&gt; | RC &lt;dbl&gt; | process &lt;chr&gt; |\n",
       "|---|---|---|---|---|---|---|---|\n",
       "| 1 | s2 | s1 | 0.01482283 | 0.4994350 | -7.032617 | -1 | Homogeneous.Selection |\n",
       "| 2 | s3 | s1 | 0.01822827 | 0.5702448 | -4.684807 | -1 | Homogeneous.Selection |\n",
       "| 3 | s4 | s1 | 0.01598193 | 0.4775895 | -2.093879 | -1 | Homogeneous.Selection |\n",
       "| 4 | s5 | s1 | 0.01284542 | 0.4077213 | -3.840588 | -1 | Homogeneous.Selection |\n",
       "| 5 | s6 | s1 | 0.01567921 | 0.4738230 | -5.191145 | -1 | Homogeneous.Selection |\n",
       "| 6 | s7 | s1 | 0.01544265 | 0.4815443 | -6.252689 | -1 | Homogeneous.Selection |\n",
       "\n"
      ],
      "text/plain": [
       "  sample1 sample2 bMNTD      BC        bNTI      RC process              \n",
       "1 s2      s1      0.01482283 0.4994350 -7.032617 -1 Homogeneous.Selection\n",
       "2 s3      s1      0.01822827 0.5702448 -4.684807 -1 Homogeneous.Selection\n",
       "3 s4      s1      0.01598193 0.4775895 -2.093879 -1 Homogeneous.Selection\n",
       "4 s5      s1      0.01284542 0.4077213 -3.840588 -1 Homogeneous.Selection\n",
       "5 s6      s1      0.01567921 0.4738230 -5.191145 -1 Homogeneous.Selection\n",
       "6 s7      s1      0.01544265 0.4815443 -6.252689 -1 Homogeneous.Selection"
      ]
     },
     "metadata": {},
     "output_type": "display_data"
    }
   ],
   "source": [
    "# Check the results \n",
    "head(dataset.dts.aliyun$asb$beta.phylo$raw$result) # the raw result of `iCAMP::qpen()`"
   ]
  },
  {
   "cell_type": "code",
   "execution_count": 21,
   "id": "4ca490bf-2864-4249-af5c-5b53562195e4",
   "metadata": {
    "execution": {
     "iopub.execute_input": "2024-06-08T14:25:28.344788Z",
     "iopub.status.busy": "2024-06-08T14:25:28.344114Z",
     "iopub.status.idle": "2024-06-08T14:25:28.528651Z",
     "shell.execute_reply": "2024-06-08T14:25:28.527732Z"
    }
   },
   "outputs": [
    {
     "name": "stdout",
     "output_type": "stream",
     "text": [
      "\u001b[34m──\u001b[39m \u001b[34mThe Summary of Microgeo Dataset\u001b[39m \u001b[34m─────────────────────────────────────────────\u001b[39m\n"
     ]
    },
    {
     "name": "stderr",
     "output_type": "stream",
     "text": [
      "\u001b[36mℹ\u001b[39m object$mat: 6808 ASVs/genes and 1244 samples \u001b[32m\u001b[3m\u001b[32m[subsample depth: 5310]\u001b[32m\u001b[23m\u001b[39m\n",
      "\n",
      "\u001b[36mℹ\u001b[39m object$ant: 6808 ASVs/genes and 7 annotation levels (Kingdom, Phylum, Class, Order, Family, Genus, Species)\n",
      "\n",
      "\u001b[36mℹ\u001b[39m object$met: 1244 samples and 2 variables (longitude, latitude)\n",
      "\n",
      "\u001b[36mℹ\u001b[39m object$map: a SpatialPolygonsDataFrame with the CRS of '+proj=longlat +datum=WGS84 +no_defs'\n",
      "\n",
      "\u001b[36mℹ\u001b[39m object$phy: a phylogenetic tree with 6808 tip labels\n",
      "\n",
      "\u001b[36mℹ\u001b[39m object$env: 1244 samples and 10 variables\n",
      "\n"
     ]
    },
    {
     "name": "stdout",
     "output_type": "stream",
     "text": [
      "\n",
      "\u001b[30m──\u001b[39m \u001b[30mThe Summary of Biogeographic Traits\u001b[39m \u001b[30m─────────────────────────────────────────\u001b[39m\n"
     ]
    },
    {
     "name": "stderr",
     "output_type": "stream",
     "text": [
      "\u001b[32m✔\u001b[39m object$abd$raw: 7 abundance tables (Kingdom, Phylum, Class, Order, Family, Genus, Species)\n",
      "\n",
      "\u001b[32m✔\u001b[39m object$abd$mar: 4 eco-markers at Phylum level (abundance, correlation)\n",
      "\n",
      "\u001b[32m✔\u001b[39m object$div$alpha: 2 alpha diversity index/indices (observed, shannon)\n",
      "\n",
      "\u001b[32m✔\u001b[39m object$div$beta: 2 beta diversity distance matrix/matrices (bray, jaccard)\n",
      "\n",
      "\u001b[32m✔\u001b[39m object$asb$beta.phylo$raw$result: 7 beta phylogenetic assembling index/indices (sample1, sample2, bMNTD, ...)\n",
      "\n",
      "\u001b[32m✔\u001b[39m object$asb$beta.phylo$dis: 4 beta phylogenetic distance matrix/matrices (b.mntd, bc, rc, b.nti)\n",
      "\n"
     ]
    },
    {
     "name": "stdout",
     "output_type": "stream",
     "text": [
      "\n",
      "\u001b[44m• To check the summary of dataset, Replace `object` with the variable name of your dataset\u001b[49m\n",
      "\u001b[44m• For example, if the variable name is `dataset.dts`you can run `head(dataset.dts$met)` to check the content of `met`\u001b[49m\n"
     ]
    }
   ],
   "source": [
    "# Show dataset \n",
    "dataset.dts.aliyun %>% show_dataset()"
   ]
  }
 ],
 "metadata": {
  "kernelspec": {
   "display_name": "R",
   "language": "R",
   "name": "ir"
  },
  "language_info": {
   "codemirror_mode": "r",
   "file_extension": ".r",
   "mimetype": "text/x-r-source",
   "name": "R",
   "pygments_lexer": "r",
   "version": "4.1.2"
  }
 },
 "nbformat": 4,
 "nbformat_minor": 5
}
