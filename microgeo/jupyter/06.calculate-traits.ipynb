{
 "cells": [
  {
   "cell_type": "markdown",
   "id": "528188fd-1ef0-4bd8-ac6c-3261d461681f",
   "metadata": {},
   "source": [
    "# Calculate biogeographic traits"
   ]
  },
  {
   "cell_type": "markdown",
   "id": "68e968ae-f80a-4bab-a60d-83bd94f3dd37",
   "metadata": {},
   "source": [
    " "
   ]
  },
  {
   "cell_type": "markdown",
   "id": "b2c8dd1e-6d11-423b-a932-1fcd7bcda1fe",
   "metadata": {},
   "source": [
    "Our focus is on the spatial distribution of microbial biogeographic traits, so we also need to calculate several microbial community measures. The [microgeo](https://github.com/ChaonanLi/microgeo) R package provides some basic functions for calculating microbial relative abundance, diversity, and community assembly mechanism indicators. Of course, you can also visualize more microbial traits onto maps, not limited to the traits calculated by the [microgeo](https://github.com/ChaonanLi/microgeo) R package."
   ]
  },
  {
   "cell_type": "markdown",
   "id": "011bde4e-601e-432a-950f-aba7428308dd",
   "metadata": {},
   "source": [
    "Here we need three R packages for this section of [microgeo](https://github.com/ChaonanLi/microgeo) R package tutorial. Just run the following codes to import them into R environment."
   ]
  },
  {
   "cell_type": "code",
   "execution_count": 1,
   "id": "694d7806-2d1e-4e8a-99ef-cc58f622893f",
   "metadata": {
    "execution": {
     "iopub.execute_input": "2024-01-14T03:37:09.165603Z",
     "iopub.status.busy": "2024-01-14T03:37:09.164117Z",
     "iopub.status.idle": "2024-01-14T03:37:09.337052Z",
     "shell.execute_reply": "2024-01-14T03:37:09.336056Z"
    }
   },
   "outputs": [],
   "source": [
    "suppressMessages(require(\"magrittr\")) \n",
    "require(\"ggplot2\")  %>% suppressMessages()\n",
    "require(\"microgeo\") %>% suppressMessages()"
   ]
  },
  {
   "cell_type": "markdown",
   "id": "a9a8f656-ceb6-4bd6-b1f1-6ee1180422b5",
   "metadata": {},
   "source": [
    "If the Chinese characters cannot be displayed correctly, please run the following codes to set locale to `UTF-8`:"
   ]
  },
  {
   "cell_type": "code",
   "execution_count": 2,
   "id": "4f7406d1-79a2-45b7-974a-9969d0d671e0",
   "metadata": {
    "execution": {
     "iopub.execute_input": "2024-01-14T03:37:09.353649Z",
     "iopub.status.busy": "2024-01-14T03:37:09.338415Z",
     "iopub.status.idle": "2024-01-14T03:37:09.361595Z",
     "shell.execute_reply": "2024-01-14T03:37:09.360743Z"
    }
   },
   "outputs": [],
   "source": [
    "prev_locale <- Sys.setlocale(\"LC_CTYPE\", \"C.UTF-8\") "
   ]
  },
  {
   "cell_type": "markdown",
   "id": "c562b358-1cfd-45d0-8d89-764104cd9a36",
   "metadata": {},
   "source": [
    "We need a standard microgeo dataset for the presentations in the section of tutorial."
   ]
  },
  {
   "cell_type": "code",
   "execution_count": 3,
   "id": "8a6d5cef-d1e8-44a7-92bb-57097eab757b",
   "metadata": {
    "execution": {
     "iopub.execute_input": "2024-01-14T03:37:09.363601Z",
     "iopub.status.busy": "2024-01-14T03:37:09.362913Z",
     "iopub.status.idle": "2024-01-14T03:37:22.664396Z",
     "shell.execute_reply": "2024-01-14T03:37:22.663363Z"
    }
   },
   "outputs": [
    {
     "name": "stderr",
     "output_type": "stream",
     "text": [
      "\u001b[36mℹ\u001b[39m [2024-01-14 11:37:16] \u001b[34m\u001b[3m\u001b[34mINFO\u001b[34m\u001b[23m\u001b[39m ==> all samples fall within the map area!\n",
      "\n",
      "\u001b[36mℹ\u001b[39m [2024-01-14 11:37:16] \u001b[34m\u001b[3m\u001b[34mINFO\u001b[34m\u001b[23m\u001b[39m ==> dataset has been created successfully!\n",
      "\n",
      "\u001b[36mℹ\u001b[39m [2024-01-14 11:37:16] \u001b[34m\u001b[3m\u001b[34mINFO\u001b[34m\u001b[23m\u001b[39m ==> use `object %>% show_dataset()` to check the summary of dataset.\n",
      "\n",
      "\u001b[36mℹ\u001b[39m [2024-01-14 11:37:20] \u001b[34m\u001b[3m\u001b[34mINFO\u001b[34m\u001b[23m\u001b[39m ==> the ASV/gene abundance table has been rarefied with a sub-sample depth of 5310\n",
      "\n"
     ]
    },
    {
     "name": "stdout",
     "output_type": "stream",
     "text": [
      "\u001b[34m──\u001b[39m \u001b[34mThe Summary of Microgeo Dataset\u001b[39m \u001b[34m─────────────────────────────────────────────\u001b[39m\n"
     ]
    },
    {
     "name": "stderr",
     "output_type": "stream",
     "text": [
      "\u001b[36mℹ\u001b[39m object$mat: 6808 ASVs/genes and 1244 samples \u001b[32m\u001b[3m\u001b[32m[subsample depth: 5310]\u001b[32m\u001b[23m\u001b[39m\n",
      "\n",
      "\u001b[36mℹ\u001b[39m object$ant: 6808 ASVs/genes and 7 annotation levels (Kingdom, Phylum, Class, Order, Family, Genus, Species)\n",
      "\n",
      "\u001b[36mℹ\u001b[39m object$met: 1244 samples and 2 variables (longitude, latitude)\n",
      "\n",
      "\u001b[36mℹ\u001b[39m object$map: a SpatialPolygonsDataFrame with the CRS of '+proj=longlat +datum=WGS84 +no_defs'\n",
      "\n",
      "\u001b[36mℹ\u001b[39m object$phy: a phylogenetic tree with 6808 tip labels\n",
      "\n",
      "\u001b[36mℹ\u001b[39m object$env: 1244 samples and 10 variables\n",
      "\n"
     ]
    },
    {
     "name": "stdout",
     "output_type": "stream",
     "text": [
      "\n",
      "\u001b[44m• To check the summary of dataset, Replace `object` with the variable name of your dataset\u001b[49m\n",
      "\u001b[44m• For example, if the variable name is `dataset.dts`you can run `head(dataset.dts$met)` to check the content of `met`\u001b[49m\n"
     ]
    }
   ],
   "source": [
    "# Using the map downloaded from DataV.GeoAtlas\n",
    "data(qtp)\n",
    "map <- read_aliyun_map(adcode = c(540000, 630000, 510000)) %>% suppressMessages() \n",
    "dataset.dts.aliyun <- create_dataset(mat = qtp$asv, ant = qtp$tax, met = qtp$met, map = map,\n",
    "                                     phy = qtp$tre, env = qtp$env, lon = \"longitude\", lat = \"latitude\") \n",
    "dataset.dts.aliyun %<>% rarefy_count_table() \n",
    "dataset.dts.aliyun %<>% tidy_dataset()\n",
    "dataset.dts.aliyun %>% show_dataset()"
   ]
  },
  {
   "cell_type": "markdown",
   "id": "9836dd65-3ad1-46b9-aaad-eb27774a0a9f",
   "metadata": {},
   "source": [
    "## 1. Calculate the relative abundance"
   ]
  },
  {
   "cell_type": "markdown",
   "id": "34282341-bd72-4523-92d8-de8954a93c80",
   "metadata": {},
   "source": [
    "We implemented a function of `calc_rel_abund()`, which calculates the relative abundance of ASVs/genes at each of classification level. Just run the following codes."
   ]
  },
  {
   "cell_type": "code",
   "execution_count": 4,
   "id": "543e20f2-cc79-4e31-abfe-4d92d9906cbf",
   "metadata": {
    "execution": {
     "iopub.execute_input": "2024-01-14T03:37:22.667254Z",
     "iopub.status.busy": "2024-01-14T03:37:22.666202Z",
     "iopub.status.idle": "2024-01-14T03:37:28.838089Z",
     "shell.execute_reply": "2024-01-14T03:37:28.836989Z"
    }
   },
   "outputs": [
    {
     "data": {
      "text/html": [
       "<table class=\"dataframe\">\n",
       "<caption>A data.frame: 6 × 5</caption>\n",
       "<thead>\n",
       "\t<tr><th></th><th scope=col>p__</th><th scope=col>p__Acidobacteria</th><th scope=col>p__Actinobacteria</th><th scope=col>p__Armatimonadetes</th><th scope=col>p__Bacteroidetes</th></tr>\n",
       "\t<tr><th></th><th scope=col>&lt;dbl&gt;</th><th scope=col>&lt;dbl&gt;</th><th scope=col>&lt;dbl&gt;</th><th scope=col>&lt;dbl&gt;</th><th scope=col>&lt;dbl&gt;</th></tr>\n",
       "</thead>\n",
       "<tbody>\n",
       "\t<tr><th scope=row>s1</th><td>0.2259887</td><td>13.76648</td><td>49.94350</td><td>0.03766478</td><td>1.939736</td></tr>\n",
       "\t<tr><th scope=row>s2</th><td>0.1694915</td><td>13.20151</td><td>50.90395</td><td>0.03766478</td><td>2.015066</td></tr>\n",
       "\t<tr><th scope=row>s3</th><td>0.1694915</td><td>20.54614</td><td>44.33145</td><td>0.00000000</td><td>1.450094</td></tr>\n",
       "\t<tr><th scope=row>s4</th><td>0.2824859</td><td>15.76271</td><td>46.85499</td><td>0.00000000</td><td>4.745763</td></tr>\n",
       "\t<tr><th scope=row>s5</th><td>0.1129944</td><td>13.25800</td><td>56.17702</td><td>0.01883239</td><td>1.148776</td></tr>\n",
       "\t<tr><th scope=row>s6</th><td>0.3389831</td><td>14.83992</td><td>46.45951</td><td>0.05649718</td><td>2.862524</td></tr>\n",
       "</tbody>\n",
       "</table>\n"
      ],
      "text/latex": [
       "A data.frame: 6 × 5\n",
       "\\begin{tabular}{r|lllll}\n",
       "  & p\\_\\_ & p\\_\\_Acidobacteria & p\\_\\_Actinobacteria & p\\_\\_Armatimonadetes & p\\_\\_Bacteroidetes\\\\\n",
       "  & <dbl> & <dbl> & <dbl> & <dbl> & <dbl>\\\\\n",
       "\\hline\n",
       "\ts1 & 0.2259887 & 13.76648 & 49.94350 & 0.03766478 & 1.939736\\\\\n",
       "\ts2 & 0.1694915 & 13.20151 & 50.90395 & 0.03766478 & 2.015066\\\\\n",
       "\ts3 & 0.1694915 & 20.54614 & 44.33145 & 0.00000000 & 1.450094\\\\\n",
       "\ts4 & 0.2824859 & 15.76271 & 46.85499 & 0.00000000 & 4.745763\\\\\n",
       "\ts5 & 0.1129944 & 13.25800 & 56.17702 & 0.01883239 & 1.148776\\\\\n",
       "\ts6 & 0.3389831 & 14.83992 & 46.45951 & 0.05649718 & 2.862524\\\\\n",
       "\\end{tabular}\n"
      ],
      "text/markdown": [
       "\n",
       "A data.frame: 6 × 5\n",
       "\n",
       "| <!--/--> | p__ &lt;dbl&gt; | p__Acidobacteria &lt;dbl&gt; | p__Actinobacteria &lt;dbl&gt; | p__Armatimonadetes &lt;dbl&gt; | p__Bacteroidetes &lt;dbl&gt; |\n",
       "|---|---|---|---|---|---|\n",
       "| s1 | 0.2259887 | 13.76648 | 49.94350 | 0.03766478 | 1.939736 |\n",
       "| s2 | 0.1694915 | 13.20151 | 50.90395 | 0.03766478 | 2.015066 |\n",
       "| s3 | 0.1694915 | 20.54614 | 44.33145 | 0.00000000 | 1.450094 |\n",
       "| s4 | 0.2824859 | 15.76271 | 46.85499 | 0.00000000 | 4.745763 |\n",
       "| s5 | 0.1129944 | 13.25800 | 56.17702 | 0.01883239 | 1.148776 |\n",
       "| s6 | 0.3389831 | 14.83992 | 46.45951 | 0.05649718 | 2.862524 |\n",
       "\n"
      ],
      "text/plain": [
       "   p__       p__Acidobacteria p__Actinobacteria p__Armatimonadetes\n",
       "s1 0.2259887 13.76648         49.94350          0.03766478        \n",
       "s2 0.1694915 13.20151         50.90395          0.03766478        \n",
       "s3 0.1694915 20.54614         44.33145          0.00000000        \n",
       "s4 0.2824859 15.76271         46.85499          0.00000000        \n",
       "s5 0.1129944 13.25800         56.17702          0.01883239        \n",
       "s6 0.3389831 14.83992         46.45951          0.05649718        \n",
       "   p__Bacteroidetes\n",
       "s1 1.939736        \n",
       "s2 2.015066        \n",
       "s3 1.450094        \n",
       "s4 4.745763        \n",
       "s5 1.148776        \n",
       "s6 2.862524        "
      ]
     },
     "metadata": {},
     "output_type": "display_data"
    }
   ],
   "source": [
    "# Calculate relative abundance\n",
    "dataset.dts.aliyun %<>% calc_rel_abund() %>% suppressMessages()\n",
    "head(dataset.dts.aliyun$abd$raw$Phylum[,1:5])"
   ]
  },
  {
   "cell_type": "code",
   "execution_count": 5,
   "id": "1e2c60ce-d17d-4c62-978d-3f23a81187ec",
   "metadata": {
    "execution": {
     "iopub.execute_input": "2024-01-14T03:37:28.840407Z",
     "iopub.status.busy": "2024-01-14T03:37:28.839724Z",
     "iopub.status.idle": "2024-01-14T03:37:29.007160Z",
     "shell.execute_reply": "2024-01-14T03:37:29.006234Z"
    }
   },
   "outputs": [
    {
     "name": "stdout",
     "output_type": "stream",
     "text": [
      "\u001b[34m──\u001b[39m \u001b[34mThe Summary of Microgeo Dataset\u001b[39m \u001b[34m─────────────────────────────────────────────\u001b[39m\n"
     ]
    },
    {
     "name": "stderr",
     "output_type": "stream",
     "text": [
      "\u001b[36mℹ\u001b[39m object$mat: 6808 ASVs/genes and 1244 samples \u001b[32m\u001b[3m\u001b[32m[subsample depth: 5310]\u001b[32m\u001b[23m\u001b[39m\n",
      "\n",
      "\u001b[36mℹ\u001b[39m object$ant: 6808 ASVs/genes and 7 annotation levels (Kingdom, Phylum, Class, Order, Family, Genus, Species)\n",
      "\n",
      "\u001b[36mℹ\u001b[39m object$met: 1244 samples and 2 variables (longitude, latitude)\n",
      "\n",
      "\u001b[36mℹ\u001b[39m object$map: a SpatialPolygonsDataFrame with the CRS of '+proj=longlat +datum=WGS84 +no_defs'\n",
      "\n",
      "\u001b[36mℹ\u001b[39m object$phy: a phylogenetic tree with 6808 tip labels\n",
      "\n",
      "\u001b[36mℹ\u001b[39m object$env: 1244 samples and 10 variables\n",
      "\n"
     ]
    },
    {
     "name": "stdout",
     "output_type": "stream",
     "text": [
      "\n",
      "\u001b[30m──\u001b[39m \u001b[30mThe Summary of Biogeographic Traits\u001b[39m \u001b[30m─────────────────────────────────────────\u001b[39m\n"
     ]
    },
    {
     "name": "stderr",
     "output_type": "stream",
     "text": [
      "\u001b[32m✔\u001b[39m object$abd$raw: 7 abundance tables (Kingdom, Phylum, Class, Order, Family, Genus, Species)\n",
      "\n"
     ]
    },
    {
     "name": "stdout",
     "output_type": "stream",
     "text": [
      "\n",
      "\u001b[44m• To check the summary of dataset, Replace `object` with the variable name of your dataset\u001b[49m\n",
      "\u001b[44m• For example, if the variable name is `dataset.dts`you can run `head(dataset.dts$met)` to check the content of `met`\u001b[49m\n"
     ]
    }
   ],
   "source": [
    "# Show dataset \n",
    "dataset.dts.aliyun %>% show_dataset()"
   ]
  },
  {
   "cell_type": "markdown",
   "id": "bbe9c872-4c38-4b99-8a38-af47d370ea3c",
   "metadata": {},
   "source": [
    "## 2. Calculate the ecological markers"
   ]
  },
  {
   "cell_type": "markdown",
   "id": "be206581-81d4-494e-95e0-f4e97f9e6439",
   "metadata": {},
   "source": [
    "We also designed a function of `calc_markers()`, which identifies the potentially ecological markers base on the relative abundance of ASV/genes at a given classification level. If there is only one environmnetal variable for the identification, then a correlation method would be used. If the are two or more environmental variables, then a mantel test would be applied. **Please note that such a function only works when the relative abundance of ASVs/genes are available in microgeo dataset!**. "
   ]
  },
  {
   "cell_type": "code",
   "execution_count": 6,
   "id": "ca8ff1ed-5e48-4ec7-b5e8-896b178cf227",
   "metadata": {
    "execution": {
     "iopub.execute_input": "2024-01-14T03:37:29.009360Z",
     "iopub.status.busy": "2024-01-14T03:37:29.008655Z",
     "iopub.status.idle": "2024-01-14T03:37:29.041135Z",
     "shell.execute_reply": "2024-01-14T03:37:29.040304Z"
    }
   },
   "outputs": [
    {
     "name": "stderr",
     "output_type": "stream",
     "text": [
      "\u001b[36mℹ\u001b[39m [2024-01-14 11:37:29] \u001b[34m\u001b[3m\u001b[34mINFO\u001b[34m\u001b[23m\u001b[39m ==> found 17 ecological markers at `Phylum` level..\n",
      "\n",
      "\u001b[32m✔\u001b[39m [2024-01-14 11:37:29] \u001b[32m\u001b[3m\u001b[32mSAVE\u001b[32m\u001b[23m\u001b[39m ==> results have been saved to: object$abd$mar\n",
      "\n"
     ]
    }
   ],
   "source": [
    "# Identify ecological markers based on soil pH in <env>[Correlation]\n",
    "dataset.dts.aliyun %<>% calc_markers(use.var = 'pH', annotation.level = 'Phylum', r.thres = 0.1, use.dat = 'env') "
   ]
  },
  {
   "cell_type": "code",
   "execution_count": 7,
   "id": "fa9943b1-8b6b-4019-bd00-816455d9f1c7",
   "metadata": {
    "execution": {
     "iopub.execute_input": "2024-01-14T03:37:29.043160Z",
     "iopub.status.busy": "2024-01-14T03:37:29.042488Z",
     "iopub.status.idle": "2024-01-14T03:37:29.054651Z",
     "shell.execute_reply": "2024-01-14T03:37:29.053836Z"
    }
   },
   "outputs": [
    {
     "data": {
      "text/html": [
       "<table class=\"dataframe\">\n",
       "<caption>A data.frame: 6 × 3</caption>\n",
       "<thead>\n",
       "\t<tr><th></th><th scope=col>var</th><th scope=col>r</th><th scope=col>p</th></tr>\n",
       "\t<tr><th></th><th scope=col>&lt;fct&gt;</th><th scope=col>&lt;dbl&gt;</th><th scope=col>&lt;dbl&gt;</th></tr>\n",
       "</thead>\n",
       "<tbody>\n",
       "\t<tr><th scope=row>p__Acidobacteria</th><td>p__Acidobacteria   </td><td>-0.3921990</td><td>5.172816e-47</td></tr>\n",
       "\t<tr><th scope=row>p__Verrucomicrobia</th><td>p__Verrucomicrobia </td><td>-0.3562478</td><td>1.575952e-38</td></tr>\n",
       "\t<tr><th scope=row>p__Rokubacteria</th><td>p__Rokubacteria    </td><td>-0.3440395</td><td>6.927035e-36</td></tr>\n",
       "\t<tr><th scope=row>p__Actinobacteria</th><td>p__Actinobacteria  </td><td> 0.3229639</td><td>1.361259e-31</td></tr>\n",
       "\t<tr><th scope=row>p__Chloroflexi</th><td>p__Chloroflexi     </td><td> 0.2987824</td><td>4.535749e-27</td></tr>\n",
       "\t<tr><th scope=row>p__Gemmatimonadetes</th><td>p__Gemmatimonadetes</td><td> 0.2925083</td><td>5.781837e-26</td></tr>\n",
       "</tbody>\n",
       "</table>\n"
      ],
      "text/latex": [
       "A data.frame: 6 × 3\n",
       "\\begin{tabular}{r|lll}\n",
       "  & var & r & p\\\\\n",
       "  & <fct> & <dbl> & <dbl>\\\\\n",
       "\\hline\n",
       "\tp\\_\\_Acidobacteria & p\\_\\_Acidobacteria    & -0.3921990 & 5.172816e-47\\\\\n",
       "\tp\\_\\_Verrucomicrobia & p\\_\\_Verrucomicrobia  & -0.3562478 & 1.575952e-38\\\\\n",
       "\tp\\_\\_Rokubacteria & p\\_\\_Rokubacteria     & -0.3440395 & 6.927035e-36\\\\\n",
       "\tp\\_\\_Actinobacteria & p\\_\\_Actinobacteria   &  0.3229639 & 1.361259e-31\\\\\n",
       "\tp\\_\\_Chloroflexi & p\\_\\_Chloroflexi      &  0.2987824 & 4.535749e-27\\\\\n",
       "\tp\\_\\_Gemmatimonadetes & p\\_\\_Gemmatimonadetes &  0.2925083 & 5.781837e-26\\\\\n",
       "\\end{tabular}\n"
      ],
      "text/markdown": [
       "\n",
       "A data.frame: 6 × 3\n",
       "\n",
       "| <!--/--> | var &lt;fct&gt; | r &lt;dbl&gt; | p &lt;dbl&gt; |\n",
       "|---|---|---|---|\n",
       "| p__Acidobacteria | p__Acidobacteria    | -0.3921990 | 5.172816e-47 |\n",
       "| p__Verrucomicrobia | p__Verrucomicrobia  | -0.3562478 | 1.575952e-38 |\n",
       "| p__Rokubacteria | p__Rokubacteria     | -0.3440395 | 6.927035e-36 |\n",
       "| p__Actinobacteria | p__Actinobacteria   |  0.3229639 | 1.361259e-31 |\n",
       "| p__Chloroflexi | p__Chloroflexi      |  0.2987824 | 4.535749e-27 |\n",
       "| p__Gemmatimonadetes | p__Gemmatimonadetes |  0.2925083 | 5.781837e-26 |\n",
       "\n"
      ],
      "text/plain": [
       "                    var                 r          p           \n",
       "p__Acidobacteria    p__Acidobacteria    -0.3921990 5.172816e-47\n",
       "p__Verrucomicrobia  p__Verrucomicrobia  -0.3562478 1.575952e-38\n",
       "p__Rokubacteria     p__Rokubacteria     -0.3440395 6.927035e-36\n",
       "p__Actinobacteria   p__Actinobacteria    0.3229639 1.361259e-31\n",
       "p__Chloroflexi      p__Chloroflexi       0.2987824 4.535749e-27\n",
       "p__Gemmatimonadetes p__Gemmatimonadetes  0.2925083 5.781837e-26"
      ]
     },
     "metadata": {},
     "output_type": "display_data"
    }
   ],
   "source": [
    "# Show markers \n",
    "head(dataset.dts.aliyun$abd$mar$correlation)"
   ]
  },
  {
   "cell_type": "code",
   "execution_count": 8,
   "id": "5e7601fd-239c-4b92-bf08-e652fb8a6d67",
   "metadata": {
    "execution": {
     "iopub.execute_input": "2024-01-14T03:37:29.056655Z",
     "iopub.status.busy": "2024-01-14T03:37:29.055984Z",
     "iopub.status.idle": "2024-01-14T03:42:46.992247Z",
     "shell.execute_reply": "2024-01-14T03:42:46.991012Z"
    }
   },
   "outputs": [
    {
     "name": "stderr",
     "output_type": "stream",
     "text": [
      "\u001b[36mℹ\u001b[39m [2024-01-14 11:37:29] \u001b[34m\u001b[3m\u001b[34mINFO\u001b[34m\u001b[23m\u001b[39m ==> mantel test would take a while...\n",
      "\n",
      "\u001b[36mℹ\u001b[39m [2024-01-14 11:37:29] \u001b[34m\u001b[3m\u001b[34mINFO\u001b[34m\u001b[23m\u001b[39m ==> current annot. name(1/26): p__\n",
      "\n",
      "\u001b[36mℹ\u001b[39m [2024-01-14 11:37:41] \u001b[34m\u001b[3m\u001b[34mINFO\u001b[34m\u001b[23m\u001b[39m ==> current annot. name(2/26): p__Acidobacteria\n",
      "\n",
      "\u001b[36mℹ\u001b[39m [2024-01-14 11:37:53] \u001b[34m\u001b[3m\u001b[34mINFO\u001b[34m\u001b[23m\u001b[39m ==> current annot. name(3/26): p__Actinobacteria\n",
      "\n",
      "\u001b[36mℹ\u001b[39m [2024-01-14 11:38:05] \u001b[34m\u001b[3m\u001b[34mINFO\u001b[34m\u001b[23m\u001b[39m ==> current annot. name(4/26): p__Armatimonadetes\n",
      "\n",
      "\u001b[36mℹ\u001b[39m [2024-01-14 11:38:17] \u001b[34m\u001b[3m\u001b[34mINFO\u001b[34m\u001b[23m\u001b[39m ==> current annot. name(5/26): p__Bacteroidetes\n",
      "\n",
      "\u001b[36mℹ\u001b[39m [2024-01-14 11:38:28] \u001b[34m\u001b[3m\u001b[34mINFO\u001b[34m\u001b[23m\u001b[39m ==> current annot. name(6/26): p__Chloroflexi\n",
      "\n",
      "\u001b[36mℹ\u001b[39m [2024-01-14 11:38:41] \u001b[34m\u001b[3m\u001b[34mINFO\u001b[34m\u001b[23m\u001b[39m ==> current annot. name(7/26): p__Crenarchaeota\n",
      "\n",
      "\u001b[36mℹ\u001b[39m [2024-01-14 11:38:53] \u001b[34m\u001b[3m\u001b[34mINFO\u001b[34m\u001b[23m\u001b[39m ==> current annot. name(8/26): p__Cyanobacteria\n",
      "\n",
      "\u001b[36mℹ\u001b[39m [2024-01-14 11:39:05] \u001b[34m\u001b[3m\u001b[34mINFO\u001b[34m\u001b[23m\u001b[39m ==> current annot. name(9/26): p__Deinococcus.Thermus\n",
      "\n",
      "\u001b[36mℹ\u001b[39m [2024-01-14 11:39:18] \u001b[34m\u001b[3m\u001b[34mINFO\u001b[34m\u001b[23m\u001b[39m ==> current annot. name(10/26): p__Elusimicrobia\n",
      "\n",
      "\u001b[36mℹ\u001b[39m [2024-01-14 11:39:30] \u001b[34m\u001b[3m\u001b[34mINFO\u001b[34m\u001b[23m\u001b[39m ==> current annot. name(11/26): p__Entotheonellaeota\n",
      "\n",
      "\u001b[36mℹ\u001b[39m [2024-01-14 11:39:43] \u001b[34m\u001b[3m\u001b[34mINFO\u001b[34m\u001b[23m\u001b[39m ==> current annot. name(12/26): p__Euryarchaeota\n",
      "\n",
      "\u001b[36mℹ\u001b[39m [2024-01-14 11:39:57] \u001b[34m\u001b[3m\u001b[34mINFO\u001b[34m\u001b[23m\u001b[39m ==> current annot. name(13/26): p__FBP\n",
      "\n",
      "\u001b[36mℹ\u001b[39m [2024-01-14 11:40:10] \u001b[34m\u001b[3m\u001b[34mINFO\u001b[34m\u001b[23m\u001b[39m ==> current annot. name(14/26): p__Fibrobacteres\n",
      "\n",
      "\u001b[36mℹ\u001b[39m [2024-01-14 11:40:22] \u001b[34m\u001b[3m\u001b[34mINFO\u001b[34m\u001b[23m\u001b[39m ==> current annot. name(15/26): p__Firmicutes\n",
      "\n",
      "\u001b[36mℹ\u001b[39m [2024-01-14 11:40:37] \u001b[34m\u001b[3m\u001b[34mINFO\u001b[34m\u001b[23m\u001b[39m ==> current annot. name(16/26): p__GAL15\n",
      "\n",
      "\u001b[36mℹ\u001b[39m [2024-01-14 11:40:50] \u001b[34m\u001b[3m\u001b[34mINFO\u001b[34m\u001b[23m\u001b[39m ==> current annot. name(17/26): p__Gemmatimonadetes\n",
      "\n",
      "\u001b[36mℹ\u001b[39m [2024-01-14 11:41:03] \u001b[34m\u001b[3m\u001b[34mINFO\u001b[34m\u001b[23m\u001b[39m ==> current annot. name(18/26): p__Latescibacteria\n",
      "\n",
      "\u001b[36mℹ\u001b[39m [2024-01-14 11:41:14] \u001b[34m\u001b[3m\u001b[34mINFO\u001b[34m\u001b[23m\u001b[39m ==> current annot. name(19/26): p__Nitrospirae\n",
      "\n",
      "\u001b[36mℹ\u001b[39m [2024-01-14 11:41:27] \u001b[34m\u001b[3m\u001b[34mINFO\u001b[34m\u001b[23m\u001b[39m ==> current annot. name(20/26): p__Planctomycetes\n",
      "\n",
      "\u001b[36mℹ\u001b[39m [2024-01-14 11:41:38] \u001b[34m\u001b[3m\u001b[34mINFO\u001b[34m\u001b[23m\u001b[39m ==> current annot. name(21/26): p__Proteobacteria\n",
      "\n",
      "\u001b[36mℹ\u001b[39m [2024-01-14 11:41:49] \u001b[34m\u001b[3m\u001b[34mINFO\u001b[34m\u001b[23m\u001b[39m ==> current annot. name(22/26): p__Rokubacteria\n",
      "\n",
      "\u001b[36mℹ\u001b[39m [2024-01-14 11:42:01] \u001b[34m\u001b[3m\u001b[34mINFO\u001b[34m\u001b[23m\u001b[39m ==> current annot. name(23/26): p__Thaumarchaeota\n",
      "\n",
      "\u001b[36mℹ\u001b[39m [2024-01-14 11:42:13] \u001b[34m\u001b[3m\u001b[34mINFO\u001b[34m\u001b[23m\u001b[39m ==> current annot. name(24/26): p__Verrucomicrobia\n",
      "\n",
      "\u001b[36mℹ\u001b[39m [2024-01-14 11:42:24] \u001b[34m\u001b[3m\u001b[34mINFO\u001b[34m\u001b[23m\u001b[39m ==> current annot. name(25/26): p__WPS.2\n",
      "\n",
      "\u001b[36mℹ\u001b[39m [2024-01-14 11:42:35] \u001b[34m\u001b[3m\u001b[34mINFO\u001b[34m\u001b[23m\u001b[39m ==> current annot. name(26/26): p__WS2\n",
      "\n",
      "\u001b[36mℹ\u001b[39m [2024-01-14 11:42:46] \u001b[34m\u001b[3m\u001b[34mINFO\u001b[34m\u001b[23m\u001b[39m ==> found 3 ecological markers at `Phylum` level..\n",
      "\n",
      "\u001b[32m✔\u001b[39m [2024-01-14 11:42:46] \u001b[32m\u001b[3m\u001b[32mSAVE\u001b[32m\u001b[23m\u001b[39m ==> results have been saved to: object$abd$mar\n",
      "\n"
     ]
    }
   ],
   "source": [
    "# Identify ecological markers based on soil pH and TOC in <env> [Mantel test]\n",
    "dataset.dts.aliyun %<>% calc_markers(use.var = c('pH', 'TOC'), annotation.level = 'Phylum', r.thres = 0.1, use.dat = 'env') "
   ]
  },
  {
   "cell_type": "code",
   "execution_count": 9,
   "id": "a0499b3c-ef6b-4073-99cf-73a6c4a808d6",
   "metadata": {
    "execution": {
     "iopub.execute_input": "2024-01-14T03:42:46.995128Z",
     "iopub.status.busy": "2024-01-14T03:42:46.994187Z",
     "iopub.status.idle": "2024-01-14T03:42:47.009532Z",
     "shell.execute_reply": "2024-01-14T03:42:47.008479Z"
    }
   },
   "outputs": [
    {
     "data": {
      "text/html": [
       "<table class=\"dataframe\">\n",
       "<caption>A data.frame: 3 × 3</caption>\n",
       "<thead>\n",
       "\t<tr><th></th><th scope=col>var</th><th scope=col>r</th><th scope=col>p</th></tr>\n",
       "\t<tr><th></th><th scope=col>&lt;fct&gt;</th><th scope=col>&lt;dbl&gt;</th><th scope=col>&lt;dbl&gt;</th></tr>\n",
       "</thead>\n",
       "<tbody>\n",
       "\t<tr><th scope=row>p__Crenarchaeota</th><td>p__Crenarchaeota </td><td>0.2279896</td><td>0.001</td></tr>\n",
       "\t<tr><th scope=row>p__Actinobacteria</th><td>p__Actinobacteria</td><td>0.1215387</td><td>0.001</td></tr>\n",
       "\t<tr><th scope=row>p__Thaumarchaeota</th><td>p__Thaumarchaeota</td><td>0.1159946</td><td>0.001</td></tr>\n",
       "</tbody>\n",
       "</table>\n"
      ],
      "text/latex": [
       "A data.frame: 3 × 3\n",
       "\\begin{tabular}{r|lll}\n",
       "  & var & r & p\\\\\n",
       "  & <fct> & <dbl> & <dbl>\\\\\n",
       "\\hline\n",
       "\tp\\_\\_Crenarchaeota & p\\_\\_Crenarchaeota  & 0.2279896 & 0.001\\\\\n",
       "\tp\\_\\_Actinobacteria & p\\_\\_Actinobacteria & 0.1215387 & 0.001\\\\\n",
       "\tp\\_\\_Thaumarchaeota & p\\_\\_Thaumarchaeota & 0.1159946 & 0.001\\\\\n",
       "\\end{tabular}\n"
      ],
      "text/markdown": [
       "\n",
       "A data.frame: 3 × 3\n",
       "\n",
       "| <!--/--> | var &lt;fct&gt; | r &lt;dbl&gt; | p &lt;dbl&gt; |\n",
       "|---|---|---|---|\n",
       "| p__Crenarchaeota | p__Crenarchaeota  | 0.2279896 | 0.001 |\n",
       "| p__Actinobacteria | p__Actinobacteria | 0.1215387 | 0.001 |\n",
       "| p__Thaumarchaeota | p__Thaumarchaeota | 0.1159946 | 0.001 |\n",
       "\n"
      ],
      "text/plain": [
       "                  var               r         p    \n",
       "p__Crenarchaeota  p__Crenarchaeota  0.2279896 0.001\n",
       "p__Actinobacteria p__Actinobacteria 0.1215387 0.001\n",
       "p__Thaumarchaeota p__Thaumarchaeota 0.1159946 0.001"
      ]
     },
     "metadata": {},
     "output_type": "display_data"
    }
   ],
   "source": [
    "# Show markers \n",
    "head(dataset.dts.aliyun$abd$mar$correlation)"
   ]
  },
  {
   "cell_type": "code",
   "execution_count": 10,
   "id": "dd7d8a0b-4bef-41c3-af9f-296d070a529a",
   "metadata": {
    "execution": {
     "iopub.execute_input": "2024-01-14T03:42:47.012162Z",
     "iopub.status.busy": "2024-01-14T03:42:47.011302Z",
     "iopub.status.idle": "2024-01-14T03:42:47.180860Z",
     "shell.execute_reply": "2024-01-14T03:42:47.179688Z"
    }
   },
   "outputs": [
    {
     "name": "stdout",
     "output_type": "stream",
     "text": [
      "\u001b[34m──\u001b[39m \u001b[34mThe Summary of Microgeo Dataset\u001b[39m \u001b[34m─────────────────────────────────────────────\u001b[39m\n"
     ]
    },
    {
     "name": "stderr",
     "output_type": "stream",
     "text": [
      "\u001b[36mℹ\u001b[39m object$mat: 6808 ASVs/genes and 1244 samples \u001b[32m\u001b[3m\u001b[32m[subsample depth: 5310]\u001b[32m\u001b[23m\u001b[39m\n",
      "\n",
      "\u001b[36mℹ\u001b[39m object$ant: 6808 ASVs/genes and 7 annotation levels (Kingdom, Phylum, Class, Order, Family, Genus, Species)\n",
      "\n",
      "\u001b[36mℹ\u001b[39m object$met: 1244 samples and 2 variables (longitude, latitude)\n",
      "\n",
      "\u001b[36mℹ\u001b[39m object$map: a SpatialPolygonsDataFrame with the CRS of '+proj=longlat +datum=WGS84 +no_defs'\n",
      "\n",
      "\u001b[36mℹ\u001b[39m object$phy: a phylogenetic tree with 6808 tip labels\n",
      "\n",
      "\u001b[36mℹ\u001b[39m object$env: 1244 samples and 10 variables\n",
      "\n"
     ]
    },
    {
     "name": "stdout",
     "output_type": "stream",
     "text": [
      "\n",
      "\u001b[30m──\u001b[39m \u001b[30mThe Summary of Biogeographic Traits\u001b[39m \u001b[30m─────────────────────────────────────────\u001b[39m\n"
     ]
    },
    {
     "name": "stderr",
     "output_type": "stream",
     "text": [
      "\u001b[32m✔\u001b[39m object$abd$raw: 7 abundance tables (Kingdom, Phylum, Class, Order, Family, Genus, Species)\n",
      "\n",
      "\u001b[32m✔\u001b[39m object$abd$mar: 3 eco-markers at Phylum level (abundance, correlation)\n",
      "\n"
     ]
    },
    {
     "name": "stdout",
     "output_type": "stream",
     "text": [
      "\n",
      "\u001b[44m• To check the summary of dataset, Replace `object` with the variable name of your dataset\u001b[49m\n",
      "\u001b[44m• For example, if the variable name is `dataset.dts`you can run `head(dataset.dts$met)` to check the content of `met`\u001b[49m\n"
     ]
    }
   ],
   "source": [
    "# Show dataset \n",
    "dataset.dts.aliyun %>% show_dataset()"
   ]
  },
  {
   "cell_type": "markdown",
   "id": "ba71f452-62f4-488c-baf7-9689946065da",
   "metadata": {},
   "source": [
    "## 3. Calculate alpha diversity indices"
   ]
  },
  {
   "cell_type": "markdown",
   "id": "32e49891-6bab-43c7-ae54-0642e39ee9d3",
   "metadata": {},
   "source": [
    "We implemented a functiobn of `calc_alpha_div()`, which calculates serveral alpha diversity indices such as observed ASVs and Shannon index. Just run the following codes."
   ]
  },
  {
   "cell_type": "code",
   "execution_count": 11,
   "id": "6f9018c0-38fa-4614-ac0d-34cf45271bba",
   "metadata": {
    "execution": {
     "iopub.execute_input": "2024-01-14T03:42:47.183550Z",
     "iopub.status.busy": "2024-01-14T03:42:47.182690Z",
     "iopub.status.idle": "2024-01-14T03:42:49.412001Z",
     "shell.execute_reply": "2024-01-14T03:42:49.410435Z"
    }
   },
   "outputs": [],
   "source": [
    "# Calculate alpha diversity indices\n",
    "dataset.dts.aliyun %<>% calc_alpha_div(measures = c(\"observed\", \"shannon\")) %>% suppressMessages()"
   ]
  },
  {
   "cell_type": "code",
   "execution_count": 12,
   "id": "089c2913-0fd1-4ad7-a8a2-0255be621e6a",
   "metadata": {
    "execution": {
     "iopub.execute_input": "2024-01-14T03:42:49.415128Z",
     "iopub.status.busy": "2024-01-14T03:42:49.414157Z",
     "iopub.status.idle": "2024-01-14T03:42:49.528093Z",
     "shell.execute_reply": "2024-01-14T03:42:49.527151Z"
    }
   },
   "outputs": [
    {
     "name": "stdout",
     "output_type": "stream",
     "text": [
      "\u001b[34m──\u001b[39m \u001b[34mThe Summary of Microgeo Dataset\u001b[39m \u001b[34m─────────────────────────────────────────────\u001b[39m\n"
     ]
    },
    {
     "name": "stderr",
     "output_type": "stream",
     "text": [
      "\u001b[36mℹ\u001b[39m object$mat: 6808 ASVs/genes and 1244 samples \u001b[32m\u001b[3m\u001b[32m[subsample depth: 5310]\u001b[32m\u001b[23m\u001b[39m\n",
      "\n",
      "\u001b[36mℹ\u001b[39m object$ant: 6808 ASVs/genes and 7 annotation levels (Kingdom, Phylum, Class, Order, Family, Genus, Species)\n",
      "\n",
      "\u001b[36mℹ\u001b[39m object$met: 1244 samples and 2 variables (longitude, latitude)\n",
      "\n",
      "\u001b[36mℹ\u001b[39m object$map: a SpatialPolygonsDataFrame with the CRS of '+proj=longlat +datum=WGS84 +no_defs'\n",
      "\n",
      "\u001b[36mℹ\u001b[39m object$phy: a phylogenetic tree with 6808 tip labels\n",
      "\n",
      "\u001b[36mℹ\u001b[39m object$env: 1244 samples and 10 variables\n",
      "\n"
     ]
    },
    {
     "name": "stdout",
     "output_type": "stream",
     "text": [
      "\n",
      "\u001b[30m──\u001b[39m \u001b[30mThe Summary of Biogeographic Traits\u001b[39m \u001b[30m─────────────────────────────────────────\u001b[39m\n"
     ]
    },
    {
     "name": "stderr",
     "output_type": "stream",
     "text": [
      "\u001b[32m✔\u001b[39m object$abd$raw: 7 abundance tables (Kingdom, Phylum, Class, Order, Family, Genus, Species)\n",
      "\n",
      "\u001b[32m✔\u001b[39m object$abd$mar: 3 eco-markers at Phylum level (abundance, correlation)\n",
      "\n",
      "\u001b[32m✔\u001b[39m object$div$alpha: 2 alpha diversity index/indices (observed, shannon)\n",
      "\n"
     ]
    },
    {
     "name": "stdout",
     "output_type": "stream",
     "text": [
      "\n",
      "\u001b[44m• To check the summary of dataset, Replace `object` with the variable name of your dataset\u001b[49m\n",
      "\u001b[44m• For example, if the variable name is `dataset.dts`you can run `head(dataset.dts$met)` to check the content of `met`\u001b[49m\n"
     ]
    }
   ],
   "source": [
    "# Show dataset \n",
    "dataset.dts.aliyun %>% show_dataset()"
   ]
  },
  {
   "cell_type": "markdown",
   "id": "e1d4b97b-9b61-44f8-bcfe-1ad9d57d8238",
   "metadata": {},
   "source": [
    "## 4. Calculate beta diversity distance matrices"
   ]
  },
  {
   "cell_type": "markdown",
   "id": "7540f379-b99e-45d2-b84c-aca16d4f1f51",
   "metadata": {},
   "source": [
    "We implemented a function of `calc_beta_div()`, which calculates serveral beta diversity distance matrix such as `Bray-Curtis` and `Jarccard` distance matrix. Just run the following codes."
   ]
  },
  {
   "cell_type": "code",
   "execution_count": 13,
   "id": "ab4e9e5a-6ddc-4b30-ad85-34de2c2dc4ad",
   "metadata": {
    "execution": {
     "iopub.execute_input": "2024-01-14T03:42:49.530411Z",
     "iopub.status.busy": "2024-01-14T03:42:49.529673Z",
     "iopub.status.idle": "2024-01-14T03:43:34.275566Z",
     "shell.execute_reply": "2024-01-14T03:43:34.274017Z"
    }
   },
   "outputs": [],
   "source": [
    "# Calculate alpha diversity indices\n",
    "dataset.dts.aliyun %<>% calc_beta_div(measures = c(\"bray\", \"jaccard\")) %>% suppressMessages()"
   ]
  },
  {
   "cell_type": "code",
   "execution_count": 14,
   "id": "a8a0ae4f-0c15-4a54-9263-fcf0e875c1c2",
   "metadata": {
    "execution": {
     "iopub.execute_input": "2024-01-14T03:43:34.278575Z",
     "iopub.status.busy": "2024-01-14T03:43:34.277630Z",
     "iopub.status.idle": "2024-01-14T03:43:34.455162Z",
     "shell.execute_reply": "2024-01-14T03:43:34.454100Z"
    }
   },
   "outputs": [
    {
     "name": "stdout",
     "output_type": "stream",
     "text": [
      "\u001b[34m──\u001b[39m \u001b[34mThe Summary of Microgeo Dataset\u001b[39m \u001b[34m─────────────────────────────────────────────\u001b[39m\n"
     ]
    },
    {
     "name": "stderr",
     "output_type": "stream",
     "text": [
      "\u001b[36mℹ\u001b[39m object$mat: 6808 ASVs/genes and 1244 samples \u001b[32m\u001b[3m\u001b[32m[subsample depth: 5310]\u001b[32m\u001b[23m\u001b[39m\n",
      "\n",
      "\u001b[36mℹ\u001b[39m object$ant: 6808 ASVs/genes and 7 annotation levels (Kingdom, Phylum, Class, Order, Family, Genus, Species)\n",
      "\n",
      "\u001b[36mℹ\u001b[39m object$met: 1244 samples and 2 variables (longitude, latitude)\n",
      "\n",
      "\u001b[36mℹ\u001b[39m object$map: a SpatialPolygonsDataFrame with the CRS of '+proj=longlat +datum=WGS84 +no_defs'\n",
      "\n",
      "\u001b[36mℹ\u001b[39m object$phy: a phylogenetic tree with 6808 tip labels\n",
      "\n",
      "\u001b[36mℹ\u001b[39m object$env: 1244 samples and 10 variables\n",
      "\n"
     ]
    },
    {
     "name": "stdout",
     "output_type": "stream",
     "text": [
      "\n",
      "\u001b[30m──\u001b[39m \u001b[30mThe Summary of Biogeographic Traits\u001b[39m \u001b[30m─────────────────────────────────────────\u001b[39m\n"
     ]
    },
    {
     "name": "stderr",
     "output_type": "stream",
     "text": [
      "\u001b[32m✔\u001b[39m object$abd$raw: 7 abundance tables (Kingdom, Phylum, Class, Order, Family, Genus, Species)\n",
      "\n",
      "\u001b[32m✔\u001b[39m object$abd$mar: 3 eco-markers at Phylum level (abundance, correlation)\n",
      "\n",
      "\u001b[32m✔\u001b[39m object$div$alpha: 2 alpha diversity index/indices (observed, shannon)\n",
      "\n",
      "\u001b[32m✔\u001b[39m object$div$beta: 2 beta diversity distance matrix/matrices (bray, jaccard)\n",
      "\n"
     ]
    },
    {
     "name": "stdout",
     "output_type": "stream",
     "text": [
      "\n",
      "\u001b[44m• To check the summary of dataset, Replace `object` with the variable name of your dataset\u001b[49m\n",
      "\u001b[44m• For example, if the variable name is `dataset.dts`you can run `head(dataset.dts$met)` to check the content of `met`\u001b[49m\n"
     ]
    }
   ],
   "source": [
    "# Show dataset \n",
    "dataset.dts.aliyun %>% show_dataset()"
   ]
  },
  {
   "cell_type": "code",
   "execution_count": 15,
   "id": "14fe9351-49ec-4fa0-bb7c-3171f4457e2e",
   "metadata": {
    "execution": {
     "iopub.execute_input": "2024-01-14T03:43:34.457828Z",
     "iopub.status.busy": "2024-01-14T03:43:34.456948Z",
     "iopub.status.idle": "2024-01-14T03:43:34.470582Z",
     "shell.execute_reply": "2024-01-14T03:43:34.469549Z"
    }
   },
   "outputs": [
    {
     "data": {
      "text/html": [
       "<table class=\"dataframe\">\n",
       "<caption>A matrix: 4 × 4 of type dbl</caption>\n",
       "<thead>\n",
       "\t<tr><th></th><th scope=col>s1</th><th scope=col>s2</th><th scope=col>s3</th><th scope=col>s4</th></tr>\n",
       "</thead>\n",
       "<tbody>\n",
       "\t<tr><th scope=row>s1</th><td>0.0000000</td><td>0.4758945</td><td>0.5807910</td><td>0.4903955</td></tr>\n",
       "\t<tr><th scope=row>s2</th><td>0.4758945</td><td>0.0000000</td><td>0.4811676</td><td>0.4163842</td></tr>\n",
       "\t<tr><th scope=row>s3</th><td>0.5807910</td><td>0.4811676</td><td>0.0000000</td><td>0.3892655</td></tr>\n",
       "\t<tr><th scope=row>s4</th><td>0.4903955</td><td>0.4163842</td><td>0.3892655</td><td>0.0000000</td></tr>\n",
       "</tbody>\n",
       "</table>\n"
      ],
      "text/latex": [
       "A matrix: 4 × 4 of type dbl\n",
       "\\begin{tabular}{r|llll}\n",
       "  & s1 & s2 & s3 & s4\\\\\n",
       "\\hline\n",
       "\ts1 & 0.0000000 & 0.4758945 & 0.5807910 & 0.4903955\\\\\n",
       "\ts2 & 0.4758945 & 0.0000000 & 0.4811676 & 0.4163842\\\\\n",
       "\ts3 & 0.5807910 & 0.4811676 & 0.0000000 & 0.3892655\\\\\n",
       "\ts4 & 0.4903955 & 0.4163842 & 0.3892655 & 0.0000000\\\\\n",
       "\\end{tabular}\n"
      ],
      "text/markdown": [
       "\n",
       "A matrix: 4 × 4 of type dbl\n",
       "\n",
       "| <!--/--> | s1 | s2 | s3 | s4 |\n",
       "|---|---|---|---|---|\n",
       "| s1 | 0.0000000 | 0.4758945 | 0.5807910 | 0.4903955 |\n",
       "| s2 | 0.4758945 | 0.0000000 | 0.4811676 | 0.4163842 |\n",
       "| s3 | 0.5807910 | 0.4811676 | 0.0000000 | 0.3892655 |\n",
       "| s4 | 0.4903955 | 0.4163842 | 0.3892655 | 0.0000000 |\n",
       "\n"
      ],
      "text/plain": [
       "   s1        s2        s3        s4       \n",
       "s1 0.0000000 0.4758945 0.5807910 0.4903955\n",
       "s2 0.4758945 0.0000000 0.4811676 0.4163842\n",
       "s3 0.5807910 0.4811676 0.0000000 0.3892655\n",
       "s4 0.4903955 0.4163842 0.3892655 0.0000000"
      ]
     },
     "metadata": {},
     "output_type": "display_data"
    }
   ],
   "source": [
    "# Check results [Bray-Curtis distance]\n",
    "dataset.dts.aliyun$div$bet$bray[1:4, 1:4]"
   ]
  },
  {
   "cell_type": "markdown",
   "id": "7d16a9f1-5e26-4bc3-b1fc-5d53bf662808",
   "metadata": {},
   "source": [
    "## 5. Calculate microbial community assembly indices"
   ]
  },
  {
   "cell_type": "markdown",
   "id": "c70948e9-4248-497d-a278-79cd9f29235d",
   "metadata": {},
   "source": [
    "We implemeted a function of `calc_phylo_asmb()`, which calculates the metrics involved in microbial community assembly. Just run the following codes."
   ]
  },
  {
   "cell_type": "code",
   "execution_count": 16,
   "id": "625272e1-f041-4f69-bbda-9e1b4ad63292",
   "metadata": {
    "execution": {
     "iopub.execute_input": "2024-01-14T03:43:34.473124Z",
     "iopub.status.busy": "2024-01-14T03:43:34.472267Z",
     "iopub.status.idle": "2024-01-14T03:43:34.572975Z",
     "shell.execute_reply": "2024-01-14T03:43:34.571814Z"
    }
   },
   "outputs": [],
   "source": [
    "# Calculate `alpha.phylo` null model\n",
    "# runs = 9 just for an example. 999 runs may be better \n",
    "dataset.dts.aliyun %<>% calc_phylo_asmb(type = 'alpha.phylo', runs = 9, out.dir = 'test/calc_comm_asmb') %>% suppressMessages()"
   ]
  },
  {
   "cell_type": "code",
   "execution_count": 17,
   "id": "cb81a6ec-cf99-48cb-a945-ad764b142e5b",
   "metadata": {
    "execution": {
     "iopub.execute_input": "2024-01-14T03:43:34.593912Z",
     "iopub.status.busy": "2024-01-14T03:43:34.593215Z",
     "iopub.status.idle": "2024-01-14T03:43:34.607760Z",
     "shell.execute_reply": "2024-01-14T03:43:34.606893Z"
    }
   },
   "outputs": [
    {
     "data": {
      "text/html": [
       "<table class=\"dataframe\">\n",
       "<caption>A data.frame: 6 × 8</caption>\n",
       "<thead>\n",
       "\t<tr><th></th><th scope=col>ntaxa</th><th scope=col>mntd.obs</th><th scope=col>mntd.rand.mean</th><th scope=col>mntd.rand.sd</th><th scope=col>mntd.obs.rank</th><th scope=col>mntd.obs.z</th><th scope=col>mntd.obs.p</th><th scope=col>runs</th></tr>\n",
       "\t<tr><th></th><th scope=col>&lt;int&gt;</th><th scope=col>&lt;dbl&gt;</th><th scope=col>&lt;dbl&gt;</th><th scope=col>&lt;dbl&gt;</th><th scope=col>&lt;dbl&gt;</th><th scope=col>&lt;dbl&gt;</th><th scope=col>&lt;dbl&gt;</th><th scope=col>&lt;dbl&gt;</th></tr>\n",
       "</thead>\n",
       "<tbody>\n",
       "\t<tr><th scope=row>s1</th><td>1003</td><td>0.04124953</td><td>0.08431351</td><td>0.006250178</td><td>1</td><td>-6.890040</td><td>0.1</td><td>9</td></tr>\n",
       "\t<tr><th scope=row>s2</th><td> 930</td><td>0.04874884</td><td>0.08674923</td><td>0.005384131</td><td>1</td><td>-7.057851</td><td>0.1</td><td>9</td></tr>\n",
       "\t<tr><th scope=row>s3</th><td> 841</td><td>0.04868348</td><td>0.09186442</td><td>0.007259419</td><td>1</td><td>-5.948263</td><td>0.1</td><td>9</td></tr>\n",
       "\t<tr><th scope=row>s4</th><td>1035</td><td>0.04466725</td><td>0.08233568</td><td>0.005513459</td><td>1</td><td>-6.832086</td><td>0.1</td><td>9</td></tr>\n",
       "\t<tr><th scope=row>s5</th><td> 888</td><td>0.04702577</td><td>0.08934543</td><td>0.004917448</td><td>1</td><td>-8.606021</td><td>0.1</td><td>9</td></tr>\n",
       "\t<tr><th scope=row>s6</th><td> 979</td><td>0.04828626</td><td>0.08672271</td><td>0.005114617</td><td>1</td><td>-7.515019</td><td>0.1</td><td>9</td></tr>\n",
       "</tbody>\n",
       "</table>\n"
      ],
      "text/latex": [
       "A data.frame: 6 × 8\n",
       "\\begin{tabular}{r|llllllll}\n",
       "  & ntaxa & mntd.obs & mntd.rand.mean & mntd.rand.sd & mntd.obs.rank & mntd.obs.z & mntd.obs.p & runs\\\\\n",
       "  & <int> & <dbl> & <dbl> & <dbl> & <dbl> & <dbl> & <dbl> & <dbl>\\\\\n",
       "\\hline\n",
       "\ts1 & 1003 & 0.04124953 & 0.08431351 & 0.006250178 & 1 & -6.890040 & 0.1 & 9\\\\\n",
       "\ts2 &  930 & 0.04874884 & 0.08674923 & 0.005384131 & 1 & -7.057851 & 0.1 & 9\\\\\n",
       "\ts3 &  841 & 0.04868348 & 0.09186442 & 0.007259419 & 1 & -5.948263 & 0.1 & 9\\\\\n",
       "\ts4 & 1035 & 0.04466725 & 0.08233568 & 0.005513459 & 1 & -6.832086 & 0.1 & 9\\\\\n",
       "\ts5 &  888 & 0.04702577 & 0.08934543 & 0.004917448 & 1 & -8.606021 & 0.1 & 9\\\\\n",
       "\ts6 &  979 & 0.04828626 & 0.08672271 & 0.005114617 & 1 & -7.515019 & 0.1 & 9\\\\\n",
       "\\end{tabular}\n"
      ],
      "text/markdown": [
       "\n",
       "A data.frame: 6 × 8\n",
       "\n",
       "| <!--/--> | ntaxa &lt;int&gt; | mntd.obs &lt;dbl&gt; | mntd.rand.mean &lt;dbl&gt; | mntd.rand.sd &lt;dbl&gt; | mntd.obs.rank &lt;dbl&gt; | mntd.obs.z &lt;dbl&gt; | mntd.obs.p &lt;dbl&gt; | runs &lt;dbl&gt; |\n",
       "|---|---|---|---|---|---|---|---|---|\n",
       "| s1 | 1003 | 0.04124953 | 0.08431351 | 0.006250178 | 1 | -6.890040 | 0.1 | 9 |\n",
       "| s2 |  930 | 0.04874884 | 0.08674923 | 0.005384131 | 1 | -7.057851 | 0.1 | 9 |\n",
       "| s3 |  841 | 0.04868348 | 0.09186442 | 0.007259419 | 1 | -5.948263 | 0.1 | 9 |\n",
       "| s4 | 1035 | 0.04466725 | 0.08233568 | 0.005513459 | 1 | -6.832086 | 0.1 | 9 |\n",
       "| s5 |  888 | 0.04702577 | 0.08934543 | 0.004917448 | 1 | -8.606021 | 0.1 | 9 |\n",
       "| s6 |  979 | 0.04828626 | 0.08672271 | 0.005114617 | 1 | -7.515019 | 0.1 | 9 |\n",
       "\n"
      ],
      "text/plain": [
       "   ntaxa mntd.obs   mntd.rand.mean mntd.rand.sd mntd.obs.rank mntd.obs.z\n",
       "s1 1003  0.04124953 0.08431351     0.006250178  1             -6.890040 \n",
       "s2  930  0.04874884 0.08674923     0.005384131  1             -7.057851 \n",
       "s3  841  0.04868348 0.09186442     0.007259419  1             -5.948263 \n",
       "s4 1035  0.04466725 0.08233568     0.005513459  1             -6.832086 \n",
       "s5  888  0.04702577 0.08934543     0.004917448  1             -8.606021 \n",
       "s6  979  0.04828626 0.08672271     0.005114617  1             -7.515019 \n",
       "   mntd.obs.p runs\n",
       "s1 0.1        9   \n",
       "s2 0.1        9   \n",
       "s3 0.1        9   \n",
       "s4 0.1        9   \n",
       "s5 0.1        9   \n",
       "s6 0.1        9   "
      ]
     },
     "metadata": {},
     "output_type": "display_data"
    }
   ],
   "source": [
    "# Check results \n",
    "head(dataset.dts.aliyun$asb$alpha.phylo)"
   ]
  },
  {
   "cell_type": "code",
   "execution_count": 18,
   "id": "9bc41eb6-5642-4314-b6b7-32aa6cc3c827",
   "metadata": {
    "execution": {
     "iopub.execute_input": "2024-01-14T03:43:34.609838Z",
     "iopub.status.busy": "2024-01-14T03:43:34.609143Z",
     "iopub.status.idle": "2024-01-14T03:44:51.216265Z",
     "shell.execute_reply": "2024-01-14T03:44:51.214922Z"
    }
   },
   "outputs": [],
   "source": [
    "# Calculate `beta.phylo` null model\n",
    "# runs = 9 just for an example. 999 runs may be better \n",
    "dataset.dts.aliyun %<>% calc_phylo_asmb(type = 'beta.phylo', runs = 9, out.dir = 'test/calc_comm_asmb') %>% suppressMessages()"
   ]
  },
  {
   "cell_type": "code",
   "execution_count": 19,
   "id": "60b7ceb8-fe25-470f-8674-cb214e9250f9",
   "metadata": {
    "execution": {
     "iopub.execute_input": "2024-01-14T03:44:51.218638Z",
     "iopub.status.busy": "2024-01-14T03:44:51.217906Z",
     "iopub.status.idle": "2024-01-14T03:44:51.227662Z",
     "shell.execute_reply": "2024-01-14T03:44:51.226799Z"
    }
   },
   "outputs": [
    {
     "data": {
      "text/html": [
       "<style>\n",
       ".list-inline {list-style: none; margin:0; padding: 0}\n",
       ".list-inline>li {display: inline-block}\n",
       ".list-inline>li:not(:last-child)::after {content: \"\\00b7\"; padding: 0 .5ex}\n",
       "</style>\n",
       "<ol class=list-inline><li>'b.mntd'</li><li>'bc'</li><li>'rc'</li><li>'b.nti'</li></ol>\n"
      ],
      "text/latex": [
       "\\begin{enumerate*}\n",
       "\\item 'b.mntd'\n",
       "\\item 'bc'\n",
       "\\item 'rc'\n",
       "\\item 'b.nti'\n",
       "\\end{enumerate*}\n"
      ],
      "text/markdown": [
       "1. 'b.mntd'\n",
       "2. 'bc'\n",
       "3. 'rc'\n",
       "4. 'b.nti'\n",
       "\n",
       "\n"
      ],
      "text/plain": [
       "[1] \"b.mntd\" \"bc\"     \"rc\"     \"b.nti\" "
      ]
     },
     "metadata": {},
     "output_type": "display_data"
    }
   ],
   "source": [
    "# Check distance matrix \n",
    "names(dataset.dts.aliyun$asb$beta.phylo$dis) # distance matrices"
   ]
  },
  {
   "cell_type": "code",
   "execution_count": 20,
   "id": "d7ad20c3-f676-4aa5-8440-3755b37e0352",
   "metadata": {
    "execution": {
     "iopub.execute_input": "2024-01-14T03:44:51.229887Z",
     "iopub.status.busy": "2024-01-14T03:44:51.229212Z",
     "iopub.status.idle": "2024-01-14T03:44:51.243051Z",
     "shell.execute_reply": "2024-01-14T03:44:51.242220Z"
    }
   },
   "outputs": [
    {
     "data": {
      "text/html": [
       "<table class=\"dataframe\">\n",
       "<caption>A data.frame: 6 × 7</caption>\n",
       "<thead>\n",
       "\t<tr><th></th><th scope=col>sample1</th><th scope=col>sample2</th><th scope=col>bMNTD</th><th scope=col>BC</th><th scope=col>bNTI</th><th scope=col>RC</th><th scope=col>process</th></tr>\n",
       "\t<tr><th></th><th scope=col>&lt;chr&gt;</th><th scope=col>&lt;chr&gt;</th><th scope=col>&lt;dbl&gt;</th><th scope=col>&lt;dbl&gt;</th><th scope=col>&lt;dbl&gt;</th><th scope=col>&lt;dbl&gt;</th><th scope=col>&lt;chr&gt;</th></tr>\n",
       "</thead>\n",
       "<tbody>\n",
       "\t<tr><th scope=row>1</th><td>s2</td><td>s1</td><td>0.01467273</td><td>0.4728814</td><td>-5.999451</td><td>-1</td><td>Homogeneous.Selection</td></tr>\n",
       "\t<tr><th scope=row>2</th><td>s3</td><td>s1</td><td>0.01712644</td><td>0.5800377</td><td>-7.625336</td><td>-1</td><td>Homogeneous.Selection</td></tr>\n",
       "\t<tr><th scope=row>3</th><td>s4</td><td>s1</td><td>0.01627725</td><td>0.4781544</td><td>-2.663367</td><td>-1</td><td>Homogeneous.Selection</td></tr>\n",
       "\t<tr><th scope=row>4</th><td>s5</td><td>s1</td><td>0.01436207</td><td>0.4094162</td><td>-2.729649</td><td>-1</td><td>Homogeneous.Selection</td></tr>\n",
       "\t<tr><th scope=row>5</th><td>s6</td><td>s1</td><td>0.01742294</td><td>0.4664783</td><td>-2.704559</td><td>-1</td><td>Homogeneous.Selection</td></tr>\n",
       "\t<tr><th scope=row>6</th><td>s7</td><td>s1</td><td>0.01684488</td><td>0.4966102</td><td>-4.578364</td><td>-1</td><td>Homogeneous.Selection</td></tr>\n",
       "</tbody>\n",
       "</table>\n"
      ],
      "text/latex": [
       "A data.frame: 6 × 7\n",
       "\\begin{tabular}{r|lllllll}\n",
       "  & sample1 & sample2 & bMNTD & BC & bNTI & RC & process\\\\\n",
       "  & <chr> & <chr> & <dbl> & <dbl> & <dbl> & <dbl> & <chr>\\\\\n",
       "\\hline\n",
       "\t1 & s2 & s1 & 0.01467273 & 0.4728814 & -5.999451 & -1 & Homogeneous.Selection\\\\\n",
       "\t2 & s3 & s1 & 0.01712644 & 0.5800377 & -7.625336 & -1 & Homogeneous.Selection\\\\\n",
       "\t3 & s4 & s1 & 0.01627725 & 0.4781544 & -2.663367 & -1 & Homogeneous.Selection\\\\\n",
       "\t4 & s5 & s1 & 0.01436207 & 0.4094162 & -2.729649 & -1 & Homogeneous.Selection\\\\\n",
       "\t5 & s6 & s1 & 0.01742294 & 0.4664783 & -2.704559 & -1 & Homogeneous.Selection\\\\\n",
       "\t6 & s7 & s1 & 0.01684488 & 0.4966102 & -4.578364 & -1 & Homogeneous.Selection\\\\\n",
       "\\end{tabular}\n"
      ],
      "text/markdown": [
       "\n",
       "A data.frame: 6 × 7\n",
       "\n",
       "| <!--/--> | sample1 &lt;chr&gt; | sample2 &lt;chr&gt; | bMNTD &lt;dbl&gt; | BC &lt;dbl&gt; | bNTI &lt;dbl&gt; | RC &lt;dbl&gt; | process &lt;chr&gt; |\n",
       "|---|---|---|---|---|---|---|---|\n",
       "| 1 | s2 | s1 | 0.01467273 | 0.4728814 | -5.999451 | -1 | Homogeneous.Selection |\n",
       "| 2 | s3 | s1 | 0.01712644 | 0.5800377 | -7.625336 | -1 | Homogeneous.Selection |\n",
       "| 3 | s4 | s1 | 0.01627725 | 0.4781544 | -2.663367 | -1 | Homogeneous.Selection |\n",
       "| 4 | s5 | s1 | 0.01436207 | 0.4094162 | -2.729649 | -1 | Homogeneous.Selection |\n",
       "| 5 | s6 | s1 | 0.01742294 | 0.4664783 | -2.704559 | -1 | Homogeneous.Selection |\n",
       "| 6 | s7 | s1 | 0.01684488 | 0.4966102 | -4.578364 | -1 | Homogeneous.Selection |\n",
       "\n"
      ],
      "text/plain": [
       "  sample1 sample2 bMNTD      BC        bNTI      RC process              \n",
       "1 s2      s1      0.01467273 0.4728814 -5.999451 -1 Homogeneous.Selection\n",
       "2 s3      s1      0.01712644 0.5800377 -7.625336 -1 Homogeneous.Selection\n",
       "3 s4      s1      0.01627725 0.4781544 -2.663367 -1 Homogeneous.Selection\n",
       "4 s5      s1      0.01436207 0.4094162 -2.729649 -1 Homogeneous.Selection\n",
       "5 s6      s1      0.01742294 0.4664783 -2.704559 -1 Homogeneous.Selection\n",
       "6 s7      s1      0.01684488 0.4966102 -4.578364 -1 Homogeneous.Selection"
      ]
     },
     "metadata": {},
     "output_type": "display_data"
    }
   ],
   "source": [
    "# Check the results \n",
    "head(dataset.dts.aliyun$asb$beta.phylo$raw$result) # the raw result of `iCAMP::qpen()`"
   ]
  },
  {
   "cell_type": "code",
   "execution_count": 21,
   "id": "4ca490bf-2864-4249-af5c-5b53562195e4",
   "metadata": {
    "execution": {
     "iopub.execute_input": "2024-01-14T03:44:51.245120Z",
     "iopub.status.busy": "2024-01-14T03:44:51.244394Z",
     "iopub.status.idle": "2024-01-14T03:44:51.401507Z",
     "shell.execute_reply": "2024-01-14T03:44:51.400602Z"
    }
   },
   "outputs": [
    {
     "name": "stdout",
     "output_type": "stream",
     "text": [
      "\u001b[34m──\u001b[39m \u001b[34mThe Summary of Microgeo Dataset\u001b[39m \u001b[34m─────────────────────────────────────────────\u001b[39m\n"
     ]
    },
    {
     "name": "stderr",
     "output_type": "stream",
     "text": [
      "\u001b[36mℹ\u001b[39m object$mat: 6808 ASVs/genes and 1244 samples \u001b[32m\u001b[3m\u001b[32m[subsample depth: 5310]\u001b[32m\u001b[23m\u001b[39m\n",
      "\n",
      "\u001b[36mℹ\u001b[39m object$ant: 6808 ASVs/genes and 7 annotation levels (Kingdom, Phylum, Class, Order, Family, Genus, Species)\n",
      "\n",
      "\u001b[36mℹ\u001b[39m object$met: 1244 samples and 2 variables (longitude, latitude)\n",
      "\n",
      "\u001b[36mℹ\u001b[39m object$map: a SpatialPolygonsDataFrame with the CRS of '+proj=longlat +datum=WGS84 +no_defs'\n",
      "\n",
      "\u001b[36mℹ\u001b[39m object$phy: a phylogenetic tree with 6808 tip labels\n",
      "\n",
      "\u001b[36mℹ\u001b[39m object$env: 1244 samples and 10 variables\n",
      "\n"
     ]
    },
    {
     "name": "stdout",
     "output_type": "stream",
     "text": [
      "\n",
      "\u001b[30m──\u001b[39m \u001b[30mThe Summary of Biogeographic Traits\u001b[39m \u001b[30m─────────────────────────────────────────\u001b[39m\n"
     ]
    },
    {
     "name": "stderr",
     "output_type": "stream",
     "text": [
      "\u001b[32m✔\u001b[39m object$abd$raw: 7 abundance tables (Kingdom, Phylum, Class, Order, Family, Genus, Species)\n",
      "\n",
      "\u001b[32m✔\u001b[39m object$abd$mar: 3 eco-markers at Phylum level (abundance, correlation)\n",
      "\n",
      "\u001b[32m✔\u001b[39m object$div$alpha: 2 alpha diversity index/indices (observed, shannon)\n",
      "\n",
      "\u001b[32m✔\u001b[39m object$div$beta: 2 beta diversity distance matrix/matrices (bray, jaccard)\n",
      "\n",
      "\u001b[32m✔\u001b[39m object$asb$beta.phylo$raw$result: 7 beta phylogenetic assembling index/indices (sample1, sample2, bMNTD, ...)\n",
      "\n",
      "\u001b[32m✔\u001b[39m object$asb$beta.phylo$dis: 4 beta phylogenetic distance matrix/matrices (b.mntd, bc, rc, b.nti)\n",
      "\n"
     ]
    },
    {
     "name": "stdout",
     "output_type": "stream",
     "text": [
      "\n",
      "\u001b[44m• To check the summary of dataset, Replace `object` with the variable name of your dataset\u001b[49m\n",
      "\u001b[44m• For example, if the variable name is `dataset.dts`you can run `head(dataset.dts$met)` to check the content of `met`\u001b[49m\n"
     ]
    }
   ],
   "source": [
    "# Show dataset \n",
    "dataset.dts.aliyun %>% show_dataset()"
   ]
  }
 ],
 "metadata": {
  "kernelspec": {
   "display_name": "R",
   "language": "R",
   "name": "ir"
  },
  "language_info": {
   "codemirror_mode": "r",
   "file_extension": ".r",
   "mimetype": "text/x-r-source",
   "name": "R",
   "pygments_lexer": "r",
   "version": "4.1.2"
  }
 },
 "nbformat": 4,
 "nbformat_minor": 5
}
