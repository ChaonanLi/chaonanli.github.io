{
 "cells": [
  {
   "cell_type": "markdown",
   "id": "528188fd-1ef0-4bd8-ac6c-3261d461681f",
   "metadata": {},
   "source": [
    "# Calculate biogeographic traits"
   ]
  },
  {
   "cell_type": "markdown",
   "id": "68e968ae-f80a-4bab-a60d-83bd94f3dd37",
   "metadata": {},
   "source": [
    " "
   ]
  },
  {
   "cell_type": "markdown",
   "id": "b2c8dd1e-6d11-423b-a932-1fcd7bcda1fe",
   "metadata": {},
   "source": [
    "Our focus is on the spatial distribution of microbial biogeographic traits, so we also need to calculate several microbial community measures. The [microgeo](https://github.com/ChaonanLi/microgeo) R package provides some basic functions for calculating microbial relative abundance, diversity, and community assembly mechanism indicators. Of course, you can also visualize more microbial traits onto maps, not limited to the traits calculated by the [microgeo](https://github.com/ChaonanLi/microgeo) R package."
   ]
  },
  {
   "cell_type": "markdown",
   "id": "011bde4e-601e-432a-950f-aba7428308dd",
   "metadata": {},
   "source": [
    "Here we need three R packages for this section of [microgeo](https://github.com/ChaonanLi/microgeo) R package tutorial. Just run the following codes to import them into R environment."
   ]
  },
  {
   "cell_type": "code",
   "execution_count": 1,
   "id": "694d7806-2d1e-4e8a-99ef-cc58f622893f",
   "metadata": {
    "execution": {
     "iopub.execute_input": "2024-01-09T14:08:03.814300Z",
     "iopub.status.busy": "2024-01-09T14:08:03.812700Z",
     "iopub.status.idle": "2024-01-09T14:08:03.987745Z",
     "shell.execute_reply": "2024-01-09T14:08:03.986748Z"
    }
   },
   "outputs": [],
   "source": [
    "suppressMessages(require(\"magrittr\")) \n",
    "require(\"ggplot2\")  %>% suppressMessages()\n",
    "require(\"microgeo\") %>% suppressMessages()"
   ]
  },
  {
   "cell_type": "markdown",
   "id": "a9a8f656-ceb6-4bd6-b1f1-6ee1180422b5",
   "metadata": {},
   "source": [
    "If the Chinese characters cannot be displayed correctly, please run the following codes to set locale to `UTF-8`:"
   ]
  },
  {
   "cell_type": "code",
   "execution_count": 2,
   "id": "4f7406d1-79a2-45b7-974a-9969d0d671e0",
   "metadata": {
    "execution": {
     "iopub.execute_input": "2024-01-09T14:08:04.004819Z",
     "iopub.status.busy": "2024-01-09T14:08:03.989191Z",
     "iopub.status.idle": "2024-01-09T14:08:04.010692Z",
     "shell.execute_reply": "2024-01-09T14:08:04.009870Z"
    }
   },
   "outputs": [],
   "source": [
    "prev_locale <- Sys.setlocale(\"LC_CTYPE\", \"C.UTF-8\") "
   ]
  },
  {
   "cell_type": "markdown",
   "id": "c562b358-1cfd-45d0-8d89-764104cd9a36",
   "metadata": {},
   "source": [
    "We need a standard microgeo dataset for the presentations in the section of tutorial."
   ]
  },
  {
   "cell_type": "code",
   "execution_count": 3,
   "id": "8a6d5cef-d1e8-44a7-92bb-57097eab757b",
   "metadata": {
    "execution": {
     "iopub.execute_input": "2024-01-09T14:08:04.012701Z",
     "iopub.status.busy": "2024-01-09T14:08:04.012009Z",
     "iopub.status.idle": "2024-01-09T14:08:16.716271Z",
     "shell.execute_reply": "2024-01-09T14:08:16.715289Z"
    }
   },
   "outputs": [
    {
     "name": "stderr",
     "output_type": "stream",
     "text": [
      "\u001b[36mℹ\u001b[39m [2024-01-09 22:08:10] \u001b[34m\u001b[3m\u001b[34mINFO\u001b[34m\u001b[23m\u001b[39m ==> all samples fall within the map area!\n",
      "\n",
      "\u001b[36mℹ\u001b[39m [2024-01-09 22:08:10] \u001b[34m\u001b[3m\u001b[34mINFO\u001b[34m\u001b[23m\u001b[39m ==> dataset has been created successfully!\n",
      "\n",
      "\u001b[36mℹ\u001b[39m [2024-01-09 22:08:10] \u001b[34m\u001b[3m\u001b[34mINFO\u001b[34m\u001b[23m\u001b[39m ==> use `object %>% show_dataset()` to check the summary of dataset.\n",
      "\n",
      "\u001b[36mℹ\u001b[39m [2024-01-09 22:08:14] \u001b[34m\u001b[3m\u001b[34mINFO\u001b[34m\u001b[23m\u001b[39m ==> the ASV/gene abundance table has been rarefied with a sub-sample depth of 5310\n",
      "\n"
     ]
    },
    {
     "name": "stdout",
     "output_type": "stream",
     "text": [
      "\u001b[34m──\u001b[39m \u001b[34mThe Summary of Microgeo Dataset\u001b[39m \u001b[34m─────────────────────────────────────────────\u001b[39m\n"
     ]
    },
    {
     "name": "stderr",
     "output_type": "stream",
     "text": [
      "\u001b[36mℹ\u001b[39m object$mat: 6808 ASVs/genes and 1244 samples \u001b[32m\u001b[3m\u001b[32m[subsample depth: 5310]\u001b[32m\u001b[23m\u001b[39m\n",
      "\n",
      "\u001b[36mℹ\u001b[39m object$ant: 6808 ASVs/genes and 7 annotation levels (Kingdom, Phylum, Class, Order, Family, Genus, Species)\n",
      "\n",
      "\u001b[36mℹ\u001b[39m object$met: 1244 samples and 2 variables (longitude, latitude)\n",
      "\n",
      "\u001b[36mℹ\u001b[39m object$map: a SpatialPolygonsDataFrame with the CRS of '+proj=longlat +datum=WGS84 +no_defs'\n",
      "\n",
      "\u001b[36mℹ\u001b[39m object$phy: a phylogenetic tree with 6808 tip labels\n",
      "\n",
      "\u001b[36mℹ\u001b[39m object$env: 1244 samples and 10 variables\n",
      "\n"
     ]
    },
    {
     "name": "stdout",
     "output_type": "stream",
     "text": [
      "\n",
      "\u001b[44m• To check the summary of dataset, Replace `object` with the variable name of your dataset\u001b[49m\n",
      "\u001b[44m• For example, if the variable name is `dataset.dts`you can run `head(dataset.dts$met)` to check the content of `met`\u001b[49m\n"
     ]
    }
   ],
   "source": [
    "# Using the map downloaded from DataV.GeoAtlas\n",
    "data(qtp)\n",
    "map <- read_aliyun_map(adcode = c(540000, 630000, 510000)) %>% suppressMessages() \n",
    "dataset.dts.aliyun <- create_dataset(mat = qtp$asv, ant = qtp$tax, met = qtp$met, map = map,\n",
    "                                     phy = qtp$tre, env = qtp$env, lon = \"longitude\", lat = \"latitude\") \n",
    "dataset.dts.aliyun %<>% rarefy_count_table() \n",
    "dataset.dts.aliyun %<>% tidy_dataset()\n",
    "dataset.dts.aliyun %>% show_dataset()"
   ]
  },
  {
   "cell_type": "markdown",
   "id": "9836dd65-3ad1-46b9-aaad-eb27774a0a9f",
   "metadata": {},
   "source": [
    "## 1. Calculate the relative abundance"
   ]
  },
  {
   "cell_type": "markdown",
   "id": "34282341-bd72-4523-92d8-de8954a93c80",
   "metadata": {},
   "source": [
    "We implemented a function of `calc_rel_abund()`, which calculates the relative abundance of ASVs/genes at each of classification level. Just run the following codes."
   ]
  },
  {
   "cell_type": "code",
   "execution_count": 4,
   "id": "543e20f2-cc79-4e31-abfe-4d92d9906cbf",
   "metadata": {
    "execution": {
     "iopub.execute_input": "2024-01-09T14:08:16.718803Z",
     "iopub.status.busy": "2024-01-09T14:08:16.717913Z",
     "iopub.status.idle": "2024-01-09T14:08:23.005579Z",
     "shell.execute_reply": "2024-01-09T14:08:23.004253Z"
    }
   },
   "outputs": [
    {
     "data": {
      "text/html": [
       "<table class=\"dataframe\">\n",
       "<caption>A data.frame: 6 × 5</caption>\n",
       "<thead>\n",
       "\t<tr><th></th><th scope=col>p__</th><th scope=col>p__Acidobacteria</th><th scope=col>p__Actinobacteria</th><th scope=col>p__Armatimonadetes</th><th scope=col>p__Bacteroidetes</th></tr>\n",
       "\t<tr><th></th><th scope=col>&lt;dbl&gt;</th><th scope=col>&lt;dbl&gt;</th><th scope=col>&lt;dbl&gt;</th><th scope=col>&lt;dbl&gt;</th><th scope=col>&lt;dbl&gt;</th></tr>\n",
       "</thead>\n",
       "<tbody>\n",
       "\t<tr><th scope=row>s1</th><td>0.18832392</td><td>13.57815</td><td>50.47081</td><td>0.01883239</td><td>2.071563</td></tr>\n",
       "\t<tr><th scope=row>s2</th><td>0.22598870</td><td>13.18267</td><td>51.22411</td><td>0.01883239</td><td>2.485876</td></tr>\n",
       "\t<tr><th scope=row>s3</th><td>0.09416196</td><td>22.07156</td><td>44.19962</td><td>0.01883239</td><td>1.355932</td></tr>\n",
       "\t<tr><th scope=row>s4</th><td>0.24482109</td><td>15.44256</td><td>46.36535</td><td>0.07532957</td><td>5.160075</td></tr>\n",
       "\t<tr><th scope=row>s5</th><td>0.15065913</td><td>13.57815</td><td>54.46328</td><td>0.01883239</td><td>1.224105</td></tr>\n",
       "\t<tr><th scope=row>s6</th><td>0.28248588</td><td>15.21657</td><td>44.97175</td><td>0.03766478</td><td>2.542373</td></tr>\n",
       "</tbody>\n",
       "</table>\n"
      ],
      "text/latex": [
       "A data.frame: 6 × 5\n",
       "\\begin{tabular}{r|lllll}\n",
       "  & p\\_\\_ & p\\_\\_Acidobacteria & p\\_\\_Actinobacteria & p\\_\\_Armatimonadetes & p\\_\\_Bacteroidetes\\\\\n",
       "  & <dbl> & <dbl> & <dbl> & <dbl> & <dbl>\\\\\n",
       "\\hline\n",
       "\ts1 & 0.18832392 & 13.57815 & 50.47081 & 0.01883239 & 2.071563\\\\\n",
       "\ts2 & 0.22598870 & 13.18267 & 51.22411 & 0.01883239 & 2.485876\\\\\n",
       "\ts3 & 0.09416196 & 22.07156 & 44.19962 & 0.01883239 & 1.355932\\\\\n",
       "\ts4 & 0.24482109 & 15.44256 & 46.36535 & 0.07532957 & 5.160075\\\\\n",
       "\ts5 & 0.15065913 & 13.57815 & 54.46328 & 0.01883239 & 1.224105\\\\\n",
       "\ts6 & 0.28248588 & 15.21657 & 44.97175 & 0.03766478 & 2.542373\\\\\n",
       "\\end{tabular}\n"
      ],
      "text/markdown": [
       "\n",
       "A data.frame: 6 × 5\n",
       "\n",
       "| <!--/--> | p__ &lt;dbl&gt; | p__Acidobacteria &lt;dbl&gt; | p__Actinobacteria &lt;dbl&gt; | p__Armatimonadetes &lt;dbl&gt; | p__Bacteroidetes &lt;dbl&gt; |\n",
       "|---|---|---|---|---|---|\n",
       "| s1 | 0.18832392 | 13.57815 | 50.47081 | 0.01883239 | 2.071563 |\n",
       "| s2 | 0.22598870 | 13.18267 | 51.22411 | 0.01883239 | 2.485876 |\n",
       "| s3 | 0.09416196 | 22.07156 | 44.19962 | 0.01883239 | 1.355932 |\n",
       "| s4 | 0.24482109 | 15.44256 | 46.36535 | 0.07532957 | 5.160075 |\n",
       "| s5 | 0.15065913 | 13.57815 | 54.46328 | 0.01883239 | 1.224105 |\n",
       "| s6 | 0.28248588 | 15.21657 | 44.97175 | 0.03766478 | 2.542373 |\n",
       "\n"
      ],
      "text/plain": [
       "   p__        p__Acidobacteria p__Actinobacteria p__Armatimonadetes\n",
       "s1 0.18832392 13.57815         50.47081          0.01883239        \n",
       "s2 0.22598870 13.18267         51.22411          0.01883239        \n",
       "s3 0.09416196 22.07156         44.19962          0.01883239        \n",
       "s4 0.24482109 15.44256         46.36535          0.07532957        \n",
       "s5 0.15065913 13.57815         54.46328          0.01883239        \n",
       "s6 0.28248588 15.21657         44.97175          0.03766478        \n",
       "   p__Bacteroidetes\n",
       "s1 2.071563        \n",
       "s2 2.485876        \n",
       "s3 1.355932        \n",
       "s4 5.160075        \n",
       "s5 1.224105        \n",
       "s6 2.542373        "
      ]
     },
     "metadata": {},
     "output_type": "display_data"
    }
   ],
   "source": [
    "# Calculate relative abundance\n",
    "dataset.dts.aliyun %<>% calc_rel_abund() %>% suppressMessages()\n",
    "head(dataset.dts.aliyun$abd$raw$Phylum[,1:5])"
   ]
  },
  {
   "cell_type": "code",
   "execution_count": 5,
   "id": "1e2c60ce-d17d-4c62-978d-3f23a81187ec",
   "metadata": {
    "execution": {
     "iopub.execute_input": "2024-01-09T14:08:23.009009Z",
     "iopub.status.busy": "2024-01-09T14:08:23.007941Z",
     "iopub.status.idle": "2024-01-09T14:08:23.189506Z",
     "shell.execute_reply": "2024-01-09T14:08:23.188566Z"
    }
   },
   "outputs": [
    {
     "name": "stdout",
     "output_type": "stream",
     "text": [
      "\u001b[34m──\u001b[39m \u001b[34mThe Summary of Microgeo Dataset\u001b[39m \u001b[34m─────────────────────────────────────────────\u001b[39m\n"
     ]
    },
    {
     "name": "stderr",
     "output_type": "stream",
     "text": [
      "\u001b[36mℹ\u001b[39m object$mat: 6808 ASVs/genes and 1244 samples \u001b[32m\u001b[3m\u001b[32m[subsample depth: 5310]\u001b[32m\u001b[23m\u001b[39m\n",
      "\n",
      "\u001b[36mℹ\u001b[39m object$ant: 6808 ASVs/genes and 7 annotation levels (Kingdom, Phylum, Class, Order, Family, Genus, Species)\n",
      "\n",
      "\u001b[36mℹ\u001b[39m object$met: 1244 samples and 2 variables (longitude, latitude)\n",
      "\n",
      "\u001b[36mℹ\u001b[39m object$map: a SpatialPolygonsDataFrame with the CRS of '+proj=longlat +datum=WGS84 +no_defs'\n",
      "\n",
      "\u001b[36mℹ\u001b[39m object$phy: a phylogenetic tree with 6808 tip labels\n",
      "\n",
      "\u001b[36mℹ\u001b[39m object$env: 1244 samples and 10 variables\n",
      "\n"
     ]
    },
    {
     "name": "stdout",
     "output_type": "stream",
     "text": [
      "\n",
      "\u001b[30m──\u001b[39m \u001b[30mThe Summary of Biogeographic Traits\u001b[39m \u001b[30m─────────────────────────────────────────\u001b[39m\n"
     ]
    },
    {
     "name": "stderr",
     "output_type": "stream",
     "text": [
      "\u001b[32m✔\u001b[39m object$abd$raw: 7 abundance tables (Kingdom, Phylum, Class, Order, Family, Genus, Species)\n",
      "\n"
     ]
    },
    {
     "name": "stdout",
     "output_type": "stream",
     "text": [
      "\n",
      "\u001b[44m• To check the summary of dataset, Replace `object` with the variable name of your dataset\u001b[49m\n",
      "\u001b[44m• For example, if the variable name is `dataset.dts`you can run `head(dataset.dts$met)` to check the content of `met`\u001b[49m\n"
     ]
    }
   ],
   "source": [
    "# Show dataset \n",
    "dataset.dts.aliyun %>% show_dataset()"
   ]
  },
  {
   "cell_type": "markdown",
   "id": "bbe9c872-4c38-4b99-8a38-af47d370ea3c",
   "metadata": {},
   "source": [
    "## 2. Calculate the ecological markers"
   ]
  },
  {
   "cell_type": "markdown",
   "id": "be206581-81d4-494e-95e0-f4e97f9e6439",
   "metadata": {},
   "source": [
    "We also designed a function of `calc_markers()`, which identifies the potentially ecological markers base on the relative abundance of ASV/genes at a given classification level. If there is only one environmnetal variable for the identification, then a correlation method would be used. If the are two or more environmental variables, then a mantel test would be applied. **Please note that such a function only works when the relative abundance of ASVs/genes are available in microgeo dataset!**. "
   ]
  },
  {
   "cell_type": "code",
   "execution_count": 6,
   "id": "ca8ff1ed-5e48-4ec7-b5e8-896b178cf227",
   "metadata": {
    "execution": {
     "iopub.execute_input": "2024-01-09T14:08:23.191700Z",
     "iopub.status.busy": "2024-01-09T14:08:23.191016Z",
     "iopub.status.idle": "2024-01-09T14:08:23.224052Z",
     "shell.execute_reply": "2024-01-09T14:08:23.223224Z"
    }
   },
   "outputs": [
    {
     "name": "stderr",
     "output_type": "stream",
     "text": [
      "\u001b[36mℹ\u001b[39m [2024-01-09 22:08:23] \u001b[34m\u001b[3m\u001b[34mINFO\u001b[34m\u001b[23m\u001b[39m ==> found 18 ecological markers at `Phylum` level..\n",
      "\n",
      "\u001b[32m✔\u001b[39m [2024-01-09 22:08:23] \u001b[32m\u001b[3m\u001b[32mSAVE\u001b[32m\u001b[23m\u001b[39m ==> results have been saved to: object$abd$mar\n",
      "\n"
     ]
    }
   ],
   "source": [
    "# Identify ecological markers based on soil pH in <env>[Correlation]\n",
    "dataset.dts.aliyun %<>% calc_markers(use.var = 'pH', annotation.level = 'Phylum', r.thres = 0.1, use.dat = 'env') "
   ]
  },
  {
   "cell_type": "code",
   "execution_count": 7,
   "id": "fa9943b1-8b6b-4019-bd00-816455d9f1c7",
   "metadata": {
    "execution": {
     "iopub.execute_input": "2024-01-09T14:08:23.226085Z",
     "iopub.status.busy": "2024-01-09T14:08:23.225406Z",
     "iopub.status.idle": "2024-01-09T14:08:23.237353Z",
     "shell.execute_reply": "2024-01-09T14:08:23.236557Z"
    }
   },
   "outputs": [
    {
     "data": {
      "text/html": [
       "<table class=\"dataframe\">\n",
       "<caption>A data.frame: 6 × 3</caption>\n",
       "<thead>\n",
       "\t<tr><th></th><th scope=col>var</th><th scope=col>r</th><th scope=col>p</th></tr>\n",
       "\t<tr><th></th><th scope=col>&lt;fct&gt;</th><th scope=col>&lt;dbl&gt;</th><th scope=col>&lt;dbl&gt;</th></tr>\n",
       "</thead>\n",
       "<tbody>\n",
       "\t<tr><th scope=row>p__Acidobacteria</th><td>p__Acidobacteria   </td><td>-0.3905662</td><td>1.326100e-46</td></tr>\n",
       "\t<tr><th scope=row>p__Verrucomicrobia</th><td>p__Verrucomicrobia </td><td>-0.3644073</td><td>2.318947e-40</td></tr>\n",
       "\t<tr><th scope=row>p__Rokubacteria</th><td>p__Rokubacteria    </td><td>-0.3368710</td><td>2.180670e-34</td></tr>\n",
       "\t<tr><th scope=row>p__Actinobacteria</th><td>p__Actinobacteria  </td><td> 0.3223487</td><td>1.795834e-31</td></tr>\n",
       "\t<tr><th scope=row>p__Chloroflexi</th><td>p__Chloroflexi     </td><td> 0.3059734</td><td>2.267642e-28</td></tr>\n",
       "\t<tr><th scope=row>p__Gemmatimonadetes</th><td>p__Gemmatimonadetes</td><td> 0.2923843</td><td>6.076251e-26</td></tr>\n",
       "</tbody>\n",
       "</table>\n"
      ],
      "text/latex": [
       "A data.frame: 6 × 3\n",
       "\\begin{tabular}{r|lll}\n",
       "  & var & r & p\\\\\n",
       "  & <fct> & <dbl> & <dbl>\\\\\n",
       "\\hline\n",
       "\tp\\_\\_Acidobacteria & p\\_\\_Acidobacteria    & -0.3905662 & 1.326100e-46\\\\\n",
       "\tp\\_\\_Verrucomicrobia & p\\_\\_Verrucomicrobia  & -0.3644073 & 2.318947e-40\\\\\n",
       "\tp\\_\\_Rokubacteria & p\\_\\_Rokubacteria     & -0.3368710 & 2.180670e-34\\\\\n",
       "\tp\\_\\_Actinobacteria & p\\_\\_Actinobacteria   &  0.3223487 & 1.795834e-31\\\\\n",
       "\tp\\_\\_Chloroflexi & p\\_\\_Chloroflexi      &  0.3059734 & 2.267642e-28\\\\\n",
       "\tp\\_\\_Gemmatimonadetes & p\\_\\_Gemmatimonadetes &  0.2923843 & 6.076251e-26\\\\\n",
       "\\end{tabular}\n"
      ],
      "text/markdown": [
       "\n",
       "A data.frame: 6 × 3\n",
       "\n",
       "| <!--/--> | var &lt;fct&gt; | r &lt;dbl&gt; | p &lt;dbl&gt; |\n",
       "|---|---|---|---|\n",
       "| p__Acidobacteria | p__Acidobacteria    | -0.3905662 | 1.326100e-46 |\n",
       "| p__Verrucomicrobia | p__Verrucomicrobia  | -0.3644073 | 2.318947e-40 |\n",
       "| p__Rokubacteria | p__Rokubacteria     | -0.3368710 | 2.180670e-34 |\n",
       "| p__Actinobacteria | p__Actinobacteria   |  0.3223487 | 1.795834e-31 |\n",
       "| p__Chloroflexi | p__Chloroflexi      |  0.3059734 | 2.267642e-28 |\n",
       "| p__Gemmatimonadetes | p__Gemmatimonadetes |  0.2923843 | 6.076251e-26 |\n",
       "\n"
      ],
      "text/plain": [
       "                    var                 r          p           \n",
       "p__Acidobacteria    p__Acidobacteria    -0.3905662 1.326100e-46\n",
       "p__Verrucomicrobia  p__Verrucomicrobia  -0.3644073 2.318947e-40\n",
       "p__Rokubacteria     p__Rokubacteria     -0.3368710 2.180670e-34\n",
       "p__Actinobacteria   p__Actinobacteria    0.3223487 1.795834e-31\n",
       "p__Chloroflexi      p__Chloroflexi       0.3059734 2.267642e-28\n",
       "p__Gemmatimonadetes p__Gemmatimonadetes  0.2923843 6.076251e-26"
      ]
     },
     "metadata": {},
     "output_type": "display_data"
    }
   ],
   "source": [
    "# Show markers \n",
    "head(dataset.dts.aliyun$abd$mar$correlation)"
   ]
  },
  {
   "cell_type": "code",
   "execution_count": 8,
   "id": "5e7601fd-239c-4b92-bf08-e652fb8a6d67",
   "metadata": {
    "execution": {
     "iopub.execute_input": "2024-01-09T14:08:23.239355Z",
     "iopub.status.busy": "2024-01-09T14:08:23.238685Z",
     "iopub.status.idle": "2024-01-09T14:09:21.057791Z",
     "shell.execute_reply": "2024-01-09T14:09:21.055931Z"
    }
   },
   "outputs": [
    {
     "name": "stderr",
     "output_type": "stream",
     "text": [
      "\u001b[36mℹ\u001b[39m [2024-01-09 22:08:23] \u001b[34m\u001b[3m\u001b[34mINFO\u001b[34m\u001b[23m\u001b[39m ==> mantel test would take a while...\n",
      "\n",
      "\u001b[36mℹ\u001b[39m [2024-01-09 22:08:23] \u001b[34m\u001b[3m\u001b[34mINFO\u001b[34m\u001b[23m\u001b[39m ==> current annot. name(1/26): p__\n",
      "\n",
      "\u001b[36mℹ\u001b[39m [2024-01-09 22:08:25] \u001b[34m\u001b[3m\u001b[34mINFO\u001b[34m\u001b[23m\u001b[39m ==> current annot. name(2/26): p__Acidobacteria\n",
      "\n",
      "\u001b[36mℹ\u001b[39m [2024-01-09 22:08:27] \u001b[34m\u001b[3m\u001b[34mINFO\u001b[34m\u001b[23m\u001b[39m ==> current annot. name(3/26): p__Actinobacteria\n",
      "\n",
      "\u001b[36mℹ\u001b[39m [2024-01-09 22:08:29] \u001b[34m\u001b[3m\u001b[34mINFO\u001b[34m\u001b[23m\u001b[39m ==> current annot. name(4/26): p__Armatimonadetes\n",
      "\n",
      "\u001b[36mℹ\u001b[39m [2024-01-09 22:08:31] \u001b[34m\u001b[3m\u001b[34mINFO\u001b[34m\u001b[23m\u001b[39m ==> current annot. name(5/26): p__Bacteroidetes\n",
      "\n",
      "\u001b[36mℹ\u001b[39m [2024-01-09 22:08:33] \u001b[34m\u001b[3m\u001b[34mINFO\u001b[34m\u001b[23m\u001b[39m ==> current annot. name(6/26): p__Chloroflexi\n",
      "\n",
      "\u001b[36mℹ\u001b[39m [2024-01-09 22:08:36] \u001b[34m\u001b[3m\u001b[34mINFO\u001b[34m\u001b[23m\u001b[39m ==> current annot. name(7/26): p__Crenarchaeota\n",
      "\n",
      "\u001b[36mℹ\u001b[39m [2024-01-09 22:08:38] \u001b[34m\u001b[3m\u001b[34mINFO\u001b[34m\u001b[23m\u001b[39m ==> current annot. name(8/26): p__Cyanobacteria\n",
      "\n",
      "\u001b[36mℹ\u001b[39m [2024-01-09 22:08:41] \u001b[34m\u001b[3m\u001b[34mINFO\u001b[34m\u001b[23m\u001b[39m ==> current annot. name(9/26): p__Deinococcus.Thermus\n",
      "\n",
      "\u001b[36mℹ\u001b[39m [2024-01-09 22:08:44] \u001b[34m\u001b[3m\u001b[34mINFO\u001b[34m\u001b[23m\u001b[39m ==> current annot. name(10/26): p__Elusimicrobia\n",
      "\n",
      "\u001b[36mℹ\u001b[39m [2024-01-09 22:08:46] \u001b[34m\u001b[3m\u001b[34mINFO\u001b[34m\u001b[23m\u001b[39m ==> current annot. name(11/26): p__Entotheonellaeota\n",
      "\n",
      "\u001b[36mℹ\u001b[39m [2024-01-09 22:08:48] \u001b[34m\u001b[3m\u001b[34mINFO\u001b[34m\u001b[23m\u001b[39m ==> current annot. name(12/26): p__Euryarchaeota\n",
      "\n",
      "\u001b[36mℹ\u001b[39m [2024-01-09 22:08:51] \u001b[34m\u001b[3m\u001b[34mINFO\u001b[34m\u001b[23m\u001b[39m ==> current annot. name(13/26): p__FBP\n",
      "\n",
      "\u001b[36mℹ\u001b[39m [2024-01-09 22:08:53] \u001b[34m\u001b[3m\u001b[34mINFO\u001b[34m\u001b[23m\u001b[39m ==> current annot. name(14/26): p__Fibrobacteres\n",
      "\n",
      "\u001b[36mℹ\u001b[39m [2024-01-09 22:08:55] \u001b[34m\u001b[3m\u001b[34mINFO\u001b[34m\u001b[23m\u001b[39m ==> current annot. name(15/26): p__Firmicutes\n",
      "\n",
      "\u001b[36mℹ\u001b[39m [2024-01-09 22:08:57] \u001b[34m\u001b[3m\u001b[34mINFO\u001b[34m\u001b[23m\u001b[39m ==> current annot. name(16/26): p__GAL15\n",
      "\n",
      "\u001b[36mℹ\u001b[39m [2024-01-09 22:08:59] \u001b[34m\u001b[3m\u001b[34mINFO\u001b[34m\u001b[23m\u001b[39m ==> current annot. name(17/26): p__Gemmatimonadetes\n",
      "\n",
      "\u001b[36mℹ\u001b[39m [2024-01-09 22:09:01] \u001b[34m\u001b[3m\u001b[34mINFO\u001b[34m\u001b[23m\u001b[39m ==> current annot. name(18/26): p__Latescibacteria\n",
      "\n",
      "\u001b[36mℹ\u001b[39m [2024-01-09 22:09:03] \u001b[34m\u001b[3m\u001b[34mINFO\u001b[34m\u001b[23m\u001b[39m ==> current annot. name(19/26): p__Nitrospirae\n",
      "\n",
      "\u001b[36mℹ\u001b[39m [2024-01-09 22:09:06] \u001b[34m\u001b[3m\u001b[34mINFO\u001b[34m\u001b[23m\u001b[39m ==> current annot. name(20/26): p__Planctomycetes\n",
      "\n",
      "\u001b[36mℹ\u001b[39m [2024-01-09 22:09:08] \u001b[34m\u001b[3m\u001b[34mINFO\u001b[34m\u001b[23m\u001b[39m ==> current annot. name(21/26): p__Proteobacteria\n",
      "\n",
      "\u001b[36mℹ\u001b[39m [2024-01-09 22:09:10] \u001b[34m\u001b[3m\u001b[34mINFO\u001b[34m\u001b[23m\u001b[39m ==> current annot. name(22/26): p__Rokubacteria\n",
      "\n",
      "\u001b[36mℹ\u001b[39m [2024-01-09 22:09:12] \u001b[34m\u001b[3m\u001b[34mINFO\u001b[34m\u001b[23m\u001b[39m ==> current annot. name(23/26): p__Thaumarchaeota\n",
      "\n",
      "\u001b[36mℹ\u001b[39m [2024-01-09 22:09:14] \u001b[34m\u001b[3m\u001b[34mINFO\u001b[34m\u001b[23m\u001b[39m ==> current annot. name(24/26): p__Verrucomicrobia\n",
      "\n",
      "\u001b[36mℹ\u001b[39m [2024-01-09 22:09:16] \u001b[34m\u001b[3m\u001b[34mINFO\u001b[34m\u001b[23m\u001b[39m ==> current annot. name(25/26): p__WPS.2\n",
      "\n",
      "\u001b[36mℹ\u001b[39m [2024-01-09 22:09:18] \u001b[34m\u001b[3m\u001b[34mINFO\u001b[34m\u001b[23m\u001b[39m ==> current annot. name(26/26): p__WS2\n",
      "\n",
      "\u001b[36mℹ\u001b[39m [2024-01-09 22:09:21] \u001b[34m\u001b[3m\u001b[34mINFO\u001b[34m\u001b[23m\u001b[39m ==> found 4 ecological markers at `Phylum` level..\n",
      "\n",
      "\u001b[32m✔\u001b[39m [2024-01-09 22:09:21] \u001b[32m\u001b[3m\u001b[32mSAVE\u001b[32m\u001b[23m\u001b[39m ==> results have been saved to: object$abd$mar\n",
      "\n"
     ]
    }
   ],
   "source": [
    "# Identify ecological markers based on soil pH and TOC in <env> [Mantel test]\n",
    "dataset.dts.aliyun %<>% calc_markers(use.var = c('pH', 'TOC'), annotation.level = 'Phylum', r.thres = 0.1, use.dat = 'env') "
   ]
  },
  {
   "cell_type": "code",
   "execution_count": 9,
   "id": "a0499b3c-ef6b-4073-99cf-73a6c4a808d6",
   "metadata": {
    "execution": {
     "iopub.execute_input": "2024-01-09T14:09:21.061449Z",
     "iopub.status.busy": "2024-01-09T14:09:21.060442Z",
     "iopub.status.idle": "2024-01-09T14:09:21.080527Z",
     "shell.execute_reply": "2024-01-09T14:09:21.079240Z"
    }
   },
   "outputs": [
    {
     "data": {
      "text/html": [
       "<table class=\"dataframe\">\n",
       "<caption>A data.frame: 4 × 3</caption>\n",
       "<thead>\n",
       "\t<tr><th></th><th scope=col>var</th><th scope=col>r</th><th scope=col>p</th></tr>\n",
       "\t<tr><th></th><th scope=col>&lt;fct&gt;</th><th scope=col>&lt;dbl&gt;</th><th scope=col>&lt;dbl&gt;</th></tr>\n",
       "</thead>\n",
       "<tbody>\n",
       "\t<tr><th scope=row>p__Crenarchaeota</th><td>p__Crenarchaeota   </td><td>0.2384842</td><td>0.001</td></tr>\n",
       "\t<tr><th scope=row>p__Actinobacteria</th><td>p__Actinobacteria  </td><td>0.1219365</td><td>0.001</td></tr>\n",
       "\t<tr><th scope=row>p__Thaumarchaeota</th><td>p__Thaumarchaeota  </td><td>0.1166361</td><td>0.001</td></tr>\n",
       "\t<tr><th scope=row>p__Gemmatimonadetes</th><td>p__Gemmatimonadetes</td><td>0.1018073</td><td>0.001</td></tr>\n",
       "</tbody>\n",
       "</table>\n"
      ],
      "text/latex": [
       "A data.frame: 4 × 3\n",
       "\\begin{tabular}{r|lll}\n",
       "  & var & r & p\\\\\n",
       "  & <fct> & <dbl> & <dbl>\\\\\n",
       "\\hline\n",
       "\tp\\_\\_Crenarchaeota & p\\_\\_Crenarchaeota    & 0.2384842 & 0.001\\\\\n",
       "\tp\\_\\_Actinobacteria & p\\_\\_Actinobacteria   & 0.1219365 & 0.001\\\\\n",
       "\tp\\_\\_Thaumarchaeota & p\\_\\_Thaumarchaeota   & 0.1166361 & 0.001\\\\\n",
       "\tp\\_\\_Gemmatimonadetes & p\\_\\_Gemmatimonadetes & 0.1018073 & 0.001\\\\\n",
       "\\end{tabular}\n"
      ],
      "text/markdown": [
       "\n",
       "A data.frame: 4 × 3\n",
       "\n",
       "| <!--/--> | var &lt;fct&gt; | r &lt;dbl&gt; | p &lt;dbl&gt; |\n",
       "|---|---|---|---|\n",
       "| p__Crenarchaeota | p__Crenarchaeota    | 0.2384842 | 0.001 |\n",
       "| p__Actinobacteria | p__Actinobacteria   | 0.1219365 | 0.001 |\n",
       "| p__Thaumarchaeota | p__Thaumarchaeota   | 0.1166361 | 0.001 |\n",
       "| p__Gemmatimonadetes | p__Gemmatimonadetes | 0.1018073 | 0.001 |\n",
       "\n"
      ],
      "text/plain": [
       "                    var                 r         p    \n",
       "p__Crenarchaeota    p__Crenarchaeota    0.2384842 0.001\n",
       "p__Actinobacteria   p__Actinobacteria   0.1219365 0.001\n",
       "p__Thaumarchaeota   p__Thaumarchaeota   0.1166361 0.001\n",
       "p__Gemmatimonadetes p__Gemmatimonadetes 0.1018073 0.001"
      ]
     },
     "metadata": {},
     "output_type": "display_data"
    }
   ],
   "source": [
    "# Show markers \n",
    "head(dataset.dts.aliyun$abd$mar$correlation)"
   ]
  },
  {
   "cell_type": "code",
   "execution_count": 10,
   "id": "dd7d8a0b-4bef-41c3-af9f-296d070a529a",
   "metadata": {
    "execution": {
     "iopub.execute_input": "2024-01-09T14:09:21.083743Z",
     "iopub.status.busy": "2024-01-09T14:09:21.082714Z",
     "iopub.status.idle": "2024-01-09T14:09:21.326565Z",
     "shell.execute_reply": "2024-01-09T14:09:21.325578Z"
    }
   },
   "outputs": [
    {
     "name": "stdout",
     "output_type": "stream",
     "text": [
      "\u001b[34m──\u001b[39m \u001b[34mThe Summary of Microgeo Dataset\u001b[39m \u001b[34m─────────────────────────────────────────────\u001b[39m\n"
     ]
    },
    {
     "name": "stderr",
     "output_type": "stream",
     "text": [
      "\u001b[36mℹ\u001b[39m object$mat: 6808 ASVs/genes and 1244 samples \u001b[32m\u001b[3m\u001b[32m[subsample depth: 5310]\u001b[32m\u001b[23m\u001b[39m\n",
      "\n",
      "\u001b[36mℹ\u001b[39m object$ant: 6808 ASVs/genes and 7 annotation levels (Kingdom, Phylum, Class, Order, Family, Genus, Species)\n",
      "\n",
      "\u001b[36mℹ\u001b[39m object$met: 1244 samples and 2 variables (longitude, latitude)\n",
      "\n",
      "\u001b[36mℹ\u001b[39m object$map: a SpatialPolygonsDataFrame with the CRS of '+proj=longlat +datum=WGS84 +no_defs'\n",
      "\n",
      "\u001b[36mℹ\u001b[39m object$phy: a phylogenetic tree with 6808 tip labels\n",
      "\n",
      "\u001b[36mℹ\u001b[39m object$env: 1244 samples and 10 variables\n",
      "\n"
     ]
    },
    {
     "name": "stdout",
     "output_type": "stream",
     "text": [
      "\n",
      "\u001b[30m──\u001b[39m \u001b[30mThe Summary of Biogeographic Traits\u001b[39m \u001b[30m─────────────────────────────────────────\u001b[39m\n"
     ]
    },
    {
     "name": "stderr",
     "output_type": "stream",
     "text": [
      "\u001b[32m✔\u001b[39m object$abd$raw: 7 abundance tables (Kingdom, Phylum, Class, Order, Family, Genus, Species)\n",
      "\n",
      "\u001b[32m✔\u001b[39m object$abd$mar: 4 eco-markers at Phylum level (abundance, correlation)\n",
      "\n"
     ]
    },
    {
     "name": "stdout",
     "output_type": "stream",
     "text": [
      "\n",
      "\u001b[44m• To check the summary of dataset, Replace `object` with the variable name of your dataset\u001b[49m\n",
      "\u001b[44m• For example, if the variable name is `dataset.dts`you can run `head(dataset.dts$met)` to check the content of `met`\u001b[49m\n"
     ]
    }
   ],
   "source": [
    "# Show dataset \n",
    "dataset.dts.aliyun %>% show_dataset()"
   ]
  },
  {
   "cell_type": "markdown",
   "id": "ba71f452-62f4-488c-baf7-9689946065da",
   "metadata": {},
   "source": [
    "## 3. Calculate alpha diversity indices"
   ]
  },
  {
   "cell_type": "markdown",
   "id": "32e49891-6bab-43c7-ae54-0642e39ee9d3",
   "metadata": {},
   "source": [
    "We implemented a functiobn of `calc_alpha_div()`, which calculates serveral alpha diversity indices such as observed ASVs and Shannon index. Just run the following codes."
   ]
  },
  {
   "cell_type": "code",
   "execution_count": 11,
   "id": "6f9018c0-38fa-4614-ac0d-34cf45271bba",
   "metadata": {
    "execution": {
     "iopub.execute_input": "2024-01-09T14:09:21.329347Z",
     "iopub.status.busy": "2024-01-09T14:09:21.328598Z",
     "iopub.status.idle": "2024-01-09T14:09:24.549834Z",
     "shell.execute_reply": "2024-01-09T14:09:24.548402Z"
    }
   },
   "outputs": [],
   "source": [
    "# Calculate alpha diversity indices\n",
    "dataset.dts.aliyun %<>% calc_alpha_div(measures = c(\"observed\", \"shannon\")) %>% suppressMessages()"
   ]
  },
  {
   "cell_type": "code",
   "execution_count": 12,
   "id": "089c2913-0fd1-4ad7-a8a2-0255be621e6a",
   "metadata": {
    "execution": {
     "iopub.execute_input": "2024-01-09T14:09:24.552664Z",
     "iopub.status.busy": "2024-01-09T14:09:24.551747Z",
     "iopub.status.idle": "2024-01-09T14:09:24.740785Z",
     "shell.execute_reply": "2024-01-09T14:09:24.739672Z"
    }
   },
   "outputs": [
    {
     "name": "stdout",
     "output_type": "stream",
     "text": [
      "\u001b[34m──\u001b[39m \u001b[34mThe Summary of Microgeo Dataset\u001b[39m \u001b[34m─────────────────────────────────────────────\u001b[39m\n"
     ]
    },
    {
     "name": "stderr",
     "output_type": "stream",
     "text": [
      "\u001b[36mℹ\u001b[39m object$mat: 6808 ASVs/genes and 1244 samples \u001b[32m\u001b[3m\u001b[32m[subsample depth: 5310]\u001b[32m\u001b[23m\u001b[39m\n",
      "\n",
      "\u001b[36mℹ\u001b[39m object$ant: 6808 ASVs/genes and 7 annotation levels (Kingdom, Phylum, Class, Order, Family, Genus, Species)\n",
      "\n",
      "\u001b[36mℹ\u001b[39m object$met: 1244 samples and 2 variables (longitude, latitude)\n",
      "\n",
      "\u001b[36mℹ\u001b[39m object$map: a SpatialPolygonsDataFrame with the CRS of '+proj=longlat +datum=WGS84 +no_defs'\n",
      "\n",
      "\u001b[36mℹ\u001b[39m object$phy: a phylogenetic tree with 6808 tip labels\n",
      "\n",
      "\u001b[36mℹ\u001b[39m object$env: 1244 samples and 10 variables\n",
      "\n"
     ]
    },
    {
     "name": "stdout",
     "output_type": "stream",
     "text": [
      "\n",
      "\u001b[30m──\u001b[39m \u001b[30mThe Summary of Biogeographic Traits\u001b[39m \u001b[30m─────────────────────────────────────────\u001b[39m\n"
     ]
    },
    {
     "name": "stderr",
     "output_type": "stream",
     "text": [
      "\u001b[32m✔\u001b[39m object$abd$raw: 7 abundance tables (Kingdom, Phylum, Class, Order, Family, Genus, Species)\n",
      "\n",
      "\u001b[32m✔\u001b[39m object$abd$mar: 4 eco-markers at Phylum level (abundance, correlation)\n",
      "\n",
      "\u001b[32m✔\u001b[39m object$div$alpha: 2 alpha diversity index/indices (observed, shannon)\n",
      "\n"
     ]
    },
    {
     "name": "stdout",
     "output_type": "stream",
     "text": [
      "\n",
      "\u001b[44m• To check the summary of dataset, Replace `object` with the variable name of your dataset\u001b[49m\n",
      "\u001b[44m• For example, if the variable name is `dataset.dts`you can run `head(dataset.dts$met)` to check the content of `met`\u001b[49m\n"
     ]
    }
   ],
   "source": [
    "# Show dataset \n",
    "dataset.dts.aliyun %>% show_dataset()"
   ]
  },
  {
   "cell_type": "markdown",
   "id": "e1d4b97b-9b61-44f8-bcfe-1ad9d57d8238",
   "metadata": {},
   "source": [
    "## 4. Calculate beta diversity distance matrices"
   ]
  },
  {
   "cell_type": "markdown",
   "id": "7540f379-b99e-45d2-b84c-aca16d4f1f51",
   "metadata": {},
   "source": [
    "We implemented a function of `calc_beta_div()`, which calculates serveral beta diversity distance matrix such as `Bray-Curtis` and `Jarccard` distance matrix. Just run the following codes."
   ]
  },
  {
   "cell_type": "code",
   "execution_count": 13,
   "id": "ab4e9e5a-6ddc-4b30-ad85-34de2c2dc4ad",
   "metadata": {
    "execution": {
     "iopub.execute_input": "2024-01-09T14:09:24.743373Z",
     "iopub.status.busy": "2024-01-09T14:09:24.742555Z",
     "iopub.status.idle": "2024-01-09T14:10:09.157649Z",
     "shell.execute_reply": "2024-01-09T14:10:09.156157Z"
    }
   },
   "outputs": [],
   "source": [
    "# Calculate alpha diversity indices\n",
    "dataset.dts.aliyun %<>% calc_beta_div(measures = c(\"bray\", \"jaccard\")) %>% suppressMessages()"
   ]
  },
  {
   "cell_type": "code",
   "execution_count": 14,
   "id": "a8a0ae4f-0c15-4a54-9263-fcf0e875c1c2",
   "metadata": {
    "execution": {
     "iopub.execute_input": "2024-01-09T14:10:09.160327Z",
     "iopub.status.busy": "2024-01-09T14:10:09.159500Z",
     "iopub.status.idle": "2024-01-09T14:10:09.283904Z",
     "shell.execute_reply": "2024-01-09T14:10:09.282744Z"
    }
   },
   "outputs": [
    {
     "name": "stdout",
     "output_type": "stream",
     "text": [
      "\u001b[34m──\u001b[39m \u001b[34mThe Summary of Microgeo Dataset\u001b[39m \u001b[34m─────────────────────────────────────────────\u001b[39m\n"
     ]
    },
    {
     "name": "stderr",
     "output_type": "stream",
     "text": [
      "\u001b[36mℹ\u001b[39m object$mat: 6808 ASVs/genes and 1244 samples \u001b[32m\u001b[3m\u001b[32m[subsample depth: 5310]\u001b[32m\u001b[23m\u001b[39m\n",
      "\n",
      "\u001b[36mℹ\u001b[39m object$ant: 6808 ASVs/genes and 7 annotation levels (Kingdom, Phylum, Class, Order, Family, Genus, Species)\n",
      "\n",
      "\u001b[36mℹ\u001b[39m object$met: 1244 samples and 2 variables (longitude, latitude)\n",
      "\n",
      "\u001b[36mℹ\u001b[39m object$map: a SpatialPolygonsDataFrame with the CRS of '+proj=longlat +datum=WGS84 +no_defs'\n",
      "\n",
      "\u001b[36mℹ\u001b[39m object$phy: a phylogenetic tree with 6808 tip labels\n",
      "\n",
      "\u001b[36mℹ\u001b[39m object$env: 1244 samples and 10 variables\n",
      "\n"
     ]
    },
    {
     "name": "stdout",
     "output_type": "stream",
     "text": [
      "\n",
      "\u001b[30m──\u001b[39m \u001b[30mThe Summary of Biogeographic Traits\u001b[39m \u001b[30m─────────────────────────────────────────\u001b[39m\n"
     ]
    },
    {
     "name": "stderr",
     "output_type": "stream",
     "text": [
      "\u001b[32m✔\u001b[39m object$abd$raw: 7 abundance tables (Kingdom, Phylum, Class, Order, Family, Genus, Species)\n",
      "\n",
      "\u001b[32m✔\u001b[39m object$abd$mar: 4 eco-markers at Phylum level (abundance, correlation)\n",
      "\n",
      "\u001b[32m✔\u001b[39m object$div$alpha: 2 alpha diversity index/indices (observed, shannon)\n",
      "\n",
      "\u001b[32m✔\u001b[39m object$div$beta: 2 beta diversity distance matrix/matrices (bray, jaccard)\n",
      "\n"
     ]
    },
    {
     "name": "stdout",
     "output_type": "stream",
     "text": [
      "\n",
      "\u001b[44m• To check the summary of dataset, Replace `object` with the variable name of your dataset\u001b[49m\n",
      "\u001b[44m• For example, if the variable name is `dataset.dts`you can run `head(dataset.dts$met)` to check the content of `met`\u001b[49m\n"
     ]
    }
   ],
   "source": [
    "# Show dataset \n",
    "dataset.dts.aliyun %>% show_dataset()"
   ]
  },
  {
   "cell_type": "code",
   "execution_count": 15,
   "id": "14fe9351-49ec-4fa0-bb7c-3171f4457e2e",
   "metadata": {
    "execution": {
     "iopub.execute_input": "2024-01-09T14:10:09.286639Z",
     "iopub.status.busy": "2024-01-09T14:10:09.285759Z",
     "iopub.status.idle": "2024-01-09T14:10:09.299777Z",
     "shell.execute_reply": "2024-01-09T14:10:09.298610Z"
    }
   },
   "outputs": [
    {
     "data": {
      "text/html": [
       "<table class=\"dataframe\">\n",
       "<caption>A matrix: 4 × 4 of type dbl</caption>\n",
       "<thead>\n",
       "\t<tr><th></th><th scope=col>s1</th><th scope=col>s2</th><th scope=col>s3</th><th scope=col>s4</th></tr>\n",
       "</thead>\n",
       "<tbody>\n",
       "\t<tr><th scope=row>s1</th><td>0.0000000</td><td>0.4751412</td><td>0.5747646</td><td>0.4896422</td></tr>\n",
       "\t<tr><th scope=row>s2</th><td>0.4751412</td><td>0.0000000</td><td>0.4907721</td><td>0.4075330</td></tr>\n",
       "\t<tr><th scope=row>s3</th><td>0.5747646</td><td>0.4907721</td><td>0.0000000</td><td>0.4000000</td></tr>\n",
       "\t<tr><th scope=row>s4</th><td>0.4896422</td><td>0.4075330</td><td>0.4000000</td><td>0.0000000</td></tr>\n",
       "</tbody>\n",
       "</table>\n"
      ],
      "text/latex": [
       "A matrix: 4 × 4 of type dbl\n",
       "\\begin{tabular}{r|llll}\n",
       "  & s1 & s2 & s3 & s4\\\\\n",
       "\\hline\n",
       "\ts1 & 0.0000000 & 0.4751412 & 0.5747646 & 0.4896422\\\\\n",
       "\ts2 & 0.4751412 & 0.0000000 & 0.4907721 & 0.4075330\\\\\n",
       "\ts3 & 0.5747646 & 0.4907721 & 0.0000000 & 0.4000000\\\\\n",
       "\ts4 & 0.4896422 & 0.4075330 & 0.4000000 & 0.0000000\\\\\n",
       "\\end{tabular}\n"
      ],
      "text/markdown": [
       "\n",
       "A matrix: 4 × 4 of type dbl\n",
       "\n",
       "| <!--/--> | s1 | s2 | s3 | s4 |\n",
       "|---|---|---|---|---|\n",
       "| s1 | 0.0000000 | 0.4751412 | 0.5747646 | 0.4896422 |\n",
       "| s2 | 0.4751412 | 0.0000000 | 0.4907721 | 0.4075330 |\n",
       "| s3 | 0.5747646 | 0.4907721 | 0.0000000 | 0.4000000 |\n",
       "| s4 | 0.4896422 | 0.4075330 | 0.4000000 | 0.0000000 |\n",
       "\n"
      ],
      "text/plain": [
       "   s1        s2        s3        s4       \n",
       "s1 0.0000000 0.4751412 0.5747646 0.4896422\n",
       "s2 0.4751412 0.0000000 0.4907721 0.4075330\n",
       "s3 0.5747646 0.4907721 0.0000000 0.4000000\n",
       "s4 0.4896422 0.4075330 0.4000000 0.0000000"
      ]
     },
     "metadata": {},
     "output_type": "display_data"
    }
   ],
   "source": [
    "# Check results [Bray-Curtis distance]\n",
    "dataset.dts.aliyun$div$bet$bray[1:4, 1:4]"
   ]
  },
  {
   "cell_type": "markdown",
   "id": "7d16a9f1-5e26-4bc3-b1fc-5d53bf662808",
   "metadata": {},
   "source": [
    "## 5. Calculate microbial community assembly indices"
   ]
  },
  {
   "cell_type": "markdown",
   "id": "c70948e9-4248-497d-a278-79cd9f29235d",
   "metadata": {},
   "source": [
    "We implemeted a function of `calc_phylo_asmb()`, which calculates the metrics involved in microbial community assembly. Just run the following codes."
   ]
  },
  {
   "cell_type": "code",
   "execution_count": 16,
   "id": "625272e1-f041-4f69-bbda-9e1b4ad63292",
   "metadata": {
    "execution": {
     "iopub.execute_input": "2024-01-09T14:10:09.302567Z",
     "iopub.status.busy": "2024-01-09T14:10:09.301795Z",
     "iopub.status.idle": "2024-01-09T14:10:09.388658Z",
     "shell.execute_reply": "2024-01-09T14:10:09.387282Z"
    }
   },
   "outputs": [],
   "source": [
    "# Calculate `alpha.phylo` null model\n",
    "# runs = 9 just for an example. 999 runs may be better \n",
    "dataset.dts.aliyun %<>% calc_phylo_asmb(type = 'alpha.phylo', runs = 9, out.dir = 'test/calc_comm_asmb') %>% suppressMessages()"
   ]
  },
  {
   "cell_type": "code",
   "execution_count": 17,
   "id": "cb81a6ec-cf99-48cb-a945-ad764b142e5b",
   "metadata": {
    "execution": {
     "iopub.execute_input": "2024-01-09T14:10:09.391646Z",
     "iopub.status.busy": "2024-01-09T14:10:09.390685Z",
     "iopub.status.idle": "2024-01-09T14:10:09.409566Z",
     "shell.execute_reply": "2024-01-09T14:10:09.408429Z"
    }
   },
   "outputs": [
    {
     "data": {
      "text/html": [
       "<table class=\"dataframe\">\n",
       "<caption>A data.frame: 6 × 8</caption>\n",
       "<thead>\n",
       "\t<tr><th></th><th scope=col>ntaxa</th><th scope=col>mntd.obs</th><th scope=col>mntd.rand.mean</th><th scope=col>mntd.rand.sd</th><th scope=col>mntd.obs.rank</th><th scope=col>mntd.obs.z</th><th scope=col>mntd.obs.p</th><th scope=col>runs</th></tr>\n",
       "\t<tr><th></th><th scope=col>&lt;int&gt;</th><th scope=col>&lt;dbl&gt;</th><th scope=col>&lt;dbl&gt;</th><th scope=col>&lt;dbl&gt;</th><th scope=col>&lt;dbl&gt;</th><th scope=col>&lt;dbl&gt;</th><th scope=col>&lt;dbl&gt;</th><th scope=col>&lt;dbl&gt;</th></tr>\n",
       "</thead>\n",
       "<tbody>\n",
       "\t<tr><th scope=row>s1</th><td> 994</td><td>0.04296439</td><td>0.08426412</td><td>0.007403890</td><td>1</td><td> -5.578113</td><td>0.1</td><td>9</td></tr>\n",
       "\t<tr><th scope=row>s2</th><td> 950</td><td>0.04789814</td><td>0.08316672</td><td>0.004549325</td><td>1</td><td> -7.752487</td><td>0.1</td><td>9</td></tr>\n",
       "\t<tr><th scope=row>s3</th><td> 845</td><td>0.04794208</td><td>0.09028277</td><td>0.004200045</td><td>1</td><td>-10.081008</td><td>0.1</td><td>9</td></tr>\n",
       "\t<tr><th scope=row>s4</th><td>1028</td><td>0.04716382</td><td>0.08187408</td><td>0.004503587</td><td>1</td><td> -7.707249</td><td>0.1</td><td>9</td></tr>\n",
       "\t<tr><th scope=row>s5</th><td> 895</td><td>0.04621123</td><td>0.08886568</td><td>0.005389841</td><td>1</td><td> -7.913861</td><td>0.1</td><td>9</td></tr>\n",
       "\t<tr><th scope=row>s6</th><td> 983</td><td>0.04720200</td><td>0.08302965</td><td>0.005064797</td><td>1</td><td> -7.073857</td><td>0.1</td><td>9</td></tr>\n",
       "</tbody>\n",
       "</table>\n"
      ],
      "text/latex": [
       "A data.frame: 6 × 8\n",
       "\\begin{tabular}{r|llllllll}\n",
       "  & ntaxa & mntd.obs & mntd.rand.mean & mntd.rand.sd & mntd.obs.rank & mntd.obs.z & mntd.obs.p & runs\\\\\n",
       "  & <int> & <dbl> & <dbl> & <dbl> & <dbl> & <dbl> & <dbl> & <dbl>\\\\\n",
       "\\hline\n",
       "\ts1 &  994 & 0.04296439 & 0.08426412 & 0.007403890 & 1 &  -5.578113 & 0.1 & 9\\\\\n",
       "\ts2 &  950 & 0.04789814 & 0.08316672 & 0.004549325 & 1 &  -7.752487 & 0.1 & 9\\\\\n",
       "\ts3 &  845 & 0.04794208 & 0.09028277 & 0.004200045 & 1 & -10.081008 & 0.1 & 9\\\\\n",
       "\ts4 & 1028 & 0.04716382 & 0.08187408 & 0.004503587 & 1 &  -7.707249 & 0.1 & 9\\\\\n",
       "\ts5 &  895 & 0.04621123 & 0.08886568 & 0.005389841 & 1 &  -7.913861 & 0.1 & 9\\\\\n",
       "\ts6 &  983 & 0.04720200 & 0.08302965 & 0.005064797 & 1 &  -7.073857 & 0.1 & 9\\\\\n",
       "\\end{tabular}\n"
      ],
      "text/markdown": [
       "\n",
       "A data.frame: 6 × 8\n",
       "\n",
       "| <!--/--> | ntaxa &lt;int&gt; | mntd.obs &lt;dbl&gt; | mntd.rand.mean &lt;dbl&gt; | mntd.rand.sd &lt;dbl&gt; | mntd.obs.rank &lt;dbl&gt; | mntd.obs.z &lt;dbl&gt; | mntd.obs.p &lt;dbl&gt; | runs &lt;dbl&gt; |\n",
       "|---|---|---|---|---|---|---|---|---|\n",
       "| s1 |  994 | 0.04296439 | 0.08426412 | 0.007403890 | 1 |  -5.578113 | 0.1 | 9 |\n",
       "| s2 |  950 | 0.04789814 | 0.08316672 | 0.004549325 | 1 |  -7.752487 | 0.1 | 9 |\n",
       "| s3 |  845 | 0.04794208 | 0.09028277 | 0.004200045 | 1 | -10.081008 | 0.1 | 9 |\n",
       "| s4 | 1028 | 0.04716382 | 0.08187408 | 0.004503587 | 1 |  -7.707249 | 0.1 | 9 |\n",
       "| s5 |  895 | 0.04621123 | 0.08886568 | 0.005389841 | 1 |  -7.913861 | 0.1 | 9 |\n",
       "| s6 |  983 | 0.04720200 | 0.08302965 | 0.005064797 | 1 |  -7.073857 | 0.1 | 9 |\n",
       "\n"
      ],
      "text/plain": [
       "   ntaxa mntd.obs   mntd.rand.mean mntd.rand.sd mntd.obs.rank mntd.obs.z\n",
       "s1  994  0.04296439 0.08426412     0.007403890  1              -5.578113\n",
       "s2  950  0.04789814 0.08316672     0.004549325  1              -7.752487\n",
       "s3  845  0.04794208 0.09028277     0.004200045  1             -10.081008\n",
       "s4 1028  0.04716382 0.08187408     0.004503587  1              -7.707249\n",
       "s5  895  0.04621123 0.08886568     0.005389841  1              -7.913861\n",
       "s6  983  0.04720200 0.08302965     0.005064797  1              -7.073857\n",
       "   mntd.obs.p runs\n",
       "s1 0.1        9   \n",
       "s2 0.1        9   \n",
       "s3 0.1        9   \n",
       "s4 0.1        9   \n",
       "s5 0.1        9   \n",
       "s6 0.1        9   "
      ]
     },
     "metadata": {},
     "output_type": "display_data"
    }
   ],
   "source": [
    "# Check results \n",
    "head(dataset.dts.aliyun$asb$alpha.phylo)"
   ]
  },
  {
   "cell_type": "code",
   "execution_count": 18,
   "id": "9bc41eb6-5642-4314-b6b7-32aa6cc3c827",
   "metadata": {
    "execution": {
     "iopub.execute_input": "2024-01-09T14:10:09.412526Z",
     "iopub.status.busy": "2024-01-09T14:10:09.411460Z",
     "iopub.status.idle": "2024-01-09T14:11:26.074627Z",
     "shell.execute_reply": "2024-01-09T14:11:26.073503Z"
    }
   },
   "outputs": [],
   "source": [
    "# Calculate `beta.phylo` null model\n",
    "# runs = 9 just for an example. 999 runs may be better \n",
    "dataset.dts.aliyun %<>% calc_phylo_asmb(type = 'beta.phylo', runs = 9, out.dir = 'test/calc_comm_asmb') %>% suppressMessages()"
   ]
  },
  {
   "cell_type": "code",
   "execution_count": 19,
   "id": "60b7ceb8-fe25-470f-8674-cb214e9250f9",
   "metadata": {
    "execution": {
     "iopub.execute_input": "2024-01-09T14:11:26.077117Z",
     "iopub.status.busy": "2024-01-09T14:11:26.076200Z",
     "iopub.status.idle": "2024-01-09T14:11:26.085612Z",
     "shell.execute_reply": "2024-01-09T14:11:26.084782Z"
    }
   },
   "outputs": [
    {
     "data": {
      "text/html": [
       "<style>\n",
       ".list-inline {list-style: none; margin:0; padding: 0}\n",
       ".list-inline>li {display: inline-block}\n",
       ".list-inline>li:not(:last-child)::after {content: \"\\00b7\"; padding: 0 .5ex}\n",
       "</style>\n",
       "<ol class=list-inline><li>'b.mntd'</li><li>'bc'</li><li>'rc'</li><li>'b.nti'</li></ol>\n"
      ],
      "text/latex": [
       "\\begin{enumerate*}\n",
       "\\item 'b.mntd'\n",
       "\\item 'bc'\n",
       "\\item 'rc'\n",
       "\\item 'b.nti'\n",
       "\\end{enumerate*}\n"
      ],
      "text/markdown": [
       "1. 'b.mntd'\n",
       "2. 'bc'\n",
       "3. 'rc'\n",
       "4. 'b.nti'\n",
       "\n",
       "\n"
      ],
      "text/plain": [
       "[1] \"b.mntd\" \"bc\"     \"rc\"     \"b.nti\" "
      ]
     },
     "metadata": {},
     "output_type": "display_data"
    }
   ],
   "source": [
    "# Check distance matrix \n",
    "names(dataset.dts.aliyun$asb$beta.phylo$dis) # distance matrices"
   ]
  },
  {
   "cell_type": "code",
   "execution_count": 20,
   "id": "d7ad20c3-f676-4aa5-8440-3755b37e0352",
   "metadata": {
    "execution": {
     "iopub.execute_input": "2024-01-09T14:11:26.087624Z",
     "iopub.status.busy": "2024-01-09T14:11:26.086954Z",
     "iopub.status.idle": "2024-01-09T14:11:26.100278Z",
     "shell.execute_reply": "2024-01-09T14:11:26.099450Z"
    }
   },
   "outputs": [
    {
     "data": {
      "text/html": [
       "<table class=\"dataframe\">\n",
       "<caption>A data.frame: 6 × 7</caption>\n",
       "<thead>\n",
       "\t<tr><th></th><th scope=col>sample1</th><th scope=col>sample2</th><th scope=col>bMNTD</th><th scope=col>BC</th><th scope=col>bNTI</th><th scope=col>RC</th><th scope=col>process</th></tr>\n",
       "\t<tr><th></th><th scope=col>&lt;chr&gt;</th><th scope=col>&lt;chr&gt;</th><th scope=col>&lt;dbl&gt;</th><th scope=col>&lt;dbl&gt;</th><th scope=col>&lt;dbl&gt;</th><th scope=col>&lt;dbl&gt;</th><th scope=col>&lt;chr&gt;</th></tr>\n",
       "</thead>\n",
       "<tbody>\n",
       "\t<tr><th scope=row>1</th><td>s2</td><td>s1</td><td>0.01460073</td><td>0.4815443</td><td>-4.399015</td><td>-1.0000000</td><td>Homogeneous.Selection</td></tr>\n",
       "\t<tr><th scope=row>2</th><td>s3</td><td>s1</td><td>0.01868585</td><td>0.5794727</td><td>-7.282901</td><td>-0.7777778</td><td>Homogeneous.Selection</td></tr>\n",
       "\t<tr><th scope=row>3</th><td>s4</td><td>s1</td><td>0.01609248</td><td>0.4947269</td><td>-3.378989</td><td>-1.0000000</td><td>Homogeneous.Selection</td></tr>\n",
       "\t<tr><th scope=row>4</th><td>s5</td><td>s1</td><td>0.01328793</td><td>0.3960452</td><td>-3.535605</td><td>-1.0000000</td><td>Homogeneous.Selection</td></tr>\n",
       "\t<tr><th scope=row>5</th><td>s6</td><td>s1</td><td>0.01485771</td><td>0.4745763</td><td>-4.056332</td><td>-1.0000000</td><td>Homogeneous.Selection</td></tr>\n",
       "\t<tr><th scope=row>6</th><td>s7</td><td>s1</td><td>0.01646125</td><td>0.5009416</td><td>-4.746696</td><td>-1.0000000</td><td>Homogeneous.Selection</td></tr>\n",
       "</tbody>\n",
       "</table>\n"
      ],
      "text/latex": [
       "A data.frame: 6 × 7\n",
       "\\begin{tabular}{r|lllllll}\n",
       "  & sample1 & sample2 & bMNTD & BC & bNTI & RC & process\\\\\n",
       "  & <chr> & <chr> & <dbl> & <dbl> & <dbl> & <dbl> & <chr>\\\\\n",
       "\\hline\n",
       "\t1 & s2 & s1 & 0.01460073 & 0.4815443 & -4.399015 & -1.0000000 & Homogeneous.Selection\\\\\n",
       "\t2 & s3 & s1 & 0.01868585 & 0.5794727 & -7.282901 & -0.7777778 & Homogeneous.Selection\\\\\n",
       "\t3 & s4 & s1 & 0.01609248 & 0.4947269 & -3.378989 & -1.0000000 & Homogeneous.Selection\\\\\n",
       "\t4 & s5 & s1 & 0.01328793 & 0.3960452 & -3.535605 & -1.0000000 & Homogeneous.Selection\\\\\n",
       "\t5 & s6 & s1 & 0.01485771 & 0.4745763 & -4.056332 & -1.0000000 & Homogeneous.Selection\\\\\n",
       "\t6 & s7 & s1 & 0.01646125 & 0.5009416 & -4.746696 & -1.0000000 & Homogeneous.Selection\\\\\n",
       "\\end{tabular}\n"
      ],
      "text/markdown": [
       "\n",
       "A data.frame: 6 × 7\n",
       "\n",
       "| <!--/--> | sample1 &lt;chr&gt; | sample2 &lt;chr&gt; | bMNTD &lt;dbl&gt; | BC &lt;dbl&gt; | bNTI &lt;dbl&gt; | RC &lt;dbl&gt; | process &lt;chr&gt; |\n",
       "|---|---|---|---|---|---|---|---|\n",
       "| 1 | s2 | s1 | 0.01460073 | 0.4815443 | -4.399015 | -1.0000000 | Homogeneous.Selection |\n",
       "| 2 | s3 | s1 | 0.01868585 | 0.5794727 | -7.282901 | -0.7777778 | Homogeneous.Selection |\n",
       "| 3 | s4 | s1 | 0.01609248 | 0.4947269 | -3.378989 | -1.0000000 | Homogeneous.Selection |\n",
       "| 4 | s5 | s1 | 0.01328793 | 0.3960452 | -3.535605 | -1.0000000 | Homogeneous.Selection |\n",
       "| 5 | s6 | s1 | 0.01485771 | 0.4745763 | -4.056332 | -1.0000000 | Homogeneous.Selection |\n",
       "| 6 | s7 | s1 | 0.01646125 | 0.5009416 | -4.746696 | -1.0000000 | Homogeneous.Selection |\n",
       "\n"
      ],
      "text/plain": [
       "  sample1 sample2 bMNTD      BC        bNTI      RC        \n",
       "1 s2      s1      0.01460073 0.4815443 -4.399015 -1.0000000\n",
       "2 s3      s1      0.01868585 0.5794727 -7.282901 -0.7777778\n",
       "3 s4      s1      0.01609248 0.4947269 -3.378989 -1.0000000\n",
       "4 s5      s1      0.01328793 0.3960452 -3.535605 -1.0000000\n",
       "5 s6      s1      0.01485771 0.4745763 -4.056332 -1.0000000\n",
       "6 s7      s1      0.01646125 0.5009416 -4.746696 -1.0000000\n",
       "  process              \n",
       "1 Homogeneous.Selection\n",
       "2 Homogeneous.Selection\n",
       "3 Homogeneous.Selection\n",
       "4 Homogeneous.Selection\n",
       "5 Homogeneous.Selection\n",
       "6 Homogeneous.Selection"
      ]
     },
     "metadata": {},
     "output_type": "display_data"
    }
   ],
   "source": [
    "# Check the results \n",
    "head(dataset.dts.aliyun$asb$beta.phylo$raw$result) # the raw result of `iCAMP::qpen()`"
   ]
  },
  {
   "cell_type": "code",
   "execution_count": 21,
   "id": "4ca490bf-2864-4249-af5c-5b53562195e4",
   "metadata": {
    "execution": {
     "iopub.execute_input": "2024-01-09T14:11:26.102263Z",
     "iopub.status.busy": "2024-01-09T14:11:26.101592Z",
     "iopub.status.idle": "2024-01-09T14:11:26.292289Z",
     "shell.execute_reply": "2024-01-09T14:11:26.291368Z"
    }
   },
   "outputs": [
    {
     "name": "stdout",
     "output_type": "stream",
     "text": [
      "\u001b[34m──\u001b[39m \u001b[34mThe Summary of Microgeo Dataset\u001b[39m \u001b[34m─────────────────────────────────────────────\u001b[39m\n"
     ]
    },
    {
     "name": "stderr",
     "output_type": "stream",
     "text": [
      "\u001b[36mℹ\u001b[39m object$mat: 6808 ASVs/genes and 1244 samples \u001b[32m\u001b[3m\u001b[32m[subsample depth: 5310]\u001b[32m\u001b[23m\u001b[39m\n",
      "\n",
      "\u001b[36mℹ\u001b[39m object$ant: 6808 ASVs/genes and 7 annotation levels (Kingdom, Phylum, Class, Order, Family, Genus, Species)\n",
      "\n",
      "\u001b[36mℹ\u001b[39m object$met: 1244 samples and 2 variables (longitude, latitude)\n",
      "\n",
      "\u001b[36mℹ\u001b[39m object$map: a SpatialPolygonsDataFrame with the CRS of '+proj=longlat +datum=WGS84 +no_defs'\n",
      "\n",
      "\u001b[36mℹ\u001b[39m object$phy: a phylogenetic tree with 6808 tip labels\n",
      "\n",
      "\u001b[36mℹ\u001b[39m object$env: 1244 samples and 10 variables\n",
      "\n"
     ]
    },
    {
     "name": "stdout",
     "output_type": "stream",
     "text": [
      "\n",
      "\u001b[30m──\u001b[39m \u001b[30mThe Summary of Biogeographic Traits\u001b[39m \u001b[30m─────────────────────────────────────────\u001b[39m\n"
     ]
    },
    {
     "name": "stderr",
     "output_type": "stream",
     "text": [
      "\u001b[32m✔\u001b[39m object$abd$raw: 7 abundance tables (Kingdom, Phylum, Class, Order, Family, Genus, Species)\n",
      "\n",
      "\u001b[32m✔\u001b[39m object$abd$mar: 4 eco-markers at Phylum level (abundance, correlation)\n",
      "\n",
      "\u001b[32m✔\u001b[39m object$div$alpha: 2 alpha diversity index/indices (observed, shannon)\n",
      "\n",
      "\u001b[32m✔\u001b[39m object$div$beta: 2 beta diversity distance matrix/matrices (bray, jaccard)\n",
      "\n",
      "\u001b[32m✔\u001b[39m object$asb$beta.phylo$raw$result: 7 beta phylogenetic assembling index/indices (sample1, sample2, bMNTD, ...)\n",
      "\n",
      "\u001b[32m✔\u001b[39m object$asb$beta.phylo$dis: 4 beta phylogenetic distance matrix/matrices (b.mntd, bc, rc, b.nti)\n",
      "\n"
     ]
    },
    {
     "name": "stdout",
     "output_type": "stream",
     "text": [
      "\n",
      "\u001b[44m• To check the summary of dataset, Replace `object` with the variable name of your dataset\u001b[49m\n",
      "\u001b[44m• For example, if the variable name is `dataset.dts`you can run `head(dataset.dts$met)` to check the content of `met`\u001b[49m\n"
     ]
    }
   ],
   "source": [
    "# Show dataset \n",
    "dataset.dts.aliyun %>% show_dataset()"
   ]
  }
 ],
 "metadata": {
  "kernelspec": {
   "display_name": "R",
   "language": "R",
   "name": "ir"
  },
  "language_info": {
   "codemirror_mode": "r",
   "file_extension": ".r",
   "mimetype": "text/x-r-source",
   "name": "R",
   "pygments_lexer": "r",
   "version": "4.1.2"
  }
 },
 "nbformat": 4,
 "nbformat_minor": 5
}
